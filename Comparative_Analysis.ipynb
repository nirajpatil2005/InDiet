{
 "cells": [
  {
   "cell_type": "markdown",
   "metadata": {},
   "source": [
    "                Comparative Analysis on Diet Plans"
   ]
  },
  {
   "cell_type": "code",
   "execution_count": 2,
   "metadata": {},
   "outputs": [],
   "source": [
    "import pandas as pd\n",
    "import numpy as np\n",
    "import matplotlib.pyplot as plt\n",
    "import seaborn as sns\n",
    "from sklearn.metrics.pairwise import cosine_similarity\n",
    "from sklearn.cluster import KMeans\n",
    "from sklearn.preprocessing import MinMaxScaler\n",
    "from sklearn.decomposition import PCA\n",
    "from sklearn.metrics import silhouette_score\n",
    "from sklearn.model_selection import train_test_split\n",
    "from sklearn.metrics import mean_absolute_error"
   ]
  },
  {
   "cell_type": "markdown",
   "metadata": {},
   "source": [
    "# Load and preprocess data"
   ]
  },
  {
   "cell_type": "code",
   "execution_count": 3,
   "metadata": {},
   "outputs": [
    {
     "name": "stdout",
     "output_type": "stream",
     "text": [
      "Dataset shape: (1381, 19)\n"
     ]
    },
    {
     "data": {
      "text/html": [
       "<div>\n",
       "<style scoped>\n",
       "    .dataframe tbody tr th:only-of-type {\n",
       "        vertical-align: middle;\n",
       "    }\n",
       "\n",
       "    .dataframe tbody tr th {\n",
       "        vertical-align: top;\n",
       "    }\n",
       "\n",
       "    .dataframe thead th {\n",
       "        text-align: right;\n",
       "    }\n",
       "</style>\n",
       "<table border=\"1\" class=\"dataframe\">\n",
       "  <thead>\n",
       "    <tr style=\"text-align: right;\">\n",
       "      <th></th>\n",
       "      <th>food_code</th>\n",
       "      <th>food_name</th>\n",
       "      <th>food_group_nin</th>\n",
       "      <th>energy_kcal</th>\n",
       "      <th>carb_g</th>\n",
       "      <th>protein_g</th>\n",
       "      <th>fat_g</th>\n",
       "      <th>freesugar_g</th>\n",
       "      <th>fibre_g</th>\n",
       "      <th>cholesterol_mg</th>\n",
       "      <th>allergies</th>\n",
       "      <th>region</th>\n",
       "      <th>Serving_Size_g</th>\n",
       "      <th>food_type</th>\n",
       "      <th>protein_calorie_ratio</th>\n",
       "      <th>nutrient_score</th>\n",
       "      <th>health_score</th>\n",
       "      <th>diversity_score</th>\n",
       "      <th>energy_category</th>\n",
       "    </tr>\n",
       "  </thead>\n",
       "  <tbody>\n",
       "    <tr>\n",
       "      <th>0</th>\n",
       "      <td>1</td>\n",
       "      <td>Palak Paneer</td>\n",
       "      <td>Vegetarian</td>\n",
       "      <td>175.0</td>\n",
       "      <td>11.666667</td>\n",
       "      <td>10.500000</td>\n",
       "      <td>12.833333</td>\n",
       "      <td>2.333333</td>\n",
       "      <td>3.500000</td>\n",
       "      <td>29.166667</td>\n",
       "      <td>Milk</td>\n",
       "      <td>North India</td>\n",
       "      <td>100</td>\n",
       "      <td>lunch</td>\n",
       "      <td>0.060000</td>\n",
       "      <td>1.166667</td>\n",
       "      <td>26.5</td>\n",
       "      <td>4</td>\n",
       "      <td>Low</td>\n",
       "    </tr>\n",
       "    <tr>\n",
       "      <th>1</th>\n",
       "      <td>2</td>\n",
       "      <td>Chole Bhature</td>\n",
       "      <td>Vegetarian</td>\n",
       "      <td>355.0</td>\n",
       "      <td>53.250000</td>\n",
       "      <td>11.833333</td>\n",
       "      <td>17.750000</td>\n",
       "      <td>5.916667</td>\n",
       "      <td>7.100000</td>\n",
       "      <td>0.000000</td>\n",
       "      <td>Gluten</td>\n",
       "      <td>North India</td>\n",
       "      <td>100</td>\n",
       "      <td>lunch</td>\n",
       "      <td>0.033333</td>\n",
       "      <td>1.183333</td>\n",
       "      <td>44.5</td>\n",
       "      <td>7</td>\n",
       "      <td>Medium</td>\n",
       "    </tr>\n",
       "    <tr>\n",
       "      <th>2</th>\n",
       "      <td>3</td>\n",
       "      <td>Butter Chicken</td>\n",
       "      <td>Non-Vegetarian</td>\n",
       "      <td>320.0</td>\n",
       "      <td>9.142857</td>\n",
       "      <td>22.857143</td>\n",
       "      <td>18.285714</td>\n",
       "      <td>2.742857</td>\n",
       "      <td>1.828571</td>\n",
       "      <td>64.000000</td>\n",
       "      <td>Milk</td>\n",
       "      <td>North India</td>\n",
       "      <td>100</td>\n",
       "      <td>lunch</td>\n",
       "      <td>0.071429</td>\n",
       "      <td>0.914286</td>\n",
       "      <td>64.5</td>\n",
       "      <td>2</td>\n",
       "      <td>Medium</td>\n",
       "    </tr>\n",
       "    <tr>\n",
       "      <th>3</th>\n",
       "      <td>4</td>\n",
       "      <td>Dal Tadka</td>\n",
       "      <td>Vegetarian</td>\n",
       "      <td>233.0</td>\n",
       "      <td>40.775000</td>\n",
       "      <td>13.980000</td>\n",
       "      <td>5.825000</td>\n",
       "      <td>1.165000</td>\n",
       "      <td>5.825000</td>\n",
       "      <td>0.000000</td>\n",
       "      <td>NaN</td>\n",
       "      <td>Pan-India</td>\n",
       "      <td>100</td>\n",
       "      <td>lunch</td>\n",
       "      <td>0.060000</td>\n",
       "      <td>1.165000</td>\n",
       "      <td>56.5</td>\n",
       "      <td>5</td>\n",
       "      <td>Low</td>\n",
       "    </tr>\n",
       "    <tr>\n",
       "      <th>4</th>\n",
       "      <td>5</td>\n",
       "      <td>Masala Dosa</td>\n",
       "      <td>Vegetarian</td>\n",
       "      <td>336.0</td>\n",
       "      <td>48.000000</td>\n",
       "      <td>6.720000</td>\n",
       "      <td>11.520000</td>\n",
       "      <td>0.960000</td>\n",
       "      <td>2.880000</td>\n",
       "      <td>0.000000</td>\n",
       "      <td>Gluten</td>\n",
       "      <td>South India</td>\n",
       "      <td>100</td>\n",
       "      <td>breakfast</td>\n",
       "      <td>0.020000</td>\n",
       "      <td>0.960000</td>\n",
       "      <td>32.5</td>\n",
       "      <td>4</td>\n",
       "      <td>Medium</td>\n",
       "    </tr>\n",
       "  </tbody>\n",
       "</table>\n",
       "</div>"
      ],
      "text/plain": [
       "  food_code       food_name  food_group_nin  energy_kcal     carb_g  \\\n",
       "0         1    Palak Paneer      Vegetarian        175.0  11.666667   \n",
       "1         2   Chole Bhature      Vegetarian        355.0  53.250000   \n",
       "2         3  Butter Chicken  Non-Vegetarian        320.0   9.142857   \n",
       "3         4       Dal Tadka      Vegetarian        233.0  40.775000   \n",
       "4         5     Masala Dosa      Vegetarian        336.0  48.000000   \n",
       "\n",
       "   protein_g      fat_g  freesugar_g   fibre_g  cholesterol_mg allergies  \\\n",
       "0  10.500000  12.833333     2.333333  3.500000       29.166667      Milk   \n",
       "1  11.833333  17.750000     5.916667  7.100000        0.000000    Gluten   \n",
       "2  22.857143  18.285714     2.742857  1.828571       64.000000      Milk   \n",
       "3  13.980000   5.825000     1.165000  5.825000        0.000000       NaN   \n",
       "4   6.720000  11.520000     0.960000  2.880000        0.000000    Gluten   \n",
       "\n",
       "        region  Serving_Size_g  food_type  protein_calorie_ratio  \\\n",
       "0  North India             100      lunch               0.060000   \n",
       "1  North India             100      lunch               0.033333   \n",
       "2  North India             100      lunch               0.071429   \n",
       "3    Pan-India             100      lunch               0.060000   \n",
       "4  South India             100  breakfast               0.020000   \n",
       "\n",
       "   nutrient_score  health_score  diversity_score energy_category  \n",
       "0        1.166667          26.5                4             Low  \n",
       "1        1.183333          44.5                7          Medium  \n",
       "2        0.914286          64.5                2          Medium  \n",
       "3        1.165000          56.5                5             Low  \n",
       "4        0.960000          32.5                4          Medium  "
      ]
     },
     "execution_count": 3,
     "metadata": {},
     "output_type": "execute_result"
    }
   ],
   "source": [
    "df = pd.read_csv('resource/sd.csv')\n",
    "df.drop(columns=['Unnamed: 0'],axis=1,inplace=True)\n",
    "print(f\"Dataset shape: {df.shape}\")\n",
    "df.head()"
   ]
  },
  {
   "cell_type": "markdown",
   "metadata": {},
   "source": [
    "# Data cleaning"
   ]
  },
  {
   "cell_type": "code",
   "execution_count": 4,
   "metadata": {},
   "outputs": [
    {
     "name": "stdout",
     "output_type": "stream",
     "text": [
      "Cleaned dataset shape: (1001, 19)\n"
     ]
    }
   ],
   "source": [
    "df = df.dropna(subset=['energy_kcal', 'protein_g', 'carb_g', 'fat_g', 'nutrient_score', 'health_score'])\n",
    "df = df.drop_duplicates(subset=['food_name'])\n",
    "print(f\"Cleaned dataset shape: {df.shape}\")"
   ]
  },
  {
   "cell_type": "markdown",
   "metadata": {},
   "source": [
    "# Feature selection and scaling"
   ]
  },
  {
   "cell_type": "code",
   "execution_count": 5,
   "metadata": {},
   "outputs": [],
   "source": [
    "features = ['energy_kcal', 'protein_g', 'carb_g', 'fat_g', 'fibre_g', \n",
    "            'protein_calorie_ratio', 'nutrient_score', 'health_score', 'diversity_score']\n",
    "scaler = MinMaxScaler()\n",
    "df[features] = scaler.fit_transform(df[features])"
   ]
  },
  {
   "cell_type": "markdown",
   "metadata": {},
   "source": [
    "Algorithm 1: Content-Based Filtering"
   ]
  },
  {
   "cell_type": "code",
   "execution_count": 6,
   "metadata": {},
   "outputs": [],
   "source": [
    "def content_based_recommend(user_profile, items_df, top_n=5):\n",
    "    \"\"\"\n",
    "    Content-based recommendation based on nutritional similarity\n",
    "    \"\"\"\n",
    "    # Calculate similarity between user profile and all food items\n",
    "    similarities = cosine_similarity(\n",
    "        [user_profile[features].values],\n",
    "        items_df[features].values\n",
    "    )\n",
    "    \n",
    "    # Get top N most similar items\n",
    "    top_indices = np.argsort(similarities[0])[-top_n:][::-1]\n",
    "    recommendations = items_df.iloc[top_indices]\n",
    "    \n",
    "    return recommendations\n"
   ]
  },
  {
   "cell_type": "code",
   "execution_count": 7,
   "metadata": {},
   "outputs": [
    {
     "data": {
      "text/html": [
       "<div>\n",
       "<style scoped>\n",
       "    .dataframe tbody tr th:only-of-type {\n",
       "        vertical-align: middle;\n",
       "    }\n",
       "\n",
       "    .dataframe tbody tr th {\n",
       "        vertical-align: top;\n",
       "    }\n",
       "\n",
       "    .dataframe thead th {\n",
       "        text-align: right;\n",
       "    }\n",
       "</style>\n",
       "<table border=\"1\" class=\"dataframe\">\n",
       "  <thead>\n",
       "    <tr style=\"text-align: right;\">\n",
       "      <th></th>\n",
       "      <th>food_name</th>\n",
       "      <th>food_group_nin</th>\n",
       "      <th>energy_kcal</th>\n",
       "      <th>protein_g</th>\n",
       "      <th>health_score</th>\n",
       "    </tr>\n",
       "  </thead>\n",
       "  <tbody>\n",
       "    <tr>\n",
       "      <th>1160</th>\n",
       "      <td>Grilled Tempeh</td>\n",
       "      <td>Vegetarian</td>\n",
       "      <td>0.324324</td>\n",
       "      <td>0.40</td>\n",
       "      <td>0.553030</td>\n",
       "    </tr>\n",
       "    <tr>\n",
       "      <th>1239</th>\n",
       "      <td>Vegetable and Chicken Soup</td>\n",
       "      <td>Non-Vegetarian</td>\n",
       "      <td>0.324324</td>\n",
       "      <td>0.36</td>\n",
       "      <td>0.553030</td>\n",
       "    </tr>\n",
       "    <tr>\n",
       "      <th>1184</th>\n",
       "      <td>Grilled Tofu Skewers</td>\n",
       "      <td>Vegetarian</td>\n",
       "      <td>0.252252</td>\n",
       "      <td>0.30</td>\n",
       "      <td>0.553030</td>\n",
       "    </tr>\n",
       "    <tr>\n",
       "      <th>1224</th>\n",
       "      <td>Baked Tofu with Veggies</td>\n",
       "      <td>Vegetarian</td>\n",
       "      <td>0.378378</td>\n",
       "      <td>0.40</td>\n",
       "      <td>0.628788</td>\n",
       "    </tr>\n",
       "    <tr>\n",
       "      <th>1261</th>\n",
       "      <td>Tofu and Cauliflower Stir Fry</td>\n",
       "      <td>Vegetarian</td>\n",
       "      <td>0.342342</td>\n",
       "      <td>0.36</td>\n",
       "      <td>0.590909</td>\n",
       "    </tr>\n",
       "  </tbody>\n",
       "</table>\n",
       "</div>"
      ],
      "text/plain": [
       "                          food_name  food_group_nin  energy_kcal  protein_g  \\\n",
       "1160                 Grilled Tempeh      Vegetarian     0.324324       0.40   \n",
       "1239     Vegetable and Chicken Soup  Non-Vegetarian     0.324324       0.36   \n",
       "1184           Grilled Tofu Skewers      Vegetarian     0.252252       0.30   \n",
       "1224        Baked Tofu with Veggies      Vegetarian     0.378378       0.40   \n",
       "1261  Tofu and Cauliflower Stir Fry      Vegetarian     0.342342       0.36   \n",
       "\n",
       "      health_score  \n",
       "1160      0.553030  \n",
       "1239      0.553030  \n",
       "1184      0.553030  \n",
       "1224      0.628788  \n",
       "1261      0.590909  "
      ]
     },
     "execution_count": 7,
     "metadata": {},
     "output_type": "execute_result"
    }
   ],
   "source": [
    "# Create a sample user profile (vegetarian, health-conscious)\n",
    "sample_user = {\n",
    "    'energy_kcal': 0.5,        # Medium calorie preference\n",
    "    'protein_g': 0.8,          # High protein\n",
    "    'carb_g': 0.4,             # Medium carbs\n",
    "    'fat_g': 0.3,              # Low fat\n",
    "    'fibre_g': 0.7,            # High fiber\n",
    "    'protein_calorie_ratio': 0.7,\n",
    "    'nutrient_score': 0.9,     # High nutrient score\n",
    "    'health_score': 0.9,       # High health score\n",
    "    'diversity_score': 0.5     # Medium diversity\n",
    "}\n",
    "user_profile = pd.Series(sample_user)\n",
    "\n",
    "# %%\n",
    "# Get recommendations\n",
    "content_recs = content_based_recommend(user_profile, df)\n",
    "content_recs[['food_name', 'food_group_nin', 'energy_kcal', 'protein_g', 'health_score']]"
   ]
  },
  {
   "cell_type": "markdown",
   "metadata": {},
   "source": [
    "Algorithm 2: Clustering-Based Recommendation"
   ]
  },
  {
   "cell_type": "code",
   "execution_count": 8,
   "metadata": {},
   "outputs": [
    {
     "name": "stderr",
     "output_type": "stream",
     "text": [
      "c:\\Users\\niraj\\AppData\\Local\\Programs\\Python\\Python312\\Lib\\site-packages\\joblib\\externals\\loky\\backend\\context.py:136: UserWarning: Could not find the number of physical cores for the following reason:\n",
      "[WinError 2] The system cannot find the file specified\n",
      "Returning the number of logical cores instead. You can silence this warning by setting LOKY_MAX_CPU_COUNT to the number of cores you want to use.\n",
      "  warnings.warn(\n",
      "  File \"c:\\Users\\niraj\\AppData\\Local\\Programs\\Python\\Python312\\Lib\\site-packages\\joblib\\externals\\loky\\backend\\context.py\", line 257, in _count_physical_cores\n",
      "    cpu_info = subprocess.run(\n",
      "               ^^^^^^^^^^^^^^^\n",
      "  File \"c:\\Users\\niraj\\AppData\\Local\\Programs\\Python\\Python312\\Lib\\subprocess.py\", line 548, in run\n",
      "    with Popen(*popenargs, **kwargs) as process:\n",
      "         ^^^^^^^^^^^^^^^^^^^^^^^^^^^\n",
      "  File \"c:\\Users\\niraj\\AppData\\Local\\Programs\\Python\\Python312\\Lib\\subprocess.py\", line 1026, in __init__\n",
      "    self._execute_child(args, executable, preexec_fn, close_fds,\n",
      "  File \"c:\\Users\\niraj\\AppData\\Local\\Programs\\Python\\Python312\\Lib\\subprocess.py\", line 1538, in _execute_child\n",
      "    hp, ht, pid, tid = _winapi.CreateProcess(executable, args,\n",
      "                       ^^^^^^^^^^^^^^^^^^^^^^^^^^^^^^^^^^^^^^^\n"
     ]
    },
    {
     "data": {
      "image/png": "[encoded data removed]",
      "text/plain": [
       "<Figure size 1200x500 with 2 Axes>"
      ]
     },
     "metadata": {},
     "output_type": "display_data"
    }
   ],
   "source": [
    "# Determine optimal number of clusters\n",
    "sse = []\n",
    "silhouette = []\n",
    "k_range = range(2, 10)\n",
    "\n",
    "for k in k_range:\n",
    "    kmeans = KMeans(n_clusters=k, random_state=42)\n",
    "    kmeans.fit(df[features])\n",
    "    sse.append(kmeans.inertia_)\n",
    "    silhouette.append(silhouette_score(df[features], kmeans.labels_))\n",
    "\n",
    "# %%\n",
    "# Plot elbow curve and silhouette scores\n",
    "plt.figure(figsize=(12, 5))\n",
    "plt.subplot(1, 2, 1)\n",
    "plt.plot(k_range, sse, 'bx-')\n",
    "plt.xlabel('Number of clusters')\n",
    "plt.ylabel('SSE')\n",
    "plt.title('Elbow Method')\n",
    "\n",
    "plt.subplot(1, 2, 2)\n",
    "plt.plot(k_range, silhouette, 'bx-')\n",
    "plt.xlabel('Number of clusters')\n",
    "plt.ylabel('Silhouette Score')\n",
    "plt.title('Silhouette Method')\n",
    "plt.show()"
   ]
  },
  {
   "cell_type": "code",
   "execution_count": 9,
   "metadata": {},
   "outputs": [],
   "source": [
    "# Fit KMeans with optimal clusters (k=5)\n",
    "optimal_k = 5\n",
    "kmeans = KMeans(n_clusters=optimal_k, random_state=42)\n",
    "df['cluster'] = kmeans.fit_predict(df[features])"
   ]
  },
  {
   "cell_type": "code",
   "execution_count": 10,
   "metadata": {},
   "outputs": [
    {
     "data": {
      "text/html": [
       "<div>\n",
       "<style scoped>\n",
       "    .dataframe tbody tr th:only-of-type {\n",
       "        vertical-align: middle;\n",
       "    }\n",
       "\n",
       "    .dataframe tbody tr th {\n",
       "        vertical-align: top;\n",
       "    }\n",
       "\n",
       "    .dataframe thead th {\n",
       "        text-align: right;\n",
       "    }\n",
       "</style>\n",
       "<table border=\"1\" class=\"dataframe\">\n",
       "  <thead>\n",
       "    <tr style=\"text-align: right;\">\n",
       "      <th></th>\n",
       "      <th>energy_kcal</th>\n",
       "      <th>protein_g</th>\n",
       "      <th>carb_g</th>\n",
       "      <th>fat_g</th>\n",
       "      <th>fibre_g</th>\n",
       "      <th>protein_calorie_ratio</th>\n",
       "      <th>nutrient_score</th>\n",
       "      <th>health_score</th>\n",
       "      <th>diversity_score</th>\n",
       "    </tr>\n",
       "  </thead>\n",
       "  <tbody>\n",
       "    <tr>\n",
       "      <th>0</th>\n",
       "      <td>0.243243</td>\n",
       "      <td>0.210000</td>\n",
       "      <td>0.167213</td>\n",
       "      <td>0.422914</td>\n",
       "      <td>0.305760</td>\n",
       "      <td>0.285036</td>\n",
       "      <td>0.776031</td>\n",
       "      <td>0.299242</td>\n",
       "      <td>0.375</td>\n",
       "    </tr>\n",
       "    <tr>\n",
       "      <th>1</th>\n",
       "      <td>0.567568</td>\n",
       "      <td>0.236667</td>\n",
       "      <td>0.763206</td>\n",
       "      <td>0.584940</td>\n",
       "      <td>0.620257</td>\n",
       "      <td>0.158353</td>\n",
       "      <td>0.794695</td>\n",
       "      <td>0.435606</td>\n",
       "      <td>0.750</td>\n",
       "    </tr>\n",
       "    <tr>\n",
       "      <th>2</th>\n",
       "      <td>0.504505</td>\n",
       "      <td>0.457143</td>\n",
       "      <td>0.131040</td>\n",
       "      <td>0.602594</td>\n",
       "      <td>0.159744</td>\n",
       "      <td>0.339328</td>\n",
       "      <td>0.493404</td>\n",
       "      <td>0.587121</td>\n",
       "      <td>0.125</td>\n",
       "    </tr>\n",
       "    <tr>\n",
       "      <th>3</th>\n",
       "      <td>0.347748</td>\n",
       "      <td>0.279600</td>\n",
       "      <td>0.584408</td>\n",
       "      <td>0.191959</td>\n",
       "      <td>0.508873</td>\n",
       "      <td>0.285036</td>\n",
       "      <td>0.774165</td>\n",
       "      <td>0.526515</td>\n",
       "      <td>0.500</td>\n",
       "    </tr>\n",
       "    <tr>\n",
       "      <th>4</th>\n",
       "      <td>0.533333</td>\n",
       "      <td>0.134400</td>\n",
       "      <td>0.687961</td>\n",
       "      <td>0.379634</td>\n",
       "      <td>0.251597</td>\n",
       "      <td>0.095012</td>\n",
       "      <td>0.544597</td>\n",
       "      <td>0.344697</td>\n",
       "      <td>0.375</td>\n",
       "    </tr>\n",
       "    <tr>\n",
       "      <th>...</th>\n",
       "      <td>...</td>\n",
       "      <td>...</td>\n",
       "      <td>...</td>\n",
       "      <td>...</td>\n",
       "      <td>...</td>\n",
       "      <td>...</td>\n",
       "      <td>...</td>\n",
       "      <td>...</td>\n",
       "      <td>...</td>\n",
       "    </tr>\n",
       "    <tr>\n",
       "      <th>1375</th>\n",
       "      <td>0.612613</td>\n",
       "      <td>0.700000</td>\n",
       "      <td>0.429975</td>\n",
       "      <td>0.494315</td>\n",
       "      <td>0.611521</td>\n",
       "      <td>0.437530</td>\n",
       "      <td>0.690177</td>\n",
       "      <td>0.704545</td>\n",
       "      <td>0.000</td>\n",
       "    </tr>\n",
       "    <tr>\n",
       "      <th>1377</th>\n",
       "      <td>0.414414</td>\n",
       "      <td>0.360000</td>\n",
       "      <td>0.501638</td>\n",
       "      <td>0.263635</td>\n",
       "      <td>0.611521</td>\n",
       "      <td>0.316865</td>\n",
       "      <td>0.667780</td>\n",
       "      <td>0.553030</td>\n",
       "      <td>0.375</td>\n",
       "    </tr>\n",
       "    <tr>\n",
       "      <th>1378</th>\n",
       "      <td>0.558559</td>\n",
       "      <td>0.360000</td>\n",
       "      <td>0.644963</td>\n",
       "      <td>0.461361</td>\n",
       "      <td>0.786241</td>\n",
       "      <td>0.244181</td>\n",
       "      <td>0.667780</td>\n",
       "      <td>0.628788</td>\n",
       "      <td>0.250</td>\n",
       "    </tr>\n",
       "    <tr>\n",
       "      <th>1379</th>\n",
       "      <td>0.468468</td>\n",
       "      <td>0.400000</td>\n",
       "      <td>0.501638</td>\n",
       "      <td>0.395452</td>\n",
       "      <td>0.611521</td>\n",
       "      <td>0.316865</td>\n",
       "      <td>0.667780</td>\n",
       "      <td>0.590909</td>\n",
       "      <td>0.250</td>\n",
       "    </tr>\n",
       "    <tr>\n",
       "      <th>1380</th>\n",
       "      <td>0.432432</td>\n",
       "      <td>0.300000</td>\n",
       "      <td>0.573301</td>\n",
       "      <td>0.329544</td>\n",
       "      <td>0.611521</td>\n",
       "      <td>0.254632</td>\n",
       "      <td>0.667780</td>\n",
       "      <td>0.553030</td>\n",
       "      <td>0.375</td>\n",
       "    </tr>\n",
       "  </tbody>\n",
       "</table>\n",
       "<p>1001 rows × 9 columns</p>\n",
       "</div>"
      ],
      "text/plain": [
       "      energy_kcal  protein_g    carb_g     fat_g   fibre_g  \\\n",
       "0        0.243243   0.210000  0.167213  0.422914  0.305760   \n",
       "1        0.567568   0.236667  0.763206  0.584940  0.620257   \n",
       "2        0.504505   0.457143  0.131040  0.602594  0.159744   \n",
       "3        0.347748   0.279600  0.584408  0.191959  0.508873   \n",
       "4        0.533333   0.134400  0.687961  0.379634  0.251597   \n",
       "...           ...        ...       ...       ...       ...   \n",
       "1375     0.612613   0.700000  0.429975  0.494315  0.611521   \n",
       "1377     0.414414   0.360000  0.501638  0.263635  0.611521   \n",
       "1378     0.558559   0.360000  0.644963  0.461361  0.786241   \n",
       "1379     0.468468   0.400000  0.501638  0.395452  0.611521   \n",
       "1380     0.432432   0.300000  0.573301  0.329544  0.611521   \n",
       "\n",
       "      protein_calorie_ratio  nutrient_score  health_score  diversity_score  \n",
       "0                  0.285036        0.776031      0.299242            0.375  \n",
       "1                  0.158353        0.794695      0.435606            0.750  \n",
       "2                  0.339328        0.493404      0.587121            0.125  \n",
       "3                  0.285036        0.774165      0.526515            0.500  \n",
       "4                  0.095012        0.544597      0.344697            0.375  \n",
       "...                     ...             ...           ...              ...  \n",
       "1375               0.437530        0.690177      0.704545            0.000  \n",
       "1377               0.316865        0.667780      0.553030            0.375  \n",
       "1378               0.244181        0.667780      0.628788            0.250  \n",
       "1379               0.316865        0.667780      0.590909            0.250  \n",
       "1380               0.254632        0.667780      0.553030            0.375  \n",
       "\n",
       "[1001 rows x 9 columns]"
      ]
     },
     "execution_count": 10,
     "metadata": {},
     "output_type": "execute_result"
    }
   ],
   "source": [
    "df[features]"
   ]
  },
  {
   "cell_type": "code",
   "execution_count": 11,
   "metadata": {},
   "outputs": [
    {
     "data": {
      "application/vnd.plotly.v1+json": {
       "config": {
        "plotlyServerURL": "https://plot.ly"
       },
       "data": [
        {
         "customdata": [
          [
           0.2100000000105,
           0.16721266723058287
          ],
          [
           0.09199999997792001,
           0.39557739550506144
          ],
          [
           0.3033333333367037,
           0.11593411594202893
          ],
          [
           0.10266666666940444,
           0.2942942943189589
          ],
          [
           0.11733333332957868,
           0.5045045045171893
          ],
          [
           0.10166666666429444,
           0.3642847392970556
          ],
          [
           0.10874999999823282,
           0.3896652334311679
          ],
          [
           0.12313043478089558,
           0.5147242103986357
          ],
          [
           0.1054545454510942,
           0.5290000744675358
          ],
          [
           0.1099999999989,
           0.39414414416272525
          ],
          [
           0.097499999965875,
           0.3912776411630528
          ],
          [
           0.11600000000232001,
           0.4156429156749795
          ],
          [
           0.07482352940736332,
           0.26810232692540575
          ],
          [
           0.10166666666429444,
           0.3642847392970556
          ],
          [
           0.15786666659089066,
           0.2828282827086869
          ],
          [
           0.19523809521950114,
           0.4197379197219298
          ],
          [
           0.08555555554319753,
           0.24524524522383495
          ],
          [
           0.08426666666734081,
           0.3321321321537682
          ],
          [
           0.10045454545678284,
           0.4319298637823475
          ],
          [
           0.14,
           0.42997543000000005
          ],
          [
           0.08355555555648396,
           0.37423787426341754
          ],
          [
           0.06849999999680333,
           0.3272590772625057
          ],
          [
           0.057999999978733334,
           0.16625716620570571
          ],
          [
           0.0895999999956992,
           0.3210483210512564
          ],
          [
           0.10764705882745537,
           0.3857132533964201
          ],
          [
           0.14981818182499174,
           0.4026133572001188
          ],
          [
           0.0410000000041,
           0.11752661754508599
          ],
          [
           0.10124999999873438,
           0.3192567567710093
          ],
          [
           0.06323809523628843,
           0.16994266994752547
          ],
          [
           0.11115789469003878,
           0.2655286864846897
          ],
          [
           0.1681818182085744,
           0.30130854001005675
          ],
          [
           0.07066666664782224,
           0.22788697783923015
          ],
          [
           0.09400000002068,
           0.32334152343113515
          ],
          [
           0.13724999999854173,
           0.39342751844581986
          ],
          [
           0.09529411765154326,
           0.3004769475670813
          ],
          [
           0.11327999998912511,
           0.4735462735278729
          ],
          [
           0.08514285714614121,
           0.33558558561770596
          ],
          [
           0.18,
           0.5016380016666667
          ],
          [
           0.05485714285714286,
           0.2620802620952381
          ],
          [
           0.1415555555571284,
           0.3622941123188403
          ],
          [
           0.11885714281186394,
           0.397488397359687
          ],
          [
           0.0360000000036,
           0.20638820642063885
          ],
          [
           0.10266666666940444,
           0.2942942943189589
          ],
          [
           0.09499999999525001,
           0.2995495495516893
          ],
          [
           0.0345454545407438,
           0.18567120838377216
          ],
          [
           0.18695652171474483,
           0.3751379838061415
          ],
          [
           0.05199999999306667,
           0.14905814904679227
          ],
          [
           0.1009523809560345,
           0.4340704341109473
          ],
          [
           0.03333333333333333,
           0.11943761944444443
          ],
          [
           0.119399999955822,
           0.39930384917892425
          ],
          [
           0.10187500000254689,
           0.2920249795489672
          ],
          [
           0.18,
           0.42997543000000005
          ],
          [
           0.06836363636115042,
           0.18371677462968306
          ],
          [
           0.14,
           0.42997543000000005
          ],
          [
           0,
           0.30550885817397416
          ],
          [
           0.1296000000036288,
           0.46437346441300253
          ],
          [
           0.1415555555571284,
           0.3622941123188403
          ],
          [
           0.07580952380302586,
           0.40745290744126594
          ],
          [
           0.043200000001209604,
           0.38697788701083546
          ],
          [
           0.11599999995746667,
           0.20782145775713212
          ],
          [
           0.07008000002550913,
           0.4394348896199543
          ],
          [
           0.11781818176248596,
           0.42215769470952547
          ],
          [
           0.05833333330902778,
           0.3483597232344798
          ],
          [
           0.09279999999109122,
           0.4655200655019768
          ],
          [
           0.05466666664722962,
           0.26117026109232466
          ],
          [
           0.09217391307553875,
           0.39632517909437404
          ],
          [
           0.14335999994494977,
           0.385257985132061
          ],
          [
           0.17333333331022222,
           0.43475293471981075
          ],
          [
           0.06539130436488469,
           0.29288181471408514
          ],
          [
           0.15488000003593216,
           0.41621621633656225
          ],
          [
           0.1296000000036288,
           0.46437346441300253
          ],
          [
           0.10600000000169602,
           0.4557739558072924
          ],
          [
           0.09066666666424888,
           0.4060879061002821
          ],
          [
           0.15711111111303136,
           0.48252798256145313
          ],
          [
           0.08693333333078329,
           0.46723996725296096
          ],
          [
           0.09874999998518753,
           0.42460073706130996
          ],
          [
           0.13933333333960332,
           0.5824574575169513
          ],
          [
           0.1285454545326,
           0.39479562205142954
          ],
          [
           0.09937500001739062,
           0.39880221139479033
          ],
          [
           0.10368000003649536,
           0.37149877165076756
          ],
          [
           0.12599999999748,
           0.45147420149097056
          ],
          [
           0.2,
           0.42997543000000005
          ],
          [
           0.15399999999846,
           0.47297297299527036
          ],
          [
           0.1133333333303111,
           0.45481845483231587
          ],
          [
           0.1276363636324185,
           0.45733750280404595
          ],
          [
           0.020285714284844897,
           0.14537264537472214
          ],
          [
           0.05828571426906122,
           0.0696150695991576
          ],
          [
           0.1634782608621021,
           0.5125431755925433
          ],
          [
           0.15266666666426762,
           0.4688779688973938
          ],
          [
           0.10277777777492285,
           0.44191919193216894
          ],
          [
           0.054285714283,
           0.2917690417711259
          ],
          [
           0.06841379308646278,
           0.49027083500471447
          ],
          [
           0.0759999999962,
           0.4084766584795762
          ],
          [
           0.16,
           0.3583128583333334
          ],
          [
           0.134399999956992,
           0.4815724814458969
          ],
          [
           0.1296000000036288,
           0.46437346441300253
          ],
          [
           0.05828571426906122,
           0.0696150695991576
          ],
          [
           0.10277777777492285,
           0.44191919193216894
          ],
          [
           0.1296000000036288,
           0.46437346441300253
          ],
          [
           0.075200000016544,
           0.26945126952594595
          ],
          [
           0.10600000000169602,
           0.4557739558072924
          ],
          [
           0.016857142856661223,
           0.08456183456425062
          ],
          [
           0.10888888889348641,
           0.5462280462823222
          ],
          [
           0.15711111111303136,
           0.48252798256145313
          ],
          [
           0.0866666666645,
           0.2329033579108441
          ],
          [
           0.157600000061464,
           0.42352579871517504
          ],
          [
           0.14335999994494977,
           0.385257985132061
          ],
          [
           0.05940000000594,
           0.2128378378712838
          ],
          [
           0.07377777780482962,
           0.1321776322336503
          ],
          [
           0.08799999999911999,
           0.47297297299527036
          ],
          [
           0.09277777781025,
           0.3989216490840671
          ],
          [
           0.06199999999896666,
           0.2962052962172855
          ],
          [
           0.12,
           0.2866502866666667
          ],
          [
           0.09727272728952892,
           0.4879569653418592
          ],
          [
           0.06,
           0.257985258
          ],
          [
           0.07781818183162313,
           0.6273732411538191
          ],
          [
           0.058666666651022235,
           0.1401401401107775
          ],
          [
           0.08444444444022223,
           0.4538629538661958
          ],
          [
           0.14,
           0.42997543000000005
          ],
          [
           0.06199999999896666,
           0.2962052962172855
          ],
          [
           0.034769230765486395,
           0.18687393686449053
          ],
          [
           0.12733333332838148,
           0.5322936573033739
          ],
          [
           0.10533333333417601,
           0.4529074529369567
          ],
          [
           0.10454545454878099,
           0.44951976774157565
          ],
          [
           0.13874999999436327,
           0.33143939394486865
          ],
          [
           0.13874999999436327,
           0.33143939394486865
          ],
          [
           0.10533333333417601,
           0.4529074529369567
          ]
         ],
         "hovertemplate": "<b>%{hovertext}</b><br><br>cluster=4<br>PC1=%{x}<br>PC2=%{y}<br>PC3=%{z}<br>protein=%{customdata[0]}<br>carbs=%{customdata[1]}<extra></extra>",
         "hovertext": [
          "Palak Paneer",
          "Samosa",
          "Paneer Tikka",
          "Aloo Gobi",
          "Idli",
          "Palak Chaat",
          "Saag Aloo",
          "Methi Paratha",
          "Kachori",
          "Chutney Sandwich",
          "Dahi Puri",
          "Lassi",
          "Bhindi Masala",
          "Aloo Methi",
          "Chilla",
          "Dal Fry",
          "Boondi Raita",
          "Pineapple Raita",
          "Vegetable Samosa",
          "Aloo Gajar Methi",
          "Laal Gobi Sabzi",
          "Turai (Ridge Gourd) Sabzi",
          "Amaranth Leaves (Chaulai) Sabzi",
          "Kaddu Ki Sabzi (Pumpkin)",
          "Cluster Beans (Gawar) Sabzi",
          "Bottle Gourd (lauki) with Moong Dal",
          "Okra (Bhindi) Masala",
          "Carrot and Peas Sabzi",
          "Brinjal (Baingan) Bharta",
          "Gobi (Cauliflower) Masala",
          "Palak (Spinach) and Toor Dal",
          "Shorba (Spinach Soup)",
          "Arbi (Colocasia) Masala",
          "Chow Chow (Chayote) Sabzi",
          "Kundru (Ivy Gourd) Masala",
          "Palak Puri",
          "Tomato Chutney with Bottle Gourd",
          "Lauki (Bottle Gourd) and Masoor Dal",
          "Beetroot and Carrot Salad",
          "Cabbage and Peas Sabzi",
          "Green Beans and Potato Sabzi",
          "Raw Mango and Spinach Salad",
          "Bitter Gourd (Karela) Stir Fry",
          "Karela (Bitter Gourd) with Onion",
          "Chow Chow (Chayote) Salad",
          "Chana Dal with Bottle Gourd",
          "Green Mango and Cucumber Salad",
          "Aloo-Gobhi (Potato-Cauliflower)",
          "Tomato and Onion Salad",
          "Masala Lauki",
          "Karela and Onion Stir Fry",
          "Radish (Mooli) and Moong Dal",
          "Spinach and Tomato Soup",
          "Methi and Aloo (Fenugreek and Potato) Curry",
          "Spicy Vegan Chickpea Wrap",
          "Bhakri",
          "Pitla",
          "Pohe",
          "Chutney",
          "Shengdana chutney",
          "Mango Mastani",
          "Maharashtrian Bhaji",
          "Karvande",
          "Alu Patra",
          "Kairi Chi Koshimbir",
          "Pohe Shira",
          "Chana Sookha",
          "Amti",
          "Batata Bhaji",
          "Shukto",
          "Beguni Bhaja",
          "Kolar Bora",
          "Papad Bhaja",
          "Pui Shaak Bhaja",
          "Roshogolla",
          "Chamcham",
          "Shondesh",
          "Bengali Sandesh",
          "Chomchom",
          "Bengali Baingan Bhaja",
          "Bengali Sondesh",
          "Dimer Bora",
          "Beguni",
          "Gujarati Kadhi",
          "Chakri",
          "Garlic Chutney",
          "Chaas",
          "Farsan",
          "Gathiya",
          "Khaman",
          "Papad",
          "Gajjar Halwa",
          "Vrat Wale Aloo",
          "Gujarati Bhindi",
          "Sev Khamani",
          "Methi Na Gota",
          "Gujarati Chaas",
          "Khaman Dhokla",
          "Bhajiya",
          "Masala Papad",
          "Papad Ki Sabzi",
          "Lehsun Ki Chutney",
          "Dosa",
          "Sambar",
          "Chutney Powder",
          "Chana Sundal",
          "Curd Vada",
          "Tomato Rasam",
          "Masala Buttermilk",
          "Steamed Idli",
          "Chettinad Idli",
          "Coconut Chutney",
          "Peerkangai Thogayal",
          "Neer Dosa",
          "Thakkali Rasam",
          "Steamed Rice",
          "Neer Mor",
          "Potato Masala",
          "Peanut Sundal",
          "Tomato Thokku",
          "Cucumber Pachadi",
          "Tandoori Roti",
          "Chapati",
          "Poori",
          "Lassi with Mint",
          "Lassi with Fruit",
          "Roti"
         ],
         "legendgroup": "4",
         "marker": {
          "color": "rgb(229, 134, 6)",
          "line": {
           "color": "DarkSlateGrey",
           "width": 0.5
          },
          "size": 5,
          "symbol": "circle"
         },
         "mode": "markers",
         "name": "4",
         "scene": "scene",
         "showlegend": true,
         "type": "scatter3d",
         "x": [
          -0.2620707195703257,
          -0.3032981043119566,
          -0.25012524133394964,
          -0.4154344802839318,
          -0.36884374324776126,
          -0.4566304146522191,
          -0.3985469129745747,
          -0.301205487815989,
          -0.3640102326931207,
          -0.4033162148720507,
          -0.36881793660038786,
          -0.49820717657818603,
          -0.4623553719093596,
          -0.383220128789724,
          -0.3984918735856364,
          -0.24610582162087957,
          -0.5049538295860743,
          -0.4213733200081391,
          -0.34044939733946356,
          -0.25474724665343385,
          -0.34194169460942947,
          -0.46139025136032175,
          -0.3890996451454348,
          -0.29875824413888175,
          -0.3039492571821434,
          -0.5970929184066747,
          -0.38279771368017335,
          0.08032890963127548,
          -0.1853708538829586,
          -0.2690745101669295,
          -0.5477219233583636,
          -0.3827829770697322,
          -0.2679121712592397,
          -0.4046676923569884,
          -0.3178979419864866,
          -0.46542934870146946,
          -0.22635729463019405,
          0.06956017675192683,
          -0.20593317346832096,
          -0.29316982336549346,
          -0.6003921105962015,
          -0.20745592724531625,
          -0.07897226633109211,
          -0.609606456019072,
          -0.218133460009724,
          -0.6058132328898529,
          -0.2838752708973268,
          -0.06543681701421533,
          -0.31394426699210354,
          -0.21868617443375526,
          -0.22654360082867364,
          -0.08793741299757607,
          -0.2501408542123379,
          -0.028805044507129285,
          0.6418728363737379,
          -0.048070423000564855,
          -0.2958828807896309,
          0.11153582848146215,
          -0.17384941421100464,
          -0.23684664567508784,
          0.06095881813317938,
          0.1514069710120326,
          -0.20797404889845816,
          -0.454455695320608,
          0.42032162131763495,
          0.33122020382471884,
          0.2384997314058327,
          -0.1740093083628963,
          0.5504116807591314,
          -0.4102361579121925,
          -0.17154426613939178,
          0.6096859054764018,
          0.30546477545462436,
          -0.5991969953493643,
          -0.1635064147744918,
          0.34316020303439465,
          0.44561337782691435,
          -0.42995666400320953,
          -0.165134192441731,
          0.5110458117822471,
          -0.06862139006698187,
          0.611874207389503,
          -0.25330444232812654,
          -0.0019702121247436866,
          0.14052306394004888,
          -0.5498002432180475,
          -0.33567543777942555,
          -0.1046800972429156,
          -0.14079085032550986,
          0.17457292576803118,
          -0.20580237469995344,
          -0.11837482634560426,
          -0.3892841252901992,
          -0.13448153400050045,
          -0.21424866655344266,
          -0.030471287123643664,
          -0.17057081463193235,
          0.06027376401429019,
          0.041521541226234304,
          -0.10975004358608298,
          -0.11089712034885024,
          0.08914868045251934,
          0.1646808051227412,
          -0.1667123635101948,
          -0.028121008697761907,
          -0.2700123694024885,
          0.49321694645710423,
          -0.04188059472885153,
          -0.24651968003659253,
          -0.08452509946148057,
          0.10519465302856956,
          -0.150953274028648,
          -0.07965529697096951,
          0.05346387023726418,
          0.4461310939849993,
          -0.4793213543690519,
          -0.22811021278143573,
          -0.11387963664321155,
          0.16468804333372822,
          -0.36861640439092,
          -0.42125386678296417,
          0.2991142082411061,
          -0.16909163815122408,
          -0.00888514380999783,
          0.08750017508390229,
          0.22034463626849654,
          0.3905147675836774
         ],
         "y": [
          -0.3427560067764229,
          0.005474770326844236,
          -0.5644026733448716,
          -0.14216282798257135,
          0.019491944241003145,
          -0.13702001251034102,
          -0.07521918816212314,
          0.04035111639680761,
          0.03635337535454353,
          -0.09254872748512188,
          -0.048099228722227105,
          -0.15913772922794067,
          -0.14143949998635869,
          -0.0625158949163655,
          -0.26132875910088094,
          -0.11065151490546327,
          -0.22845824511917698,
          -0.0698958480903874,
          -0.011278209035099684,
          -0.008077925638190486,
          -0.008495551606101215,
          -0.07805362119771181,
          -0.10919047848770785,
          0.0049588744184657085,
          -0.09862368623852469,
          -0.28773070535962086,
          -0.0975238023322248,
          -0.1372290735310327,
          -0.00853635670315589,
          -0.16914546111975343,
          -0.21381639877767972,
          -0.10252896532509442,
          -0.03379348483059608,
          -0.1178167373606896,
          -0.005485046670952787,
          -0.12383156929031902,
          -0.023822496349393596,
          0.22900029572716651,
          0.16481800738732288,
          -0.023867362862220298,
          -0.17767755467057675,
          0.02156452193070929,
          -0.01507421576928425,
          -0.20353016196709237,
          -0.12285365552245786,
          -0.2763277153505189,
          0.055074408117926466,
          0.2799890840084347,
          -0.029926392327564555,
          0.056447149791634676,
          -0.0664073677666922,
          0.22215417816427996,
          -0.010505909633118149,
          0.31076171799156216,
          0.2203302669846844,
          0.293678603957338,
          0.24538230312762144,
          0.24370482916244796,
          -0.011148664250810014,
          0.19347352145315466,
          0.19354557110931814,
          0.3352964979623433,
          0.37774641631834993,
          -0.05520582325031281,
          -0.2903265797956036,
          -0.00964554232071646,
          -0.13045947016862347,
          0.1267547380370706,
          -0.30527226432849186,
          -0.0471200409317471,
          -0.022089245369162236,
          -0.23932452650234326,
          -0.1069167521301736,
          -0.07201760399775314,
          0.11325961580572941,
          -0.1903901222381243,
          0.20195927335533992,
          -0.0223620649501291,
          -0.09438625146078705,
          -0.291934689495691,
          0.11605049656323108,
          -0.15446049181992505,
          0.1816635395447429,
          0.4106761410756332,
          0.28778472327744375,
          -0.22012019838629704,
          -0.002595983971619753,
          0.14775779175878867,
          0.2029347637001545,
          0.23166598808785288,
          0.013496999772692808,
          0.21374246044851886,
          0.15776278417779332,
          0.20837550797115667,
          0.08754755840106976,
          0.2928681164133846,
          0.2087577088675927,
          0.3953662523354007,
          0.33683820677639864,
          0.2715172218493265,
          0.12902996807194078,
          0.34157867661982866,
          0.4403720434384416,
          0.21964844721258525,
          0.28847528247302545,
          0.1304036013927421,
          -0.13698022463521992,
          0.3139576201543547,
          0.0933364651945785,
          0.26957356114948916,
          0.2062821447498926,
          0.08368275057878138,
          0.19020621982860397,
          0.34588878131129575,
          -0.506546357293062,
          -0.0543001793768782,
          0.10561380090391703,
          0.13576893904374088,
          0.19572657320192266,
          -0.22731998752828284,
          -0.17030950810632975,
          -0.8030570212574921,
          -0.01883781308010335,
          -0.17704641403020968,
          -0.3997668590092438,
          -0.35507003513570917,
          -0.18488952970505593
         ],
         "z": [
          -0.023355581625104982,
          -0.13300438262464132,
          -0.03152223669552695,
          0.09299813940050339,
          0.07805581256521887,
          0.01891515038502889,
          0.041188931817040864,
          -0.018487018432606195,
          -0.05149977036357373,
          -0.08042885453392973,
          -0.10621047851607224,
          -0.2433456213258387,
          0.015410253310326139,
          0.05365456695526505,
          -0.05009707554978571,
          0.11609015168596404,
          -0.1321376686491339,
          0.03195992013755766,
          -0.05560042055248482,
          -0.035279355677238666,
          -0.051219139968362415,
          -0.03348670425224287,
          -0.15879289959823284,
          0.06331252790766423,
          -0.051806377968184936,
          -0.2172567127086445,
          -0.005227672390194837,
          -0.28685939819643413,
          0.019874661425761553,
          0.12474862445940427,
          0.01172803374765602,
          -0.137055080744302,
          0.04271340772538834,
          -0.029886079652386377,
          -0.18490620113512157,
          -0.11079087668004628,
          -0.018016241727852267,
          0.2122751041984966,
          -0.11126873347997718,
          -0.047686020757774894,
          -0.03766690087491592,
          0.01032647163657624,
          0.08463286651066493,
          -0.047241351099787166,
          0.015437429047111817,
          -0.0034657572875411158,
          0.0037799958356256047,
          0.05097469778169922,
          -0.027036359020749745,
          0.16216304310941565,
          0.04936750011395519,
          -0.012632102433303039,
          -0.030276683084614342,
          0.039807871869968814,
          -0.015538627828553142,
          -0.05500065133812687,
          -0.31597595388482985,
          -0.09542370203046019,
          -0.17357764662164732,
          -0.3121477626847097,
          -0.19043124255310442,
          -0.05607778566894456,
          -0.2176941890540482,
          -0.31877951260763343,
          -0.3976533497507028,
          -0.070304193664187,
          -0.3138602276060508,
          -0.19871553022807348,
          -0.3338773759317851,
          -0.11819236719994564,
          -0.01697264919023367,
          -0.3007541038074372,
          -0.3198956997946246,
          -0.3350576847168403,
          -0.24576937097096208,
          -0.24024452483980882,
          -0.12682798598832196,
          -0.15551678925523488,
          -0.1498131877522919,
          -0.11456086079234051,
          0.04686048657588204,
          -0.3058646642724029,
          -0.0037008950731300394,
          -0.30921905901568075,
          0.03513236207385212,
          -0.16305659249780036,
          -0.1728915894371788,
          -0.12462972891538321,
          -0.1398681944354312,
          0.20520470152411108,
          -0.1800289627187218,
          -0.14585901994600675,
          -0.29240697615203237,
          -0.11744677664907027,
          0.015985290464885338,
          -0.11236557948264064,
          -0.03849894304112256,
          0.09872689817626301,
          -0.020877421132999674,
          -0.04575416339031568,
          -0.01604572256938308,
          -0.058945505435872236,
          -0.10537108900291975,
          0.006558301801176614,
          0.04515896131438785,
          -0.051972857284145246,
          -0.03415106748096225,
          0.04459088321327953,
          -0.00206404601166843,
          -0.03568894199663075,
          -0.10646653373227699,
          -0.1250450159046229,
          -0.19572246385281458,
          -0.06154933193737172,
          0.005052528810511825,
          -0.05608284258793644,
          -0.11946143899885953,
          0.15801273857545384,
          -0.030276061533502208,
          0.3202814085776887,
          0.37619764566645375,
          -0.22272746756277947,
          0.36022986986977845,
          0.2855172738832197,
          0.1742113512572645,
          0.08661313558450912,
          0.2022036082419586
         ]
        },
        {
         "customdata": [
          [
           0.23666666667652778,
           0.7632063882818005
          ],
          [
           0.2796000000040542,
           0.5844082719501407
          ],
          [
           0.21040000000117823,
           0.6031122031500441
          ],
          [
           0.12272727272448349,
           0.4397475988536421
          ],
          [
           0.2599999999935,
           0.4658067158216882
          ],
          [
           0.2317714284773956,
           0.6920556918144614
          ],
          [
           0.14400000000576,
           0.5159705160206388
          ],
          [
           0.23400000000023402,
           0.586916461950587
          ],
          [
           0.2828571427520816,
           0.6081081079169884
          ],
          [
           0.30672727274051775,
           0.5495216291222143
          ],
          [
           0.17324999999350316,
           0.6897522522658011
          ],
          [
           0.10600000000169602,
           0.4557739558072924
          ],
          [
           0.2333333332361111,
           0.3483597232344798
          ],
          [
           0.14981818182499174,
           0.4026133572001188
          ],
          [
           0.29400000007644,
           0.49160524176115067
          ],
          [
           0.2777600000355533,
           0.4265356266145966
          ],
          [
           0.35006896562829776,
           0.4181140389602293
          ],
          [
           0.32444444446078685,
           0.6200139534139464
          ],
          [
           0.16,
           0.5733005733333334
          ],
          [
           0.1804799999989894,
           0.6466830467163787
          ],
          [
           0.24,
           0.5733005733333334
          ],
          [
           0.15568000000684992,
           0.6375102375747171
          ],
          [
           0.292499999897625,
           0.6288390661549064
          ],
          [
           0.2520000000252,
           0.5159705160515969
          ]
         ],
         "hovertemplate": "<b>%{hovertext}</b><br><br>cluster=0<br>PC1=%{x}<br>PC2=%{y}<br>PC3=%{z}<br>protein=%{customdata[0]}<br>carbs=%{customdata[1]}<extra></extra>",
         "hovertext": [
          "Chole Bhature",
          "Dal Tadka",
          "Chana Masala",
          "Methi Thepla",
          "Masoor Dal",
          "Chana Pulao",
          "Dhokla",
          "Khichdi",
          "Dal Makhani",
          "Chana Dal",
          "Masala Khichdi",
          "Patra",
          "Moong Dal Chilla",
          "Chana Chaat",
          "Lentil and Spinach Soup",
          "Palak (Spinach) and Moong Dal",
          "Palak and Tofu Curry",
          "Chickpea and Spinach Wrap",
          "Thalipeeth",
          "Khandvi",
          "Dhokar Dalna",
          "Handvo",
          "Chana Daal",
          "Moong Dal"
         ],
         "legendgroup": "0",
         "marker": {
          "color": "rgb(93, 105, 177)",
          "line": {
           "color": "DarkSlateGrey",
           "width": 0.5
          },
          "size": 5,
          "symbol": "circle"
         },
         "mode": "markers",
         "name": "0",
         "scene": "scene",
         "showlegend": true,
         "type": "scatter3d",
         "x": [
          0.09519956613124092,
          -0.12938228670518614,
          -0.20955807144047744,
          -0.3993321776642106,
          -0.19571750760966788,
          -0.062113051000584285,
          -0.3395565243513534,
          -0.23724729579299775,
          0.06933916060062117,
          -0.04414483961150795,
          -0.16694759234797152,
          -0.4045940002748696,
          -0.30087357981351914,
          -0.4100752261359001,
          0.22789272962494744,
          0.7345360344634683,
          0.4361438834560777,
          -0.11894424198775766,
          0.011112097791016629,
          0.011909791643284762,
          0.8730436646082941,
          -0.20391883516919662,
          0.032837952194830544,
          0.44045451641470923
         ],
         "y": [
          0.27811190766645155,
          -0.02664702889774251,
          0.05482111638586418,
          -0.07982596448480839,
          -0.1402110993546296,
          0.1208781501697519,
          0.024315837606707524,
          -0.013288380425672486,
          0.08243519681936562,
          -0.04128416562725157,
          0.1897127422060273,
          -0.035561590970793255,
          -0.265507915846979,
          -0.13486322783552113,
          0.1063574482972457,
          -0.11306476572106927,
          0.2826056194906452,
          0.11733341540342579,
          -0.14517589900517514,
          0.12441668173413456,
          0.07948757042486287,
          0.12944582663301296,
          0.16633230924272802,
          -0.3031825242241204
         ],
         "z": [
          0.24428520613059512,
          0.3554869084650324,
          0.4080110348447068,
          0.22579346598471506,
          0.2866994055633003,
          0.036472936802203926,
          0.2582282680125274,
          0.4688081715659823,
          0.214345076309309,
          0.335818702686444,
          0.18894728468682676,
          0.15655060562099044,
          0.31999711460088853,
          0.2933129202550103,
          0.23766378861722648,
          0.3147894723951592,
          0.22481683580249934,
          0.15719548592379806,
          -0.212820128623694,
          -0.09604560864093792,
          -0.20520096136417043,
          -0.05059896894822474,
          0.30567863401771045,
          0.03548834335695966
         ]
        },
        {
         "customdata": [
          [
           0.4571428571428572,
           0.13104013104761905
          ],
          [
           0.5486249999794266,
           0.1379504504531602
          ],
          [
           0.4685714284536162,
           0.16117936114804632
          ],
          [
           0.5700000000000001,
           0.07166257166666667
          ],
          [
           0.4571428571428572,
           0.13104013104761905
          ],
          [
           0.5569714284982266,
           0.2100737100581046
          ],
          [
           0.23199999991493334,
           0.27709527700950953
          ],
          [
           0.3933333331563333,
           0.2818727817620461
          ],
          [
           0.5894999999956563,
           0.17787404630395254
          ],
          [
           0.473100000042579,
           0.09516789518189844
          ],
          [
           0.23199999991493334,
           0.24938574930855859
          ],
          [
           0.5389999999797875,
           0.16554054054379225
          ],
          [
           0.3059999999883719,
           0.2631449631500005
          ],
          [
           0.474558139707049,
           0.11932651472546109
          ],
          [
           0.2362105262573585,
           0.19748696060728832
          ],
          [
           0.4485714285829632,
           0.28931203933601085
          ],
          [
           0.5124999999987188,
           0.14690827191629943
          ],
          [
           0.443243243434916,
           0.15246696335241816
          ],
          [
           0.27840000000556797,
           0.33251433253998364
          ],
          [
           0.47771428570336655,
           0.28009828010788346
          ],
          [
           0.5117333333970158,
           0.23161343165548973
          ],
          [
           0.5130000000513,
           0.12899262901289923
          ],
          [
           0.5845000000215534,
           0.22439342753952454
          ],
          [
           0.6416571428545763,
           0.290417690433124
          ],
          [
           0.566399999983817,
           0.28992628993457353
          ],
          [
           0.5895428571607119,
           0.2964782965042172
          ],
          [
           0.5062499999936719,
           0.2902334152463722
          ],
          [
           0.405714285696898,
           0.5088042588115275
          ],
          [
           0.4233777777683694,
           0.41373191374636153
          ],
          [
           0.38057142858991355,
           0.3787878788279221
          ],
          [
           0.5813333333294578,
           0.26781326782678605
          ],
          [
           0.41999999999160004,
           0.6019656019879608
          ],
          [
           0.42239999998648325,
           0.420420420430991
          ],
          [
           0.44,
           0.3583128583333334
          ],
          [
           0.5747368420810637,
           0.29419371525077076
          ],
          [
           0.5,
           0.42997543000000005
          ],
          [
           0.4233777777683694,
           0.41373191374636153
          ],
          [
           0.4237894737332809,
           0.2760894866635472
          ],
          [
           0.5457142857096082,
           0.46928746931026327
          ],
          [
           0.45955555556066174,
           0.4191464191750276
          ],
          [
           0.5886511628082203,
           0.33144772682537027
          ],
          [
           0.41052631577218834,
           0.41187120135107913
          ],
          [
           0.6130975609884698,
           0.36998861391995586
          ],
          [
           0.39799999985274,
           0.4278255526917046
          ],
          [
           0.6543157894399353,
           0.3349282296669353
          ],
          [
           0.39714285698683677,
           0.39844389831013516
          ],
          [
           0.46084210528571495,
           0.4203198414170648
          ],
          [
           0.5711999999782944,
           0.4678132678222231
          ],
          [
           0.5,
           0.42997543000000005
          ],
          [
           0.47619047619047616,
           0.4095004095238095
          ],
          [
           0.5,
           0.5016380016666667
          ],
          [
           0.5951627906971207,
           0.456973887232133
          ],
          [
           0.4674999999941562,
           0.42639230141133677
          ],
          [
           0.4600000000146364,
           0.44951976774157565
          ],
          [
           0.613428571443761,
           0.3084903085155753
          ],
          [
           0.5795999999875386,
           0.5191953317138374
          ],
          [
           0.634666666649742,
           0.4060879061002821
          ],
          [
           0.6728780487936171,
           0.4737420347539592
          ],
          [
           0.42947368421956783,
           0.4308806414406502
          ],
          [
           0.40606060604645544,
           0.43649020922721327
          ],
          [
           0.5951627906971207,
           0.456973887232133
          ],
          [
           0.41999999999160004,
           0.3762285012424755
          ],
          [
           0.34218749998716796,
           0.3269604832169057
          ],
          [
           0.4986666668471365,
           0.3190690692027742
          ],
          [
           0.4986666668471365,
           0.3190690692027742
          ],
          [
           0.5235999997931781,
           0.3350225224093329
          ],
          [
           0.4910714286591199,
           0.14076576579894626
          ],
          [
           0.6328965517328675,
           0.15914033156541346
          ],
          [
           0.474137930830113,
           0.13591177379199207
          ],
          [
           0.6375555555550833,
           0.0801559134937678
          ],
          [
           0.5366666666859867,
           0.23075348077497382
          ],
          [
           0.5517241379310344,
           0.1581518822988506
          ]
         ],
         "hovertemplate": "<b>%{hovertext}</b><br><br>cluster=1<br>PC1=%{x}<br>PC2=%{y}<br>PC3=%{z}<br>protein=%{customdata[0]}<br>carbs=%{customdata[1]}<extra></extra>",
         "hovertext": [
          "Butter Chicken",
          "Mutton Rogan Josh",
          "Chicken Korma",
          "Chicken Tikka",
          "Keema Matar",
          "Chicken Shawarma",
          "Kadhai Paneer",
          "Chicken Pakora",
          "Prawn Curry",
          "Beef Curry",
          "Shahi Paneer",
          "Goat Curry",
          "Paneer Lababdar",
          "Chicken Vindaloo",
          "Methi Malai Murg",
          "Paneer Bhurji",
          "Laal Maas",
          "Shrimp Korma",
          "Chili Paneer with Capsicum",
          "Grilled Tofu with Veggie Salad",
          "Grilled Salmon with Broccoli",
          "Mutton Seekh Kebab",
          "Grilled Paneer with Veggie Salad",
          "Grilled Chicken with Avocado",
          "Grilled Paneer with Avocado",
          "Paneer and Broccoli Stir Fry",
          "Shorshe Ilish",
          "Macher Jhol",
          "Chingri Malai Curry",
          "Shorshe Paturi",
          "Pora Shorshe Ilish",
          "Macher Kalia",
          "Bengali Fish Fry",
          "Chingri Bhorta",
          "Shorshe Ilish Bhorta",
          "Macher Manna",
          "Chingri Malai",
          "Chingri Paturi",
          "Shorshe Bata Macher Jhol",
          "Chingri Machher Malai",
          "Shorshe Bhapa Ilish",
          "Chingri Bhuna",
          "Sorshe Ilish Bhaja",
          "Macher Jhol Bhuna",
          "Bhapa Ilish",
          "Shrimp Masala",
          "Bengali Chingri Bhuna",
          "Lobster Malai Curry",
          "Doi Maach",
          "Masala Prawn Curry",
          "Bengali Macher Kalia",
          "Sorshe Ilish Bhuna",
          "Shorshe Bata Macher Bhorta",
          "Chingri Malai Prawn",
          "Shorshe Ilish Paturi",
          "Shorshe Bata Machher Jhol",
          "Macher Bhorta",
          "Shorshe Ilish Bhaja",
          "Macher Paturi",
          "Bengali Macher Bhorta",
          "Shorshe Ilish Bhuna",
          "Bombil Fry",
          "Gilavati Kebab",
          "Chettinad Prawn Curry",
          "Spicy Fish Curry",
          "Lahori Chicken",
          "Shami Kebab",
          "Chicken Seekh Kebab",
          "Paneer Ke Kebab",
          "Chicken Malai Kebab",
          "Murgh Malai Tikka",
          "Kaladi Kebab"
         ],
         "legendgroup": "1",
         "marker": {
          "color": "rgb(82, 188, 163)",
          "line": {
           "color": "DarkSlateGrey",
           "width": 0.5
          },
          "size": 5,
          "symbol": "circle"
         },
         "mode": "markers",
         "name": "1",
         "scene": "scene",
         "showlegend": true,
         "type": "scatter3d",
         "x": [
          0.18728665905373798,
          0.37543046792002854,
          0.1802008415209796,
          0.07244526151707975,
          0.15964830440716227,
          0.33407369776165396,
          -0.059452107846298397,
          0.05261895414565554,
          0.48809436261963446,
          0.18310694565526864,
          0.08401823667739239,
          0.4028907158752709,
          0.16201183886730297,
          0.24767032995557237,
          0.12073818968109606,
          0.23036746986784296,
          0.3482052435650721,
          0.19236739229396338,
          -0.4118344438440663,
          0.4710223313849943,
          0.6723499912516081,
          0.19635947993443115,
          0.5286635597573571,
          0.3215058143148589,
          0.5396298894215165,
          0.5809954098555082,
          0.3153777948456232,
          0.3398143358420743,
          -0.06599949677376538,
          -0.11528972273653881,
          -0.13834893467970488,
          0.38056154499994477,
          0.2924532054241874,
          -0.3799736116394562,
          0.44050152123244446,
          0.5842147666916407,
          0.250274174146769,
          0.05645509018407713,
          0.6868874549875225,
          -0.13667578134986658,
          -0.5783603474439244,
          -0.40610955561086903,
          -0.2241027541482674,
          -0.13709531269530584,
          0.38203877907199224,
          -0.18763961837073517,
          0.41863485042473136,
          0.050404100093149884,
          -0.29922678638821065,
          0.3360561428913714,
          0.15310832746092318,
          -0.21928821709864998,
          0.1526490811642215,
          -0.28605926851431096,
          -0.25029595206498056,
          -0.29015098652214955,
          -0.43004149342361053,
          -0.1825683018613431,
          -0.2509165277386709,
          -0.05157866608823802,
          -0.26524659325340394,
          -0.09500194308231746,
          0.6374526611520809,
          -0.3497850720851774,
          -0.158031338398696,
          -0.017796745755395027,
          0.034171544846092416,
          -0.07045266118390103,
          0.09670912184591274,
          0.06057562751935752,
          -0.0904161850022348,
          0.2520460210911909
         ],
         "y": [
          -0.4867451614374012,
          -0.47721947884369637,
          -0.47908177060480917,
          -0.7690313166960054,
          -0.47217725746783523,
          -0.4389625574213381,
          -0.2054310278351418,
          -0.3166002573097362,
          -0.43737005196760403,
          -0.5155868905902263,
          -0.11466190454259495,
          -0.4301698218641284,
          -0.22396752470651363,
          -0.4829290051818383,
          -0.1683022779482179,
          -0.3365905581774527,
          -0.37940788307537915,
          -0.4180608456602469,
          -0.1627667266929872,
          0.24982802764742607,
          0.29388072166714496,
          0.19313684807437792,
          -0.3004651685889689,
          0.028788463898952676,
          0.24099893552213847,
          0.036328308400066844,
          0.009649220924551671,
          -0.13579761307793226,
          0.04840831910157256,
          0.14958736743452428,
          0.1514350358645591,
          -0.19729461183162827,
          -0.1542145743069986,
          -0.037481736840111246,
          -0.10882872418528056,
          -0.24955238625463433,
          -0.14319408755664187,
          0.35982457501345755,
          -0.2679701760457214,
          0.25702722325813043,
          -0.1102088704287556,
          0.07092236246270994,
          0.21791888836444506,
          0.21783227627648716,
          -0.1798551352952879,
          0.03426556318287016,
          -0.028330183487984162,
          0.04050084460968112,
          0.085343453244352,
          -0.007187216628567583,
          -0.15369536131810158,
          0.1784792410984678,
          0.22635224784898123,
          -0.046378770724559815,
          0.15706614429939092,
          -0.06992564539941531,
          -0.04998434186740769,
          0.22127186518318642,
          -0.006530000631649657,
          0.12384608387763152,
          0.051822979214107945,
          0.2479203301449896,
          -0.03981202085179997,
          -0.11507321514497265,
          -0.3073743973832599,
          0.11376413414337594,
          -0.08508092543952167,
          0.1248547567291729,
          -0.00012571825887758292,
          -0.17022808973308426,
          -0.05046312580157075,
          0.12549863030056851
         ],
         "z": [
          -0.23705339485269208,
          -0.44039823231050135,
          -0.30888503038624027,
          -0.10834296642987473,
          -0.26706943040843806,
          -0.1570044412880286,
          -0.37545370266741057,
          -0.26150281352382154,
          -0.36146507208845496,
          -0.2861543436355328,
          -0.4402452471650269,
          -0.369423099286076,
          -0.3900461109656085,
          -0.3058501791829681,
          -0.503700090410131,
          -0.2125924857705681,
          -0.4504353859478361,
          -0.24984078953017136,
          -0.0728241448790285,
          0.1009909752551067,
          -0.08491793740009579,
          0.20546903745633072,
          -0.04290203259155717,
          0.23556367580122084,
          0.3148397014769081,
          0.05154079285482682,
          -0.35955416351519587,
          -0.24865004871070617,
          0.18649378594531285,
          -0.055530014038037034,
          0.04492231305982719,
          -0.17332373493388048,
          -0.3225016192617324,
          -0.20013757364537407,
          -0.48884788213084307,
          -0.333406913641095,
          -0.20842306145108105,
          -0.31613681910402597,
          -0.31829338498968457,
          -0.019761103194881058,
          -0.24193523506382275,
          -0.20905950381680016,
          -0.23624519048192913,
          -0.3939770737748999,
          -0.23245552999367813,
          -0.03131832713146765,
          -0.18620533115245083,
          0.02976090334597853,
          -0.020661783921175902,
          -0.23286992041728924,
          -0.19131750440259537,
          0.024745349734467015,
          0.08520620777690435,
          -0.2076054439480751,
          -0.04271743162027286,
          -0.1287128650909889,
          -0.07673334220635214,
          0.04765952249714572,
          -0.19016573356853528,
          -0.21706324824626494,
          -0.3319409504281705,
          -0.04341111164399736,
          -0.04015083891528454,
          0.27308764023096777,
          0.24053168206163,
          0.29282381881984143,
          0.2253785111618466,
          0.3746692261848582,
          0.19784256607694461,
          0.26383357038522326,
          0.44565439708859433,
          0.31926798488934993
         ]
        },
        {
         "customdata": [
          [
           0.134399999956992,
           0.6879606877798526
          ],
          [
           0.1536,
           0.7338247338666668
          ],
          [
           0.18239999999088,
           0.8986486486550678
          ],
          [
           0.10765714281161927,
           0.6429156426805195
          ],
          [
           0.1628000000001628,
           0.21875000001271874
          ],
          [
           0.21081081081479913,
           0.302144896762473
          ],
          [
           0.249600000009984,
           0.5217035217542014
          ],
          [
           0.19455999998879336,
           0.8714168714164731
          ],
          [
           0.14,
           0.7166257166666667
          ],
          [
           0.09244444444280099,
           0.4968604968800559
          ],
          [
           0.2175999999902515,
           0.6237510237587226
          ],
          [
           0.124800000004992,
           0.596232596290516
          ],
          [
           0.201333333342192,
           0.36070161073809315
          ],
          [
           0.16777142857396915,
           0.7514332514875693
          ],
          [
           0.1278260869570775,
           0.5343535235168162
          ],
          [
           0.20499999999948754,
           0.3672706797907485
          ],
          [
           0.10079999999629057,
           0.5778869778987338
          ],
          [
           0.2022000000076162,
           0.8855105105944654
          ],
          [
           0.14746666666784639,
           0.679361179405435
          ],
          [
           0.134399999956992,
           0.4815724814458969
          ],
          [
           0.16548571429072614,
           0.8894348895126515
          ],
          [
           0.16649999999323595,
           0.8203125000135498
          ],
          [
           0.18279999999497298,
           0.8187448812691512
          ],
          [
           0.1637333333280393,
           0.5133428883556241
          ],
          [
           0.1121142857600924,
           0.803439803813977
          ],
          [
           0.2687999999870976,
           0.6420966421025128
          ],
          [
           0.12814285714262832,
           0.5356777232073768
          ],
          [
           0.14336,
           0.44029484032
          ],
          [
           0.12759999999638466,
           0.6096096096271723
          ],
          [
           0.19555555550340745,
           0.5325325324209543
          ],
          [
           0.12383999999514546,
           0.6656019656139084
          ],
          [
           0.12313043478089558,
           0.5147242103986357
          ],
          [
           0.10172413792664982,
           0.5102869327078899
          ],
          [
           0.1424000000022784,
           0.8018018018604478
          ],
          [
           0.11249999999859375,
           0.644963144991938
          ],
          [
           0.21680000002168,
           0.5178815179628994
          ],
          [
           0.15542857138416327,
           0.6961506959915761
          ],
          [
           0.22042105261127706,
           0.7239805594815634
          ],
          [
           0.10740740740263376,
           0.6927381927469894
          ],
          [
           0.11862857138654301,
           0.5667485665801615
          ],
          [
           0.17142857143469387,
           0.6142506143076518
          ],
          [
           0.25440000000407037,
           0.6836609337109386
          ],
          [
           0.1099999999989,
           0.7094594594929053
          ],
          [
           0.09640000003161919,
           0.4835790337652806
          ],
          [
           0.1428965517284741,
           0.5851619645235038
          ],
          [
           0.1553333334019389,
           0.4174344801427001
          ],
          [
           0.26666666666666666,
           0.7166257166666667
          ],
          [
           0.14,
           0.6449631450000001
          ],
          [
           0.13939130437934064,
           0.42810597170548487
          ],
          [
           0.16711111111296792,
           0.598780598821468
          ],
          [
           0.12095999999554867,
           0.43341523342405036
          ],
          [
           0.23111111121382716,
           0.48305881663444594
          ],
          [
           0.1993333333432262,
           0.7935966270146946
          ],
          [
           0.15781818178590085,
           0.49479748336091267
          ],
          [
           0.12104347826634283,
           0.49154292637584945
          ],
          [
           0.20159999999258113,
           0.505651105661392
          ],
          [
           0.1517037037037037,
           0.516395183091358
          ],
          [
           0.1610666666737536,
           0.6492628993285676
          ],
          [
           0.20533333333880888,
           0.8174841508859971
          ],
          [
           0.2860000000061286,
           0.5123873874276464
          ],
          [
           0.23428571428169798,
           0.7555282555584767
          ],
          [
           0.2584615384535858,
           0.6174006174169006
          ],
          [
           0.21466666667439474,
           0.46150696154994764
          ],
          [
           0.1878571429047781,
           0.538493038660356
          ],
          [
           0.08575999999958836,
           0.6914004914366814
          ],
          [
           0.14520000000356778,
           0.743243243303977
          ],
          [
           0.1875555555380504,
           0.7392392392124858
          ],
          [
           0.12288,
           0.5870597870933334
          ],
          [
           0.20142857143231227,
           0.2886977887196473
          ],
          [
           0.137599999961472,
           0.6779279277768469
          ],
          [
           0.0810666666636402,
           0.6535626535756003
          ],
          [
           0.11600000000232001,
           0.5819000819449714
          ],
          [
           0.09312000000104295,
           0.5839066339465399
          ],
          [
           0.10133333333468444,
           0.6354081354529165
          ],
          [
           0.10357142856920919,
           0.6679975430214
          ],
          [
           0.15862857145077944,
           0.6394348895609495
          ],
          [
           0.10333333333161111,
           0.7405132405432137
          ],
          [
           0.22979999999482953,
           0.6861691236928945
          ],
          [
           0.2199999999978,
           0.6306306306603604
          ],
          [
           0.1054545454510942,
           0.5290000744675358
          ],
          [
           0.137200000035672,
           0.6320638822643366
          ],
          [
           0.12192000000048767,
           0.509664209695372
          ],
          [
           0.15448275857807373,
           0.4843401394066188
          ],
          [
           0.15272727272171902,
           0.5472414563437368
          ],
          [
           0.1462857142857143,
           0.5896805897142857
          ],
          [
           0.3061333333472114,
           0.7835107835910748
          ],
          [
           0.10666666666666669,
           0.6115206115555557
          ],
          [
           0.23520000006115202,
           0.5618345620127437
          ],
          [
           0.3349333333469539,
           0.6000546001132911
          ],
          [
           0.20444444443717533,
           0.8790608790798558
          ],
          [
           0.190999999972305,
           0.6159398033856888
          ],
          [
           0.16777142857396915,
           0.7514332514875693
          ],
          [
           0.23626666676012328,
           0.9171216675368467
          ],
          [
           0.150400000033088,
           0.5389025390518919
          ],
          [
           0.0754285714005551,
           0.4729729728243243
          ],
          [
           0.21428571429336735,
           0.7678132678845648
          ],
          [
           0.11071428570835458,
           0.793407043409877
          ],
          [
           0.08511999999639092,
           0.609991810000803
          ],
          [
           0.24767999999029086,
           0.4437346437426056
          ],
          [
           0.2175999999902515,
           0.6237510237587226
          ],
          [
           0.11680000003114666,
           0.5580125581932478
          ],
          [
           0.15634285712230922,
           0.77027027021305
          ],
          [
           0.1305599999941509,
           0.5457821457888824
          ],
          [
           0.16711111111296792,
           0.598780598821468
          ],
          [
           0.11680000003114666,
           0.5580125581932478
          ],
          [
           0.16800000000672,
           0.6019656020240787
          ],
          [
           0.18666666674133336,
           0.46819546840950044
          ],
          [
           0.1545263158378648,
           0.6921095739448098
          ],
          [
           0.24640000007884802,
           0.5675675677816218
          ],
          [
           0.1768000000714272,
           0.7601965605471195
          ],
          [
           0.1536,
           0.7338247338666668
          ],
          [
           0.16895999999459332,
           0.6054054054206272
          ],
          [
           0.1610666666737536,
           0.6492628993285676
          ],
          [
           0.15862857145077944,
           0.6394348895609495
          ],
          [
           0.16022222221616939,
           0.8201383201542023
          ],
          [
           0.15615999999000577,
           0.4895986895953324
          ],
          [
           0.15525925928111056,
           0.4867746535376448
          ],
          [
           0.2855999999891472,
           0.5847665847777789
          ],
          [
           0.18742857138144658,
           0.6044226043051738
          ],
          [
           0.11600000000232001,
           0.5819000819449714
          ],
          [
           0.10086956522195235,
           0.5060000712692568
          ],
          [
           0.10765714281161927,
           0.6429156426805195
          ],
          [
           0.36,
           0.5016380016666667
          ],
          [
           0.2175999999902515,
           0.6237510237587226
          ],
          [
           0.1545263158378648,
           0.6921095739448098
          ],
          [
           0.13963636363636364,
           0.6671133944242424
          ],
          [
           0.21157894737755237,
           0.7581145739800872
          ],
          [
           0.29120000001164803,
           0.7452907453631449
          ],
          [
           0.18685714286802063,
           0.669533169610405
          ],
          [
           0.15175999999872522,
           0.6991400491741273
          ],
          [
           0.2752000001258057,
           0.633906634232643
          ],
          [
           0.11866666667325927,
           0.6377968878687665
          ],
          [
           0.1773333333307062,
           0.4942063275605797
          ],
          [
           0.264789473684977,
           0.729826716712639
          ],
          [
           0.13152000000347214,
           0.6283374283899215
          ],
          [
           0.16800000000672,
           0.6019656020240787
          ],
          [
           0.21428571429336735,
           0.7678132678845648
          ],
          [
           0.16191999999838083,
           0.5076576576815902
          ],
          [
           0.13963636363636364,
           0.6671133944242424
          ],
          [
           0.13933333333960332,
           0.5824574575169513
          ],
          [
           0.2899999999937857,
           0.6679975430214
          ],
          [
           0.134399999956992,
           0.6879606877798526
          ],
          [
           0.256,
           0.7644007644444445
          ],
          [
           0.14811428568720197,
           0.5307125306458126
          ],
          [
           0.19054545454285618,
           0.5974052565221566
          ],
          [
           0.18799999999717998,
           0.5894246519494919
          ],
          [
           0.13666666666165556,
           0.6855719355859735
          ],
          [
           0.1276363636324185,
           0.45733750280404595
          ],
          [
           0.1515000000067093,
           0.5428439803990402
          ],
          [
           0.18,
           0.5733005733333334
          ],
          [
           0.21099999999514701,
           0.831644144172539
          ],
          [
           0.1145454545475372,
           0.6566897476483036
          ],
          [
           0.18521052631057433,
           0.8111071598148801
          ],
          [
           0.14311111110602273,
           0.5127855127965825
          ],
          [
           0.1822608695693381,
           0.5714311149549482
          ],
          [
           0.2416000000106304,
           0.7214032214761863
          ],
          [
           0.1404000000001404,
           0.503071253100503
          ],
          [
           0.13714285710367347,
           0.4914004912881714
          ],
          [
           0.1416000000031152,
           0.5919328419796894
          ],
          [
           0.12319999999822591,
           0.7945945946285579
          ],
          [
           0.2626285714298471,
           0.7841932842419043
          ],
          [
           0.19377777777648594,
           0.6943306943657415
          ],
          [
           0.25533333332758834,
           0.7624101374365495
          ],
          [
           0.11312499999391952,
           0.7296145577420332
          ],
          [
           0.2589090909188197,
           0.7730871367967261
          ],
          [
           0.16767999999691469,
           0.5257166257369935
          ],
          [
           0.16,
           0.5733005733333334
          ],
          [
           0.1305599999941509,
           0.5457821457888824
          ],
          [
           0.12514285714142695,
           0.5978705978979291
          ],
          [
           0.10526315789473684,
           0.7543428596491228
          ],
          [
           0.14518518518303428,
           0.66885066887898
          ],
          [
           0.11249999999859375,
           0.644963144991938
          ],
          [
           0.15255172413582688,
           0.7027874269558236
          ],
          [
           0.15272727272171902,
           0.5472414563437368
          ],
          [
           0.27199999999274665,
           0.8121758122005642
          ],
          [
           0.1804799999989894,
           0.6466830467163787
          ],
          [
           0.09687499995458984,
           0.6942311626954125
          ],
          [
           0.12994285714345116,
           0.8536036036562833
          ],
          [
           0.20833333333333337,
           0.7464851215277779
          ],
          [
           0.24411428571819152,
           0.7289107289640436
          ],
          [
           0.12514285714142695,
           0.5978705978979291
          ],
          [
           0.12313043478089558,
           0.5147242103986357
          ],
          [
           0.159000000027825,
           0.5697174448497005
          ],
          [
           0.1804799999989894,
           0.6466830467163787
          ],
          [
           0.12095999999554867,
           0.43341523342405036
          ],
          [
           0.2780689656399753,
           0.5693467765271599
          ],
          [
           0.15612121219690725,
           0.6992529723592338
          ],
          [
           0.11888888889271976,
           0.5963918464451432
          ],
          [
           0.12313043478089558,
           0.5147242103986357
          ],
          [
           0.0788148148136472,
           0.5648072314978054
          ],
          [
           0.12599999999748,
           0.6772113022364558
          ],
          [
           0.15152941178164153,
           0.6786867082131081
          ],
          [
           0.11777777772325103,
           0.562683895788881
          ],
          [
           0.14518518518303428,
           0.66885066887898
          ],
          [
           0.10949999999589376,
           0.5231367731470491
          ],
          [
           0.147199999964672,
           0.6592956591751024
          ],
          [
           0.1340606061207302,
           0.6176010724588029
          ],
          [
           0.20864864864819752,
           0.8223764305297536
          ],
          [
           0.14985185184596878,
           0.6903494403617864
          ],
          [
           0.14,
           0.5016380016666667
          ],
          [
           0.21428571429336735,
           0.7678132678845648
          ],
          [
           0.14699999999705998,
           0.752457002484951
          ],
          [
           0.11760000003057601,
           0.49160524176115067
          ],
          [
           0.13799999994874285,
           0.4944717443163391
          ],
          [
           0.15612121219690725,
           0.6992529723592338
          ],
          [
           0.20444444443717533,
           0.805805805823201
          ],
          [
           0.12248275862440638,
           0.7314524556543797
          ],
          [
           0.16484848484748577,
           0.7383416474702729
          ],
          [
           0.13486666663250046,
           0.6213144961926004
          ],
          [
           0.11622857138141583,
           0.6246928744751247
          ],
          [
           0.1775172413768618,
           0.5653929792105923
          ],
          [
           0.16999999999787502,
           0.7614148239488158
          ],
          [
           0.11025000001515939,
           0.5925598895502271
          ],
          [
           0.26399999999736,
           0.5518018018278154
          ],
          [
           0.14699999999705998,
           0.752457002484951
          ],
          [
           0.11828571424177958,
           0.6357493855495788
          ],
          [
           0.1305599999941509,
           0.5457821457888824
          ],
          [
           0.20749999999714688,
           0.8921990172377324
          ],
          [
           0.15399999999846,
           0.47297297299527036
          ],
          [
           0.15348148147511484,
           0.6285072951838051
          ],
          [
           0.16516129032258065,
           0.6657684077419356
          ],
          [
           0.14159999999595427,
           0.7248157248364338
          ],
          [
           0.15762962962729438,
           0.6354081354350309
          ],
          [
           0.2228571428412245,
           0.46580671580006144
          ],
          [
           0.19350000000822376,
           0.7703726454494076
          ],
          [
           0.20758620689690965,
           0.6694272642942579
          ],
          [
           0.13280000000460374,
           0.793065793138604
          ],
          [
           0.17875862076855556,
           0.6405151235930551
          ],
          [
           0.12177777777209482,
           0.5817939151333436
          ],
          [
           0.14572727272064875,
           0.44756533393420156
          ],
          [
           0.16457142857519022,
           0.8108108108756756
          ],
          [
           0.22995348845765712,
           0.7552901742190227
          ],
          [
           0.12192000000048767,
           0.509664209695372
          ],
          [
           0.1395172413254278,
           0.6427391339069422
          ],
          [
           0.15634285712230922,
           0.77027027021305
          ],
          [
           0.15612121219690725,
           0.6992529723592338
          ],
          [
           0.16099999999607564,
           0.7211046273782564
          ],
          [
           0.1773529411999438,
           0.7060871032797273
          ],
          [
           0.12981818181806382,
           0.6202069838782241
          ],
          [
           0.1351724137558145,
           0.6227230363799386
          ],
          [
           0.1611428571458498,
           0.5773955774392946
          ],
          [
           0.1438620689678984,
           0.6627552317695905
          ],
          [
           0.12977777778431474,
           0.6200139534139464
          ],
          [
           0.1484000000023744,
           0.7596232596788206
          ],
          [
           0.15542857138416327,
           0.6961506959915761
          ],
          [
           0.1268571428633045,
           0.7575757576558442
          ],
          [
           0.17279999994470402,
           0.6191646190018674
          ],
          [
           0.15348148147511484,
           0.6285072951838051
          ],
          [
           0.1611428571458498,
           0.5773955774392946
          ],
          [
           0.1574399999382835,
           0.5641277639388619
          ],
          [
           0.21749999999646558,
           0.7793304668623359
          ],
          [
           0.19021621621667886,
           0.8330289749704948
          ],
          [
           0.1179999999469,
           0.4932773680835808
          ],
          [
           0.16999999999787502,
           0.7614148239488158
          ],
          [
           0.20299999999522952,
           0.8728501228794882
          ],
          [
           0.12095999999554867,
           0.43341523342405036
          ],
          [
           0.1452499999980028,
           0.5204494267220106
          ],
          [
           0.17371428571031508,
           0.7780507780774539
          ],
          [
           0.14699999999705998,
           0.752457002484951
          ],
          [
           0.186057142846511,
           1
          ],
          [
           0.20137931035121617,
           0.6494111667102571
          ],
          [
           0.1309090909043306,
           0.7035961581562329
          ],
          [
           0.15612121219690725,
           0.6992529723592338
          ],
          [
           0.18929032258040093,
           0.7536128504291353
          ],
          [
           0.1927058823459131,
           0.8439321674790252
          ],
          [
           0.13906666672136622,
           0.6406633909519944
          ],
          [
           0.1349090909164496,
           0.690566599734637
          ],
          [
           0.19466666671857777,
           0.6277641279674038
          ],
          [
           0.18444444451207406,
           0.7930657934019019
          ],
          [
           0.08689655170855648,
           0.4981784291520508
          ],
          [
           0.16999999999787502,
           0.7614148239488158
          ],
          [
           0.18763636363272465,
           0.747028019783492
          ],
          [
           0.128869565213077,
           0.6156749635156202
          ],
          [
           0.17280000000483842,
           0.8513513514238379
          ],
          [
           0.15911111113939755,
           0.7126444628118775
          ],
          [
           0.21749999999646558,
           0.7793304668623359
          ],
          [
           0.1460869565268204,
           0.5234483495834243
          ],
          [
           0.17875862076855556,
           0.6405151235930551
          ],
          [
           0.18929032258040093,
           0.7536128504291353
          ],
          [
           0.15612121219690725,
           0.6992529723592338
          ],
          [
           0.1908000000030528,
           0.7596232596788206
          ],
          [
           0.1519999999924,
           0.6127149877193643
          ],
          [
           0.16895999999459332,
           0.6054054054206272
          ],
          [
           0.12977777778431474,
           0.6200139534139464
          ],
          [
           0.1754838709643455,
           0.785976592457906
          ],
          [
           0.16484848484748577,
           0.7383416474702729
          ],
          [
           0.1305599999941509,
           0.5457821457888824
          ],
          [
           0.16999999999787502,
           0.7614148239488158
          ],
          [
           0.17781818175675373,
           0.7079393440988735
          ],
          [
           0.19164705883108255,
           0.7629956160104633
          ],
          [
           0.14,
           0.6449631450000001
          ],
          [
           0.16484848484748577,
           0.7383416474702729
          ],
          [
           0.17280000000483842,
           0.8513513514238379
          ],
          [
           0.1843448275920551,
           0.6605312209347479
          ],
          [
           0.1754838709643455,
           0.785976592457906
          ],
          [
           0.18720000000748802,
           0.8198198198994595
          ],
          [
           0.1945945945945946,
           0.852203554954955
          ],
          [
           0.17199999998471113,
           0.684775684753946
          ],
          [
           0.12699999999513167,
           0.5309002184102044
          ],
          [
           0.14,
           0.6449631450000001
          ],
          [
           0.15542857138416327,
           0.6961506959915761
          ],
          [
           0.16711111111296792,
           0.598780598821468
          ],
          [
           0.18929032258040093,
           0.7536128504291353
          ],
          [
           0.17228571435216736,
           0.548730548973558
          ],
          [
           0.16457142857519022,
           0.8108108108756756
          ],
          [
           0.1634594594654677,
           0.8053323594620339
          ],
          [
           0.1754838709643455,
           0.785976592457906
          ],
          [
           0.16457142857519022,
           0.8108108108756756
          ],
          [
           0.17781818175675373,
           0.7079393440988735
          ],
          [
           0.17691428579516083,
           0.7043407047029367
          ],
          [
           0.1634594594654677,
           0.8053323594620339
          ],
          [
           0.15612121219690725,
           0.6992529723592338
          ],
          [
           0.11855999999857728,
           0.5664209664465363
          ],
          [
           0.19974193548335553,
           0.7952233759119263
          ],
          [
           0.1305161290154173,
           0.6012720931643519
          ],
          [
           0.18521052631057433,
           0.8111071598148801
          ],
          [
           0.128,
           0.6115206115555557
          ],
          [
           0.19644444435015115,
           0.844662844305673
          ],
          [
           0.19885714294350368,
           0.7125307128808706
          ],
          [
           0.1833750000045844,
           0.7300624488724183
          ],
          [
           0.16457142857519022,
           0.8108108108756756
          ],
          [
           0.18154285714845902,
           0.7227682228318264
          ],
          [
           0.17454545453910744,
           0.8599508599687292
          ],
          [
           0.14361290322515788,
           0.7351192835450673
          ],
          [
           0.16999999999787502,
           0.7614148239488158
          ],
          [
           0.1610666666737536,
           0.6492628993285676
          ],
          [
           0.16099999999607564,
           0.7211046273782564
          ],
          [
           0.16581818181848332,
           0.8169533170014853
          ],
          [
           0.18763636363272465,
           0.747028019783492
          ],
          [
           0.21047619048591248,
           0.9049959050894215
          ],
          [
           0.1179999999469,
           0.4932773680835808
          ],
          [
           0.1506400000064474,
           0.6168714169330688
          ],
          [
           0.35263157901232683,
           0.3790572870435106
          ],
          [
           0.16457142857519022,
           0.8108108108756756
          ],
          [
           0.14,
           0.6449631450000001
          ],
          [
           0.18763636363272465,
           0.747028019783492
          ],
          [
           0.15612121219690725,
           0.6992529723592338
          ],
          [
           0.15679999999247357,
           0.802620802628141
          ],
          [
           0.14699999999705998,
           0.752457002484951
          ],
          [
           0.18763636363272465,
           0.747028019783492
          ],
          [
           0.17280000000483842,
           0.8513513514238379
          ],
          [
           0.14,
           0.6449631450000001
          ],
          [
           0.19350000000822376,
           0.7703726454494076
          ],
          [
           0.17279999994470402,
           0.6191646190018674
          ],
          [
           0.190999999972305,
           0.6159398033856888
          ],
          [
           0.10800000000302401,
           0.6191646192173367
          ],
          [
           0.24,
           0.8599508600000001
          ],
          [
           0.13799999994874285,
           0.4944717443163391
          ],
          [
           0.20105263158011139,
           0.6483576878721747
          ],
          [
           0.23314285707624494,
           0.7657657655907336
          ],
          [
           0.14111999999243596,
           0.7584766584793456
          ],
          [
           0.1610666666737536,
           0.6492628993285676
          ],
          [
           0.11962500002841095,
           0.5715090091774001
          ],
          [
           0.1309411764628858,
           0.6702558173135145
          ],
          [
           0.13176470588235295,
           0.741918389019608
          ],
          [
           0.202857142848449,
           0.6541769041862496
          ],
          [
           0.1804799999989894,
           0.6466830467163787
          ],
          [
           0.16777142857396915,
           0.7514332514875693
          ],
          [
           0.17257142856785387,
           0.6956388206641618
          ],
          [
           0.22560000004963202,
           0.673628173814865
          ],
          [
           0.21428571429336735,
           0.7678132678845648
          ],
          [
           0.14449999999819374,
           0.6656941032238217
          ],
          [
           0.14917241378687937,
           0.7635770566922785
          ],
          [
           0.18809523813778345,
           0.7413663665764201
          ],
          [
           0.1696000000027136,
           0.6076986077430566
          ],
          [
           0.19199999993856,
           0.4815724814458969
          ],
          [
           0.16099999999607564,
           0.7211046273782564
          ],
          [
           0.14520000000356778,
           0.743243243303977
          ],
          [
           0.1524705882424692,
           0.5463217228492387
          ],
          [
           0.21729729728555153,
           0.7786041569849405
          ],
          [
           0.2869999999992825,
           0.7345413595814971
          ],
          [
           0.11399999999430001,
           0.5174037674074632
          ],
          [
           0.15111111116987655,
           0.676813177115057
          ],
          [
           0.1826206896580062,
           0.8179417662770602
          ],
          [
           0.16,
           0.6449631450000001
          ],
          [
           0.19200000000768,
           0.6879606880275184
          ],
          [
           0.10971428571428572,
           0.5241605241904762
          ],
          [
           0.1614545454530777,
           0.7954545454927686
          ],
          [
           0.292499999897625,
           0.6288390661549064
          ]
         ],
         "hovertemplate": "<b>%{hovertext}</b><br><br>cluster=2<br>PC1=%{x}<br>PC2=%{y}<br>PC3=%{z}<br>protein=%{customdata[0]}<br>carbs=%{customdata[1]}<extra></extra>",
         "hovertext": [
          "Masala Dosa",
          "Upma",
          "Vegetable Biryani",
          "Aloo Paratha",
          "Malai Kofta",
          "Paneer Butter Masala",
          "Palak Chana",
          "Vegetable Pulao",
          "Butter Naan",
          "Sev Puri",
          "Pesarattu",
          "Shahi Tukda",
          "Lauki Kofta",
          "Masala Puri",
          "Palak Paratha",
          "Veg Kofta Curry",
          "Suji Halwa",
          "Veg Pulao",
          "Besan Ladoo",
          "Chana Tikki",
          "Tomato Rice",
          "Pulao",
          "Khoya Mawa",
          "Pakora",
          "Sabudana Khichdi",
          "Vegetable Khichdi",
          "Gajar Halwa",
          "Malai Sandwich",
          "Shrikhand",
          "Chole Tikki",
          "Idli Sambar",
          "Carrot Paratha",
          "Kaju Katli",
          "Veg Hakka Noodles",
          "Barfi",
          "Dal Bhati",
          "Vegetable Dosa",
          "Chole Rice",
          "Pineapple Kesari",
          "Kesar Pista Kulfi",
          "Masala Wontons",
          "Chana Chole",
          "Apple Kheer",
          "Papdi Chaat",
          "Vegetable Pakora",
          "Methi Thepla (Fenugreek Flatbread)",
          "Chana and Spinach (Palak) Curry",
          "Radish (Mooli) Paratha",
          "Mustard Greens (Sarson) Saag",
          "Spinach (Palak) Paratha",
          "Saag Aloo (Spinach and Potato)",
          "Chana Masala with Bottle Gourd",
          "Green Peas Pulao",
          "Toor Dal with Pumpkin",
          "Potato and Spinach Curry",
          "Chana and Cabbage Sabzi",
          "Spinach and Onion Roti",
          "Aloo-Besan (Potato and Chickpea Flour) Paratha",
          "Mixed Vegetable Pulao",
          "Chana Chaat with Avocado",
          "Vegetable Pita Wrap",
          "Roasted Cauliflower and Lentil Soup",
          "Grilled Eggplant with Tahini",
          "Vegetable Soup with Quinoa",
          "Puran Poli",
          "Vada Pav",
          "Misal Pav",
          "Poha",
          "Kothimbir Wadi",
          "Pav Bhaji",
          "Shira",
          "Bhel Puri",
          "Batata Vada",
          "Alu Vadi",
          "Modak",
          "Zunka Bhakri",
          "Ukadiche Modak",
          "Kolhapuri Misal",
          "Shev Bhaji",
          "Amboli",
          "Bhakarwadi",
          "Surli Vadi",
          "Kaladi",
          "Goan Saag",
          "Pitla Bhakri",
          "Dal Amti",
          "Ghavtya",
          "Masala Wada",
          "Tambda Rassa",
          "Biryani",
          "Navratan Korma",
          "Ragda Pattice",
          "Chana Biryani",
          "Chivda",
          "Garadu",
          "Masale Bhath",
          "Ambapoli",
          "Chandrakala",
          "Tamda Rassa",
          "Cholar Dal",
          "Alur Dom",
          "Khichuri",
          "Bengali Beguni",
          "Labra",
          "Bengali Luchi",
          "Posto Bata",
          "Phoolkopir Dalna",
          "Bhuna Khichuri",
          "Dimer Dalna",
          "Bengali Sweets Platter",
          "Bengali Dhokla",
          "Patishapta",
          "Chhena Poda",
          "Ras Malai",
          "Amriti",
          "Alu Posto",
          "Shukto Bhaja",
          "Bengali Egg Curry",
          "Bhapa Doi",
          "Kachauli",
          "Alu Bhorta",
          "Bengali Pulao",
          "Bengali Aloo Macher Jhol",
          "Bengali Moong Dal",
          "Bengali Bhuna Khichuri",
          "Thepla",
          "Undhiyu",
          "Dal Dhokli",
          "Sev Tameta",
          "Shakariya",
          "Chhole",
          "Bhaat",
          "Dahi Vada",
          "Vaghareli Khichdi",
          "Laadva",
          "Surati Locho",
          "Sev Usal",
          "Kachaudi",
          "Methi Na Thepla",
          "Pudla",
          "Toor Dal",
          "Dabeli",
          "Meethi Khichdi",
          "Kadhi Chawal",
          "Khakra",
          "Paatra",
          "Khichu",
          "Chili Pakora",
          "Bharela Ringan",
          "Chana Batata",
          "Dal Baati",
          "Meetha Dhokla",
          "Gujarati Pulao",
          "Bhindi Sambhariya",
          "Dal Vada",
          "Mag Ni Dal",
          "Papad Sabzi",
          "Doodh Pak",
          "Dudhi na Muthiya",
          "Churma",
          "Gatte Ki Sabzi",
          "Ker Sangri",
          "Shahi Gatte",
          "Churma Ladoo",
          "Panchmel Dal",
          "Missi Roti",
          "Chili Garlic Paratha",
          "Pyaz Kachori",
          "Alu Ki Sabzi",
          "Malai Ghevar",
          "Bajre Ki Roti",
          "Pyaz Ki Kachori",
          "Gobhi Ke Parathe",
          "Kachri Ki Sabzi",
          "Saag",
          "Bhutte Ka Kees",
          "Imarti",
          "Jalebi",
          "Gatte Ki Kadhi",
          "Bajre Ki Khichdi",
          "Mirchi Bada",
          "Ghughra",
          "Mawa Kachori",
          "Bhutte Ke Kees",
          "Medu Vada",
          "Adai",
          "Pongal",
          "Appam",
          "Plain Paratha",
          "Rava Kesari",
          "Thousand Layer Dosa",
          "Ven Pongal",
          "Kal Dosa",
          "Curd Rice",
          "Avial",
          "Coconut Rice",
          "Mango Rice",
          "Bisi Bele Bath",
          "Rava Dosa",
          "Keerai Masiyal",
          "Vegetable Kurma",
          "Appam with Stew",
          "Cabbage Thoran",
          "Chili Bajji",
          "Puli Pongal",
          "Adai Avial",
          "Shavige",
          "Chettinad Parotta",
          "Curd Rice with Mango",
          "Mysore Pak",
          "Vegetable Saag",
          "Kootu",
          "Moon Dal Payasam",
          "Moong Dal Cheela",
          "Masala Dosa with Chutney",
          "Sweet Pongal",
          "Onion Pakora",
          "Kerala Sadya",
          "Sundal",
          "Bonda",
          "Vegetable Uthappam",
          "Jackfruit Curry",
          "Ragi Dosa",
          "Besar Kebab",
          "Kara Kozhambu",
          "Kootu Curry",
          "Saravana Bhavan Dosa",
          "Pesarattu with Ginger Chutney",
          "Medu Vada with Sambar",
          "Sundal with Coconut",
          "Coconut Rice with Curry",
          "Ambur Biryani",
          "Medu Vada with Coconut Chutney",
          "Vermicelli Payasam",
          "Sadya Rice",
          "Sambar Rice",
          "Vegetable Ishtoo",
          "Ven Pongal with Coconut Chutney",
          "Chappathi",
          "Curd Rice with Pappad",
          "Parippu Curry",
          "Onion Dosa",
          "Chili Gobi",
          "Parotta",
          "Masala Uttapam",
          "Kara Dosa",
          "Pesarattu with Coconut Chutney",
          "Mysore Bonda",
          "Curd Vada with Sambar",
          "Ragi Mudde",
          "Koottu Curry",
          "Appam with Egg Curry",
          "Chili Rava",
          "Tomato Poori",
          "Jackfruit Biryani",
          "Spinach Pakora",
          "Vegetable Thoran",
          "Cholam Koozh",
          "Curd Pulao",
          "Chili Gobi with Rice",
          "Vegetable Adai",
          "Kanji",
          "Ven Pongal with Sambar",
          "Masala Kootu",
          "Appam with Coconut Milk",
          "Chutney Rice",
          "Rasam Rice",
          "Paruppu Curry",
          "Vegetable Biryani with Raita",
          "Coconut Kheer",
          "Onion Uttapam",
          "Vegetable Theeyal",
          "Poha with Peanuts",
          "Puliyodarai",
          "Kadambam",
          "Green Gram Curry",
          "Sundal with Tamarind",
          "Cholam Pongal",
          "Vegetable Moong Dal",
          "Palakkad Iyer Sambar",
          "Vegetable Korma",
          "Ragi Dosa with Coconut Chutney",
          "Beetroot Poriyal",
          "Moong Dal Kachori",
          "Curry Leaf Rice",
          "Vegetable Sambar",
          "Onion Pakora with Chutney",
          "Palak Rice",
          "Masala Pongal",
          "Cabbage Kofta Curry",
          "Rice with Rasam",
          "Spinach Rice",
          "Vegetable Masala Dosa",
          "Tomato Kootu",
          "Chili Methi Paratha",
          "Kootu with Rice",
          "Curd Bhature",
          "Masala Kadamba",
          "Vegetable Bonda",
          "Rice with Tamarind Paste",
          "Avial with Rice",
          "Rasam Vada",
          "Vegetable Stew",
          "Palak Kootu",
          "Sambar Sadam",
          "Masala Dosa with Sambar",
          "Onion Sambar",
          "Appam with Sweetened Coconut Milk",
          "Kootu Curry with Rice",
          "Avial Rice",
          "Pulao with Cucumber Raita",
          "South Indian Lemon Rice",
          "Poha with Coconut",
          "Palakkad Sambar",
          "Curd Rice with Pickles",
          "Vegetable Pulao with Raita",
          "Idli with Tomato Chutney",
          "Chettinad Egg Biryani",
          "Rice and Kadala Curry",
          "Thoran",
          "Vegetable Dosa with Sambar",
          "Paratha with Green Chutney",
          "Puliyodarai Rice",
          "Onion Rice",
          "Vegetable Pesarattu",
          "Tomato Upma",
          "Beetroot Rice",
          "Chili Methi Rice",
          "Sambar with Rice",
          "Vegetable Masala Biryani",
          "Palak Pakora",
          "Mangalore Buns",
          "Chettinad Fish Fry",
          "Appam with Curry",
          "Thayir Sadam",
          "Vegetable Sambar Rice",
          "Peanut Rice",
          "Chili Dosa",
          "Curd Paratha",
          "Tomato Rasam Rice",
          "Chili Gobi Rice",
          "Rice with Raita",
          "Palak Chapati",
          "Vegetable Kootu Curry",
          "Kadhi Pakora",
          "Gulab Jamun",
          "Biriyani",
          "Pakoras",
          "Dum Aloo",
          "Chole",
          "Paratha",
          "Keema Naan",
          "Alu Gobi",
          "Jeera Rice",
          "Matar Pulao",
          "Kadhi",
          "Khasta Kachori",
          "Puri with Aloo",
          "Kachori with Sabzi",
          "Navratan Dal",
          "Sarson Da Saag",
          "Gobhi Paratha",
          "Vegetable Paratha",
          "Shahi Pulao",
          "Gobhi Masala",
          "Paneer Pakora",
          "Bajra Khichdi",
          "Poori with Sabzi",
          "Lassi with Mango",
          "Keema Paratha",
          "Chana Daals",
          "Jeera Aloo",
          "Sabzi Pulao",
          "Amritsari Kulcha",
          "Aloo Baingan",
          "Pakodi",
          "Gajar Ka Halwa",
          "Lemon Rice",
          "Chana Aloo"
         ],
         "legendgroup": "2",
         "marker": {
          "color": "rgb(153, 201, 69)",
          "line": {
           "color": "DarkSlateGrey",
           "width": 0.5
          },
          "size": 5,
          "symbol": "circle"
         },
         "mode": "markers",
         "name": "2",
         "scene": "scene",
         "showlegend": true,
         "type": "scatter3d",
         "x": [
          -0.16647012055818156,
          -0.17062456170086826,
          -0.09363795052873314,
          -0.22391771713520248,
          -0.005093047567514941,
          0.09232334748126447,
          -0.03842535188892604,
          -0.12440479477289701,
          -0.255101944073597,
          -0.29846701061726355,
          -0.1320562950586548,
          -0.0489150070079124,
          -0.01884840457874659,
          0.03414921592841358,
          -0.2425475557187634,
          0.18721475373310958,
          -0.22821615454838562,
          -0.015534026672113344,
          -0.18352355653112162,
          -0.24466959267453126,
          -0.08383155581560242,
          -0.1419009555247247,
          0.21549729819177277,
          -0.058817976598717125,
          -0.272014783988877,
          0.0031256666122977395,
          -0.13494481126346014,
          -0.2193927735733302,
          -0.26676411567355773,
          -0.1579868410414016,
          -0.2540244599625596,
          -0.2452166987159169,
          -0.1982210123484217,
          -0.05896251271037023,
          -0.10812909551902739,
          -0.1299476930662039,
          -0.1036703207583608,
          -0.015407047415184283,
          -0.2253472298663075,
          -0.14348064963820106,
          -0.10395683022024738,
          0.06145885712957322,
          -0.21040066677999136,
          -0.3042146427024307,
          -0.15485966405486407,
          -0.35547580905207765,
          -0.5306886397680148,
          -0.3083690652194858,
          -0.10607693785434691,
          -0.18836899198513157,
          -0.3417087595275953,
          -0.3675527945815261,
          -0.6757663338856472,
          -0.2399795972078027,
          -0.09133615949768958,
          -0.18643764318936262,
          -0.3491337171195301,
          -0.5666162465405348,
          0.5599626716516864,
          0.5220513150451856,
          0.42891630745639386,
          0.458619626212056,
          0.3478590473970248,
          0.6656630615494993,
          0.11475900940777739,
          -0.2788804937823318,
          -0.16628284596541998,
          -0.39607386162269653,
          -0.214974821477937,
          -0.10666157239654839,
          -0.2610369042457832,
          -0.2966537863428407,
          0.034186957908149074,
          -0.1513890672611532,
          -0.2639962076156165,
          -0.5214686655662029,
          -0.32246930692060594,
          -0.22489125454555337,
          -0.37663671061533455,
          0.39835206413483826,
          -0.22415851389768326,
          -0.10782446911704002,
          -0.5342298166016807,
          0.07817286718364713,
          0.253572874641831,
          -0.3092087804564272,
          -0.4873356956328502,
          0.061435265736214384,
          -0.35745162045689727,
          -0.18793372518885532,
          -0.28586263713057225,
          -0.5213744522169543,
          -0.3080456346800641,
          -0.11351148437972236,
          -0.2719723965333565,
          -0.2646442493624085,
          -0.4486646594843095,
          0.3092850809665545,
          -0.07322778250807782,
          -0.21647831999126088,
          -0.19089593726919885,
          0.383635514012706,
          -0.2646955143252131,
          0.2450787075142845,
          0.41649990838182804,
          -0.017973203371480895,
          0.34765377137345077,
          0.4041437396080373,
          -0.2890274443960915,
          -0.1660351410322829,
          -0.23932148885976023,
          -0.36170342064535155,
          -0.27306176703575735,
          0.4049005617390983,
          0.5950423318471357,
          0.4850914267682297,
          -0.21629862647502707,
          0.5982069253745087,
          0.22452003776304863,
          0.7382806652931778,
          0.08730828648577937,
          0.015743671312686613,
          -0.1551808102220722,
          -0.11486656308033005,
          -0.4392317845147521,
          -0.41781601032233917,
          -0.29708363997641163,
          0.20119342915539706,
          0.09106140487655867,
          -0.13294968300880894,
          -0.18985806922740311,
          0.003609572563690655,
          -0.1725418951710701,
          -0.08316114278738274,
          -0.0711975315364477,
          0.09624917388794663,
          0.45466441104702493,
          0.12061803606622001,
          0.2683140760112611,
          -0.7492816036884493,
          -0.08316114278738274,
          -0.010037080435092105,
          -0.3050013278931081,
          -0.2629353442901585,
          -0.14700956769961282,
          -0.22226057597524995,
          -0.1614139730484111,
          -0.15658573607105364,
          -0.11751725851423445,
          0.13432197665678813,
          -0.15046117493701872,
          0.14379607253312632,
          -0.02613897438973456,
          0.4370313336416013,
          -0.07991870702038462,
          0.09132360785878435,
          -0.17925270462113463,
          -0.48060309250412697,
          -0.2555315896810971,
          -0.1688522321989665,
          -0.0855543593973922,
          -0.016926189507542655,
          -0.10343079181063353,
          -0.2996207279662626,
          -0.07991870702038462,
          -0.12346406341152327,
          0.5184814899717641,
          -0.37570972470951813,
          0.009868701097955679,
          0.02755345099905626,
          0.12224420709056172,
          -0.18969555733380805,
          -0.13889938595052997,
          -0.010920183465617406,
          0.4343775084887006,
          -0.07991870702038462,
          0.4070094150833442,
          -0.11226839924821175,
          0.24479862135834807,
          -0.008079754269237682,
          -0.2328336454538228,
          -0.06667531277240057,
          0.005535222262431971,
          0.05662112716638845,
          -0.18783576203474361,
          0.36295357100369163,
          -0.11989611517763477,
          0.011807443262306871,
          0.03810301221564283,
          0.0772250226321044,
          0.028975121327335596,
          -0.011017709299782519,
          0.054970410737598674,
          0.5199749859115074,
          0.06590076996780125,
          0.13876920280480853,
          -0.4837646974465518,
          -0.2080563781680086,
          0.05013062483663522,
          -0.006405493529112127,
          0.0743338231226306,
          0.0327680363355749,
          0.02755345099905626,
          0.26696213003127733,
          0.06548719096495159,
          0.033496619774546876,
          -0.17131875595129076,
          0.02755345099905626,
          0.00277435305083662,
          -0.02613897438973456,
          0.30264008816736,
          0.02755345099905626,
          0.4891573503507832,
          0.046127933667330256,
          -0.1290271007690137,
          0.33949048224458733,
          0.20995578894227773,
          -0.2971462155223257,
          0.19108313579446679,
          0.0954681181599758,
          0.017268255157429135,
          -0.4793213543690519,
          0.3704502087976397,
          -0.09626257884676226,
          -0.29805829095648906,
          -0.13197490532634837,
          -0.2930941636489025,
          0.36295357100369163,
          0.4086676114732489,
          -0.14977870741388,
          0.29141244858976056,
          0.013924230225158873,
          0.08169089143379804,
          -0.32668488482550884,
          0.18030907468366297,
          -0.09788074241497202,
          0.25033495563024577,
          -0.06634090223924549,
          0.11454763930199563,
          0.2866354943619548,
          -0.1547395061091016,
          -0.11415037162439123,
          0.1000243936494859,
          -0.09051133637603936,
          0.4523253242214419,
          0.03469151813819271,
          0.4764432128660171,
          0.22709939189716588,
          0.3788764107864383,
          -0.2594744047176656,
          0.4586107683721038,
          0.3174057970650922,
          0.06642386154596214,
          0.42371146317647634,
          -0.0815860872552776,
          0.004016631503500179,
          0.35331040501941546,
          0.2193535294822465,
          -0.07127618870699137,
          0.3634024270358641,
          0.45531863748142276,
          0.00978690215786604,
          -0.061497199984238304,
          0.06450089644773926,
          0.19566371615398281,
          -0.18412086429128893,
          0.2994269420068,
          0.09511103402777044,
          0.4175249414164589,
          0.4947443991405228,
          -0.1977256173520573,
          -0.1589085713562114,
          0.4596864538518869,
          0.3581018256668179,
          0.2097990980143135,
          0.7744493292810178,
          0.0863895148801127,
          0.1809537041393171,
          0.012809677049720358,
          0.6495941868708038,
          0.4123835219126616,
          -0.028798794867292643,
          0.01815568974026094,
          -0.6441287024349004,
          0.5628274796710983,
          0.6018503108577898,
          0.3592099119058737,
          0.48415068507435366,
          -0.4273276403058759,
          0.3906902905263471,
          -0.0506808460078797,
          -0.09485303912500942,
          -0.1793980860123524,
          -0.1575197370946344,
          -0.7093466797087705,
          -0.46266749426945847,
          0.2636676318796235,
          -0.5958572098634627,
          0.08958257672463021,
          -0.500275811439644,
          -0.3975557840232423,
          -0.5984575325981311,
          0.09116129021360242,
          -0.4011924475969304,
          -0.5331790316114531,
          0.18188186163268816,
          0.3492237808618811,
          -0.43721227120594475,
          0.3394419611789342,
          -0.6453885655424221,
          0.18470252316801095,
          -0.1645507359006123,
          -0.3431617148277907,
          0.19289395133714493,
          0.1735364297656038,
          -0.5280723435277865,
          -0.568890949664085,
          -0.6530854426376955,
          0.1159751361417457,
          0.053598958452955814,
          -0.5621110538463366,
          0.25311780144893825,
          -0.3334194986109197,
          -0.4556182146426224,
          0.0926294628833505,
          -0.46968178834760543,
          -0.5913522320904068,
          -0.0010281663850975065,
          0.1548072773669914,
          -0.31539307012061146,
          0.245621432055798,
          -0.14282764507535306,
          -0.4910311513644513,
          0.10794878163813759,
          -0.3691050974212773,
          0.32936152735233615,
          -0.5317263565044048,
          0.12208322234196689,
          -0.48903316722413187,
          -0.5247892532359636,
          0.1759726255313684,
          0.12047969997518282,
          0.3063113535661762,
          -0.567274991041968,
          -0.4365090678279243,
          0.33359254539252003,
          -0.466073830132949,
          -0.39270463621848317,
          -0.5096280373305309,
          0.11755620324096505,
          0.20564517760581003,
          0.2503784515356916,
          0.42727461463762706,
          -0.06084475098006059,
          0.3508768548869431,
          -0.1670405628186279,
          0.32301231691693844,
          -0.09032316361728043,
          0.4140854288311425,
          0.046130885725006676,
          0.36780796400158733,
          0.003536028466128771,
          0.4092213601236082,
          0.3667617074660664,
          0.39508887359632194,
          0.3771839762615329,
          0.5583546760744856,
          0.011250104468021216,
          -0.3150673091405247,
          0.021305854634486643,
          0.5155588249252564,
          0.058054585796714187,
          0.4435929270657243,
          0.08288992381035099,
          0.23209194318651327,
          0.11793826158594378,
          0.014834021188320001,
          0.023066858254797262,
          0.26191824174593126
         ],
         "y": [
          0.1718824742194035,
          0.20838103962550636,
          0.3076126344393624,
          0.18246831012459042,
          -0.08681065627074935,
          -0.035199669707408676,
          0.019313640410381083,
          0.28229712458921896,
          0.13736899650730972,
          0.07983752060829041,
          0.04912066115863872,
          0.21101585414470814,
          -0.012376027780476473,
          0.2951168101666025,
          0.09631160181361953,
          0.11006798019867603,
          0.2203816024767754,
          0.35235835911291513,
          0.21663471228938713,
          0.03750142764152781,
          0.34894671390049814,
          0.26765847646759655,
          0.4732159169933414,
          0.08301670464887712,
          0.2622546414116579,
          0.1004584557751328,
          0.1799248220059504,
          0.03006140147066222,
          0.13396536001233783,
          0.011667627786245915,
          0.19784284476362934,
          0.08601269932870503,
          0.15363726480648365,
          0.33597261707881443,
          0.27283760083755093,
          -0.010411467852529832,
          0.20349240329159235,
          0.20008756386536342,
          0.27578943703046954,
          0.19870582050123453,
          0.12440546621472559,
          0.18882205374023697,
          0.24641458977810293,
          0.05663700833014568,
          0.13688755195626412,
          -0.1518113741965939,
          -0.13389761118140786,
          -0.09419059386558581,
          0.14473139944466895,
          0.042361720000963,
          -0.06706993958741914,
          -0.08343548427798625,
          -0.3164689751777624,
          0.09308502283739872,
          0.06360142858425083,
          0.07885651880256894,
          -0.08555136763981369,
          -0.26174969815664995,
          0.34893829281622846,
          0.0801426835733684,
          0.32792622023586393,
          0.10683715793161874,
          -0.16833237375070165,
          0.1829579407590074,
          0.31514952521060935,
          0.08666299392001953,
          0.06960387366106263,
          -0.18069377483401416,
          0.16779293758164204,
          0.17417817592448648,
          0.17598143343918826,
          0.2035954283526994,
          0.2398353371246954,
          0.1190056599130036,
          0.30308726719765344,
          0.03767000458370057,
          0.02930104657489513,
          0.06901933922489495,
          -0.2673844649215458,
          0.2858843510613426,
          0.03703614655332749,
          0.1528314122259795,
          0.016050245459964696,
          -0.03310403013542418,
          0.4479112861567207,
          -0.02665992725764249,
          -0.10198589465561841,
          0.320319926025718,
          0.00624299868015743,
          0.07008196240147418,
          0.05323549309445441,
          -0.16828352031560306,
          0.23086394253025666,
          -0.14371875145417223,
          -0.06719789893774236,
          -0.08909641319657347,
          -0.11974195981203417,
          -0.14486837775375044,
          0.11847848055815868,
          -0.04769310123429221,
          0.0989105538502254,
          -0.37477272244908144,
          0.010168724908216187,
          -0.2682022845217503,
          -0.19907754446819517,
          0.2458277380305085,
          -0.10331345706605749,
          -0.11501900294377193,
          0.1119731810981649,
          0.32269216046494753,
          0.008127023089919916,
          -0.07133990594898953,
          0.11082611696910727,
          -0.11231839018131834,
          -0.16380668837317325,
          -0.08566370202169199,
          0.19667047466769394,
          -0.2876202158953701,
          -0.05648867891044829,
          -0.15565143862374087,
          0.34198760461173106,
          0.22923569431293944,
          0.1420888393113109,
          0.2718202924530724,
          0.10479957803570084,
          -0.03821016131923183,
          -0.013531618210658514,
          0.3318144178984288,
          0.2807358973074431,
          0.08009802263972915,
          0.10038917452658613,
          0.412244456419556,
          0.13338045897732886,
          0.19849972712389186,
          0.46504113677731385,
          0.2953993420678097,
          0.47584931969769584,
          0.2777740069890484,
          0.38629072221223404,
          -0.3407365503103432,
          0.19849972712389186,
          0.011858982455733746,
          0.10296248443585676,
          0.05661552550837634,
          0.25346864128648217,
          0.1385702602996376,
          0.23077873945553906,
          0.18961682699269433,
          0.21371526946873087,
          0.3769938359353766,
          0.211445832945507,
          0.36153823416077224,
          0.34886618701320893,
          -0.0955861555616212,
          0.26714557715456155,
          0.37748670683394103,
          0.28564714814297,
          -0.02566973857506538,
          0.19821294217533347,
          0.11165484079624044,
          0.2927824764966146,
          0.3440102190233536,
          0.15254332284224537,
          0.16462039411141483,
          0.26714557715456155,
          0.2294868368079923,
          0.3414921144047527,
          0.14658086641924606,
          0.34171196301222495,
          0.31273881189126096,
          0.4625541719165429,
          0.10703965732502896,
          0.16038014922767818,
          0.30222910382471757,
          -0.05643567967350632,
          0.26714557715456155,
          -0.11605596618086605,
          0.21953652113635624,
          0.08701892811779754,
          0.3199614212952895,
          0.018123302276976783,
          0.25328468880142474,
          0.33581564661135865,
          0.3963761835089816,
          0.11900311997897195,
          0.49017091184857786,
          0.15201535142945188,
          0.32994974025124657,
          0.4121877594727281,
          0.42268984513288566,
          0.364865765484779,
          0.2755390736077523,
          0.39585210824562034,
          -0.21078293923692382,
          0.35747978911513145,
          0.41773008828778047,
          -0.1160804105406607,
          0.17788375789798094,
          0.29193131236186287,
          0.30731254388444706,
          0.45961563640832137,
          0.3697530996712767,
          0.31273881189126096,
          0.5154800960493078,
          -0.12180043790014677,
          0.41461574346765573,
          0.22207643120751297,
          0.31273881189126096,
          0.4017376002992803,
          0.34886618701320893,
          -0.1319424082410161,
          0.31273881189126096,
          0.39538758988960854,
          0.33441022278147103,
          0.16421358389064822,
          -0.23575652706454003,
          0.2253833153593111,
          0.1770542760467767,
          0.4568525643791246,
          0.20397236239216787,
          0.2689047046521128,
          -0.0543001793768782,
          -0.1017734977946887,
          0.3346787268506044,
          0.009113756386525063,
          0.16935920846589192,
          -0.08479917891042504,
          0.49017091184857786,
          -0.24240862591306123,
          0.23036154230518935,
          -0.07838485083663133,
          0.06449231194723692,
          0.23634055896320094,
          -0.11074421069504248,
          -0.47154428525474923,
          0.16367439811077933,
          0.3226219559791704,
          0.002469791498217744,
          0.314276469180232,
          0.049439151919443314,
          0.22194365855491183,
          0.3105804151209852,
          0.3416171066271343,
          0.2636151665715365,
          0.05270603585583694,
          0.36257392580826053,
          0.05400141478780873,
          0.06456202675807304,
          -0.34768341631401,
          0.07648567232613529,
          0.4273579821179807,
          -0.013499560854870862,
          0.19611887314114929,
          -0.39971092798231134,
          0.239822207526039,
          0.35743168293413596,
          -0.15865023218522029,
          0.3273288975018487,
          0.20825866117752567,
          -0.047502119574676316,
          0.04056827859163814,
          0.24961431487119934,
          0.3481650074994006,
          0.11107795345607241,
          -0.4796375652378414,
          0.09648715758536419,
          -0.5101529338223494,
          0.22720674126893514,
          -0.373743191357192,
          -0.33966730186373223,
          -0.1763214495542205,
          -0.07633526637546284,
          -0.35547399549384584,
          -1.039217765193654,
          -0.03490348249997116,
          -0.6992889133728872,
          0.2836575595060209,
          -0.5245796195884795,
          0.17269592452032045,
          -0.4256734472516571,
          -0.3801119248311202,
          -0.06721011290534906,
          0.11646692779992218,
          -0.07083988866783741,
          -0.3335645174969582,
          -0.7001020927223089,
          -0.5679696603764369,
          -0.5042383518557961,
          -0.13742851154493801,
          0.2319258586325722,
          0.02726957296803334,
          -0.6268877854470131,
          -0.48200981487708416,
          -0.9552420700874703,
          -0.4226360442017173,
          -0.16849438251429866,
          -1.0273674562777522,
          -0.36692497717569417,
          -0.6783421426124361,
          -0.3967287156126249,
          -0.24642569341038806,
          -0.18890454059082015,
          -0.7760842287321417,
          -0.141947675555324,
          -0.32916460280797283,
          -0.8778274400770858,
          -0.5446682930545459,
          -0.018260415392260976,
          -0.661284368760903,
          -0.3358427252645656,
          -0.6060529839483189,
          0.0014586859025139676,
          -0.2919716247567712,
          -0.6146363868683771,
          -0.7854536196165836,
          -0.22013382719567995,
          -0.3299098927899324,
          -0.3396934978774585,
          -0.8825170366667413,
          -0.7312481702959497,
          -0.2542323786336613,
          -0.7734166716788462,
          -0.23596148490599692,
          -0.3161159213992827,
          -0.6307490453551425,
          -0.23706179479145206,
          -0.31222816722531505,
          -0.4024439665378012,
          -0.744782524204012,
          -0.14129311965527314,
          -0.7958750924843482,
          -0.4046237493388321,
          -0.10068546057182265,
          -0.9625618350745789,
          -0.25106193849040437,
          -0.8008953486362737,
          -0.2555987697165902,
          -0.6318269535185335,
          -0.11575604463274636,
          -0.2835181119602266,
          -0.7773779042766638,
          -0.3921780197511102,
          -0.8338879674988795,
          -0.28192503944219505,
          -0.19488044084683018,
          -0.7897762140261055,
          -0.28814007608627445,
          -0.1981076702673629,
          -0.1704113301116255,
          -0.2711074192851559,
          -0.3821817762204624,
          -0.4246914758052139,
          -0.4100008167048788,
          -0.20836621176104653,
          -0.056662131535880234,
          -0.06968250533716497,
          -0.3069119542833273,
          0.06963698665452828,
          -0.4212409809978234,
          0.0539093972743821,
          -0.15000009751382903,
          0.09129903977807163,
          -0.20104726238207363,
          -0.39998060792473705,
          -0.29650874176339503,
          -0.26331901292227844,
          -0.10707841287479614,
          0.18785229543796045,
          -0.19550684354409417,
          0.0014599657267690969,
          -0.18225468336227788,
          -0.11917977897200133,
          -0.06428593338332822,
          -0.03682201961727799,
          0.1550776938347096,
          0.12890719925435778,
          0.02568282036353542,
          -0.013955174166591311,
          0.16327129971399512
         ],
         "z": [
          -0.11830487405136048,
          -0.044042886863220665,
          -0.1478525056278926,
          -0.15366092762657485,
          -0.49433430705277215,
          -0.5302225530559876,
          0.12121218227264008,
          0.03680257947843141,
          -0.24744692804799023,
          -0.08284890702901643,
          -0.04314805533266591,
          -0.4186172489442284,
          -0.23773489572472672,
          -0.2221479635491332,
          0.03529481603657775,
          -0.38112046106652603,
          0.04091219332134788,
          -0.06494416839120787,
          -0.25465497547684934,
          -0.05149352458532347,
          -0.1601765482582138,
          -0.08794800375230483,
          -0.4833779109752783,
          -0.22145736259037513,
          -0.21857275455325695,
          0.08595584418831259,
          -0.18486634671931204,
          -0.21513452193267968,
          -0.2348193214841065,
          -0.062112366009690945,
          0.038466623452655224,
          -0.040556483377379715,
          -0.32141433637948075,
          -0.19314702068272688,
          -0.2891360439896973,
          0.011831299822191776,
          -0.09347184638438988,
          -0.03788688259429618,
          -0.19978354021266845,
          -0.46766699587379373,
          -0.2202266977376134,
          0.07574669906871151,
          -0.36483581077267035,
          -0.16320637623993473,
          0.014979137143665888,
          -0.0634856911666688,
          -0.04124084789103494,
          0.023554871579557712,
          -0.04552466885278844,
          -0.12317882438598066,
          0.12883244845260222,
          0.004138707627728555,
          -0.15742693053963497,
          0.010365751173572746,
          0.13756956363183748,
          0.014374415201718449,
          0.037642425599400786,
          0.0037260710315843992,
          0.020928450646524877,
          0.2585903995612153,
          0.3043549013576786,
          0.1880885035908324,
          0.14496522461121852,
          0.3054279339879251,
          -0.24634204403023402,
          -0.12392410621967087,
          0.01379633170767347,
          -0.12506096386830845,
          0.0014631834294182022,
          -0.294232489409343,
          -0.13037965718608907,
          -0.34877220230867356,
          -0.09607876120913622,
          0.09262652855743703,
          -0.30484978093492543,
          0.002517522868702493,
          -0.22826133616367156,
          -0.14461094429988075,
          -0.25299648902457694,
          0.04911439399494011,
          -0.12168099833202312,
          -0.13945153353292328,
          -0.37279706915235034,
          -0.057958856498417255,
          -0.25342462878715266,
          -0.11359476131045954,
          -0.2565501492189295,
          -0.15307141243352873,
          -0.20983969345981351,
          -0.15334245504590233,
          -0.28642709621994866,
          -0.2976861454718369,
          -0.23976554380900447,
          -0.17383442416739084,
          -0.06147185388509335,
          -0.06442307970835215,
          -0.18916180720934475,
          -0.36495783901278234,
          0.04185781398325772,
          -0.12915804136271913,
          -0.2536678549515238,
          -0.02292235965978079,
          -0.07529371680518149,
          -0.2721655099261549,
          -0.10744607067064088,
          -0.24881205214435637,
          -0.39086019261819793,
          -0.23233426058826215,
          -0.17365297038938238,
          -0.20863436675321548,
          -0.09984842206811978,
          -0.1585554801329187,
          -0.1488901492524335,
          -0.23785108855026812,
          -0.2634084445213529,
          -0.29228576311101306,
          -0.20612249256287346,
          -0.285879107146026,
          -0.028749704635171125,
          -0.27997963769250905,
          -0.01579166717246594,
          0.0037413393485125623,
          0.08737853281087715,
          -0.17224744870305747,
          -0.2720817157660389,
          -0.12419223455002643,
          -0.15109348583404586,
          -0.043070466448116795,
          -0.11034638586487183,
          -0.044594450742201364,
          -0.2529346630767802,
          -0.4351661458030381,
          0.057483225050737996,
          -0.033789547625227234,
          -0.34629439972155085,
          -0.14600269526319154,
          -0.060390397584274225,
          0.06619144386162668,
          -0.020159896107300013,
          -0.2334636516009796,
          -0.033789547625227234,
          0.056893145126307776,
          -0.08783864834292632,
          -0.09839678534208174,
          -0.08804960305336956,
          -0.08631052756807578,
          0.07122825959388018,
          0.03264160574944247,
          -0.047224079486851145,
          -0.05162814667896842,
          -0.10584567929024713,
          0.03669560051560122,
          -0.05599550364760281,
          -0.05988387089913444,
          -0.030686269404006428,
          0.03518982249252228,
          -0.060736536534077845,
          -0.03632090805285915,
          -0.187611143855968,
          0.018793340334822106,
          0.001488239777250211,
          -0.04599015846235416,
          -0.011946396665515835,
          -0.061210973321318196,
          -0.030686269404006428,
          -0.0334044857194416,
          0.03453399057933432,
          -0.15394762124652173,
          -0.03594856026535903,
          -0.02947550701499546,
          -0.0006587955189167327,
          0.040834801346768757,
          -0.03265910372566366,
          0.01787265075627631,
          -0.025149937456241722,
          -0.030686269404006428,
          -0.008171581121219074,
          -0.11658190399945562,
          0.005918994020157997,
          -0.049291797551748284,
          0.02613549825965039,
          0.02686389834496944,
          -0.08845718971697386,
          0.07153721905802052,
          -0.07172476042672887,
          -0.09810897051615541,
          -0.06053268663066136,
          0.08211303366410472,
          0.008983370150866477,
          -0.036648451193782405,
          -0.02174446896059623,
          -0.059348137916553134,
          -0.09924697267463839,
          -0.004330622715061239,
          -0.0013965217872196067,
          -0.03260383342872941,
          -0.1897931798961268,
          -0.0337769223131017,
          0.02612652221409706,
          0.06563809319771408,
          0.03852353792564428,
          0.0288878326591398,
          -0.02947550701499546,
          -0.08393895975275134,
          -0.15165790212286095,
          0.003980697558242152,
          0.0015556292085522894,
          -0.02947550701499546,
          -0.03721048218251921,
          -0.05599550364760281,
          -0.06912872411826115,
          -0.02947550701499546,
          -0.03448882048264723,
          -0.01587474854037535,
          0.017768536468114937,
          -0.03319751222025358,
          0.06724544730662896,
          -0.22751620936190978,
          -0.2161954655142917,
          -0.11417913099637783,
          0.16475826167189378,
          -0.05608284258793644,
          -0.09036805127049213,
          -0.050501525953519366,
          -0.22061936979312236,
          -0.13619173862944262,
          -0.10101882268160878,
          -0.09810897051615541,
          0.016303984556777895,
          -0.12110438135690715,
          -0.06915585816116138,
          0.19802911379753074,
          -0.08342286663901721,
          -0.1809928692720172,
          -0.06888984706976292,
          -0.09220636822463568,
          0.12058357845165624,
          0.15909136342914798,
          -0.13641098765818643,
          -0.1520936351642942,
          -0.06569807479798928,
          -0.056527079640122324,
          -0.06673348664075246,
          -0.0839258050481047,
          -0.04100109318677281,
          -0.12292991409807963,
          -0.18728616980572327,
          -0.11039378198529909,
          -0.026117762605079864,
          -0.13691053180199375,
          -0.1090399202502404,
          -0.13079861378065116,
          0.11278004876063474,
          -0.0580790304629738,
          -0.14824992218515975,
          -0.05192635855570754,
          -0.014099325599393586,
          0.10580984652931913,
          -0.119019581423779,
          -0.06044937143533713,
          -0.15780440021893505,
          -0.04448983136893986,
          -0.0015295130706748372,
          0.1681602400256792,
          -0.052214271761015174,
          -0.08098386337499996,
          -0.058443018691921866,
          0.08025400535836602,
          -0.18572156146914795,
          -0.3848010907065287,
          -0.098170599128162,
          0.21424069726113715,
          -0.26112979954786086,
          0.05626565232152786,
          0.09853226832687945,
          -0.5505594866207488,
          0.08652758117284554,
          -0.19555187718108988,
          0.05064708407149804,
          -0.3510548728187021,
          -0.1968164375342756,
          0.009881926591296719,
          0.23182294365252187,
          0.14598535970154036,
          -0.2188496557160283,
          -0.340440279769067,
          -0.2570105005637322,
          -0.16392885663196982,
          0.1334229265784891,
          0.03995306578018598,
          0.10735678569112883,
          0.007435911160149522,
          0.1346407171760391,
          0.12791411522732532,
          0.05685411701522641,
          0.2750648398485619,
          0.04644374195631301,
          0.055410798522397275,
          -0.2275673871832784,
          0.25857637396586186,
          0.2685648928580796,
          0.23987424369859223,
          0.14043488706045282,
          0.31340375040479385,
          0.294339563553639,
          0.02154578216944958,
          -0.16422922500048598,
          0.2558915326279686,
          -0.02863136832550439,
          0.16905509782629746,
          -0.06364382743022012,
          0.28476750788950633,
          0.32381223497224454,
          0.04032609470936832,
          0.04398941723919708,
          0.3012871025694205,
          0.23219113943464753,
          0.1512594567976514,
          -0.09033427766430069,
          -0.06689721689574474,
          0.16080697754844098,
          -0.2273195296335078,
          0.3239218466884912,
          0.21561472796676118,
          -0.0029076333618291428,
          0.2793801142808895,
          0.22194545179541214,
          0.1706624664050822,
          -0.1725476741078013,
          0.3530016182891692,
          -0.21045338090452897,
          0.158346899249994,
          0.28919444859198495,
          0.0023445901856909424,
          0.31894714955393866,
          -0.27388058266561827,
          0.3363629761693887,
          0.08495307881744019,
          0.31620174120722544,
          0.2892236562047107,
          -0.10853114354069587,
          0.16117784233061583,
          -0.19088718555333722,
          0.269699191216355,
          0.35632218465954857,
          -0.2813483492262099,
          0.24625118768094023,
          0.2993189571884709,
          0.2305122855194759,
          0.26967855704941623,
          0.11260435152456982,
          0.008313292675800554,
          -0.0382246207373132,
          0.16504007457519332,
          0.09613039770110976,
          0.3144325959060754,
          0.08313313849209558,
          0.40548327671197615,
          0.011141111473699561,
          0.2537610986255966,
          0.21065430260808882,
          0.31687954126446993,
          0.08883810276513815,
          -0.005945503826718823,
          0.14497485323744486,
          0.17799016661369227,
          0.20369182516852358,
          0.2802270343174792,
          0.2368454556483799,
          0.3440596686557732,
          0.10824225212341831,
          0.3312683226406038,
          0.1549871796320239,
          0.31670620289434737,
          0.3065951035374592,
          0.28991644549598083,
          0.29501727136913114,
          0.3346844319775576,
          0.30989542106288626
         ]
        },
        {
         "customdata": [
          [
           0.5055555555611728,
           0.7970470471014488
          ],
          [
           0.625739130463621,
           0.9609016131747198
          ],
          [
           0.482000000158096,
           0.7599099102025838
          ],
          [
           0.4284444444473008,
           0.9211029211616965
          ],
          [
           0.384,
           0.5350805351111112
          ],
          [
           0.3583999999827968,
           0.882882882890955
          ],
          [
           0.3885517241316338,
           0.6187692394842246
          ],
          [
           0.36189473684420054,
           0.7924371740659913
          ],
          [
           0.402206896549505,
           0.7205795137201623
          ],
          [
           0.44391111111683274,
           0.8675948676556268
          ],
          [
           0.612750000026042,
           0.7703726454494076
          ],
          [
           0.5728500000126026,
           0.43212530715950676
          ],
          [
           0.6178799999948098,
           0.9321867322321697
          ],
          [
           0.5249999999895001,
           0.752457002484951
          ],
          [
           0.3588571428663706,
           0.642915642968913
          ],
          [
           0.4411428571405884,
           0.711302211339199
          ],
          [
           0.39490909092847737,
           0.7861166952911166
          ],
          [
           0.6303999999974784,
           0.48402948405520674
          ],
          [
           0.4742857142721633,
           0.7647420147638645
          ],
          [
           0.608,
           0.6115206115555557
          ],
          [
           0.3299999999967,
           0.7094594594929053
          ],
          [
           0.528947368443881,
           0.5306802017860609
          ],
          [
           0.45517241378682516,
           0.6523765144737602
          ],
          [
           0.661200000013224,
           0.914414414484955
          ],
          [
           0.5142499999771802,
           0.6700450450536002
          ],
          [
           0.5542857142673436,
           0.7149877150048748
          ],
          [
           0.5775000000005777,
           0.8277027027508278
          ],
          [
           0.6541428571472182,
           0.7401719902192203
          ],
          [
           0.39085714284820894,
           0.6224406224619632
          ],
          [
           0.6101052631813357,
           0.5465214018367873
          ],
          [
           0.4726857143008402,
           0.6928746929364578
          ],
          [
           0.6130666666770208,
           0.7707707708278323
          ],
          [
           0.5308387097078997,
           0.6916594014160588
          ],
          [
           0.5998571428848506,
           0.5279142779688292
          ],
          [
           0.482500000024125,
           0.7779867936951494
          ],
          [
           0.6383999999693568,
           0.882882882890955
          ],
          [
           0.46222222221400494,
           0.6624806625067411
          ],
          [
           0.48168421050603444,
           0.8629682314022611
          ],
          [
           0.5852000000156052,
           0.5885885886379179
          ],
          [
           0.5514285714257355,
           0.6322686323015102
          ],
          [
           0.5771428571184523,
           0.6617526617624935
          ],
          [
           0.4410810810801274,
           0.8692476260521745
          ],
          [
           0.4822857142600842,
           0.7776412776443883
          ],
          [
           0.32,
           0.9172809173333334
          ],
          [
           0.36799999999632,
           0.8241195741584255
          ],
          [
           0.35142857142254696,
           0.6715806716075349
          ],
          [
           0.4049999999949375,
           0.7255835381159302
          ],
          [
           0.3654545454492298,
           0.7856823766249355
          ],
          [
           0.601349999986169,
           0.45362407863956666
          ],
          [
           0.427499999978625,
           0.8509930384991171
          ],
          [
           0.45454545454545453,
           0.6514779242424242
          ],
          [
           0.5519999998140632,
           0.4163972583860557
          ],
          [
           0.3870000000164475,
           0.7703726454494076
          ],
          [
           0.5154285714197355,
           0.6715806716075349
          ],
          [
           0.44421052634010416,
           0.7162485452760473
          ],
          [
           0.5889999999901833,
           0.3702566202716068
          ],
          [
           0.3,
           0.7166257166666667
          ],
          [
           0.3842999999929866,
           0.8414977477804761
          ],
          [
           0.4652631578878804,
           0.833548859899997
          ],
          [
           0.41039999997948,
           0.7352579852632373
          ],
          [
           0.39359999997480966,
           0.7521703521651946
          ],
          [
           0.5998571428848506,
           0.45249795254471076
          ],
          [
           0.24428571428344595,
           0.6127149877443107
          ],
          [
           0.43200000001728,
           0.7739557740309583
          ],
          [
           0.3,
           0.7166257166666667
          ],
          [
           0.497142857173396,
           0.7125307126151984
          ],
          [
           0.6804374999825638,
           0.42773597462445595
          ],
          [
           0.41236363637113393,
           0.7387759661043414
          ],
          [
           0.4086000000104194,
           0.8947072072811484
          ],
          [
           0.4578750000237522,
           0.9114583334326986
          ],
          [
           0.4927999999763456,
           0.6420966421025128
          ],
          [
           0.3004137931129786,
           0.8073159366980251
          ],
          [
           0.41454545456052894,
           0.8252053707370782
          ],
          [
           0.3444444444584774,
           0.6582339916317552
          ],
          [
           0.4275000000090843,
           0.3829468673518877
          ],
          [
           0.3842999999929866,
           0.8414977477804761
          ],
          [
           0.47333333335305555,
           0.5936049686636224
          ],
          [
           0.6782999999626934,
           0.6822276822291442
          ],
          [
           0.4724210526415247,
           0.5386008018008127
          ],
          [
           0.41066666667761775,
           0.8093093093771371
          ],
          [
           0.49573333333168096,
           0.6459186459534024
          ],
          [
           0.41849999998221377,
           0.4998464373537566
          ],
          [
           0.3,
           0.7166257166666667
          ],
          [
           0.32,
           0.9172809173333334
          ],
          [
           0.28599999999714004,
           0.8671171171579954
          ],
          [
           0.5,
           0.42997543000000005
          ],
          [
           0.5263157894736842,
           0.4526057157894737
          ],
          [
           0.6,
           0.3771714298245614
          ],
          [
           0.3828571430048162,
           0.4115479117301685
          ],
          [
           0.5,
           0.42997543000000005
          ],
          [
           0.2763428571292769,
           0.907657657664919
          ],
          [
           0.5776842105275319,
           0.36962800122884837
          ],
          [
           0.5121951219462225,
           0.5138730748730354
          ],
          [
           0.4652631578878804,
           0.833548859899997
          ],
          [
           0.586046511600649,
           0.5249700017197689
          ],
          [
           0.5,
           0.42997543000000005
          ],
          [
           0.5026315789502784,
           0.4322384585814498
          ],
          [
           0.46400000000928004,
           0.6650286650799673
          ],
          [
           0.5026315789502784,
           0.4322384585814498
          ],
          [
           0.249600000009984,
           0.8943488944357739
          ],
          [
           0.4686956521759509,
           0.9160346117431133
          ],
          [
           0.5700000000000001,
           0.3583128583333334
          ],
          [
           0.5493333331868444,
           0.42178542169704775
          ],
          [
           0.45476190467528343,
           0.3910728910207481
          ],
          [
           0.45872340424067903,
           0.8965445135884083
          ],
          [
           0.3154285714357813,
           0.7534807535410321
          ],
          [
           0.4,
           0.42997543000000005
          ],
          [
           0.249600000009984,
           0.8943488944357739
          ],
          [
           0.31434782607807277,
           0.976168856631833
          ],
          [
           0.33480000006361205,
           0.39987714997597673
          ],
          [
           0.3145945946020768,
           0.826637448325967
          ],
          [
           0.28428571426134697,
           0.47536172534814364
          ],
          [
           0.47826086977315685,
           0.5483744616876991
          ],
          [
           0.3479999998724,
           0.48491673476664165
          ],
          [
           0.2828571428520918,
           0.506756756776665
          ],
          [
           0.29880000007649277,
           0.8565110567792668
          ],
          [
           0.3208695650778828,
           0.44711213172589337
          ],
          [
           0.45476190467528343,
           0.3910728910207481
          ],
          [
           0.2905945945845416,
           0.8181154127284546
          ],
          [
           0.5456521738859982,
           0.9384681123882673
          ],
          [
           0.4374999999453125,
           0.4389332514034668
          ],
          [
           0.349599999916096,
           0.48714623705715904
          ]
         ],
         "hovertemplate": "<b>%{hovertext}</b><br><br>cluster=3<br>PC1=%{x}<br>PC2=%{y}<br>PC3=%{z}<br>protein=%{customdata[0]}<br>carbs=%{customdata[1]}<extra></extra>",
         "hovertext": [
          "Chicken Biryani",
          "Hyderabadi Biryani",
          "Mutton Biryani",
          "Chole Bhature with Soy Protein",
          "Tofu Stir-Fry with Vegetables",
          "Vegetable and Tofu Pulao",
          "Moong Dal with Quinoa",
          "Chana Dal and Brown Rice",
          "Masoor Dal with Amaranth",
          "Vegetable Biryani with Soy Protein",
          "Chicken Breast with Sweet Potato",
          "Beef Stir-Fry with Vegetables",
          "Chicken Korma with Brown Rice",
          "Paneer Butter Masala with Brown Rice",
          "Chickpea and Spinach Stir Fry",
          "Grilled Tofu with Quinoa",
          "Quinoa and Lentil Salad",
          "Tempeh and Tofu Stir-Fry",
          "Vegetable Protein-Packed Soup",
          "Chicken Shawarma Wrap",
          "Quinoa and Chickpea Salad",
          "Vegan Tempeh Stir-Fry with Veggies",
          "Tofu and Vegetable Stew",
          "Spicy Chicken Curry with Rice",
          "Grilled Tofu Wrap",
          "Paneer and Spinach Wrap",
          "Tofu and Chickpea Burger",
          "Chicken and Sweet Potato Salad",
          "Vegan Lentil Stew with Spinach",
          "Paneer Bhurji with Quinoa",
          "Chana and Tofu Salad",
          "Grilled Chicken with Veggie Rice",
          "Tofu and Bell Pepper Stir Fry",
          "Chicken and Avocado Salad",
          "Tofu and Quinoa Salad",
          "Chicken Tikka with Brown Rice",
          "Vegan Lentil Soup with Vegetables",
          "Chickpea and Tofu Pulao",
          "Chicken Tandoori with Veggie Salad",
          "Grilled Tofu with Hummus",
          "Grilled Tempeh with Steamed Veggies",
          "Vegetable and Tofu Stir-Fry with Rice",
          "Paneer and Chickpea Curry",
          "Vegetable Quesadilla",
          "Spicy Lentil Tacos",
          "Chickpea and Cauliflower Stew",
          "Quinoa and Kale Salad",
          "Spinach and Potato Croquettes",
          "Mango Chutney Chicken",
          "Tofu and Veggie Stir-Fry",
          "Spicy Mushroom and Tofu Curry",
          "Grilled Chicken and Avocado Salad",
          "Lentil and Potato Stew",
          "Tofu and Vegetable Kebabs",
          "Palak and Paneer Wrap",
          "Grilled Salmon Salad",
          "Chana and Rice",
          "Vegetable and Tofu Korma",
          "Paneer and Veggie Stuffed Paratha",
          "Quinoa and Veggie Stuffed Peppers",
          "Chickpea and Avocado Toast",
          "Grilled Chicken Caesar Salad",
          "Spinach and Mushroom Salad",
          "Chana and Broccoli Stir-Fry",
          "Vegetable Sushi Rolls",
          "Spicy Tofu Tacos",
          "Grilled Paneer with Green Salad",
          "Tofu and Broccoli Stir-Fry",
          "Vegetable Makhani",
          "Chickpea and Vegetable Patties",
          "Grilled Tofu with Asparagus",
          "Vegetable Pakora with Yogurt Dip",
          "Lentil and Sweet Potato Curry",
          "Chana and Spinach Sauté",
          "Paneer and Vegetable Skewers",
          "Chana Usal",
          "Shorshe Bata",
          "Kosha Mangsho",
          "Bengali Fish Curry",
          "Bengali Kathi Roll",
          "Macher Tenga",
          "Shorshe Bata Bhorta",
          "Rajma Masala",
          "Dal Baati Churma",
          "Masala Baati",
          "Chettinad Chicken Curry",
          "Balchao",
          "Kozhi Varuval",
          "Chili Paneer",
          "Chettinad Egg Curry",
          "South Indian Curry",
          "Chettinad Fish Curry",
          "Meen Pollichathu",
          "Chili Paneer with Rice",
          "Chettinad Mutton Curry",
          "Mutton Sukka",
          "Chettinad Pepper Chicken",
          "Kozhi Rasam",
          "Chettinad Egg Fry",
          "Chettinad Mutton Biryani",
          "Chettinad Chicken Biryani",
          "Spicy Fish Fry",
          "Chettinad Mutton Sukka",
          "Chettinad Chicken Masala",
          "Chettinad Prawn Biryani",
          "Rajma",
          "Achari Paneer",
          "Biryani with Raita",
          "Pakistani Biryani",
          "Paneer Do Pyaza",
          "Rajma Chawal",
          "Matar Paneer",
          "Chicken Tikka Masala",
          "Paneer Pasanda",
          "Vegetable Tikka",
          "Dal Bati Churma",
          "Paneer Tikka Masala",
          "Keema Methi",
          "Rajma with Rice",
          "Murg Pulao",
          "Balti Gosht",
          "Paneer Makhanwala"
         ],
         "legendgroup": "3",
         "marker": {
          "color": "rgb(204, 97, 176)",
          "line": {
           "color": "DarkSlateGrey",
           "width": 0.5
          },
          "size": 5,
          "symbol": "circle"
         },
         "mode": "markers",
         "name": "3",
         "scene": "scene",
         "showlegend": true,
         "type": "scatter3d",
         "x": [
          0.3116196554654579,
          0.5808625985063053,
          0.35245863252669596,
          0.31274937062168096,
          0.2518092398793149,
          0.32121710130533276,
          -0.023647263270210717,
          0.3884372770154273,
          0.43494408410562413,
          0.3665754475559434,
          0.4837931911102026,
          0.7203727565293029,
          0.2158524267941594,
          0.46080493912079523,
          -0.006176175372770931,
          0.3528102953546791,
          0.35553805172219854,
          0.6740372535426752,
          0.39545984549062496,
          0.4825779469905226,
          0.6069792579556347,
          0.05070908058503787,
          0.7348749590272422,
          0.4846112717872356,
          0.7976398221507633,
          0.6864572437398354,
          0.20451560163441973,
          0.6170272714004329,
          0.4485316200996391,
          0.5905610803056399,
          0.5760458615663858,
          0.5242317635362309,
          0.4638024216696518,
          -0.7516141045273951,
          0.28860216948348494,
          0.4876127766501025,
          0.49246891031634676,
          0.5819552296602079,
          0.13423661323308,
          0.6935806579273333,
          0.6345606765943076,
          0.45012492997103204,
          0.22760533277135242,
          0.2921997073726078,
          0.3694749207042981,
          0.47233472196509785,
          0.5610069833095049,
          0.13538800315441335,
          0.017916770910370694,
          0.1316497059180165,
          0.10920821250736246,
          0.26195663416587045,
          0.47932022648881356,
          0.6573519504460762,
          0.1918801345265463,
          0.41211747321322545,
          0.5184814899717641,
          0.32572400502610266,
          0.3271762323155615,
          0.5248234468591165,
          0.27402110822191605,
          0.4179081888820252,
          0.16996653332693523,
          0.46457637505145366,
          0.6586637592999524,
          0.42493801845983403,
          0.5870149053583097,
          0.5970580631965755,
          0.5576480401849365,
          0.32266683480491587,
          0.4321391116069847,
          0.17367569860063192,
          0.3232161600944291,
          -0.3423794070115578,
          -0.01898753110955209,
          0.07217940509310183,
          0.11916885691526236,
          -0.06167141091399786,
          0.42223170278907374,
          0.47095077496632676,
          -0.7556275589794983,
          -0.27676604794403703,
          -0.2569497719973446,
          -0.38427307222693197,
          -0.1340422548959057,
          -0.08793741299757607,
          -0.6147746409121561,
          0.3757036811650788,
          -0.07845415714180659,
          -0.015062357881735822,
          0.012091133135982757,
          0.4400494904755906,
          -0.38017212857194294,
          0.602382511184186,
          0.30190963566634743,
          0.04199341369559151,
          -0.5162569357237371,
          -0.0020089373362791596,
          -0.559558184089929,
          -0.34965516093338933,
          0.1466373640687212,
          -0.46245851239567937,
          -0.20260898394356963,
          0.22248294902068066,
          -0.10491814563364876,
          -0.16733841573823938,
          -0.356886234203207,
          -0.15467352602458806,
          0.0035942684946289605,
          -0.10573751068187953,
          -0.02679963953404374,
          0.20248094259724814,
          0.6297046919165276,
          0.2769129935943472,
          0.13767500673808064,
          0.3647106337537477,
          0.005582342865987466,
          0.2549040956286407,
          -0.035904085312016165,
          0.0837442989650431,
          0.20388120549771982,
          0.023066858254797262
         ],
         "y": [
          0.10837550136303387,
          0.2516166768689603,
          0.14011366219138843,
          0.322098486734854,
          0.07989802893203096,
          0.27806286886807385,
          -0.057416759769991554,
          -0.29748338338708186,
          0.0769830309774962,
          -0.3085115920902878,
          -0.11034944229212051,
          0.22235542086107507,
          0.11467747425505304,
          0.18244454025054058,
          -0.0763928807334967,
          0.2760213905537082,
          0.13982177050247735,
          0.06423984582520736,
          -0.4119138803652091,
          -0.3766990259505563,
          -0.019101461786114715,
          -0.0011781239384896502,
          0.29718050432890586,
          0.13483784932855736,
          0.2757365485303358,
          0.13390830050114022,
          0.04787516016826593,
          -0.03584529395565872,
          0.12048406546311563,
          0.16082061175722873,
          0.12975518768015182,
          -0.07300002815619783,
          -0.30202448822354594,
          -0.14877665894473918,
          0.015227340191896699,
          -0.2946102761461441,
          0.24569282045715468,
          0.03457188188917426,
          -0.12393110556857073,
          0.10904814124564621,
          0.27882050516503143,
          0.4379735864755909,
          0.24483785096300859,
          0.20486159021483907,
          0.20911859334434468,
          0.33084010696016053,
          -0.0940186094101434,
          0.3355623194300644,
          0.14173732612298817,
          0.11833131711874034,
          0.09563492094826676,
          0.21918613447224522,
          0.26402040103079816,
          -0.10052795729493608,
          0.2602951999979479,
          0.318928648409609,
          0.3414921144047527,
          0.20324653736647724,
          0.21366823818011516,
          -0.0982027832441788,
          0.257326820671289,
          0.2548734000639199,
          0.2340939720827805,
          0.12873284891659498,
          -0.19505489716406368,
          0.24232123844983888,
          0.4474304255634419,
          0.44106543411732846,
          0.10440150643034762,
          0.37743972483894384,
          0.3332830919785529,
          0.11631264936877972,
          -0.07084217625656303,
          0.2831212394552086,
          0.2734059956287883,
          0.05857017670564013,
          -0.2924410129114793,
          0.009422409112800512,
          -0.09984561850443369,
          -0.16049594208034756,
          -0.32283254192394883,
          -0.018583866512379033,
          0.14847723428921533,
          0.022370337599347978,
          0.1531168453880749,
          0.22215417816427996,
          -0.19377914155004267,
          0.5758186300317653,
          0.2401813349308458,
          0.18083411635275182,
          0.21481334426218102,
          -0.5724996528771813,
          0.08165149309193276,
          0.10195020681592093,
          -0.5005296744042822,
          0.27377792942327117,
          -0.06386885687392019,
          0.1780586669946035,
          -0.4034075658107586,
          -0.2834233321548514,
          -1.0357082237043964,
          -0.3949890720547151,
          -0.13236417504717224,
          -0.6614936466643757,
          -0.5494594591698514,
          -0.4634150411414376,
          -0.11752965390426007,
          0.06918429036988932,
          0.016857189179073362,
          -0.20207806652942084,
          0.09128308686214737,
          -0.2227739298949463,
          -0.059126804501485164,
          0.02809551017801165,
          0.03663607665429963,
          -0.36376062176701673,
          -0.04335878279097355,
          0.1697034500066663,
          -0.09827309390630024,
          -0.05121045661304319,
          0.02526267826997125,
          -0.013955174166591311
         ],
         "z": [
          -0.22581761908229903,
          -0.1815484996617462,
          -0.2438201936567218,
          0.11247336922383366,
          0.33543478840345253,
          0.3230875454706056,
          0.2602332243595282,
          0.14282682998605578,
          0.09187427972412854,
          -0.14539031354859672,
          0.048343715730422065,
          -0.1316877987739341,
          0.2364427114285954,
          0.26058408577688863,
          0.19565213159251948,
          0.37662531708362823,
          0.3734163799704512,
          0.03889384870232859,
          -0.43355445278477633,
          0.09365876974839471,
          0.22946754890811516,
          0.09841606964155025,
          0.008453252345486661,
          0.2936681940312036,
          0.34124203528243335,
          0.024894659961351873,
          0.2886737970608043,
          0.13407653356400795,
          0.31453027427946567,
          0.025429272847380058,
          0.34909535805069536,
          -0.07340177309232787,
          0.062025123959936146,
          -0.4175064021319622,
          0.2922304733301475,
          0.05740905573634547,
          0.25451546046174456,
          0.3378370611159419,
          0.2010222973497594,
          0.387410591303576,
          0.21716635655988414,
          -0.1054442027382253,
          0.18803000679746917,
          0.27479803558287585,
          0.28447651457948275,
          0.08080849940445534,
          0.07435203069481872,
          0.1190370139135174,
          0.18896942233596126,
          -0.052460622495542786,
          0.23664453164988175,
          0.33223814350767367,
          0.08948338967675662,
          -0.09108835253866676,
          0.2616168828683757,
          0.10421916485291782,
          0.03453399057933432,
          0.3298235366040031,
          0.18829099263901328,
          -0.03322770828472427,
          0.018846067418062884,
          0.32066240251140554,
          0.20020202893148675,
          0.3091447770928323,
          0.12052266660219235,
          0.24364824188197798,
          0.21104400958415892,
          0.3589870450263791,
          0.2620019128652724,
          0.11573073882991103,
          0.3591720261449576,
          0.16062068092060955,
          0.019828471519781343,
          0.005568649471106746,
          -0.29826657335997975,
          -0.1582231237753468,
          -0.08691036573472016,
          0.049810577940033296,
          -0.43382286061696335,
          -0.15064680880904668,
          -0.16527047656420657,
          -0.07971120349106486,
          -0.0816411567802724,
          -0.07696810980628233,
          -0.11046455623193363,
          -0.012632102433303039,
          -0.16354248453253867,
          -0.03763729260956156,
          -0.05178852340227702,
          0.02426443586483379,
          -0.06268723687875116,
          -0.038195500404316685,
          -0.2785138932086354,
          -0.11440297524091614,
          -0.30092018501342843,
          0.15974787692698977,
          0.17202430819428516,
          0.1641677223168052,
          -0.018925505786917762,
          0.14042452619044932,
          0.08131240848046672,
          0.09863683074712981,
          0.24200129106129808,
          -0.017474812872766865,
          -0.07840131177803222,
          0.1615837743256503,
          0.27099296414174867,
          0.26016192211225253,
          0.2478978414652251,
          0.06192528248850909,
          0.23252120827511946,
          0.09155502065921894,
          0.04367784765609328,
          0.3829216430354845,
          0.33400588264386,
          0.08571319196978866,
          0.35644415063951473,
          0.28976233968989606,
          0.37652256855506894,
          0.34285561815769205,
          0.30721729699744604,
          0.3346844319775576
         ]
        }
       ],
       "layout": {
        "legend": {
         "title": {
          "text": "Cluster"
         },
         "tracegroupgap": 0
        },
        "margin": {
         "b": 0,
         "l": 0,
         "r": 0,
         "t": 40
        },
        "scene": {
         "domain": {
          "x": [
           0,
           1
          ],
          "y": [
           0,
           1
          ]
         },
         "xaxis": {
          "title": {
           "text": "PC1 (39.5%)"
          }
         },
         "yaxis": {
          "title": {
           "text": "PC2 (30.2%)"
          }
         },
         "zaxis": {
          "title": {
           "text": "PC3 (14.4%)"
          }
         }
        },
        "template": {
         "data": {
          "bar": [
           {
            "error_x": {
             "color": "#2a3f5f"
            },
            "error_y": {
             "color": "#2a3f5f"
            },
            "marker": {
             "line": {
              "color": "#E5ECF6",
              "width": 0.5
             },
             "pattern": {
              "fillmode": "overlay",
              "size": 10,
              "solidity": 0.2
             }
            },
            "type": "bar"
           }
          ],
          "barpolar": [
           {
            "marker": {
             "line": {
              "color": "#E5ECF6",
              "width": 0.5
             },
             "pattern": {
              "fillmode": "overlay",
              "size": 10,
              "solidity": 0.2
             }
            },
            "type": "barpolar"
           }
          ],
          "carpet": [
           {
            "aaxis": {
             "endlinecolor": "#2a3f5f",
             "gridcolor": "white",
             "linecolor": "white",
             "minorgridcolor": "white",
             "startlinecolor": "#2a3f5f"
            },
            "baxis": {
             "endlinecolor": "#2a3f5f",
             "gridcolor": "white",
             "linecolor": "white",
             "minorgridcolor": "white",
             "startlinecolor": "#2a3f5f"
            },
            "type": "carpet"
           }
          ],
          "choropleth": [
           {
            "colorbar": {
             "outlinewidth": 0,
             "ticks": ""
            },
            "type": "choropleth"
           }
          ],
          "contour": [
           {
            "colorbar": {
             "outlinewidth": 0,
             "ticks": ""
            },
            "colorscale": [
             [
              0,
              "#0d0887"
             ],
             [
              0.1111111111111111,
              "#46039f"
             ],
             [
              0.2222222222222222,
              "#7201a8"
             ],
             [
              0.3333333333333333,
              "#9c179e"
             ],
             [
              0.4444444444444444,
              "#bd3786"
             ],
             [
              0.5555555555555556,
              "#d8576b"
             ],
             [
              0.6666666666666666,
              "#ed7953"
             ],
             [
              0.7777777777777778,
              "#fb9f3a"
             ],
             [
              0.8888888888888888,
              "#fdca26"
             ],
             [
              1,
              "#f0f921"
             ]
            ],
            "type": "contour"
           }
          ],
          "contourcarpet": [
           {
            "colorbar": {
             "outlinewidth": 0,
             "ticks": ""
            },
            "type": "contourcarpet"
           }
          ],
          "heatmap": [
           {
            "colorbar": {
             "outlinewidth": 0,
             "ticks": ""
            },
            "colorscale": [
             [
              0,
              "#0d0887"
             ],
             [
              0.1111111111111111,
              "#46039f"
             ],
             [
              0.2222222222222222,
              "#7201a8"
             ],
             [
              0.3333333333333333,
              "#9c179e"
             ],
             [
              0.4444444444444444,
              "#bd3786"
             ],
             [
              0.5555555555555556,
              "#d8576b"
             ],
             [
              0.6666666666666666,
              "#ed7953"
             ],
             [
              0.7777777777777778,
              "#fb9f3a"
             ],
             [
              0.8888888888888888,
              "#fdca26"
             ],
             [
              1,
              "#f0f921"
             ]
            ],
            "type": "heatmap"
           }
          ],
          "heatmapgl": [
           {
            "colorbar": {
             "outlinewidth": 0,
             "ticks": ""
            },
            "colorscale": [
             [
              0,
              "#0d0887"
             ],
             [
              0.1111111111111111,
              "#46039f"
             ],
             [
              0.2222222222222222,
              "#7201a8"
             ],
             [
              0.3333333333333333,
              "#9c179e"
             ],
             [
              0.4444444444444444,
              "#bd3786"
             ],
             [
              0.5555555555555556,
              "#d8576b"
             ],
             [
              0.6666666666666666,
              "#ed7953"
             ],
             [
              0.7777777777777778,
              "#fb9f3a"
             ],
             [
              0.8888888888888888,
              "#fdca26"
             ],
             [
              1,
              "#f0f921"
             ]
            ],
            "type": "heatmapgl"
           }
          ],
          "histogram": [
           {
            "marker": {
             "pattern": {
              "fillmode": "overlay",
              "size": 10,
              "solidity": 0.2
             }
            },
            "type": "histogram"
           }
          ],
          "histogram2d": [
           {
            "colorbar": {
             "outlinewidth": 0,
             "ticks": ""
            },
            "colorscale": [
             [
              0,
              "#0d0887"
             ],
             [
              0.1111111111111111,
              "#46039f"
             ],
             [
              0.2222222222222222,
              "#7201a8"
             ],
             [
              0.3333333333333333,
              "#9c179e"
             ],
             [
              0.4444444444444444,
              "#bd3786"
             ],
             [
              0.5555555555555556,
              "#d8576b"
             ],
             [
              0.6666666666666666,
              "#ed7953"
             ],
             [
              0.7777777777777778,
              "#fb9f3a"
             ],
             [
              0.8888888888888888,
              "#fdca26"
             ],
             [
              1,
              "#f0f921"
             ]
            ],
            "type": "histogram2d"
           }
          ],
          "histogram2dcontour": [
           {
            "colorbar": {
             "outlinewidth": 0,
             "ticks": ""
            },
            "colorscale": [
             [
              0,
              "#0d0887"
             ],
             [
              0.1111111111111111,
              "#46039f"
             ],
             [
              0.2222222222222222,
              "#7201a8"
             ],
             [
              0.3333333333333333,
              "#9c179e"
             ],
             [
              0.4444444444444444,
              "#bd3786"
             ],
             [
              0.5555555555555556,
              "#d8576b"
             ],
             [
              0.6666666666666666,
              "#ed7953"
             ],
             [
              0.7777777777777778,
              "#fb9f3a"
             ],
             [
              0.8888888888888888,
              "#fdca26"
             ],
             [
              1,
              "#f0f921"
             ]
            ],
            "type": "histogram2dcontour"
           }
          ],
          "mesh3d": [
           {
            "colorbar": {
             "outlinewidth": 0,
             "ticks": ""
            },
            "type": "mesh3d"
           }
          ],
          "parcoords": [
           {
            "line": {
             "colorbar": {
              "outlinewidth": 0,
              "ticks": ""
             }
            },
            "type": "parcoords"
           }
          ],
          "pie": [
           {
            "automargin": true,
            "type": "pie"
           }
          ],
          "scatter": [
           {
            "fillpattern": {
             "fillmode": "overlay",
             "size": 10,
             "solidity": 0.2
            },
            "type": "scatter"
           }
          ],
          "scatter3d": [
           {
            "line": {
             "colorbar": {
              "outlinewidth": 0,
              "ticks": ""
             }
            },
            "marker": {
             "colorbar": {
              "outlinewidth": 0,
              "ticks": ""
             }
            },
            "type": "scatter3d"
           }
          ],
          "scattercarpet": [
           {
            "marker": {
             "colorbar": {
              "outlinewidth": 0,
              "ticks": ""
             }
            },
            "type": "scattercarpet"
           }
          ],
          "scattergeo": [
           {
            "marker": {
             "colorbar": {
              "outlinewidth": 0,
              "ticks": ""
             }
            },
            "type": "scattergeo"
           }
          ],
          "scattergl": [
           {
            "marker": {
             "colorbar": {
              "outlinewidth": 0,
              "ticks": ""
             }
            },
            "type": "scattergl"
           }
          ],
          "scattermapbox": [
           {
            "marker": {
             "colorbar": {
              "outlinewidth": 0,
              "ticks": ""
             }
            },
            "type": "scattermapbox"
           }
          ],
          "scatterpolar": [
           {
            "marker": {
             "colorbar": {
              "outlinewidth": 0,
              "ticks": ""
             }
            },
            "type": "scatterpolar"
           }
          ],
          "scatterpolargl": [
           {
            "marker": {
             "colorbar": {
              "outlinewidth": 0,
              "ticks": ""
             }
            },
            "type": "scatterpolargl"
           }
          ],
          "scatterternary": [
           {
            "marker": {
             "colorbar": {
              "outlinewidth": 0,
              "ticks": ""
             }
            },
            "type": "scatterternary"
           }
          ],
          "surface": [
           {
            "colorbar": {
             "outlinewidth": 0,
             "ticks": ""
            },
            "colorscale": [
             [
              0,
              "#0d0887"
             ],
             [
              0.1111111111111111,
              "#46039f"
             ],
             [
              0.2222222222222222,
              "#7201a8"
             ],
             [
              0.3333333333333333,
              "#9c179e"
             ],
             [
              0.4444444444444444,
              "#bd3786"
             ],
             [
              0.5555555555555556,
              "#d8576b"
             ],
             [
              0.6666666666666666,
              "#ed7953"
             ],
             [
              0.7777777777777778,
              "#fb9f3a"
             ],
             [
              0.8888888888888888,
              "#fdca26"
             ],
             [
              1,
              "#f0f921"
             ]
            ],
            "type": "surface"
           }
          ],
          "table": [
           {
            "cells": {
             "fill": {
              "color": "#EBF0F8"
             },
             "line": {
              "color": "white"
             }
            },
            "header": {
             "fill": {
              "color": "#C8D4E3"
             },
             "line": {
              "color": "white"
             }
            },
            "type": "table"
           }
          ]
         },
         "layout": {
          "annotationdefaults": {
           "arrowcolor": "#2a3f5f",
           "arrowhead": 0,
           "arrowwidth": 1
          },
          "autotypenumbers": "strict",
          "coloraxis": {
           "colorbar": {
            "outlinewidth": 0,
            "ticks": ""
           }
          },
          "colorscale": {
           "diverging": [
            [
             0,
             "#8e0152"
            ],
            [
             0.1,
             "#c51b7d"
            ],
            [
             0.2,
             "#de77ae"
            ],
            [
             0.3,
             "#f1b6da"
            ],
            [
             0.4,
             "#fde0ef"
            ],
            [
             0.5,
             "#f7f7f7"
            ],
            [
             0.6,
             "#e6f5d0"
            ],
            [
             0.7,
             "#b8e186"
            ],
            [
             0.8,
             "#7fbc41"
            ],
            [
             0.9,
             "#4d9221"
            ],
            [
             1,
             "#276419"
            ]
           ],
           "sequential": [
            [
             0,
             "#0d0887"
            ],
            [
             0.1111111111111111,
             "#46039f"
            ],
            [
             0.2222222222222222,
             "#7201a8"
            ],
            [
             0.3333333333333333,
             "#9c179e"
            ],
            [
             0.4444444444444444,
             "#bd3786"
            ],
            [
             0.5555555555555556,
             "#d8576b"
            ],
            [
             0.6666666666666666,
             "#ed7953"
            ],
            [
             0.7777777777777778,
             "#fb9f3a"
            ],
            [
             0.8888888888888888,
             "#fdca26"
            ],
            [
             1,
             "#f0f921"
            ]
           ],
           "sequentialminus": [
            [
             0,
             "#0d0887"
            ],
            [
             0.1111111111111111,
             "#46039f"
            ],
            [
             0.2222222222222222,
             "#7201a8"
            ],
            [
             0.3333333333333333,
             "#9c179e"
            ],
            [
             0.4444444444444444,
             "#bd3786"
            ],
            [
             0.5555555555555556,
             "#d8576b"
            ],
            [
             0.6666666666666666,
             "#ed7953"
            ],
            [
             0.7777777777777778,
             "#fb9f3a"
            ],
            [
             0.8888888888888888,
             "#fdca26"
            ],
            [
             1,
             "#f0f921"
            ]
           ]
          },
          "colorway": [
           "#636efa",
           "#EF553B",
           "#00cc96",
           "#ab63fa",
           "#FFA15A",
           "#19d3f3",
           "#FF6692",
           "#B6E880",
           "#FF97FF",
           "#FECB52"
          ],
          "font": {
           "color": "#2a3f5f"
          },
          "geo": {
           "bgcolor": "white",
           "lakecolor": "white",
           "landcolor": "#E5ECF6",
           "showlakes": true,
           "showland": true,
           "subunitcolor": "white"
          },
          "hoverlabel": {
           "align": "left"
          },
          "hovermode": "closest",
          "mapbox": {
           "style": "light"
          },
          "paper_bgcolor": "white",
          "plot_bgcolor": "#E5ECF6",
          "polar": {
           "angularaxis": {
            "gridcolor": "white",
            "linecolor": "white",
            "ticks": ""
           },
           "bgcolor": "#E5ECF6",
           "radialaxis": {
            "gridcolor": "white",
            "linecolor": "white",
            "ticks": ""
           }
          },
          "scene": {
           "xaxis": {
            "backgroundcolor": "#E5ECF6",
            "gridcolor": "white",
            "gridwidth": 2,
            "linecolor": "white",
            "showbackground": true,
            "ticks": "",
            "zerolinecolor": "white"
           },
           "yaxis": {
            "backgroundcolor": "#E5ECF6",
            "gridcolor": "white",
            "gridwidth": 2,
            "linecolor": "white",
            "showbackground": true,
            "ticks": "",
            "zerolinecolor": "white"
           },
           "zaxis": {
            "backgroundcolor": "#E5ECF6",
            "gridcolor": "white",
            "gridwidth": 2,
            "linecolor": "white",
            "showbackground": true,
            "ticks": "",
            "zerolinecolor": "white"
           }
          },
          "shapedefaults": {
           "line": {
            "color": "#2a3f5f"
           }
          },
          "ternary": {
           "aaxis": {
            "gridcolor": "white",
            "linecolor": "white",
            "ticks": ""
           },
           "baxis": {
            "gridcolor": "white",
            "linecolor": "white",
            "ticks": ""
           },
           "bgcolor": "#E5ECF6",
           "caxis": {
            "gridcolor": "white",
            "linecolor": "white",
            "ticks": ""
           }
          },
          "title": {
           "x": 0.05
          },
          "xaxis": {
           "automargin": true,
           "gridcolor": "white",
           "linecolor": "white",
           "ticks": "",
           "title": {
            "standoff": 15
           },
           "zerolinecolor": "white",
           "zerolinewidth": 2
          },
          "yaxis": {
           "automargin": true,
           "gridcolor": "white",
           "linecolor": "white",
           "ticks": "",
           "title": {
            "standoff": 15
           },
           "zerolinecolor": "white",
           "zerolinewidth": 2
          }
         }
        },
        "title": {
         "text": "<b>3D Food Clusters Visualization</b><br>PCA Components with K-Means Clustering"
        }
       }
      }
     },
     "metadata": {},
     "output_type": "display_data"
    }
   ],
   "source": [
    "import plotly.express as px\n",
    "from sklearn.decomposition import PCA\n",
    "\n",
    "# Create 3D PCA components\n",
    "pca = PCA(n_components=3)\n",
    "pca_result = pca.fit_transform(df[features])\n",
    "df_pca = pd.DataFrame(pca_result, columns=['PC1', 'PC2', 'PC3'])\n",
    "\n",
    "# Add cluster and food info\n",
    "df_pca['cluster'] = df['cluster'].astype(str)\n",
    "df_pca['food_name'] = df['food_name']\n",
    "df_pca['protein'] = df['protein_g']  # For hover info\n",
    "df_pca['carbs'] = df['carb_g']       # For hover info\n",
    "\n",
    "# Create interactive 3D plot\n",
    "fig = px.scatter_3d(\n",
    "    df_pca,\n",
    "    x='PC1',\n",
    "    y='PC2',\n",
    "    z='PC3',\n",
    "    color='cluster',\n",
    "    hover_name='food_name',\n",
    "    hover_data=['protein', 'carbs'],\n",
    "    color_discrete_sequence=px.colors.qualitative.Vivid,\n",
    "    title='<b>3D Food Clusters Visualization</b><br>PCA Components with K-Means Clustering'\n",
    ")\n",
    "\n",
    "# Update layout with proper closing\n",
    "fig.update_layout(\n",
    "    scene=dict(\n",
    "        xaxis_title=f'PC1 ({pca.explained_variance_ratio_[0]*100:.1f}%)',\n",
    "        yaxis_title=f'PC2 ({pca.explained_variance_ratio_[1]*100:.1f}%)',\n",
    "        zaxis_title=f'PC3 ({pca.explained_variance_ratio_[2]*100:.1f}%)'\n",
    "    ),\n",
    "    margin=dict(l=0, r=0, b=0, t=40),\n",
    "    legend_title_text='Cluster'\n",
    ")\n",
    "\n",
    "# Update markers with complete syntax\n",
    "fig.update_traces(\n",
    "    marker=dict(\n",
    "        size=5,\n",
    "        line=dict(width=0.5, color='DarkSlateGrey')\n",
    "    )\n",
    ")\n",
    "\n",
    "fig.show()"
   ]
  },
  {
   "cell_type": "code",
   "execution_count": 12,
   "metadata": {},
   "outputs": [],
   "source": [
    "def cluster_based_recommend(user_profile, items_df, model, top_n=5):\n",
    "    \"\"\"\n",
    "    Cluster-based recommendation\n",
    "    \"\"\"\n",
    "    # Predict user's cluster\n",
    "    user_cluster = model.predict([user_profile[features].values])[0]\n",
    "    \n",
    "    # Get items from the same cluster\n",
    "    cluster_items = items_df[items_df['cluster'] == user_cluster]\n",
    "    \n",
    "    # Sort by health score and return top N\n",
    "    recommendations = cluster_items.sort_values('health_score', ascending=False).head(top_n)\n",
    "    \n",
    "    return recommendations\n"
   ]
  },
  {
   "cell_type": "code",
   "execution_count": 13,
   "metadata": {},
   "outputs": [
    {
     "name": "stderr",
     "output_type": "stream",
     "text": [
      "c:\\Users\\niraj\\AppData\\Local\\Programs\\Python\\Python312\\Lib\\site-packages\\sklearn\\utils\\validation.py:2739: UserWarning:\n",
      "\n",
      "X does not have valid feature names, but KMeans was fitted with feature names\n",
      "\n"
     ]
    },
    {
     "data": {
      "text/html": [
       "<div>\n",
       "<style scoped>\n",
       "    .dataframe tbody tr th:only-of-type {\n",
       "        vertical-align: middle;\n",
       "    }\n",
       "\n",
       "    .dataframe tbody tr th {\n",
       "        vertical-align: top;\n",
       "    }\n",
       "\n",
       "    .dataframe thead th {\n",
       "        text-align: right;\n",
       "    }\n",
       "</style>\n",
       "<table border=\"1\" class=\"dataframe\">\n",
       "  <thead>\n",
       "    <tr style=\"text-align: right;\">\n",
       "      <th></th>\n",
       "      <th>food_name</th>\n",
       "      <th>food_group_nin</th>\n",
       "      <th>energy_kcal</th>\n",
       "      <th>protein_g</th>\n",
       "      <th>health_score</th>\n",
       "      <th>cluster</th>\n",
       "    </tr>\n",
       "  </thead>\n",
       "  <tbody>\n",
       "    <tr>\n",
       "      <th>199</th>\n",
       "      <td>Palak and Tofu Curry</td>\n",
       "      <td>Vegan</td>\n",
       "      <td>0.436036</td>\n",
       "      <td>0.350069</td>\n",
       "      <td>0.704545</td>\n",
       "      <td>0</td>\n",
       "    </tr>\n",
       "    <tr>\n",
       "      <th>1228</th>\n",
       "      <td>Paneer and Spinach Curry</td>\n",
       "      <td>Vegetarian</td>\n",
       "      <td>0.468468</td>\n",
       "      <td>0.360000</td>\n",
       "      <td>0.666667</td>\n",
       "      <td>0</td>\n",
       "    </tr>\n",
       "    <tr>\n",
       "      <th>156</th>\n",
       "      <td>Lentil and Spinach Soup</td>\n",
       "      <td>Vegetarian</td>\n",
       "      <td>0.369369</td>\n",
       "      <td>0.294000</td>\n",
       "      <td>0.636364</td>\n",
       "      <td>0</td>\n",
       "    </tr>\n",
       "    <tr>\n",
       "      <th>1267</th>\n",
       "      <td>Grilled Paneer with Vegetable Quinoa</td>\n",
       "      <td>Vegetarian</td>\n",
       "      <td>0.468468</td>\n",
       "      <td>0.360000</td>\n",
       "      <td>0.628788</td>\n",
       "      <td>0</td>\n",
       "    </tr>\n",
       "    <tr>\n",
       "      <th>1357</th>\n",
       "      <td>Chickpea and Spinach Salad</td>\n",
       "      <td>Vegetarian</td>\n",
       "      <td>0.504505</td>\n",
       "      <td>0.400000</td>\n",
       "      <td>0.628788</td>\n",
       "      <td>0</td>\n",
       "    </tr>\n",
       "  </tbody>\n",
       "</table>\n",
       "</div>"
      ],
      "text/plain": [
       "                                 food_name food_group_nin  energy_kcal  \\\n",
       "199                   Palak and Tofu Curry          Vegan     0.436036   \n",
       "1228              Paneer and Spinach Curry     Vegetarian     0.468468   \n",
       "156                Lentil and Spinach Soup     Vegetarian     0.369369   \n",
       "1267  Grilled Paneer with Vegetable Quinoa     Vegetarian     0.468468   \n",
       "1357            Chickpea and Spinach Salad     Vegetarian     0.504505   \n",
       "\n",
       "      protein_g  health_score  cluster  \n",
       "199    0.350069      0.704545        0  \n",
       "1228   0.360000      0.666667        0  \n",
       "156    0.294000      0.636364        0  \n",
       "1267   0.360000      0.628788        0  \n",
       "1357   0.400000      0.628788        0  "
      ]
     },
     "execution_count": 13,
     "metadata": {},
     "output_type": "execute_result"
    }
   ],
   "source": [
    "# Get recommendations\n",
    "cluster_recs = cluster_based_recommend(user_profile, df, kmeans)\n",
    "cluster_recs[['food_name', 'food_group_nin', 'energy_kcal', 'protein_g', 'health_score', 'cluster']]"
   ]
  },
  {
   "cell_type": "markdown",
   "metadata": {},
   "source": [
    " Algorithm 3: Hybrid Approach (Content-Based + Popularity)"
   ]
  },
  {
   "cell_type": "code",
   "execution_count": 14,
   "metadata": {},
   "outputs": [],
   "source": [
    "def hybrid_recommend(user_profile, items_df, top_n=5, content_weight=0.7, popularity_weight=0.3):\n",
    "    \"\"\"\n",
    "    Hybrid recommendation combining content-based and popularity\n",
    "    \"\"\"\n",
    "    # Content-based similarity\n",
    "    content_sim = cosine_similarity(\n",
    "        [user_profile[features].values],\n",
    "        items_df[features].values\n",
    "    )[0]\n",
    "    \n",
    "    # Popularity score (using health_score as proxy)\n",
    "    popularity = items_df['health_score'].values\n",
    "    \n",
    "    # Combine scores\n",
    "    combined_scores = (content_weight * content_sim) + (popularity_weight * popularity)\n",
    "    \n",
    "    # Get top N items\n",
    "    top_indices = np.argsort(combined_scores)[-top_n:][::-1]\n",
    "    recommendations = items_df.iloc[top_indices]\n",
    "    \n",
    "    return recommendations"
   ]
  },
  {
   "cell_type": "code",
   "execution_count": 15,
   "metadata": {},
   "outputs": [
    {
     "data": {
      "text/plain": [
       "energy_kcal              0.5\n",
       "protein_g                0.8\n",
       "carb_g                   0.4\n",
       "fat_g                    0.3\n",
       "fibre_g                  0.7\n",
       "protein_calorie_ratio    0.7\n",
       "nutrient_score           0.9\n",
       "health_score             0.9\n",
       "diversity_score          0.5\n",
       "dtype: float64"
      ]
     },
     "execution_count": 15,
     "metadata": {},
     "output_type": "execute_result"
    }
   ],
   "source": [
    "user_profile"
   ]
  },
  {
   "cell_type": "code",
   "execution_count": 16,
   "metadata": {},
   "outputs": [
    {
     "data": {
      "text/html": [
       "<div>\n",
       "<style scoped>\n",
       "    .dataframe tbody tr th:only-of-type {\n",
       "        vertical-align: middle;\n",
       "    }\n",
       "\n",
       "    .dataframe tbody tr th {\n",
       "        vertical-align: top;\n",
       "    }\n",
       "\n",
       "    .dataframe thead th {\n",
       "        text-align: right;\n",
       "    }\n",
       "</style>\n",
       "<table border=\"1\" class=\"dataframe\">\n",
       "  <thead>\n",
       "    <tr style=\"text-align: right;\">\n",
       "      <th></th>\n",
       "      <th>food_name</th>\n",
       "      <th>food_group_nin</th>\n",
       "      <th>energy_kcal</th>\n",
       "      <th>protein_g</th>\n",
       "      <th>health_score</th>\n",
       "    </tr>\n",
       "  </thead>\n",
       "  <tbody>\n",
       "    <tr>\n",
       "      <th>169</th>\n",
       "      <td>Tempeh and Tofu Stir-Fry</td>\n",
       "      <td>Vegan</td>\n",
       "      <td>0.637838</td>\n",
       "      <td>0.630400</td>\n",
       "      <td>1.000000</td>\n",
       "    </tr>\n",
       "    <tr>\n",
       "      <th>198</th>\n",
       "      <td>Grilled Tofu with Hummus</td>\n",
       "      <td>Vegan</td>\n",
       "      <td>0.623423</td>\n",
       "      <td>0.551429</td>\n",
       "      <td>0.920455</td>\n",
       "    </tr>\n",
       "    <tr>\n",
       "      <th>200</th>\n",
       "      <td>Grilled Tempeh with Steamed Veggies</td>\n",
       "      <td>Non-Vegetarian</td>\n",
       "      <td>0.655856</td>\n",
       "      <td>0.577143</td>\n",
       "      <td>0.924242</td>\n",
       "    </tr>\n",
       "    <tr>\n",
       "      <th>176</th>\n",
       "      <td>Vegan Tempeh Stir-Fry with Veggies</td>\n",
       "      <td>Non-Vegetarian</td>\n",
       "      <td>0.652252</td>\n",
       "      <td>0.528947</td>\n",
       "      <td>0.897727</td>\n",
       "    </tr>\n",
       "    <tr>\n",
       "      <th>182</th>\n",
       "      <td>Tofu and Chickpea Burger</td>\n",
       "      <td>Vegan</td>\n",
       "      <td>0.760360</td>\n",
       "      <td>0.577500</td>\n",
       "      <td>0.935606</td>\n",
       "    </tr>\n",
       "  </tbody>\n",
       "</table>\n",
       "</div>"
      ],
      "text/plain": [
       "                               food_name  food_group_nin  energy_kcal  \\\n",
       "169             Tempeh and Tofu Stir-Fry           Vegan     0.637838   \n",
       "198             Grilled Tofu with Hummus           Vegan     0.623423   \n",
       "200  Grilled Tempeh with Steamed Veggies  Non-Vegetarian     0.655856   \n",
       "176   Vegan Tempeh Stir-Fry with Veggies  Non-Vegetarian     0.652252   \n",
       "182             Tofu and Chickpea Burger           Vegan     0.760360   \n",
       "\n",
       "     protein_g  health_score  \n",
       "169   0.630400      1.000000  \n",
       "198   0.551429      0.920455  \n",
       "200   0.577143      0.924242  \n",
       "176   0.528947      0.897727  \n",
       "182   0.577500      0.935606  "
      ]
     },
     "execution_count": 16,
     "metadata": {},
     "output_type": "execute_result"
    }
   ],
   "source": [
    "# Get recommendations\n",
    "hybrid_recs = hybrid_recommend(user_profile, df)\n",
    "hybrid_recs[['food_name', 'food_group_nin', 'energy_kcal', 'protein_g', 'health_score']]"
   ]
  },
  {
   "cell_type": "markdown",
   "metadata": {},
   "source": [
    "                Comparative Analysis"
   ]
  },
  {
   "cell_type": "code",
   "execution_count": 17,
   "metadata": {},
   "outputs": [],
   "source": [
    "def evaluate_recommendations(recommendations, ideal_profile):\n",
    "    \"\"\"\n",
    "    Evaluate how well recommendations match ideal nutritional profile\n",
    "    \"\"\"\n",
    "    # Calculate MAE for each feature\n",
    "    errors = {}\n",
    "    for feature in features:\n",
    "        errors[feature] = mean_absolute_error(\n",
    "            [ideal_profile[feature]] * len(recommendations),\n",
    "            recommendations[feature]\n",
    "        )\n",
    "    \n",
    "    # Calculate overall score (lower is better)\n",
    "    overall_score = np.mean(list(errors.values()))\n",
    "    \n",
    "    return errors, overall_score"
   ]
  },
  {
   "cell_type": "code",
   "execution_count": 18,
   "metadata": {},
   "outputs": [],
   "source": [
    "# Evaluate all three approaches\n",
    "content_errors, content_score = evaluate_recommendations(content_recs, user_profile)\n",
    "cluster_errors, cluster_score = evaluate_recommendations(cluster_recs, user_profile)\n",
    "hybrid_errors, hybrid_score = evaluate_recommendations(hybrid_recs, user_profile)"
   ]
  },
  {
   "cell_type": "code",
   "execution_count": 19,
   "metadata": {},
   "outputs": [],
   "source": [
    "# Create comparison dataframe\n",
    "comparison = pd.DataFrame({\n",
    "    'Content-Based': content_errors,\n",
    "    'Clustering': cluster_errors,\n",
    "    'Hybrid': hybrid_errors\n",
    "})\n",
    "# Add overall scores\n",
    "comparison.loc['OVERALL'] = [content_score, cluster_score, hybrid_score]"
   ]
  },
  {
   "cell_type": "code",
   "execution_count": 20,
   "metadata": {},
   "outputs": [
    {
     "data": {
      "text/plain": [
       "<Figure size 1200x600 with 0 Axes>"
      ]
     },
     "metadata": {},
     "output_type": "display_data"
    },
    {
     "data": {
      "image/png": "[encoded data removed]",
      "text/plain": [
       "<Figure size 1200x600 with 1 Axes>"
      ]
     },
     "metadata": {},
     "output_type": "display_data"
    }
   ],
   "source": [
    "# Visualize comparison\n",
    "plt.figure(figsize=(12, 6))\n",
    "comparison[:-1].plot(kind='bar', figsize=(12, 6))  # Exclude overall score\n",
    "plt.title('Feature-wise MAE Comparison')\n",
    "plt.ylabel('Mean Absolute Error')\n",
    "plt.xticks(rotation=45)\n",
    "plt.show()\n"
   ]
  },
  {
   "cell_type": "code",
   "execution_count": 21,
   "metadata": {},
   "outputs": [
    {
     "data": {
      "image/png": "[encoded data removed]",
      "text/plain": [
       "<Figure size 800x500 with 1 Axes>"
      ]
     },
     "metadata": {},
     "output_type": "display_data"
    }
   ],
   "source": [
    "# Plot overall scores\n",
    "plt.figure(figsize=(8, 5))\n",
    "sns.barplot(x=['Content-Based', 'Clustering', 'Hybrid'], \n",
    "            y=[content_score, cluster_score, hybrid_score])\n",
    "plt.title('Overall Recommendation Quality (Lower is Better)')\n",
    "plt.ylabel('Mean Absolute Error')\n",
    "plt.show()"
   ]
  },
  {
   "cell_type": "code",
   "execution_count": 22,
   "metadata": {},
   "outputs": [
    {
     "name": "stdout",
     "output_type": "stream",
     "text": [
      "Content-Based Recommendations:\n"
     ]
    },
    {
     "data": {
      "text/html": [
       "<div>\n",
       "<style scoped>\n",
       "    .dataframe tbody tr th:only-of-type {\n",
       "        vertical-align: middle;\n",
       "    }\n",
       "\n",
       "    .dataframe tbody tr th {\n",
       "        vertical-align: top;\n",
       "    }\n",
       "\n",
       "    .dataframe thead th {\n",
       "        text-align: right;\n",
       "    }\n",
       "</style>\n",
       "<table border=\"1\" class=\"dataframe\">\n",
       "  <thead>\n",
       "    <tr style=\"text-align: right;\">\n",
       "      <th></th>\n",
       "      <th>food_name</th>\n",
       "      <th>food_group_nin</th>\n",
       "      <th>energy_kcal</th>\n",
       "      <th>protein_g</th>\n",
       "      <th>health_score</th>\n",
       "    </tr>\n",
       "  </thead>\n",
       "  <tbody>\n",
       "    <tr>\n",
       "      <th>1160</th>\n",
       "      <td>Grilled Tempeh</td>\n",
       "      <td>Vegetarian</td>\n",
       "      <td>0.324324</td>\n",
       "      <td>0.40</td>\n",
       "      <td>0.55303</td>\n",
       "    </tr>\n",
       "    <tr>\n",
       "      <th>1239</th>\n",
       "      <td>Vegetable and Chicken Soup</td>\n",
       "      <td>Non-Vegetarian</td>\n",
       "      <td>0.324324</td>\n",
       "      <td>0.36</td>\n",
       "      <td>0.55303</td>\n",
       "    </tr>\n",
       "    <tr>\n",
       "      <th>1184</th>\n",
       "      <td>Grilled Tofu Skewers</td>\n",
       "      <td>Vegetarian</td>\n",
       "      <td>0.252252</td>\n",
       "      <td>0.30</td>\n",
       "      <td>0.55303</td>\n",
       "    </tr>\n",
       "  </tbody>\n",
       "</table>\n",
       "</div>"
      ],
      "text/plain": [
       "                       food_name  food_group_nin  energy_kcal  protein_g  \\\n",
       "1160              Grilled Tempeh      Vegetarian     0.324324       0.40   \n",
       "1239  Vegetable and Chicken Soup  Non-Vegetarian     0.324324       0.36   \n",
       "1184        Grilled Tofu Skewers      Vegetarian     0.252252       0.30   \n",
       "\n",
       "      health_score  \n",
       "1160       0.55303  \n",
       "1239       0.55303  \n",
       "1184       0.55303  "
      ]
     },
     "metadata": {},
     "output_type": "display_data"
    },
    {
     "name": "stdout",
     "output_type": "stream",
     "text": [
      "\n",
      "Clustering Recommendations:\n"
     ]
    },
    {
     "data": {
      "text/html": [
       "<div>\n",
       "<style scoped>\n",
       "    .dataframe tbody tr th:only-of-type {\n",
       "        vertical-align: middle;\n",
       "    }\n",
       "\n",
       "    .dataframe tbody tr th {\n",
       "        vertical-align: top;\n",
       "    }\n",
       "\n",
       "    .dataframe thead th {\n",
       "        text-align: right;\n",
       "    }\n",
       "</style>\n",
       "<table border=\"1\" class=\"dataframe\">\n",
       "  <thead>\n",
       "    <tr style=\"text-align: right;\">\n",
       "      <th></th>\n",
       "      <th>food_name</th>\n",
       "      <th>food_group_nin</th>\n",
       "      <th>energy_kcal</th>\n",
       "      <th>protein_g</th>\n",
       "      <th>health_score</th>\n",
       "    </tr>\n",
       "  </thead>\n",
       "  <tbody>\n",
       "    <tr>\n",
       "      <th>199</th>\n",
       "      <td>Palak and Tofu Curry</td>\n",
       "      <td>Vegan</td>\n",
       "      <td>0.436036</td>\n",
       "      <td>0.350069</td>\n",
       "      <td>0.704545</td>\n",
       "    </tr>\n",
       "    <tr>\n",
       "      <th>1228</th>\n",
       "      <td>Paneer and Spinach Curry</td>\n",
       "      <td>Vegetarian</td>\n",
       "      <td>0.468468</td>\n",
       "      <td>0.360000</td>\n",
       "      <td>0.666667</td>\n",
       "    </tr>\n",
       "    <tr>\n",
       "      <th>156</th>\n",
       "      <td>Lentil and Spinach Soup</td>\n",
       "      <td>Vegetarian</td>\n",
       "      <td>0.369369</td>\n",
       "      <td>0.294000</td>\n",
       "      <td>0.636364</td>\n",
       "    </tr>\n",
       "  </tbody>\n",
       "</table>\n",
       "</div>"
      ],
      "text/plain": [
       "                     food_name food_group_nin  energy_kcal  protein_g  \\\n",
       "199       Palak and Tofu Curry          Vegan     0.436036   0.350069   \n",
       "1228  Paneer and Spinach Curry     Vegetarian     0.468468   0.360000   \n",
       "156    Lentil and Spinach Soup     Vegetarian     0.369369   0.294000   \n",
       "\n",
       "      health_score  \n",
       "199       0.704545  \n",
       "1228      0.666667  \n",
       "156       0.636364  "
      ]
     },
     "metadata": {},
     "output_type": "display_data"
    },
    {
     "name": "stdout",
     "output_type": "stream",
     "text": [
      "\n",
      "Hybrid Recommendations:\n"
     ]
    },
    {
     "data": {
      "text/html": [
       "<div>\n",
       "<style scoped>\n",
       "    .dataframe tbody tr th:only-of-type {\n",
       "        vertical-align: middle;\n",
       "    }\n",
       "\n",
       "    .dataframe tbody tr th {\n",
       "        vertical-align: top;\n",
       "    }\n",
       "\n",
       "    .dataframe thead th {\n",
       "        text-align: right;\n",
       "    }\n",
       "</style>\n",
       "<table border=\"1\" class=\"dataframe\">\n",
       "  <thead>\n",
       "    <tr style=\"text-align: right;\">\n",
       "      <th></th>\n",
       "      <th>food_name</th>\n",
       "      <th>food_group_nin</th>\n",
       "      <th>energy_kcal</th>\n",
       "      <th>protein_g</th>\n",
       "      <th>health_score</th>\n",
       "    </tr>\n",
       "  </thead>\n",
       "  <tbody>\n",
       "    <tr>\n",
       "      <th>169</th>\n",
       "      <td>Tempeh and Tofu Stir-Fry</td>\n",
       "      <td>Vegan</td>\n",
       "      <td>0.637838</td>\n",
       "      <td>0.630400</td>\n",
       "      <td>1.000000</td>\n",
       "    </tr>\n",
       "    <tr>\n",
       "      <th>198</th>\n",
       "      <td>Grilled Tofu with Hummus</td>\n",
       "      <td>Vegan</td>\n",
       "      <td>0.623423</td>\n",
       "      <td>0.551429</td>\n",
       "      <td>0.920455</td>\n",
       "    </tr>\n",
       "    <tr>\n",
       "      <th>200</th>\n",
       "      <td>Grilled Tempeh with Steamed Veggies</td>\n",
       "      <td>Non-Vegetarian</td>\n",
       "      <td>0.655856</td>\n",
       "      <td>0.577143</td>\n",
       "      <td>0.924242</td>\n",
       "    </tr>\n",
       "  </tbody>\n",
       "</table>\n",
       "</div>"
      ],
      "text/plain": [
       "                               food_name  food_group_nin  energy_kcal  \\\n",
       "169             Tempeh and Tofu Stir-Fry           Vegan     0.637838   \n",
       "198             Grilled Tofu with Hummus           Vegan     0.623423   \n",
       "200  Grilled Tempeh with Steamed Veggies  Non-Vegetarian     0.655856   \n",
       "\n",
       "     protein_g  health_score  \n",
       "169   0.630400      1.000000  \n",
       "198   0.551429      0.920455  \n",
       "200   0.577143      0.924242  "
      ]
     },
     "metadata": {},
     "output_type": "display_data"
    }
   ],
   "source": [
    "# Show sample recommendations from each approach\n",
    "print(\"Content-Based Recommendations:\")\n",
    "display(content_recs[['food_name', 'food_group_nin', 'energy_kcal', 'protein_g', 'health_score']].head(3))\n",
    "\n",
    "print(\"\\nClustering Recommendations:\")\n",
    "display(cluster_recs[['food_name', 'food_group_nin', 'energy_kcal', 'protein_g', 'health_score']].head(3))\n",
    "\n",
    "print(\"\\nHybrid Recommendations:\")\n",
    "display(hybrid_recs[['food_name', 'food_group_nin', 'energy_kcal', 'protein_g', 'health_score']].head(3))"
   ]
  },
  {
   "cell_type": "markdown",
   "metadata": {},
   "source": [
    "Evaluation Metrics"
   ]
  },
  {
   "cell_type": "code",
   "execution_count": 23,
   "metadata": {},
   "outputs": [],
   "source": [
    "from sklearn.metrics import mean_squared_error, r2_score\n",
    "\n",
    "def enhanced_evaluation(recommendations, ideal_profile):\n",
    "    \"\"\"Calculate multiple metrics for deeper insights\"\"\"\n",
    "    metrics = {}\n",
    "    \n",
    "    # Feature-wise metrics\n",
    "    for feature in features:\n",
    "        metrics[f'{feature}_MAE'] = mean_absolute_error(\n",
    "            [ideal_profile[feature]] * len(recommendations),\n",
    "            recommendations[feature]\n",
    "        )\n",
    "        metrics[f'{feature}_MSE'] = mean_squared_error(\n",
    "            [ideal_profile[feature]] * len(recommendations),\n",
    "            recommendations[feature]\n",
    "        )\n",
    "    \n",
    "    # Overall metrics\n",
    "    avg_features = recommendations[features].mean().values\n",
    "    metrics['R2_Score'] = r2_score(\n",
    "        [ideal_profile[features].values] * len(recommendations),\n",
    "        recommendations[features]\n",
    "    )\n",
    "    metrics['Diversity'] = recommendations['food_group_nin'].nunique() / len(recommendations)\n",
    "    \n",
    "    return metrics\n",
    "\n",
    "# Evaluate all approaches\n",
    "content_metrics = enhanced_evaluation(content_recs, user_profile)\n",
    "cluster_metrics = enhanced_evaluation(cluster_recs, user_profile)\n",
    "hybrid_metrics = enhanced_evaluation(hybrid_recs, user_profile)\n",
    "\n",
    "# Create comparison dataframe\n",
    "comparison_enhanced = pd.DataFrame({\n",
    "    'Content-Based': content_metrics,\n",
    "    'Clustering': cluster_metrics,\n",
    "    'Hybrid': hybrid_metrics\n",
    "}).T"
   ]
  },
  {
   "cell_type": "markdown",
   "metadata": {},
   "source": [
    "Radar Chart for Feature-wise Comparison"
   ]
  },
  {
   "cell_type": "code",
   "execution_count": 24,
   "metadata": {},
   "outputs": [
    {
     "data": {
      "application/vnd.plotly.v1+json": {
       "config": {
        "plotlyServerURL": "https://plot.ly"
       },
       "data": [
        {
         "hovertemplate": "Algorithm=Content-Based<br>MAE (Normalized)=%{r}<br>Feature=%{theta}<extra></extra>",
         "legendgroup": "Content-Based",
         "line": {
          "color": "#636efa",
          "dash": "solid"
         },
         "marker": {
          "symbol": "circle"
         },
         "mode": "lines",
         "name": "Content-Based",
         "r": [
          1,
          0.9749853490839483,
          0.6500500204640797,
          0.1834858266693974,
          1,
          0.7460993756607424,
          1
         ],
         "showlegend": true,
         "subplot": "polar",
         "theta": [
          "energy_kcal",
          "protein_g",
          "carb_g",
          "fat_g",
          "fibre_g",
          "protein_calorie_ratio",
          "energy_kcal"
         ],
         "type": "scatterpolar"
        },
        {
         "hovertemplate": "Algorithm=Clustering<br>MAE (Normalized)=%{r}<br>Feature=%{theta}<extra></extra>",
         "legendgroup": "Clustering",
         "line": {
          "color": "#EF553B",
          "dash": "solid"
         },
         "marker": {
          "symbol": "circle"
         },
         "mode": "lines",
         "name": "Clustering",
         "r": [
          0.2984615380967557,
          1,
          0.3751604725333231,
          0.4849569262233273,
          0.6330983083882918,
          1,
          0.2984615380967557
         ],
         "showlegend": true,
         "subplot": "polar",
         "theta": [
          "energy_kcal",
          "protein_g",
          "carb_g",
          "fat_g",
          "fibre_g",
          "protein_calorie_ratio",
          "energy_kcal"
         ],
         "type": "scatterpolar"
        },
        {
         "hovertemplate": "Algorithm=Hybrid<br>MAE (Normalized)=%{r}<br>Feature=%{theta}<extra></extra>",
         "legendgroup": "Hybrid",
         "line": {
          "color": "#00cc96",
          "dash": "solid"
         },
         "marker": {
          "symbol": "circle"
         },
         "mode": "lines",
         "name": "Hybrid",
         "r": [
          0.9446153849359196,
          0.5074312157268666,
          1,
          1,
          0.6966608413062281,
          0.8922265270620752,
          0.9446153849359196
         ],
         "showlegend": true,
         "subplot": "polar",
         "theta": [
          "energy_kcal",
          "protein_g",
          "carb_g",
          "fat_g",
          "fibre_g",
          "protein_calorie_ratio",
          "energy_kcal"
         ],
         "type": "scatterpolar"
        }
       ],
       "layout": {
        "height": 600,
        "legend": {
         "orientation": "h",
         "title": {
          "text": "Algorithm"
         },
         "tracegroupgap": 0,
         "x": 1,
         "xanchor": "right",
         "y": 1.02,
         "yanchor": "bottom"
        },
        "polar": {
         "angularaxis": {
          "direction": "clockwise",
          "rotation": 90
         },
         "domain": {
          "x": [
           0,
           1
          ],
          "y": [
           0,
           1
          ]
         },
         "radialaxis": {
          "range": [
           0,
           1.1
          ],
          "visible": true
         }
        },
        "showlegend": true,
        "template": {
         "data": {
          "bar": [
           {
            "error_x": {
             "color": "#f2f5fa"
            },
            "error_y": {
             "color": "#f2f5fa"
            },
            "marker": {
             "line": {
              "color": "rgb(17,17,17)",
              "width": 0.5
             },
             "pattern": {
              "fillmode": "overlay",
              "size": 10,
              "solidity": 0.2
             }
            },
            "type": "bar"
           }
          ],
          "barpolar": [
           {
            "marker": {
             "line": {
              "color": "rgb(17,17,17)",
              "width": 0.5
             },
             "pattern": {
              "fillmode": "overlay",
              "size": 10,
              "solidity": 0.2
             }
            },
            "type": "barpolar"
           }
          ],
          "carpet": [
           {
            "aaxis": {
             "endlinecolor": "#A2B1C6",
             "gridcolor": "#506784",
             "linecolor": "#506784",
             "minorgridcolor": "#506784",
             "startlinecolor": "#A2B1C6"
            },
            "baxis": {
             "endlinecolor": "#A2B1C6",
             "gridcolor": "#506784",
             "linecolor": "#506784",
             "minorgridcolor": "#506784",
             "startlinecolor": "#A2B1C6"
            },
            "type": "carpet"
           }
          ],
          "choropleth": [
           {
            "colorbar": {
             "outlinewidth": 0,
             "ticks": ""
            },
            "type": "choropleth"
           }
          ],
          "contour": [
           {
            "colorbar": {
             "outlinewidth": 0,
             "ticks": ""
            },
            "colorscale": [
             [
              0,
              "#0d0887"
             ],
             [
              0.1111111111111111,
              "#46039f"
             ],
             [
              0.2222222222222222,
              "#7201a8"
             ],
             [
              0.3333333333333333,
              "#9c179e"
             ],
             [
              0.4444444444444444,
              "#bd3786"
             ],
             [
              0.5555555555555556,
              "#d8576b"
             ],
             [
              0.6666666666666666,
              "#ed7953"
             ],
             [
              0.7777777777777778,
              "#fb9f3a"
             ],
             [
              0.8888888888888888,
              "#fdca26"
             ],
             [
              1,
              "#f0f921"
             ]
            ],
            "type": "contour"
           }
          ],
          "contourcarpet": [
           {
            "colorbar": {
             "outlinewidth": 0,
             "ticks": ""
            },
            "type": "contourcarpet"
           }
          ],
          "heatmap": [
           {
            "colorbar": {
             "outlinewidth": 0,
             "ticks": ""
            },
            "colorscale": [
             [
              0,
              "#0d0887"
             ],
             [
              0.1111111111111111,
              "#46039f"
             ],
             [
              0.2222222222222222,
              "#7201a8"
             ],
             [
              0.3333333333333333,
              "#9c179e"
             ],
             [
              0.4444444444444444,
              "#bd3786"
             ],
             [
              0.5555555555555556,
              "#d8576b"
             ],
             [
              0.6666666666666666,
              "#ed7953"
             ],
             [
              0.7777777777777778,
              "#fb9f3a"
             ],
             [
              0.8888888888888888,
              "#fdca26"
             ],
             [
              1,
              "#f0f921"
             ]
            ],
            "type": "heatmap"
           }
          ],
          "heatmapgl": [
           {
            "colorbar": {
             "outlinewidth": 0,
             "ticks": ""
            },
            "colorscale": [
             [
              0,
              "#0d0887"
             ],
             [
              0.1111111111111111,
              "#46039f"
             ],
             [
              0.2222222222222222,
              "#7201a8"
             ],
             [
              0.3333333333333333,
              "#9c179e"
             ],
             [
              0.4444444444444444,
              "#bd3786"
             ],
             [
              0.5555555555555556,
              "#d8576b"
             ],
             [
              0.6666666666666666,
              "#ed7953"
             ],
             [
              0.7777777777777778,
              "#fb9f3a"
             ],
             [
              0.8888888888888888,
              "#fdca26"
             ],
             [
              1,
              "#f0f921"
             ]
            ],
            "type": "heatmapgl"
           }
          ],
          "histogram": [
           {
            "marker": {
             "pattern": {
              "fillmode": "overlay",
              "size": 10,
              "solidity": 0.2
             }
            },
            "type": "histogram"
           }
          ],
          "histogram2d": [
           {
            "colorbar": {
             "outlinewidth": 0,
             "ticks": ""
            },
            "colorscale": [
             [
              0,
              "#0d0887"
             ],
             [
              0.1111111111111111,
              "#46039f"
             ],
             [
              0.2222222222222222,
              "#7201a8"
             ],
             [
              0.3333333333333333,
              "#9c179e"
             ],
             [
              0.4444444444444444,
              "#bd3786"
             ],
             [
              0.5555555555555556,
              "#d8576b"
             ],
             [
              0.6666666666666666,
              "#ed7953"
             ],
             [
              0.7777777777777778,
              "#fb9f3a"
             ],
             [
              0.8888888888888888,
              "#fdca26"
             ],
             [
              1,
              "#f0f921"
             ]
            ],
            "type": "histogram2d"
           }
          ],
          "histogram2dcontour": [
           {
            "colorbar": {
             "outlinewidth": 0,
             "ticks": ""
            },
            "colorscale": [
             [
              0,
              "#0d0887"
             ],
             [
              0.1111111111111111,
              "#46039f"
             ],
             [
              0.2222222222222222,
              "#7201a8"
             ],
             [
              0.3333333333333333,
              "#9c179e"
             ],
             [
              0.4444444444444444,
              "#bd3786"
             ],
             [
              0.5555555555555556,
              "#d8576b"
             ],
             [
              0.6666666666666666,
              "#ed7953"
             ],
             [
              0.7777777777777778,
              "#fb9f3a"
             ],
             [
              0.8888888888888888,
              "#fdca26"
             ],
             [
              1,
              "#f0f921"
             ]
            ],
            "type": "histogram2dcontour"
           }
          ],
          "mesh3d": [
           {
            "colorbar": {
             "outlinewidth": 0,
             "ticks": ""
            },
            "type": "mesh3d"
           }
          ],
          "parcoords": [
           {
            "line": {
             "colorbar": {
              "outlinewidth": 0,
              "ticks": ""
             }
            },
            "type": "parcoords"
           }
          ],
          "pie": [
           {
            "automargin": true,
            "type": "pie"
           }
          ],
          "scatter": [
           {
            "marker": {
             "line": {
              "color": "#283442"
             }
            },
            "type": "scatter"
           }
          ],
          "scatter3d": [
           {
            "line": {
             "colorbar": {
              "outlinewidth": 0,
              "ticks": ""
             }
            },
            "marker": {
             "colorbar": {
              "outlinewidth": 0,
              "ticks": ""
             }
            },
            "type": "scatter3d"
           }
          ],
          "scattercarpet": [
           {
            "marker": {
             "colorbar": {
              "outlinewidth": 0,
              "ticks": ""
             }
            },
            "type": "scattercarpet"
           }
          ],
          "scattergeo": [
           {
            "marker": {
             "colorbar": {
              "outlinewidth": 0,
              "ticks": ""
             }
            },
            "type": "scattergeo"
           }
          ],
          "scattergl": [
           {
            "marker": {
             "line": {
              "color": "#283442"
             }
            },
            "type": "scattergl"
           }
          ],
          "scattermapbox": [
           {
            "marker": {
             "colorbar": {
              "outlinewidth": 0,
              "ticks": ""
             }
            },
            "type": "scattermapbox"
           }
          ],
          "scatterpolar": [
           {
            "marker": {
             "colorbar": {
              "outlinewidth": 0,
              "ticks": ""
             }
            },
            "type": "scatterpolar"
           }
          ],
          "scatterpolargl": [
           {
            "marker": {
             "colorbar": {
              "outlinewidth": 0,
              "ticks": ""
             }
            },
            "type": "scatterpolargl"
           }
          ],
          "scatterternary": [
           {
            "marker": {
             "colorbar": {
              "outlinewidth": 0,
              "ticks": ""
             }
            },
            "type": "scatterternary"
           }
          ],
          "surface": [
           {
            "colorbar": {
             "outlinewidth": 0,
             "ticks": ""
            },
            "colorscale": [
             [
              0,
              "#0d0887"
             ],
             [
              0.1111111111111111,
              "#46039f"
             ],
             [
              0.2222222222222222,
              "#7201a8"
             ],
             [
              0.3333333333333333,
              "#9c179e"
             ],
             [
              0.4444444444444444,
              "#bd3786"
             ],
             [
              0.5555555555555556,
              "#d8576b"
             ],
             [
              0.6666666666666666,
              "#ed7953"
             ],
             [
              0.7777777777777778,
              "#fb9f3a"
             ],
             [
              0.8888888888888888,
              "#fdca26"
             ],
             [
              1,
              "#f0f921"
             ]
            ],
            "type": "surface"
           }
          ],
          "table": [
           {
            "cells": {
             "fill": {
              "color": "#506784"
             },
             "line": {
              "color": "rgb(17,17,17)"
             }
            },
            "header": {
             "fill": {
              "color": "#2a3f5f"
             },
             "line": {
              "color": "rgb(17,17,17)"
             }
            },
            "type": "table"
           }
          ]
         },
         "layout": {
          "annotationdefaults": {
           "arrowcolor": "#f2f5fa",
           "arrowhead": 0,
           "arrowwidth": 1
          },
          "autotypenumbers": "strict",
          "coloraxis": {
           "colorbar": {
            "outlinewidth": 0,
            "ticks": ""
           }
          },
          "colorscale": {
           "diverging": [
            [
             0,
             "#8e0152"
            ],
            [
             0.1,
             "#c51b7d"
            ],
            [
             0.2,
             "#de77ae"
            ],
            [
             0.3,
             "#f1b6da"
            ],
            [
             0.4,
             "#fde0ef"
            ],
            [
             0.5,
             "#f7f7f7"
            ],
            [
             0.6,
             "#e6f5d0"
            ],
            [
             0.7,
             "#b8e186"
            ],
            [
             0.8,
             "#7fbc41"
            ],
            [
             0.9,
             "#4d9221"
            ],
            [
             1,
             "#276419"
            ]
           ],
           "sequential": [
            [
             0,
             "#0d0887"
            ],
            [
             0.1111111111111111,
             "#46039f"
            ],
            [
             0.2222222222222222,
             "#7201a8"
            ],
            [
             0.3333333333333333,
             "#9c179e"
            ],
            [
             0.4444444444444444,
             "#bd3786"
            ],
            [
             0.5555555555555556,
             "#d8576b"
            ],
            [
             0.6666666666666666,
             "#ed7953"
            ],
            [
             0.7777777777777778,
             "#fb9f3a"
            ],
            [
             0.8888888888888888,
             "#fdca26"
            ],
            [
             1,
             "#f0f921"
            ]
           ],
           "sequentialminus": [
            [
             0,
             "#0d0887"
            ],
            [
             0.1111111111111111,
             "#46039f"
            ],
            [
             0.2222222222222222,
             "#7201a8"
            ],
            [
             0.3333333333333333,
             "#9c179e"
            ],
            [
             0.4444444444444444,
             "#bd3786"
            ],
            [
             0.5555555555555556,
             "#d8576b"
            ],
            [
             0.6666666666666666,
             "#ed7953"
            ],
            [
             0.7777777777777778,
             "#fb9f3a"
            ],
            [
             0.8888888888888888,
             "#fdca26"
            ],
            [
             1,
             "#f0f921"
            ]
           ]
          },
          "colorway": [
           "#636efa",
           "#EF553B",
           "#00cc96",
           "#ab63fa",
           "#FFA15A",
           "#19d3f3",
           "#FF6692",
           "#B6E880",
           "#FF97FF",
           "#FECB52"
          ],
          "font": {
           "color": "#f2f5fa"
          },
          "geo": {
           "bgcolor": "rgb(17,17,17)",
           "lakecolor": "rgb(17,17,17)",
           "landcolor": "rgb(17,17,17)",
           "showlakes": true,
           "showland": true,
           "subunitcolor": "#506784"
          },
          "hoverlabel": {
           "align": "left"
          },
          "hovermode": "closest",
          "mapbox": {
           "style": "dark"
          },
          "paper_bgcolor": "rgb(17,17,17)",
          "plot_bgcolor": "rgb(17,17,17)",
          "polar": {
           "angularaxis": {
            "gridcolor": "#506784",
            "linecolor": "#506784",
            "ticks": ""
           },
           "bgcolor": "rgb(17,17,17)",
           "radialaxis": {
            "gridcolor": "#506784",
            "linecolor": "#506784",
            "ticks": ""
           }
          },
          "scene": {
           "xaxis": {
            "backgroundcolor": "rgb(17,17,17)",
            "gridcolor": "#506784",
            "gridwidth": 2,
            "linecolor": "#506784",
            "showbackground": true,
            "ticks": "",
            "zerolinecolor": "#C8D4E3"
           },
           "yaxis": {
            "backgroundcolor": "rgb(17,17,17)",
            "gridcolor": "#506784",
            "gridwidth": 2,
            "linecolor": "#506784",
            "showbackground": true,
            "ticks": "",
            "zerolinecolor": "#C8D4E3"
           },
           "zaxis": {
            "backgroundcolor": "rgb(17,17,17)",
            "gridcolor": "#506784",
            "gridwidth": 2,
            "linecolor": "#506784",
            "showbackground": true,
            "ticks": "",
            "zerolinecolor": "#C8D4E3"
           }
          },
          "shapedefaults": {
           "line": {
            "color": "#f2f5fa"
           }
          },
          "sliderdefaults": {
           "bgcolor": "#C8D4E3",
           "bordercolor": "rgb(17,17,17)",
           "borderwidth": 1,
           "tickwidth": 0
          },
          "ternary": {
           "aaxis": {
            "gridcolor": "#506784",
            "linecolor": "#506784",
            "ticks": ""
           },
           "baxis": {
            "gridcolor": "#506784",
            "linecolor": "#506784",
            "ticks": ""
           },
           "bgcolor": "rgb(17,17,17)",
           "caxis": {
            "gridcolor": "#506784",
            "linecolor": "#506784",
            "ticks": ""
           }
          },
          "title": {
           "x": 0.05
          },
          "updatemenudefaults": {
           "bgcolor": "#506784",
           "borderwidth": 0
          },
          "xaxis": {
           "automargin": true,
           "gridcolor": "#283442",
           "linecolor": "#506784",
           "ticks": "",
           "title": {
            "standoff": 15
           },
           "zerolinecolor": "#283442",
           "zerolinewidth": 2
          },
          "yaxis": {
           "automargin": true,
           "gridcolor": "#283442",
           "linecolor": "#506784",
           "ticks": "",
           "title": {
            "standoff": 15
           },
           "zerolinecolor": "#283442",
           "zerolinewidth": 2
          }
         }
        },
        "title": {
         "text": "Normalized Feature-wise MAE Comparison (Lower is Better)"
        },
        "width": 800
       }
      }
     },
     "metadata": {},
     "output_type": "display_data"
    }
   ],
   "source": [
    "# Prepare proper numeric data for radar chart\n",
    "radar_features = [f for f in features if not f.endswith('_score')]  # Select core nutritional features\n",
    "radar_data = comparison_enhanced[[f'{f}_MAE' for f in radar_features]].copy()\n",
    "radar_data.columns = [f.replace('_MAE', '') for f in radar_data.columns]\n",
    "\n",
    "# Normalize data for better radar chart visualization\n",
    "radar_data_normalized = radar_data.apply(lambda x: x/x.max(), axis=0)\n",
    "\n",
    "# Add algorithm names back\n",
    "radar_data_normalized['Algorithm'] = radar_data.index\n",
    "\n",
    "# Melt for Plotly\n",
    "radar_melted = pd.melt(\n",
    "    radar_data_normalized, \n",
    "    id_vars=['Algorithm'],\n",
    "    var_name='Feature',\n",
    "    value_name='MAE (Normalized)'\n",
    ")\n",
    "\n",
    "# Plot interactive radar chart\n",
    "fig = px.line_polar(\n",
    "    radar_melted, \n",
    "    r='MAE (Normalized)',\n",
    "    theta='Feature',\n",
    "    color='Algorithm',\n",
    "    line_close=True,\n",
    "    template='plotly_dark',\n",
    "    title='Normalized Feature-wise MAE Comparison (Lower is Better)',\n",
    "    width=800,\n",
    "    height=600\n",
    ")\n",
    "\n",
    "# Improve layout\n",
    "fig.update_layout(\n",
    "    polar=dict(\n",
    "        radialaxis=dict(\n",
    "            visible=True,\n",
    "            range=[0, 1.1]\n",
    "        )),\n",
    "    showlegend=True,\n",
    "    legend=dict(\n",
    "        orientation=\"h\",\n",
    "        yanchor=\"bottom\",\n",
    "        y=1.02,\n",
    "        xanchor=\"right\",\n",
    "        x=1\n",
    "    )\n",
    ")\n",
    "\n",
    "fig.show()"
   ]
  },
  {
   "cell_type": "markdown",
   "metadata": {},
   "source": [
    " Nutritional Balance Heatmap"
   ]
  },
  {
   "cell_type": "code",
   "execution_count": 25,
   "metadata": {},
   "outputs": [
    {
     "data": {
      "image/png": "[encoded data removed]",
      "text/plain": [
       "<Figure size 1000x600 with 2 Axes>"
      ]
     },
     "metadata": {},
     "output_type": "display_data"
    }
   ],
   "source": [
    "# Compare macronutrient distributions\n",
    "macro_features = ['protein_g', 'carb_g', 'fat_g']\n",
    "macro_comparison = pd.concat([\n",
    "    content_recs[macro_features].mean().rename('Content-Based'),\n",
    "    cluster_recs[macro_features].mean().rename('Clustering'),\n",
    "    hybrid_recs[macro_features].mean().rename('Hybrid')\n",
    "], axis=1)\n",
    "\n",
    "plt.figure(figsize=(10, 6))\n",
    "sns.heatmap(\n",
    "    macro_comparison, \n",
    "    annot=True, \n",
    "    cmap='YlGnBu',\n",
    "    fmt='.2f',\n",
    "    linewidths=0.5\n",
    ")\n",
    "plt.title('Macronutrient Distribution Comparison')\n",
    "plt.show()"
   ]
  },
  {
   "cell_type": "markdown",
   "metadata": {},
   "source": [
    " Algorithm Performance Dashboard"
   ]
  },
  {
   "cell_type": "code",
   "execution_count": 26,
   "metadata": {},
   "outputs": [
    {
     "data": {
      "application/vnd.plotly.v1+json": {
       "config": {
        "plotlyServerURL": "https://plot.ly"
       },
       "data": [
        {
         "marker": {
          "color": [
           "#636EFA",
           "#EF553B",
           "#00CC96"
          ]
         },
         "name": "MAE",
         "type": "bar",
         "x": [
          "Content-Based",
          "Clustering",
          "Hybrid"
         ],
         "xaxis": "x",
         "y": [
          0.23080527519737076,
          0.23650375247231048,
          0.2380309034435512
         ],
         "yaxis": "y"
        },
        {
         "marker": {
          "color": [
           "#636EFA",
           "#EF553B",
           "#00CC96"
          ]
         },
         "name": "R2 Score",
         "type": "bar",
         "x": [
          "Content-Based",
          "Clustering",
          "Hybrid"
         ],
         "xaxis": "x2",
         "y": [
          0,
          0,
          0
         ],
         "yaxis": "y2"
        },
        {
         "marker": {
          "color": [
           "#636EFA",
           "#EF553B",
           "#00CC96"
          ]
         },
         "name": "Diversity",
         "type": "bar",
         "x": [
          "Content-Based",
          "Clustering",
          "Hybrid"
         ],
         "xaxis": "x3",
         "y": [
          0.4,
          0.4,
          0.4
         ],
         "yaxis": "y3"
        },
        {
         "fill": "toself",
         "name": "Content-Based",
         "r": [
          1,
          0.9749853490839483,
          0.6500500204640797,
          0.1834858266693974,
          1,
          0.7460993756607424,
          "Content-Based"
         ],
         "subplot": "polar",
         "theta": [
          "energy_kcal",
          "protein_g",
          "carb_g",
          "fat_g",
          "fibre_g",
          "protein_calorie_ratio",
          "Algorithm"
         ],
         "type": "scatterpolar"
        },
        {
         "fill": "toself",
         "name": "Clustering",
         "r": [
          0.2984615380967557,
          1,
          0.3751604725333231,
          0.4849569262233273,
          0.6330983083882918,
          1,
          "Clustering"
         ],
         "subplot": "polar",
         "theta": [
          "energy_kcal",
          "protein_g",
          "carb_g",
          "fat_g",
          "fibre_g",
          "protein_calorie_ratio",
          "Algorithm"
         ],
         "type": "scatterpolar"
        },
        {
         "fill": "toself",
         "name": "Hybrid",
         "r": [
          0.9446153849359196,
          0.5074312157268666,
          1,
          1,
          0.6966608413062281,
          0.8922265270620752,
          "Hybrid"
         ],
         "subplot": "polar",
         "theta": [
          "energy_kcal",
          "protein_g",
          "carb_g",
          "fat_g",
          "fibre_g",
          "protein_calorie_ratio",
          "Algorithm"
         ],
         "type": "scatterpolar"
        }
       ],
       "layout": {
        "annotations": [
         {
          "font": {
           "size": 16
          },
          "showarrow": false,
          "text": "Overall MAE",
          "x": 0.2125,
          "xanchor": "center",
          "xref": "paper",
          "y": 1,
          "yanchor": "bottom",
          "yref": "paper"
         },
         {
          "font": {
           "size": 16
          },
          "showarrow": false,
          "text": "R2 Score",
          "x": 0.7875,
          "xanchor": "center",
          "xref": "paper",
          "y": 1,
          "yanchor": "bottom",
          "yref": "paper"
         },
         {
          "font": {
           "size": 16
          },
          "showarrow": false,
          "text": "Diversity Score",
          "x": 0.2125,
          "xanchor": "center",
          "xref": "paper",
          "y": 0.4,
          "yanchor": "bottom",
          "yref": "paper"
         },
         {
          "font": {
           "size": 16
          },
          "showarrow": false,
          "text": "Feature-wise MAE (Radar)",
          "x": 0.7875,
          "xanchor": "center",
          "xref": "paper",
          "y": 0.4,
          "yanchor": "bottom",
          "yref": "paper"
         }
        ],
        "height": 800,
        "polar": {
         "domain": {
          "x": [
           0.575,
           1
          ],
          "y": [
           0,
           0.4
          ]
         },
         "radialaxis": {
          "range": [
           0,
           1
          ],
          "visible": true
         }
        },
        "showlegend": true,
        "template": {
         "data": {
          "bar": [
           {
            "error_x": {
             "color": "#2a3f5f"
            },
            "error_y": {
             "color": "#2a3f5f"
            },
            "marker": {
             "line": {
              "color": "#E5ECF6",
              "width": 0.5
             },
             "pattern": {
              "fillmode": "overlay",
              "size": 10,
              "solidity": 0.2
             }
            },
            "type": "bar"
           }
          ],
          "barpolar": [
           {
            "marker": {
             "line": {
              "color": "#E5ECF6",
              "width": 0.5
             },
             "pattern": {
              "fillmode": "overlay",
              "size": 10,
              "solidity": 0.2
             }
            },
            "type": "barpolar"
           }
          ],
          "carpet": [
           {
            "aaxis": {
             "endlinecolor": "#2a3f5f",
             "gridcolor": "white",
             "linecolor": "white",
             "minorgridcolor": "white",
             "startlinecolor": "#2a3f5f"
            },
            "baxis": {
             "endlinecolor": "#2a3f5f",
             "gridcolor": "white",
             "linecolor": "white",
             "minorgridcolor": "white",
             "startlinecolor": "#2a3f5f"
            },
            "type": "carpet"
           }
          ],
          "choropleth": [
           {
            "colorbar": {
             "outlinewidth": 0,
             "ticks": ""
            },
            "type": "choropleth"
           }
          ],
          "contour": [
           {
            "colorbar": {
             "outlinewidth": 0,
             "ticks": ""
            },
            "colorscale": [
             [
              0,
              "#0d0887"
             ],
             [
              0.1111111111111111,
              "#46039f"
             ],
             [
              0.2222222222222222,
              "#7201a8"
             ],
             [
              0.3333333333333333,
              "#9c179e"
             ],
             [
              0.4444444444444444,
              "#bd3786"
             ],
             [
              0.5555555555555556,
              "#d8576b"
             ],
             [
              0.6666666666666666,
              "#ed7953"
             ],
             [
              0.7777777777777778,
              "#fb9f3a"
             ],
             [
              0.8888888888888888,
              "#fdca26"
             ],
             [
              1,
              "#f0f921"
             ]
            ],
            "type": "contour"
           }
          ],
          "contourcarpet": [
           {
            "colorbar": {
             "outlinewidth": 0,
             "ticks": ""
            },
            "type": "contourcarpet"
           }
          ],
          "heatmap": [
           {
            "colorbar": {
             "outlinewidth": 0,
             "ticks": ""
            },
            "colorscale": [
             [
              0,
              "#0d0887"
             ],
             [
              0.1111111111111111,
              "#46039f"
             ],
             [
              0.2222222222222222,
              "#7201a8"
             ],
             [
              0.3333333333333333,
              "#9c179e"
             ],
             [
              0.4444444444444444,
              "#bd3786"
             ],
             [
              0.5555555555555556,
              "#d8576b"
             ],
             [
              0.6666666666666666,
              "#ed7953"
             ],
             [
              0.7777777777777778,
              "#fb9f3a"
             ],
             [
              0.8888888888888888,
              "#fdca26"
             ],
             [
              1,
              "#f0f921"
             ]
            ],
            "type": "heatmap"
           }
          ],
          "heatmapgl": [
           {
            "colorbar": {
             "outlinewidth": 0,
             "ticks": ""
            },
            "colorscale": [
             [
              0,
              "#0d0887"
             ],
             [
              0.1111111111111111,
              "#46039f"
             ],
             [
              0.2222222222222222,
              "#7201a8"
             ],
             [
              0.3333333333333333,
              "#9c179e"
             ],
             [
              0.4444444444444444,
              "#bd3786"
             ],
             [
              0.5555555555555556,
              "#d8576b"
             ],
             [
              0.6666666666666666,
              "#ed7953"
             ],
             [
              0.7777777777777778,
              "#fb9f3a"
             ],
             [
              0.8888888888888888,
              "#fdca26"
             ],
             [
              1,
              "#f0f921"
             ]
            ],
            "type": "heatmapgl"
           }
          ],
          "histogram": [
           {
            "marker": {
             "pattern": {
              "fillmode": "overlay",
              "size": 10,
              "solidity": 0.2
             }
            },
            "type": "histogram"
           }
          ],
          "histogram2d": [
           {
            "colorbar": {
             "outlinewidth": 0,
             "ticks": ""
            },
            "colorscale": [
             [
              0,
              "#0d0887"
             ],
             [
              0.1111111111111111,
              "#46039f"
             ],
             [
              0.2222222222222222,
              "#7201a8"
             ],
             [
              0.3333333333333333,
              "#9c179e"
             ],
             [
              0.4444444444444444,
              "#bd3786"
             ],
             [
              0.5555555555555556,
              "#d8576b"
             ],
             [
              0.6666666666666666,
              "#ed7953"
             ],
             [
              0.7777777777777778,
              "#fb9f3a"
             ],
             [
              0.8888888888888888,
              "#fdca26"
             ],
             [
              1,
              "#f0f921"
             ]
            ],
            "type": "histogram2d"
           }
          ],
          "histogram2dcontour": [
           {
            "colorbar": {
             "outlinewidth": 0,
             "ticks": ""
            },
            "colorscale": [
             [
              0,
              "#0d0887"
             ],
             [
              0.1111111111111111,
              "#46039f"
             ],
             [
              0.2222222222222222,
              "#7201a8"
             ],
             [
              0.3333333333333333,
              "#9c179e"
             ],
             [
              0.4444444444444444,
              "#bd3786"
             ],
             [
              0.5555555555555556,
              "#d8576b"
             ],
             [
              0.6666666666666666,
              "#ed7953"
             ],
             [
              0.7777777777777778,
              "#fb9f3a"
             ],
             [
              0.8888888888888888,
              "#fdca26"
             ],
             [
              1,
              "#f0f921"
             ]
            ],
            "type": "histogram2dcontour"
           }
          ],
          "mesh3d": [
           {
            "colorbar": {
             "outlinewidth": 0,
             "ticks": ""
            },
            "type": "mesh3d"
           }
          ],
          "parcoords": [
           {
            "line": {
             "colorbar": {
              "outlinewidth": 0,
              "ticks": ""
             }
            },
            "type": "parcoords"
           }
          ],
          "pie": [
           {
            "automargin": true,
            "type": "pie"
           }
          ],
          "scatter": [
           {
            "fillpattern": {
             "fillmode": "overlay",
             "size": 10,
             "solidity": 0.2
            },
            "type": "scatter"
           }
          ],
          "scatter3d": [
           {
            "line": {
             "colorbar": {
              "outlinewidth": 0,
              "ticks": ""
             }
            },
            "marker": {
             "colorbar": {
              "outlinewidth": 0,
              "ticks": ""
             }
            },
            "type": "scatter3d"
           }
          ],
          "scattercarpet": [
           {
            "marker": {
             "colorbar": {
              "outlinewidth": 0,
              "ticks": ""
             }
            },
            "type": "scattercarpet"
           }
          ],
          "scattergeo": [
           {
            "marker": {
             "colorbar": {
              "outlinewidth": 0,
              "ticks": ""
             }
            },
            "type": "scattergeo"
           }
          ],
          "scattergl": [
           {
            "marker": {
             "colorbar": {
              "outlinewidth": 0,
              "ticks": ""
             }
            },
            "type": "scattergl"
           }
          ],
          "scattermapbox": [
           {
            "marker": {
             "colorbar": {
              "outlinewidth": 0,
              "ticks": ""
             }
            },
            "type": "scattermapbox"
           }
          ],
          "scatterpolar": [
           {
            "marker": {
             "colorbar": {
              "outlinewidth": 0,
              "ticks": ""
             }
            },
            "type": "scatterpolar"
           }
          ],
          "scatterpolargl": [
           {
            "marker": {
             "colorbar": {
              "outlinewidth": 0,
              "ticks": ""
             }
            },
            "type": "scatterpolargl"
           }
          ],
          "scatterternary": [
           {
            "marker": {
             "colorbar": {
              "outlinewidth": 0,
              "ticks": ""
             }
            },
            "type": "scatterternary"
           }
          ],
          "surface": [
           {
            "colorbar": {
             "outlinewidth": 0,
             "ticks": ""
            },
            "colorscale": [
             [
              0,
              "#0d0887"
             ],
             [
              0.1111111111111111,
              "#46039f"
             ],
             [
              0.2222222222222222,
              "#7201a8"
             ],
             [
              0.3333333333333333,
              "#9c179e"
             ],
             [
              0.4444444444444444,
              "#bd3786"
             ],
             [
              0.5555555555555556,
              "#d8576b"
             ],
             [
              0.6666666666666666,
              "#ed7953"
             ],
             [
              0.7777777777777778,
              "#fb9f3a"
             ],
             [
              0.8888888888888888,
              "#fdca26"
             ],
             [
              1,
              "#f0f921"
             ]
            ],
            "type": "surface"
           }
          ],
          "table": [
           {
            "cells": {
             "fill": {
              "color": "#EBF0F8"
             },
             "line": {
              "color": "white"
             }
            },
            "header": {
             "fill": {
              "color": "#C8D4E3"
             },
             "line": {
              "color": "white"
             }
            },
            "type": "table"
           }
          ]
         },
         "layout": {
          "annotationdefaults": {
           "arrowcolor": "#2a3f5f",
           "arrowhead": 0,
           "arrowwidth": 1
          },
          "autotypenumbers": "strict",
          "coloraxis": {
           "colorbar": {
            "outlinewidth": 0,
            "ticks": ""
           }
          },
          "colorscale": {
           "diverging": [
            [
             0,
             "#8e0152"
            ],
            [
             0.1,
             "#c51b7d"
            ],
            [
             0.2,
             "#de77ae"
            ],
            [
             0.3,
             "#f1b6da"
            ],
            [
             0.4,
             "#fde0ef"
            ],
            [
             0.5,
             "#f7f7f7"
            ],
            [
             0.6,
             "#e6f5d0"
            ],
            [
             0.7,
             "#b8e186"
            ],
            [
             0.8,
             "#7fbc41"
            ],
            [
             0.9,
             "#4d9221"
            ],
            [
             1,
             "#276419"
            ]
           ],
           "sequential": [
            [
             0,
             "#0d0887"
            ],
            [
             0.1111111111111111,
             "#46039f"
            ],
            [
             0.2222222222222222,
             "#7201a8"
            ],
            [
             0.3333333333333333,
             "#9c179e"
            ],
            [
             0.4444444444444444,
             "#bd3786"
            ],
            [
             0.5555555555555556,
             "#d8576b"
            ],
            [
             0.6666666666666666,
             "#ed7953"
            ],
            [
             0.7777777777777778,
             "#fb9f3a"
            ],
            [
             0.8888888888888888,
             "#fdca26"
            ],
            [
             1,
             "#f0f921"
            ]
           ],
           "sequentialminus": [
            [
             0,
             "#0d0887"
            ],
            [
             0.1111111111111111,
             "#46039f"
            ],
            [
             0.2222222222222222,
             "#7201a8"
            ],
            [
             0.3333333333333333,
             "#9c179e"
            ],
            [
             0.4444444444444444,
             "#bd3786"
            ],
            [
             0.5555555555555556,
             "#d8576b"
            ],
            [
             0.6666666666666666,
             "#ed7953"
            ],
            [
             0.7777777777777778,
             "#fb9f3a"
            ],
            [
             0.8888888888888888,
             "#fdca26"
            ],
            [
             1,
             "#f0f921"
            ]
           ]
          },
          "colorway": [
           "#636efa",
           "#EF553B",
           "#00cc96",
           "#ab63fa",
           "#FFA15A",
           "#19d3f3",
           "#FF6692",
           "#B6E880",
           "#FF97FF",
           "#FECB52"
          ],
          "font": {
           "color": "#2a3f5f"
          },
          "geo": {
           "bgcolor": "white",
           "lakecolor": "white",
           "landcolor": "#E5ECF6",
           "showlakes": true,
           "showland": true,
           "subunitcolor": "white"
          },
          "hoverlabel": {
           "align": "left"
          },
          "hovermode": "closest",
          "mapbox": {
           "style": "light"
          },
          "paper_bgcolor": "white",
          "plot_bgcolor": "#E5ECF6",
          "polar": {
           "angularaxis": {
            "gridcolor": "white",
            "linecolor": "white",
            "ticks": ""
           },
           "bgcolor": "#E5ECF6",
           "radialaxis": {
            "gridcolor": "white",
            "linecolor": "white",
            "ticks": ""
           }
          },
          "scene": {
           "xaxis": {
            "backgroundcolor": "#E5ECF6",
            "gridcolor": "white",
            "gridwidth": 2,
            "linecolor": "white",
            "showbackground": true,
            "ticks": "",
            "zerolinecolor": "white"
           },
           "yaxis": {
            "backgroundcolor": "#E5ECF6",
            "gridcolor": "white",
            "gridwidth": 2,
            "linecolor": "white",
            "showbackground": true,
            "ticks": "",
            "zerolinecolor": "white"
           },
           "zaxis": {
            "backgroundcolor": "#E5ECF6",
            "gridcolor": "white",
            "gridwidth": 2,
            "linecolor": "white",
            "showbackground": true,
            "ticks": "",
            "zerolinecolor": "white"
           }
          },
          "shapedefaults": {
           "line": {
            "color": "#2a3f5f"
           }
          },
          "ternary": {
           "aaxis": {
            "gridcolor": "white",
            "linecolor": "white",
            "ticks": ""
           },
           "baxis": {
            "gridcolor": "white",
            "linecolor": "white",
            "ticks": ""
           },
           "bgcolor": "#E5ECF6",
           "caxis": {
            "gridcolor": "white",
            "linecolor": "white",
            "ticks": ""
           }
          },
          "title": {
           "x": 0.05
          },
          "xaxis": {
           "automargin": true,
           "gridcolor": "white",
           "linecolor": "white",
           "ticks": "",
           "title": {
            "standoff": 15
           },
           "zerolinecolor": "white",
           "zerolinewidth": 2
          },
          "yaxis": {
           "automargin": true,
           "gridcolor": "white",
           "linecolor": "white",
           "ticks": "",
           "title": {
            "standoff": 15
           },
           "zerolinecolor": "white",
           "zerolinewidth": 2
          }
         }
        },
        "title": {
         "text": "Algorithm Performance Dashboard"
        },
        "width": 1000,
        "xaxis": {
         "anchor": "y",
         "domain": [
          0,
          0.425
         ]
        },
        "xaxis2": {
         "anchor": "y2",
         "domain": [
          0.575,
          1
         ]
        },
        "xaxis3": {
         "anchor": "y3",
         "domain": [
          0,
          0.425
         ]
        },
        "yaxis": {
         "anchor": "x",
         "domain": [
          0.6000000000000001,
          1
         ]
        },
        "yaxis2": {
         "anchor": "x2",
         "domain": [
          0.6000000000000001,
          1
         ]
        },
        "yaxis3": {
         "anchor": "x3",
         "domain": [
          0,
          0.4
         ]
        }
       }
      }
     },
     "metadata": {},
     "output_type": "display_data"
    }
   ],
   "source": [
    "from plotly.subplots import make_subplots\n",
    "import plotly.graph_objects as go\n",
    "\n",
    "# Correct specs format - 2x2 grid of subplot types\n",
    "specs = [\n",
    "    [{\"type\": \"xy\"}, {\"type\": \"xy\"}],  # First row: two regular plots\n",
    "    [{\"type\": \"xy\"}, {\"type\": \"polar\"}]  # Second row: one regular, one polar\n",
    "]\n",
    "\n",
    "fig = make_subplots(\n",
    "    rows=2, cols=2,\n",
    "    specs=specs,\n",
    "    subplot_titles=('Overall MAE', 'R2 Score', 'Diversity Score', 'Feature-wise MAE (Radar)'),\n",
    "    horizontal_spacing=0.15,\n",
    "    vertical_spacing=0.2\n",
    ")\n",
    "\n",
    "# 1. Overall MAE (Bar Chart)\n",
    "fig.add_trace(\n",
    "    go.Bar(\n",
    "        x=comparison_enhanced.index,\n",
    "        y=comparison_enhanced[[f'{f}_MAE' for f in features]].mean(axis=1),\n",
    "        name='MAE',\n",
    "        marker_color=['#636EFA', '#EF553B', '#00CC96']\n",
    "    ),\n",
    "    row=1, col=1\n",
    ")\n",
    "\n",
    "# 2. R2 Score (Bar Chart)\n",
    "fig.add_trace(\n",
    "    go.Bar(\n",
    "        x=comparison_enhanced.index,\n",
    "        y=comparison_enhanced['R2_Score'],\n",
    "        name='R2 Score',\n",
    "        marker_color=['#636EFA', '#EF553B', '#00CC96']\n",
    "    ),\n",
    "    row=1, col=2\n",
    ")\n",
    "\n",
    "# 3. Diversity (Bar Chart)\n",
    "fig.add_trace(\n",
    "    go.Bar(\n",
    "        x=comparison_enhanced.index,\n",
    "        y=comparison_enhanced['Diversity'],\n",
    "        name='Diversity',\n",
    "        marker_color=['#636EFA', '#EF553B', '#00CC96']\n",
    "    ),\n",
    "    row=2, col=1\n",
    ")\n",
    "\n",
    "# 4. Radar Chart (Polar)\n",
    "for algo in comparison_enhanced.index:\n",
    "    fig.add_trace(\n",
    "        go.Scatterpolar(\n",
    "            r=radar_data_normalized.loc[algo].values,\n",
    "            theta=radar_data_normalized.columns,\n",
    "            fill='toself',\n",
    "            name=algo\n",
    "        ),\n",
    "        row=2, col=2\n",
    "    )\n",
    "\n",
    "# Update layout\n",
    "fig.update_layout(\n",
    "    height=800,\n",
    "    width=1000,\n",
    "    title_text='Algorithm Performance Dashboard',\n",
    "    showlegend=True,\n",
    "    polar=dict(\n",
    "        radialaxis=dict(\n",
    "            visible=True,\n",
    "            range=[0, 1]\n",
    "        )\n",
    "    )\n",
    ")\n",
    "\n",
    "fig.show()"
   ]
  },
  {
   "cell_type": "markdown",
   "metadata": {},
   "source": [
    "Time Complexity Analysis"
   ]
  },
  {
   "cell_type": "code",
   "execution_count": 27,
   "metadata": {},
   "outputs": [
    {
     "name": "stderr",
     "output_type": "stream",
     "text": [
      "c:\\Users\\niraj\\AppData\\Local\\Programs\\Python\\Python312\\Lib\\site-packages\\sklearn\\utils\\validation.py:2739: UserWarning:\n",
      "\n",
      "X does not have valid feature names, but KMeans was fitted with feature names\n",
      "\n",
      "C:\\Users\\niraj\\AppData\\Local\\Temp\\ipykernel_88880\\2295352187.py:25: FutureWarning:\n",
      "\n",
      "\n",
      "\n",
      "Passing `palette` without assigning `hue` is deprecated and will be removed in v0.14.0. Assign the `x` variable to `hue` and set `legend=False` for the same effect.\n",
      "\n",
      "\n"
     ]
    },
    {
     "data": {
      "image/png": "[encoded data removed]",
      "text/plain": [
       "<Figure size 1000x500 with 1 Axes>"
      ]
     },
     "metadata": {},
     "output_type": "display_data"
    }
   ],
   "source": [
    "import time\n",
    "\n",
    "# Initialize models first (outside timing loop)\n",
    "kmeans = KMeans(n_clusters=optimal_k, random_state=42)\n",
    "kmeans.fit(df[features])  # Pre-fit the model\n",
    "\n",
    "algorithms = {\n",
    "    'Content-Based': lambda profile: content_based_recommend(profile, df),\n",
    "    'Clustering': lambda profile: cluster_based_recommend(profile, df, kmeans),\n",
    "    'Hybrid': lambda profile: hybrid_recommend(profile, df)\n",
    "}\n",
    "\n",
    "timing_results = {}\n",
    "for name, func in algorithms.items():\n",
    "    try:\n",
    "        start = time.time()\n",
    "        _ = func(user_profile)  # Now only profile needed\n",
    "        timing_results[name] = time.time() - start\n",
    "    except Exception as e:\n",
    "        print(f\"Error timing {name}: {str(e)}\")\n",
    "        timing_results[name] = None\n",
    "\n",
    "# Plot results\n",
    "plt.figure(figsize=(10, 5))\n",
    "sns.barplot(\n",
    "    x=list(timing_results.keys()),\n",
    "    y=list(timing_results.values()),\n",
    "    palette='viridis'\n",
    ")\n",
    "plt.title('Algorithm Execution Time Comparison\\n(Lower is Better)')\n",
    "plt.ylabel('Time (seconds)')\n",
    "plt.xlabel('Algorithm')\n",
    "plt.grid(axis='y', linestyle='--', alpha=0.7)\n",
    "\n",
    "# Add value labels\n",
    "for i, v in enumerate(timing_results.values()):\n",
    "    if v is not None:\n",
    "        plt.text(i, v + 0.002, f\"{v:.4f}s\", ha='center')\n",
    "\n",
    "plt.tight_layout()\n",
    "plt.show()"
   ]
  },
  {
   "cell_type": "markdown",
   "metadata": {},
   "source": [
    "User Preference Sensitivity Analysis"
   ]
  },
  {
   "cell_type": "code",
   "execution_count": 28,
   "metadata": {},
   "outputs": [
    {
     "name": "stderr",
     "output_type": "stream",
     "text": [
      "c:\\Users\\niraj\\AppData\\Local\\Programs\\Python\\Python312\\Lib\\site-packages\\sklearn\\utils\\validation.py:2739: UserWarning:\n",
      "\n",
      "X does not have valid feature names, but KMeans was fitted with feature names\n",
      "\n",
      "c:\\Users\\niraj\\AppData\\Local\\Programs\\Python\\Python312\\Lib\\site-packages\\sklearn\\utils\\validation.py:2739: UserWarning:\n",
      "\n",
      "X does not have valid feature names, but KMeans was fitted with feature names\n",
      "\n",
      "c:\\Users\\niraj\\AppData\\Local\\Programs\\Python\\Python312\\Lib\\site-packages\\sklearn\\utils\\validation.py:2739: UserWarning:\n",
      "\n",
      "X does not have valid feature names, but KMeans was fitted with feature names\n",
      "\n",
      "c:\\Users\\niraj\\AppData\\Local\\Programs\\Python\\Python312\\Lib\\site-packages\\sklearn\\utils\\validation.py:2739: UserWarning:\n",
      "\n",
      "X does not have valid feature names, but KMeans was fitted with feature names\n",
      "\n",
      "c:\\Users\\niraj\\AppData\\Local\\Programs\\Python\\Python312\\Lib\\site-packages\\sklearn\\utils\\validation.py:2739: UserWarning:\n",
      "\n",
      "X does not have valid feature names, but KMeans was fitted with feature names\n",
      "\n"
     ]
    },
    {
     "data": {
      "image/png": "[encoded data removed]",
      "text/plain": [
       "<Figure size 640x480 with 1 Axes>"
      ]
     },
     "metadata": {},
     "output_type": "display_data"
    }
   ],
   "source": [
    "# Test how recommendations change with varying protein preferences\n",
    "protein_levels = np.linspace(0.1, 0.9, 5)\n",
    "results = []\n",
    "\n",
    "for level in protein_levels:\n",
    "    temp_profile = user_profile.copy()\n",
    "    temp_profile['protein_g'] = level\n",
    "    \n",
    "    # Get recommendations from each approach\n",
    "    content = content_based_recommend(temp_profile, df)\n",
    "    cluster = cluster_based_recommend(temp_profile, df, kmeans)\n",
    "    hybrid = hybrid_recommend(temp_profile, df)\n",
    "    \n",
    "    # Record average protein in recommendations\n",
    "    results.append({\n",
    "        'Protein_Preference': level,\n",
    "        'Content-Based': content['protein_g'].mean(),\n",
    "        'Clustering': cluster['protein_g'].mean(),\n",
    "        'Hybrid': hybrid['protein_g'].mean()\n",
    "    })\n",
    "\n",
    "# Plot sensitivity\n",
    "sensitivity_df = pd.DataFrame(results).set_index('Protein_Preference')\n",
    "sensitivity_df.plot(marker='o')\n",
    "plt.title('Algorithm Sensitivity to Protein Preference')\n",
    "plt.ylabel('Actual Protein in Recommendations')\n",
    "plt.xlabel('User Protein Preference')\n",
    "plt.show()"
   ]
  },
  {
   "cell_type": "markdown",
   "metadata": {},
   "source": [
    "Enhanced Final Report Section"
   ]
  },
  {
   "cell_type": "code",
   "execution_count": 30,
   "metadata": {},
   "outputs": [
    {
     "ename": "NameError",
     "evalue": "name 'Markdown' is not defined",
     "output_type": "error",
     "traceback": [
      "\u001b[1;31m---------------------------------------------------------------------------\u001b[0m",
      "\u001b[1;31mNameError\u001b[0m                                 Traceback (most recent call last)",
      "Cell \u001b[1;32mIn[30], line 26\u001b[0m\n\u001b[0;32m      1\u001b[0m \u001b[38;5;66;03m# Generate the enhanced report with proper formatting\u001b[39;00m\n\u001b[0;32m      2\u001b[0m report_enhanced \u001b[38;5;241m=\u001b[39m \u001b[38;5;124mf\u001b[39m\u001b[38;5;124m\"\"\"\u001b[39m\n\u001b[0;32m      3\u001b[0m \u001b[38;5;124m## Enhanced Evaluation Metrics\u001b[39m\n\u001b[0;32m      4\u001b[0m \n\u001b[1;32m   (...)\u001b[0m\n\u001b[0;32m     23\u001b[0m \u001b[38;5;132;01m{\u001b[39;00mmacro_comparison\u001b[38;5;241m.\u001b[39mT\u001b[38;5;241m.\u001b[39mto_markdown()\u001b[38;5;132;01m}\u001b[39;00m\n\u001b[0;32m     24\u001b[0m \u001b[38;5;124m\"\"\"\u001b[39m\n\u001b[1;32m---> 26\u001b[0m display(\u001b[43mMarkdown\u001b[49m(report_enhanced))\n\u001b[0;32m     28\u001b[0m \u001b[38;5;66;03m# Visual confirmation\u001b[39;00m\n\u001b[0;32m     29\u001b[0m fig, (ax1, ax2) \u001b[38;5;241m=\u001b[39m plt\u001b[38;5;241m.\u001b[39msubplots(\u001b[38;5;241m1\u001b[39m, \u001b[38;5;241m2\u001b[39m, figsize\u001b[38;5;241m=\u001b[39m(\u001b[38;5;241m16\u001b[39m, \u001b[38;5;241m6\u001b[39m))\n",
      "\u001b[1;31mNameError\u001b[0m: name 'Markdown' is not defined"
     ]
    }
   ],
   "source": [
    "# Generate the enhanced report with proper formatting\n",
    "report_enhanced = f\"\"\"\n",
    "## Enhanced Evaluation Metrics\n",
    "\n",
    "### Accuracy Metrics:\n",
    "- **Best R² Score**: {comparison_enhanced['R2_Score'].idxmax()} ({comparison_enhanced['R2_Score'].max():.2f})\n",
    "- **Lowest MAE**: {comparison_enhanced[[f'{f}_MAE' for f in features]].mean(axis=1).idxmin()}\n",
    "\n",
    "### Practical Considerations:\n",
    "- **Fastest Algorithm**: {min(timing_results, key=timing_results.get)} ({min(timing_results.values()):.3f}s)\n",
    "- **Most Diverse Recommendations**: {comparison_enhanced['Diversity'].idxmax()} \n",
    "  ({comparison_enhanced['Diversity'].max():.2f} unique food groups per recommendation)\n",
    "\n",
    "### Nutritional Balance:\n",
    "- **Best Protein Match**: {macro_comparison.T['protein_g'].idxmax()}\n",
    "- **Best Carb Control**: {macro_comparison.T['carb_g'].idxmin()}\n",
    "- **Best Fat Control**: {macro_comparison.T['fat_g'].idxmin()}\n",
    "\n",
    "### Detailed Metrics:\n",
    "{comparison_enhanced.to_markdown()}\n",
    "\n",
    "### Macronutrient Distribution:\n",
    "{macro_comparison.T.to_markdown()}\n",
    "\"\"\"\n",
    "\n",
    "display(Markdown(report_enhanced))\n",
    "\n",
    "# Visual confirmation\n",
    "fig, (ax1, ax2) = plt.subplots(1, 2, figsize=(16, 6))\n",
    "\n",
    "# Metric comparison\n",
    "comparison_enhanced[['R2_Score', 'Diversity']].plot.bar(\n",
    "    ax=ax1, \n",
    "    color=['#1f77b4', '#ff7f0e'],\n",
    "    rot=0\n",
    ")\n",
    "ax1.set_title('Algorithm Comparison: R² Score vs Diversity')\n",
    "ax1.set_ylabel('Score')\n",
    "ax1.grid(axis='y', linestyle='--')\n",
    "\n",
    "# Macronutrient distribution\n",
    "macro_comparison.T.plot.bar(\n",
    "    ax=ax2,\n",
    "    rot=0,\n",
    "    color=['#1f77b4', '#ff7f0e', '#2ca02c']\n",
    ")\n",
    "ax2.set_title('Average Macronutrient Distribution')\n",
    "ax2.set_ylabel('Grams per Recommendation')\n",
    "ax2.grid(axis='y', linestyle='--')\n",
    "\n",
    "plt.tight_layout()\n",
    "plt.show()"
   ]
  },
  {
   "cell_type": "markdown",
   "metadata": {},
   "source": [
    "                        Final Report"
   ]
  },
  {
   "cell_type": "code",
   "execution_count": 31,
   "metadata": {},
   "outputs": [
    {
     "data": {
      "text/markdown": [
       "\n",
       "# Diet Recommendation Algorithms Comparative Report\n",
       "\n",
       "## Dataset Overview\n",
       "- **Total food items**: 1001\n",
       "- **Features used**: energy_kcal, protein_g, carb_g, fat_g, fibre_g, protein_calorie_ratio, nutrient_score, health_score, diversity_score\n",
       "- **User profile**: Vegetarian, health-conscious\n",
       "\n",
       "## Algorithms Compared\n",
       "1. **Content-Based Filtering**\n",
       "   - Uses cosine similarity between user preferences and food items\n",
       "   - Strengths: Simple, interpretable, good for cold start\n",
       "   - Weaknesses: Doesn't discover new patterns\n",
       "\n",
       "2. **Clustering-Based Recommendation**\n",
       "   - Groups similar foods using K-Means (k=5)\n",
       "   - Recommends from user's predicted cluster\n",
       "   - Strengths: Discovers food groups, good for exploration\n",
       "   - Weaknesses: Fixed clusters may not adapt to user preferences\n",
       "\n",
       "3. **Hybrid Approach**\n",
       "    - Combines content-based similarity with popularity (health score)\n",
       "   - Strengths: Balances personalization with general quality\n",
       "   - Weaknesses: Requires tuning weights\n",
       "\n",
       "## Evaluation Results\n",
       "- **Content-Based MAE**: 0.231\n",
       "- **Clustering MAE**: 0.237\n",
       "- **Hybrid MAE**: 0.238\n",
       "\n",
       "## Recommendations\n",
       "Based on the evaluation:\n",
       "\n",
       "1. **For accuracy**: The **Content-Based** approach performed best\n",
       "2. **For diversity**: The **Clustering** approach provides the most varied recommendations\n",
       "3. **For new users**: **Content-Based** works well without historical data\n",
       "\n"
      ],
      "text/plain": [
       "<IPython.core.display.Markdown object>"
      ]
     },
     "metadata": {},
     "output_type": "display_data"
    }
   ],
   "source": [
    "from IPython.display import display, Markdown\n",
    "\n",
    "report = f\"\"\"\n",
    "# Diet Recommendation Algorithms Comparative Report\n",
    "\n",
    "## Dataset Overview\n",
    "- **Total food items**: {len(df)}\n",
    "- **Features used**: {', '.join(features)}\n",
    "- **User profile**: Vegetarian, health-conscious\n",
    "\n",
    "## Algorithms Compared\n",
    "1. **Content-Based Filtering**\n",
    "   - Uses cosine similarity between user preferences and food items\n",
    "   - Strengths: Simple, interpretable, good for cold start\n",
    "   - Weaknesses: Doesn't discover new patterns\n",
    "\n",
    "2. **Clustering-Based Recommendation**\n",
    "   - Groups similar foods using K-Means (k={optimal_k})\n",
    "   - Recommends from user's predicted cluster\n",
    "   - Strengths: Discovers food groups, good for exploration\n",
    "   - Weaknesses: Fixed clusters may not adapt to user preferences\n",
    "\n",
    "3. **Hybrid Approach**\n",
    "    - Combines content-based similarity with popularity (health score)\n",
    "   - Strengths: Balances personalization with general quality\n",
    "   - Weaknesses: Requires tuning weights\n",
    "\n",
    "## Evaluation Results\n",
    "- **Content-Based MAE**: {content_score:.3f}\n",
    "- **Clustering MAE**: {cluster_score:.3f}\n",
    "- **Hybrid MAE**: {hybrid_score:.3f}\n",
    "\n",
    "## Recommendations\n",
    "Based on the evaluation:\n",
    "\n",
    "1. **For accuracy**: The **{'Hybrid' if hybrid_score < content_score else 'Content-Based'}** approach performed best\n",
    "2. **For diversity**: The **Clustering** approach provides the most varied recommendations\n",
    "3. **For new users**: **Content-Based** works well without historical data\n",
    "\n",
    "\"\"\"\n",
    "\n",
    "display(Markdown(report))"
   ]
  },
  {
   "cell_type": "markdown",
   "metadata": {},
   "source": [
    "\n",
    "Aspect\t             Our Project\t                    Traditional ML\n",
    "\n",
    "Learning Type\tUnsupervised (similarity-based)\t    Supervised/Unsupervised\n",
    "Training\t    On-the-fly calculations\tSeparate    training phase\n",
    "Adaptability\tYes (to user inputs)\t            Yes (to data patterns)\n",
    "Complexity\t    Low\t                                Medium/High\n"
   ]
  },
  {
   "cell_type": "code",
   "execution_count": 32,
   "metadata": {},
   "outputs": [
    {
     "data": {
      "application/vnd.plotly.v1+json": {
       "config": {
        "plotlyServerURL": "https://plot.ly"
       },
       "data": [
        {
         "marker": {
          "color": [
           4,
           0,
           1,
           0,
           2,
           3,
           4,
           4,
           4,
           1,
           4,
           2,
           1,
           0,
           2,
           0,
           1,
           2,
           1,
           4,
           2,
           3,
           4,
           1,
           4,
           1,
           0,
           1,
           0,
           1,
           2,
           0,
           2,
           2,
           1,
           4,
           0,
           2,
           0,
           3,
           4,
           2,
           1,
           1,
           4,
           2,
           4,
           4,
           1,
           1,
           2,
           2,
           0,
           2,
           4,
           2,
           1,
           2,
           2,
           2,
           2,
           4,
           2,
           1,
           2,
           4,
           2,
           2,
           2,
           4,
           2,
           2,
           1,
           2,
           2,
           4,
           2,
           2,
           0,
           0,
           2,
           0,
           2,
           2,
           2,
           1,
           0,
           2,
           2,
           2,
           2,
           2,
           4,
           2,
           4,
           2,
           2,
           2,
           2,
           2,
           4,
           4,
           4,
           4,
           4,
           4,
           4,
           4,
           1,
           4,
           2,
           4,
           4,
           4,
           4,
           4,
           4,
           4,
           4,
           4,
           2,
           4,
           2,
           4,
           4,
           4,
           2,
           2,
           2,
           4,
           2,
           4,
           4,
           4,
           4,
           4,
           2,
           4,
           4,
           2,
           2,
           2,
           2,
           4,
           4,
           2,
           4,
           4,
           2,
           3,
           3,
           3,
           3,
           3,
           0,
           1,
           3,
           3,
           3,
           1,
           3,
           3,
           3,
           3,
           3,
           0,
           3,
           3,
           3,
           3,
           1,
           1,
           3,
           1,
           3,
           3,
           2,
           3,
           3,
           3,
           3,
           3,
           3,
           3,
           3,
           3,
           3,
           3,
           1,
           4,
           3,
           3,
           3,
           1,
           3,
           3,
           3,
           0,
           3,
           3,
           3,
           3,
           3,
           3,
           3,
           3,
           3,
           2,
           2,
           3,
           3,
           2,
           0,
           3,
           2,
           3,
           3,
           3,
           3,
           3,
           3,
           3,
           3,
           3,
           3,
           3,
           3,
           3,
           3,
           3,
           3,
           3,
           3,
           3,
           3,
           3,
           3,
           3,
           2,
           2,
           2,
           2,
           0,
           4,
           4,
           2,
           2,
           2,
           2,
           2,
           2,
           2,
           4,
           2,
           0,
           2,
           2,
           4,
           2,
           2,
           2,
           2,
           2,
           4,
           3,
           2,
           2,
           4,
           2,
           2,
           2,
           2,
           2,
           2,
           4,
           4,
           2,
           2,
           4,
           2,
           2,
           2,
           2,
           4,
           2,
           4,
           2,
           4,
           4,
           4,
           1,
           1,
           1,
           3,
           2,
           1,
           2,
           2,
           2,
           1,
           1,
           1,
           0,
           1,
           4,
           2,
           2,
           1,
           4,
           2,
           1,
           1,
           3,
           4,
           4,
           1,
           1,
           1,
           2,
           2,
           4,
           1,
           1,
           2,
           1,
           1,
           2,
           1,
           2,
           1,
           1,
           1,
           4,
           4,
           4,
           2,
           2,
           4,
           2,
           4,
           2,
           1,
           2,
           2,
           3,
           2,
           2,
           1,
           3,
           4,
           2,
           4,
           1,
           4,
           1,
           2,
           1,
           2,
           1,
           1,
           3,
           3,
           1,
           4,
           1,
           2,
           1,
           2,
           2,
           1,
           1,
           1,
           2,
           0,
           2,
           2,
           2,
           4,
           4,
           2,
           4,
           4,
           4,
           2,
           4,
           2,
           4,
           2,
           2,
           2,
           2,
           2,
           2,
           2,
           2,
           2,
           4,
           2,
           4,
           2,
           2,
           4,
           2,
           1,
           2,
           2,
           2,
           4,
           2,
           2,
           2,
           4,
           2,
           2,
           2,
           2,
           2,
           2,
           4,
           2,
           4,
           4,
           2,
           4,
           2,
           2,
           2,
           2,
           2,
           2,
           2,
           4,
           4,
           2,
           2,
           2,
           1,
           2,
           3,
           2,
           2,
           2,
           2,
           2,
           2,
           2,
           2,
           2,
           3,
           2,
           3,
           2,
           2,
           4,
           2,
           2,
           4,
           2,
           4,
           2,
           2,
           2,
           2,
           2,
           2,
           4,
           2,
           2,
           2,
           4,
           2,
           2,
           2,
           2,
           2,
           2,
           4,
           2,
           2,
           3,
           4,
           2,
           2,
           4,
           2,
           2,
           2,
           2,
           4,
           3,
           2,
           2,
           2,
           2,
           2,
           2,
           2,
           2,
           4,
           2,
           2,
           2,
           4,
           2,
           2,
           2,
           2,
           2,
           2,
           2,
           2,
           4,
           2,
           2,
           2,
           3,
           2,
           2,
           2,
           2,
           2,
           2,
           2,
           4,
           2,
           4,
           3,
           3,
           2,
           2,
           2,
           2,
           2,
           3,
           2,
           3,
           2,
           4,
           2,
           2,
           2,
           2,
           2,
           2,
           2,
           2,
           4,
           2,
           2,
           2,
           2,
           2,
           2,
           2,
           2,
           2,
           3,
           2,
           2,
           2,
           2,
           2,
           2,
           3,
           2,
           2,
           2,
           3,
           2,
           2,
           2,
           2,
           2,
           2,
           2,
           2,
           3,
           2,
           3,
           2,
           2,
           2,
           2,
           3,
           2,
           4,
           2,
           2,
           4,
           2,
           2,
           3,
           2,
           2,
           2,
           2,
           2,
           2,
           2,
           2,
           2,
           2,
           2,
           2,
           3,
           2,
           2,
           2,
           3,
           2,
           2,
           2,
           2,
           2,
           2,
           2,
           2,
           3,
           2,
           2,
           1,
           2,
           2,
           4,
           2,
           2,
           2,
           2,
           2,
           3,
           2,
           2,
           2,
           2,
           2,
           2,
           2,
           2,
           2,
           2,
           2,
           2,
           2,
           2,
           2,
           2,
           4,
           2,
           2,
           3,
           2,
           2,
           2,
           3,
           2,
           2,
           1,
           2,
           3,
           2,
           2,
           2,
           2,
           4,
           2,
           4,
           3,
           2,
           4,
           2,
           4,
           2,
           3,
           1,
           2,
           3,
           3,
           2,
           0,
           2,
           4,
           1,
           2,
           3,
           2,
           0,
           1,
           2,
           2,
           2,
           3,
           2,
           1,
           2,
           2,
           2,
           2,
           2,
           1,
           3,
           4,
           2,
           3,
           3,
           1,
           2,
           3,
           3,
           2,
           2,
           2,
           1,
           2,
           2,
           3,
           3,
           3,
           2,
           3,
           3,
           2,
           2,
           2,
           2,
           1,
           2,
           3,
           1,
           2,
           2,
           3,
           1,
           1,
           4,
           1,
           0,
           1,
           1,
           0,
           2,
           1,
           2,
           1,
           2,
           0,
           1,
           4,
           1,
           0,
           0,
           4,
           0,
           1,
           0,
           1,
           1,
           2,
           1,
           4,
           1,
           4,
           3,
           0,
           1,
           4,
           1,
           4,
           4,
           1,
           4,
           1,
           4,
           4,
           4,
           1,
           4,
           1,
           4,
           4,
           1,
           4,
           0,
           1,
           4,
           4,
           1,
           4,
           4,
           1,
           4,
           0,
           1,
           4,
           0,
           1,
           4,
           4,
           1,
           4,
           4,
           1,
           4,
           4,
           4,
           4,
           1,
           4,
           4,
           1,
           4,
           0,
           1,
           4,
           4,
           1,
           4,
           4,
           1,
           4,
           0,
           1,
           4,
           4,
           1,
           4,
           4,
           1,
           1,
           4,
           1,
           4,
           4,
           1,
           4,
           4,
           1,
           4,
           1,
           1,
           4,
           4,
           1,
           4,
           4,
           1,
           1,
           1,
           4,
           0,
           4,
           1,
           4,
           1,
           4,
           4,
           1,
           0,
           4,
           1,
           4,
           1,
           4,
           1,
           0,
           1,
           4,
           4,
           0,
           4,
           0,
           1,
           0,
           1,
           0,
           3,
           3,
           0,
           0,
           1,
           4,
           1,
           1,
           1,
           0,
           0,
           3,
           0,
           0,
           1,
           0,
           0,
           0,
           1,
           0,
           3,
           0,
           0,
           0,
           3,
           0,
           3,
           0,
           0,
           1,
           1,
           4,
           0,
           3,
           0,
           1,
           0,
           0,
           0,
           1,
           0,
           1,
           3,
           0,
           3,
           0,
           0,
           3,
           3,
           0,
           3,
           0,
           0,
           1,
           0,
           0,
           3,
           0,
           0,
           1,
           3,
           1,
           0,
           3,
           0,
           0,
           1,
           0,
           3,
           3,
           0,
           3,
           3,
           3,
           0,
           3,
           0,
           3,
           3,
           3,
           0,
           0,
           4,
           1,
           1,
           0,
           0,
           0,
           3,
           3,
           3,
           0,
           3,
           0,
           3,
           3,
           3,
           0,
           0,
           0,
           0,
           3,
           0,
           0,
           0,
           3,
           0,
           3,
           0,
           0,
           3,
           0,
           0,
           0,
           3,
           0,
           0,
           0,
           0,
           0,
           3,
           0,
           3,
           0,
           3,
           0,
           0
          ],
          "colorbar": {
           "title": {
            "text": "Cluster"
           }
          },
          "colorscale": [
           [
            0,
            "#440154"
           ],
           [
            0.1111111111111111,
            "#482878"
           ],
           [
            0.2222222222222222,
            "#3e4989"
           ],
           [
            0.3333333333333333,
            "#31688e"
           ],
           [
            0.4444444444444444,
            "#26828e"
           ],
           [
            0.5555555555555556,
            "#1f9e89"
           ],
           [
            0.6666666666666666,
            "#35b779"
           ],
           [
            0.7777777777777778,
            "#6ece58"
           ],
           [
            0.8888888888888888,
            "#b5de2b"
           ],
           [
            1,
            "#fde725"
           ]
          ],
          "opacity": 0.8,
          "size": 5
         },
         "mode": "markers",
         "name": "Food Items",
         "text": [
          "Palak Paneer",
          "Chole Bhature",
          "Butter Chicken",
          "Dal Tadka",
          "Masala Dosa",
          "Chicken Biryani",
          "Samosa",
          "Paneer Tikka",
          "Aloo Gobi",
          "Mutton Rogan Josh",
          "Idli",
          "Upma",
          "Chicken Korma",
          "Chana Masala",
          "Vegetable Biryani",
          "Methi Thepla",
          "Chicken Tikka",
          "Aloo Paratha",
          "Keema Matar",
          "Palak Chaat",
          "Malai Kofta",
          "Hyderabadi Biryani",
          "Saag Aloo",
          "Chicken Shawarma",
          "Methi Paratha",
          "Kadhai Paneer",
          "Masoor Dal",
          "Chicken Pakora",
          "Chana Pulao",
          "Prawn Curry",
          "Paneer Butter Masala",
          "Dhokla",
          "Palak Chana",
          "Vegetable Pulao",
          "Beef Curry",
          "Kachori",
          "Khichdi",
          "Butter Naan",
          "Dal Makhani",
          "Mutton Biryani",
          "Chutney Sandwich",
          "Sev Puri",
          "Shahi Paneer",
          "Goat Curry",
          "Dahi Puri",
          "Pesarattu",
          "Lassi",
          "Bhindi Masala",
          "Paneer Lababdar",
          "Chicken Vindaloo",
          "Shahi Tukda",
          "Lauki Kofta",
          "Chana Dal",
          "Masala Puri",
          "Aloo Methi",
          "Palak Paratha",
          "Methi Malai Murg",
          "Veg Kofta Curry",
          "Suji Halwa",
          "Veg Pulao",
          "Besan Ladoo",
          "Chilla",
          "Chana Tikki",
          "Paneer Bhurji",
          "Tomato Rice",
          "Dal Fry",
          "Pulao",
          "Khoya Mawa",
          "Pakora",
          "Boondi Raita",
          "Sabudana Khichdi",
          "Vegetable Khichdi",
          "Laal Maas",
          "Gajar Halwa",
          "Malai Sandwich",
          "Pineapple Raita",
          "Shrikhand",
          "Chole Tikki",
          "Masala Khichdi",
          "Patra",
          "Idli Sambar",
          "Moong Dal Chilla",
          "Carrot Paratha",
          "Kaju Katli",
          "Veg Hakka Noodles",
          "Shrimp Korma",
          "Chana Chaat",
          "Barfi",
          "Dal Bhati",
          "Vegetable Dosa",
          "Chole Rice",
          "Pineapple Kesari",
          "Vegetable Samosa",
          "Kesar Pista Kulfi",
          "Aloo Gajar Methi",
          "Masala Wontons",
          "Chana Chole",
          "Apple Kheer",
          "Papdi Chaat",
          "Vegetable Pakora",
          "Laal Gobi Sabzi",
          "Turai (Ridge Gourd) Sabzi",
          "Amaranth Leaves (Chaulai) Sabzi",
          "Kaddu Ki Sabzi (Pumpkin)",
          "Cluster Beans (Gawar) Sabzi",
          "Bottle Gourd (lauki) with Moong Dal",
          "Okra (Bhindi) Masala",
          "Carrot and Peas Sabzi",
          "Chili Paneer with Capsicum",
          "Brinjal (Baingan) Bharta",
          "Methi Thepla (Fenugreek Flatbread)",
          "Gobi (Cauliflower) Masala",
          "Palak (Spinach) and Toor Dal",
          "Shorba (Spinach Soup)",
          "Arbi (Colocasia) Masala",
          "Chow Chow (Chayote) Sabzi",
          "Kundru (Ivy Gourd) Masala",
          "Palak Puri",
          "Tomato Chutney with Bottle Gourd",
          "Lauki (Bottle Gourd) and Masoor Dal",
          "Chana and Spinach (Palak) Curry",
          "Beetroot and Carrot Salad",
          "Radish (Mooli) Paratha",
          "Cabbage and Peas Sabzi",
          "Green Beans and Potato Sabzi",
          "Raw Mango and Spinach Salad",
          "Mustard Greens (Sarson) Saag",
          "Spinach (Palak) Paratha",
          "Saag Aloo (Spinach and Potato)",
          "Bitter Gourd (Karela) Stir Fry",
          "Chana Masala with Bottle Gourd",
          "Karela (Bitter Gourd) with Onion",
          "Chow Chow (Chayote) Salad",
          "Chana Dal with Bottle Gourd",
          "Green Mango and Cucumber Salad",
          "Aloo-Gobhi (Potato-Cauliflower)",
          "Green Peas Pulao",
          "Tomato and Onion Salad",
          "Masala Lauki",
          "Toor Dal with Pumpkin",
          "Potato and Spinach Curry",
          "Chana and Cabbage Sabzi",
          "Spinach and Onion Roti",
          "Karela and Onion Stir Fry",
          "Radish (Mooli) and Moong Dal",
          "Aloo-Besan (Potato and Chickpea Flour) Paratha",
          "Spinach and Tomato Soup",
          "Methi and Aloo (Fenugreek and Potato) Curry",
          "Mixed Vegetable Pulao",
          "Chole Bhature with Soy Protein",
          "Tofu Stir-Fry with Vegetables",
          "Vegetable and Tofu Pulao",
          "Moong Dal with Quinoa",
          "Chana Dal and Brown Rice",
          "Lentil and Spinach Soup",
          "Grilled Tofu with Veggie Salad",
          "Masoor Dal with Amaranth",
          "Vegetable Biryani with Soy Protein",
          "Chicken Breast with Sweet Potato",
          "Grilled Salmon with Broccoli",
          "Beef Stir-Fry with Vegetables",
          "Chicken Korma with Brown Rice",
          "Paneer Butter Masala with Brown Rice",
          "Chickpea and Spinach Stir Fry",
          "Grilled Tofu with Quinoa",
          "Palak (Spinach) and Moong Dal",
          "Quinoa and Lentil Salad",
          "Tempeh and Tofu Stir-Fry",
          "Vegetable Protein-Packed Soup",
          "Chicken Shawarma Wrap",
          "Mutton Seekh Kebab",
          "Grilled Paneer with Veggie Salad",
          "Quinoa and Chickpea Salad",
          "Grilled Chicken with Avocado",
          "Vegan Tempeh Stir-Fry with Veggies",
          "Tofu and Vegetable Stew",
          "Chana Chaat with Avocado",
          "Spicy Chicken Curry with Rice",
          "Grilled Tofu Wrap",
          "Paneer and Spinach Wrap",
          "Tofu and Chickpea Burger",
          "Chicken and Sweet Potato Salad",
          "Vegan Lentil Stew with Spinach",
          "Paneer Bhurji with Quinoa",
          "Chana and Tofu Salad",
          "Grilled Chicken with Veggie Rice",
          "Tofu and Bell Pepper Stir Fry",
          "Chicken and Avocado Salad",
          "Grilled Paneer with Avocado",
          "Spicy Vegan Chickpea Wrap",
          "Tofu and Quinoa Salad",
          "Chicken Tikka with Brown Rice",
          "Vegan Lentil Soup with Vegetables",
          "Paneer and Broccoli Stir Fry",
          "Chickpea and Tofu Pulao",
          "Chicken Tandoori with Veggie Salad",
          "Grilled Tofu with Hummus",
          "Palak and Tofu Curry",
          "Grilled Tempeh with Steamed Veggies",
          "Vegetable and Tofu Stir-Fry with Rice",
          "Paneer and Chickpea Curry",
          "Vegetable Quesadilla",
          "Spicy Lentil Tacos",
          "Chickpea and Cauliflower Stew",
          "Quinoa and Kale Salad",
          "Spinach and Potato Croquettes",
          "Mango Chutney Chicken",
          "Vegetable Pita Wrap",
          "Roasted Cauliflower and Lentil Soup",
          "Tofu and Veggie Stir-Fry",
          "Spicy Mushroom and Tofu Curry",
          "Grilled Eggplant with Tahini",
          "Chickpea and Spinach Wrap",
          "Grilled Chicken and Avocado Salad",
          "Vegetable Soup with Quinoa",
          "Lentil and Potato Stew",
          "Tofu and Vegetable Kebabs",
          "Palak and Paneer Wrap",
          "Grilled Salmon Salad",
          "Chana and Rice",
          "Vegetable and Tofu Korma",
          "Paneer and Veggie Stuffed Paratha",
          "Quinoa and Veggie Stuffed Peppers",
          "Chickpea and Avocado Toast",
          "Grilled Chicken Caesar Salad",
          "Spinach and Mushroom Salad",
          "Chana and Broccoli Stir-Fry",
          "Vegetable Sushi Rolls",
          "Spicy Tofu Tacos",
          "Grilled Paneer with Green Salad",
          "Tofu and Broccoli Stir-Fry",
          "Vegetable Makhani",
          "Chickpea and Vegetable Patties",
          "Grilled Tofu with Asparagus",
          "Vegetable Pakora with Yogurt Dip",
          "Lentil and Sweet Potato Curry",
          "Chana and Spinach Sauté",
          "Paneer and Vegetable Skewers",
          "Puran Poli",
          "Vada Pav",
          "Misal Pav",
          "Poha",
          "Thalipeeth",
          "Bhakri",
          "Pitla",
          "Kothimbir Wadi",
          "Pav Bhaji",
          "Shira",
          "Bhel Puri",
          "Batata Vada",
          "Alu Vadi",
          "Modak",
          "Pohe",
          "Zunka Bhakri",
          "Khandvi",
          "Ukadiche Modak",
          "Kolhapuri Misal",
          "Chutney",
          "Shev Bhaji",
          "Amboli",
          "Bhakarwadi",
          "Surli Vadi",
          "Kaladi",
          "Shengdana chutney",
          "Chana Usal",
          "Goan Saag",
          "Pitla Bhakri",
          "Mango Mastani",
          "Dal Amti",
          "Ghavtya",
          "Masala Wada",
          "Tambda Rassa",
          "Biryani",
          "Navratan Korma",
          "Maharashtrian Bhaji",
          "Karvande",
          "Ragda Pattice",
          "Chana Biryani",
          "Alu Patra",
          "Chivda",
          "Garadu",
          "Masale Bhath",
          "Ambapoli",
          "Kairi Chi Koshimbir",
          "Chandrakala",
          "Pohe Shira",
          "Tamda Rassa",
          "Chana Sookha",
          "Amti",
          "Batata Bhaji",
          "Shorshe Ilish",
          "Macher Jhol",
          "Chingri Malai Curry",
          "Shorshe Bata",
          "Cholar Dal",
          "Shorshe Paturi",
          "Alur Dom",
          "Khichuri",
          "Bengali Beguni",
          "Pora Shorshe Ilish",
          "Macher Kalia",
          "Bengali Fish Fry",
          "Dhokar Dalna",
          "Chingri Bhorta",
          "Shukto",
          "Labra",
          "Bengali Luchi",
          "Shorshe Ilish Bhorta",
          "Beguni Bhaja",
          "Posto Bata",
          "Macher Manna",
          "Chingri Malai",
          "Kosha Mangsho",
          "Kolar Bora",
          "Papad Bhaja",
          "Chingri Paturi",
          "Shorshe Bata Macher Jhol",
          "Chingri Machher Malai",
          "Phoolkopir Dalna",
          "Bhuna Khichuri",
          "Pui Shaak Bhaja",
          "Shorshe Bhapa Ilish",
          "Chingri Bhuna",
          "Dimer Dalna",
          "Sorshe Ilish Bhaja",
          "Macher Jhol Bhuna",
          "Bengali Sweets Platter",
          "Bhapa Ilish",
          "Bengali Dhokla",
          "Shrimp Masala",
          "Bengali Chingri Bhuna",
          "Lobster Malai Curry",
          "Roshogolla",
          "Chamcham",
          "Shondesh",
          "Patishapta",
          "Chhena Poda",
          "Bengali Sandesh",
          "Ras Malai",
          "Chomchom",
          "Amriti",
          "Doi Maach",
          "Alu Posto",
          "Shukto Bhaja",
          "Bengali Fish Curry",
          "Bengali Egg Curry",
          "Bhapa Doi",
          "Masala Prawn Curry",
          "Bengali Kathi Roll",
          "Bengali Baingan Bhaja",
          "Kachauli",
          "Bengali Sondesh",
          "Bengali Macher Kalia",
          "Dimer Bora",
          "Sorshe Ilish Bhuna",
          "Alu Bhorta",
          "Shorshe Bata Macher Bhorta",
          "Bengali Pulao",
          "Chingri Malai Prawn",
          "Shorshe Ilish Paturi",
          "Macher Tenga",
          "Shorshe Bata Bhorta",
          "Shorshe Bata Machher Jhol",
          "Beguni",
          "Macher Bhorta",
          "Bengali Aloo Macher Jhol",
          "Shorshe Ilish Bhaja",
          "Bengali Moong Dal",
          "Bengali Bhuna Khichuri",
          "Macher Paturi",
          "Bengali Macher Bhorta",
          "Shorshe Ilish Bhuna",
          "Thepla",
          "Handvo",
          "Undhiyu",
          "Dal Dhokli",
          "Sev Tameta",
          "Gujarati Kadhi",
          "Chakri",
          "Shakariya",
          "Garlic Chutney",
          "Chaas",
          "Farsan",
          "Chhole",
          "Gathiya",
          "Bhaat",
          "Khaman",
          "Dahi Vada",
          "Vaghareli Khichdi",
          "Laadva",
          "Surati Locho",
          "Sev Usal",
          "Kachaudi",
          "Methi Na Thepla",
          "Pudla",
          "Toor Dal",
          "Papad",
          "Dabeli",
          "Gajjar Halwa",
          "Meethi Khichdi",
          "Kadhi Chawal",
          "Vrat Wale Aloo",
          "Khakra",
          "Bombil Fry",
          "Paatra",
          "Khichu",
          "Chili Pakora",
          "Gujarati Bhindi",
          "Bharela Ringan",
          "Chana Batata",
          "Dal Baati",
          "Sev Khamani",
          "Meetha Dhokla",
          "Gujarati Pulao",
          "Bhindi Sambhariya",
          "Dal Vada",
          "Mag Ni Dal",
          "Papad Sabzi",
          "Methi Na Gota",
          "Doodh Pak",
          "Gujarati Chaas",
          "Khaman Dhokla",
          "Dudhi na Muthiya",
          "Bhajiya",
          "Churma",
          "Gatte Ki Sabzi",
          "Ker Sangri",
          "Shahi Gatte",
          "Churma Ladoo",
          "Panchmel Dal",
          "Missi Roti",
          "Masala Papad",
          "Papad Ki Sabzi",
          "Chili Garlic Paratha",
          "Pyaz Kachori",
          "Alu Ki Sabzi",
          "Gilavati Kebab",
          "Malai Ghevar",
          "Rajma Masala",
          "Bajre Ki Roti",
          "Pyaz Ki Kachori",
          "Gobhi Ke Parathe",
          "Kachri Ki Sabzi",
          "Saag",
          "Bhutte Ka Kees",
          "Imarti",
          "Jalebi",
          "Gatte Ki Kadhi",
          "Dal Baati Churma",
          "Bajre Ki Khichdi",
          "Masala Baati",
          "Mirchi Bada",
          "Ghughra",
          "Lehsun Ki Chutney",
          "Mawa Kachori",
          "Bhutte Ke Kees",
          "Dosa",
          "Medu Vada",
          "Sambar",
          "Adai",
          "Pongal",
          "Appam",
          "Plain Paratha",
          "Rava Kesari",
          "Thousand Layer Dosa",
          "Chutney Powder",
          "Ven Pongal",
          "Kal Dosa",
          "Curd Rice",
          "Chana Sundal",
          "Avial",
          "Coconut Rice",
          "Mango Rice",
          "Bisi Bele Bath",
          "Rava Dosa",
          "Keerai Masiyal",
          "Curd Vada",
          "Vegetable Kurma",
          "Appam with Stew",
          "Chettinad Chicken Curry",
          "Tomato Rasam",
          "Cabbage Thoran",
          "Chili Bajji",
          "Masala Buttermilk",
          "Puli Pongal",
          "Adai Avial",
          "Shavige",
          "Chettinad Parotta",
          "Steamed Idli",
          "Balchao",
          "Curd Rice with Mango",
          "Mysore Pak",
          "Vegetable Saag",
          "Kootu",
          "Moon Dal Payasam",
          "Moong Dal Cheela",
          "Masala Dosa with Chutney",
          "Sweet Pongal",
          "Chettinad Idli",
          "Onion Pakora",
          "Kerala Sadya",
          "Sundal",
          "Coconut Chutney",
          "Bonda",
          "Vegetable Uthappam",
          "Jackfruit Curry",
          "Ragi Dosa",
          "Besar Kebab",
          "Kara Kozhambu",
          "Kootu Curry",
          "Saravana Bhavan Dosa",
          "Peerkangai Thogayal",
          "Pesarattu with Ginger Chutney",
          "Medu Vada with Sambar",
          "Sundal with Coconut",
          "Kozhi Varuval",
          "Coconut Rice with Curry",
          "Ambur Biryani",
          "Medu Vada with Coconut Chutney",
          "Vermicelli Payasam",
          "Sadya Rice",
          "Sambar Rice",
          "Vegetable Ishtoo",
          "Neer Dosa",
          "Ven Pongal with Coconut Chutney",
          "Thakkali Rasam",
          "Chili Paneer",
          "Chettinad Egg Curry",
          "Chappathi",
          "Curd Rice with Pappad",
          "Parippu Curry",
          "Onion Dosa",
          "Chili Gobi",
          "South Indian Curry",
          "Parotta",
          "Chettinad Fish Curry",
          "Masala Uttapam",
          "Steamed Rice",
          "Kara Dosa",
          "Pesarattu with Coconut Chutney",
          "Mysore Bonda",
          "Curd Vada with Sambar",
          "Ragi Mudde",
          "Koottu Curry",
          "Appam with Egg Curry",
          "Chili Rava",
          "Neer Mor",
          "Tomato Poori",
          "Jackfruit Biryani",
          "Spinach Pakora",
          "Vegetable Thoran",
          "Cholam Koozh",
          "Curd Pulao",
          "Chili Gobi with Rice",
          "Vegetable Adai",
          "Kanji",
          "Meen Pollichathu",
          "Ven Pongal with Sambar",
          "Masala Kootu",
          "Appam with Coconut Milk",
          "Chutney Rice",
          "Rasam Rice",
          "Paruppu Curry",
          "Chili Paneer with Rice",
          "Vegetable Biryani with Raita",
          "Coconut Kheer",
          "Onion Uttapam",
          "Chettinad Mutton Curry",
          "Vegetable Theeyal",
          "Poha with Peanuts",
          "Puliyodarai",
          "Kadambam",
          "Green Gram Curry",
          "Sundal with Tamarind",
          "Cholam Pongal",
          "Vegetable Moong Dal",
          "Mutton Sukka",
          "Palakkad Iyer Sambar",
          "Chettinad Pepper Chicken",
          "Vegetable Korma",
          "Ragi Dosa with Coconut Chutney",
          "Beetroot Poriyal",
          "Moong Dal Kachori",
          "Kozhi Rasam",
          "Curry Leaf Rice",
          "Potato Masala",
          "Vegetable Sambar",
          "Onion Pakora with Chutney",
          "Peanut Sundal",
          "Palak Rice",
          "Masala Pongal",
          "Chettinad Egg Fry",
          "Cabbage Kofta Curry",
          "Rice with Rasam",
          "Spinach Rice",
          "Vegetable Masala Dosa",
          "Tomato Kootu",
          "Chili Methi Paratha",
          "Kootu with Rice",
          "Curd Bhature",
          "Masala Kadamba",
          "Vegetable Bonda",
          "Rice with Tamarind Paste",
          "Avial with Rice",
          "Chettinad Mutton Biryani",
          "Rasam Vada",
          "Vegetable Stew",
          "Palak Kootu",
          "Chettinad Chicken Biryani",
          "Sambar Sadam",
          "Masala Dosa with Sambar",
          "Onion Sambar",
          "Appam with Sweetened Coconut Milk",
          "Kootu Curry with Rice",
          "Avial Rice",
          "Pulao with Cucumber Raita",
          "South Indian Lemon Rice",
          "Spicy Fish Fry",
          "Poha with Coconut",
          "Palakkad Sambar",
          "Chettinad Prawn Curry",
          "Curd Rice with Pickles",
          "Vegetable Pulao with Raita",
          "Tomato Thokku",
          "Idli with Tomato Chutney",
          "Chettinad Egg Biryani",
          "Rice and Kadala Curry",
          "Thoran",
          "Vegetable Dosa with Sambar",
          "Chettinad Mutton Sukka",
          "Paratha with Green Chutney",
          "Puliyodarai Rice",
          "Onion Rice",
          "Vegetable Pesarattu",
          "Tomato Upma",
          "Beetroot Rice",
          "Chili Methi Rice",
          "Sambar with Rice",
          "Vegetable Masala Biryani",
          "Palak Pakora",
          "Mangalore Buns",
          "Chettinad Fish Fry",
          "Appam with Curry",
          "Thayir Sadam",
          "Vegetable Sambar Rice",
          "Peanut Rice",
          "Cucumber Pachadi",
          "Chili Dosa",
          "Curd Paratha",
          "Chettinad Chicken Masala",
          "Tomato Rasam Rice",
          "Chili Gobi Rice",
          "Rice with Raita",
          "Chettinad Prawn Biryani",
          "Palak Chapati",
          "Vegetable Kootu Curry",
          "Spicy Fish Curry",
          "Kadhi Pakora",
          "Rajma",
          "Gulab Jamun",
          "Biriyani",
          "Pakoras",
          "Dum Aloo",
          "Tandoori Roti",
          "Chole",
          "Chapati",
          "Achari Paneer",
          "Paratha",
          "Poori",
          "Keema Naan",
          "Lassi with Mint",
          "Alu Gobi",
          "Biryani with Raita",
          "Lahori Chicken",
          "Jeera Rice",
          "Pakistani Biryani",
          "Paneer Do Pyaza",
          "Matar Pulao",
          "Chana Daal",
          "Kadhi",
          "Lassi with Fruit",
          "Shami Kebab",
          "Khasta Kachori",
          "Rajma Chawal",
          "Puri with Aloo",
          "Moong Dal",
          "Chicken Seekh Kebab",
          "Kachori with Sabzi",
          "Navratan Dal",
          "Sarson Da Saag",
          "Matar Paneer",
          "Gobhi Paratha",
          "Paneer Ke Kebab",
          "Vegetable Paratha",
          "Shahi Pulao",
          "Gobhi Masala",
          "Paneer Pakora",
          "Bajra Khichdi",
          "Chicken Malai Kebab",
          "Chicken Tikka Masala",
          "Roti",
          "Poori with Sabzi",
          "Paneer Pasanda",
          "Vegetable Tikka",
          "Murgh Malai Tikka",
          "Lassi with Mango",
          "Dal Bati Churma",
          "Paneer Tikka Masala",
          "Keema Paratha",
          "Chana Daals",
          "Jeera Aloo",
          "Kaladi Kebab",
          "Sabzi Pulao",
          "Amritsari Kulcha",
          "Keema Methi",
          "Rajma with Rice",
          "Murg Pulao",
          "Aloo Baingan",
          "Balti Gosht",
          "Paneer Makhanwala",
          "Pakodi",
          "Gajar Ka Halwa",
          "Lemon Rice",
          "Chana Aloo",
          "Malai Kebab",
          "Vegetable Tikki",
          "Paneer Korma",
          "Tandoori Chicken",
          "Chole Puri",
          "Vegetable Jalfrezi",
          "Dum Gosht",
          "Chicken Curry",
          "Prawn Masala",
          "Masala Bhindi",
          "Grilled Fish",
          "Besan Chilla",
          "Masala Prawn",
          "Grilled Chicken Breast",
          "Shakshuka",
          "Pulao with Paneer",
          "Beef Steak",
          "Vegetable Pulao with Tofu",
          "Grilled Fish with Lemon",
          "Khichdi with Ghee",
          "Fulwadi",
          "Mutton Keema",
          "Tomato Chutney",
          "Shrimp Curry",
          "Avocado Salad",
          "Spinach Dal",
          "Pineapple Chutney",
          "Lauki Thepla",
          "Chicken Masala",
          "Moong Dal Khichdi",
          "Grilled Salmon",
          "Tandoori Fish",
          "Vegetable Pulav with Tofu",
          "Grilled Chicken with Veggies",
          "Vegetable Soup",
          "Chicken Salad",
          "Onion Raita",
          "Chicken Pulao",
          "Vegetable Tofu Stir-Fry",
          "Grilled Tofu",
          "Spinach and Paneer",
          "Boiled Egg Whites",
          "Cucumber Salad",
          "Zucchini Stir Fry",
          "Chicken Breast (Grilled)",
          "Tomato Soup",
          "Baked Salmon",
          "Steamed Broccoli",
          "Grilled Cauliflower",
          "Chia Pudding",
          "Lean Beef (Grilled)",
          "Carrot Salad",
          "Tuna Salad",
          "Broccoli Stir Fry",
          "Spaghetti Squash with Veggies",
          "Turkey Breast",
          "Grilled Asparagus",
          "Greek Yogurt with Berries",
          "Grilled Shrimp",
          "Zucchini Noodles",
          "Green Bean Stir Fry",
          "Chicken Caesar Salad",
          "Watermelon Salad",
          "Baked Sweet Potato",
          "Grilled Chicken with Salad",
          "Carrot and Celery Sticks",
          "Chickpea Salad",
          "Grilled Fish with Veggies",
          "Tomato Cucumber Salad",
          "Avocado Toast",
          "Baked Chicken Wings",
          "Grilled Mushrooms",
          "Raw Kale Salad",
          "Chicken Stir Fry with Veggies",
          "Baked Kale Chips",
          "Vegetable Stir Fry",
          "Tilapia Fillet",
          "Grilled Peppers",
          "Boiled Chickpeas",
          "Grilled Zucchini",
          "Steamed Green Beans",
          "Lean Ground Turkey",
          "Pea Soup",
          "Quinoa Salad",
          "Grilled Shrimp Skewers",
          "Steamed Sweet Corn",
          "Stuffed Bell Peppers",
          "Roast Pork",
          "Chickpea Soup",
          "Cabbage Stir Fry",
          "Turkey Meatballs",
          "Grilled Spinach",
          "Beetroot Salad",
          "Grilled Chicken Thigh",
          "Cucumber Tomato Salad",
          "Grilled Tempeh",
          "Beef Jerky",
          "Boiled Green Beans",
          "Roasted Chickpeas",
          "Grilled Mackerel",
          "Tofu Stir Fry",
          "Roast Butternut Squash",
          "Grilled Cod",
          "Boiled Eggs with Avocado",
          "Vegetable and Lentil Soup",
          "Grilled Lamb Chops",
          "Cabbage Soup",
          "Baked Eggplant",
          "Boiled Chicken with Veggies",
          "Grilled Asparagus with Garlic",
          "Steamed Brussels Sprouts",
          "Grilled Fish Tacos",
          "Boiled Sweet Potato",
          "Shredded Chicken Salad",
          "Steamed Tilapia",
          "Grilled Tomato and Zucchini",
          "Roasted Cauliflower",
          "Spicy Grilled Chicken",
          "Boiled Mung Beans",
          "Grilled Tofu Skewers",
          "Chicken and Veg Stir Fry",
          "Spinach and Feta Omelette",
          "Grilled Beef Steak",
          "Grilled Eggplant",
          "Tofu and Veggie Stir Fry",
          "Steamed Carrot and Peas",
          "Steamed Fish with Vegetables",
          "Boiled Lentils",
          "Grilled Trout",
          "Boiled Broccoli",
          "Steamed Methi (Fenugreek)",
          "Roasted Chicken with Veggies",
          "Vegetable Curry",
          "Roasted Cauliflower with Spices",
          "Roast Chicken Breast",
          "Tofu Scramble",
          "Grilled Pork",
          "Grilled Aubergine",
          "Grilled Chicken Salad",
          "Chickpea Stew",
          "Grilled Tuna",
          "Vegetable Sauté",
          "Roasted Pumpkin",
          "Spicy Grilled Tofu",
          "Spinach and Mushroom Stir Fry",
          "Grilled Vegetable Salad",
          "Grilled Lamb",
          "Vegetable and Chickpea Curry",
          "Grilled Salmon and Avocado",
          "Baked Tofu with Veggies",
          "Chicken and Chickpea Stir Fry",
          "Grilled Shrimp and Brown Rice",
          "Vegetable Lentil Soup",
          "Paneer and Spinach Curry",
          "Chicken and Quinoa Salad",
          "Grilled Vegetable Skewers",
          "Grilled Fish with Roasted Veggies",
          "Grilled Lamb with Veggies",
          "Spicy Baked Fish",
          "Tofu and Vegetable Stir Fry",
          "Masoor Dal with Rice",
          "Chicken Breast with Roasted Sweet Potato",
          "Grilled Veggie and Hummus Wrap",
          "Vegetable and Chicken Soup",
          "Grilled Paneer Tikka",
          "Spicy Lentil Stew",
          "Vegetable Frittata",
          "Tofu and Mango Salad",
          "Grilled Salmon with Avocado Salsa",
          "Quinoa and Roasted Vegetable Bowl",
          "Roasted Chicken with Sweet Potato Mash",
          "Vegetable and Lentil Wrap",
          "Stuffed Zucchini with Feta",
          "Baked Falafel with Tahini Sauce",
          "Grilled Fish with Couscous",
          "Grilled Eggplant with Pesto",
          "Grilled Chicken with Veggie Quinoa",
          "Masala Chana with Brown Rice",
          "Spicy Roasted Chickpeas",
          "Grilled Paneer with Spinach",
          "Beef Stir Fry with Veggies",
          "Grilled Zucchini with Yogurt Sauce",
          "Tofu and Cauliflower Stir Fry",
          "Grilled Chicken with Sweet Potato",
          "Vegetable Stir Fry with Tofu",
          "Grilled Turkey with Veggies",
          "Chickpea and Vegetable Curry",
          "Chickpea and Spinach Soup",
          "Grilled Paneer with Vegetable Quinoa",
          "Chicken Tikka with Cauliflower Rice",
          "Vegetable and Quinoa Stuffed Peppers",
          "Grilled Fish with Avocado Salad",
          "Roasted Chicken with Roasted Vegetables",
          "Lentil and Avocado Salad",
          "Chicken and Vegetable Skewers",
          "Vegetable and Tofu Stir Fry",
          "Chana Masala with Rice",
          "Grilled Chicken with Roasted Sweet Potato",
          "Grilled Fish with Veggie Couscous",
          "Vegetable and Hummus Wrap",
          "Grilled Lamb with Quinoa",
          "Paneer and Vegetable Curry",
          "Vegetable and Brown Rice Stir Fry",
          "Chicken and Cauliflower Rice Bowl",
          "Vegetable Lentil Soup with Quinoa",
          "Grilled Tofu with Avocado Salad",
          "Beef and Veggie Stir Fry",
          "Lentil and Spinach Curry",
          "Vegetable and Paneer Wrap",
          "Chicken and Spinach Salad",
          "Grilled Salmon with Roasted Sweet Potato",
          "Spicy Grilled Chicken Salad",
          "Lentil and Vegetable Stew",
          "Chicken and Mushroom Stir Fry",
          "Vegetable and Paneer Stir Fry",
          "Tofu and Broccoli Stir Fry",
          "Spicy Grilled Fish with Vegetables",
          "Quinoa and Vegetable Patties",
          "Grilled Chicken with Roasted Cauliflower",
          "Grilled Chicken with Sweet Potatoes",
          "Tofu and Spinach Stir Fry",
          "Paneer and Vegetable Tikka",
          "Masala Chicken with Rice",
          "Grilled Fish with Mixed Vegetables",
          "Vegetable Biryani with Yogurt",
          "Grilled Salmon with Veggies",
          "Chickpea and Tofu Salad",
          "Chicken and Brown Rice Bowl",
          "Grilled Paneer with Vegetables",
          "Spicy Grilled Fish with Quinoa",
          "Chickpea and Avocado Salad",
          "Spinach and Lentil Soup",
          "Tomato and Cucumber Salad",
          "Grilled Fish with Roasted Vegetables",
          "Grilled Chicken with Asparagus",
          "Chickpea and Spinach Curry",
          "Roasted Vegetables with Tofu",
          "Vegetable Salad with Lemon Dressing",
          "Lentil Salad with Roasted Vegetables",
          "Spicy Paneer and Veggies",
          "Masala Grilled Fish with Vegetables",
          "Vegetable and Chickpea Soup",
          "Tofu with Brown Rice and Veggies",
          "Quinoa Salad with Roasted Veggies",
          "Chicken and Vegetable Stir Fry",
          "Vegetable and Chicken Stew",
          "Grilled Vegetables with Tofu",
          "Spicy Vegetable Biryani",
          "Vegetable Stew with Coconut Milk",
          "Roasted Cauliflower with Chickpeas",
          "Avocado and Chickpea Salad",
          "Quinoa Salad with Grilled Tofu",
          "Spicy Lentil Soup",
          "Vegetable and Lentil Curry",
          "Chickpea and Spinach Stew",
          "Vegetable and Chickpea Biryani",
          "Tomato and Lentil Soup",
          "Grilled Paneer with Mixed Vegetables",
          "Chickpea and Spinach Salad",
          "Vegetable and Tofu Soup",
          "Grilled Tofu with Brown Rice",
          "Chickpea and Vegetable Stir Fry",
          "Vegetable and Lentil Stew",
          "Spicy Tofu with Vegetables",
          "Grilled Chicken with Vegetables",
          "Vegetable Curry with Brown Rice",
          "Chickpea and Cauliflower Soup",
          "Chickpea and Tomato Curry",
          "Grilled Tofu with Vegetables",
          "Vegetable Soup with Brown Rice",
          "Vegetable and Paneer Curry",
          "Spinach and Tofu Salad",
          "Grilled Fish with Salad",
          "Chickpea and Kale Soup",
          "Avocado and Quinoa Salad",
          "Grilled Tofu with Mixed Vegetables",
          "Vegetable Stew with Tofu"
         ],
         "type": "scatter3d",
         "x": [
          -0.07503718827855682,
          -0.03531702479556753,
          0.15672059105154001,
          0.10919225022093926,
          -0.17418862700213344,
          0.04695183507006995,
          -0.23046709256904585,
          0.07405708791793553,
          -0.15324176539295747,
          0.13355837800431325,
          -0.1357644455138871,
          -0.12710946757241487,
          0.12284393918130887,
          -0.01729670677092887,
          -0.14650411132086238,
          -0.1702441049721385,
          0.3465577092357305,
          -0.22024784906798406,
          0.101223741199579,
          -0.20457700054006467,
          -0.3620158330204505,
          0.12205052745572886,
          -0.17213805491642392,
          0.2552238955317302,
          -0.17903942788887367,
          -0.12696630078212162,
          0.12634271515209927,
          0.03050692024774848,
          -0.026952039921300353,
          0.20269176237090414,
          -0.30425863172050555,
          -0.08745149550388226,
          0.05570807211669959,
          -0.10068591610069194,
          0.1493796349003672,
          -0.23099823729604868,
          0.02218312144559431,
          -0.19258223998574153,
          0.11382979694819728,
          0.013195955224485245,
          -0.16682808788457798,
          -0.21080384451367057,
          -0.25523142799668713,
          0.15998237025244033,
          -0.20329926605106313,
          -0.036934346019319,
          -0.26144397654114665,
          -0.22608680347179205,
          -0.06987496542878391,
          0.16729087914704932,
          -0.33639901517855164,
          -0.18265634233658107,
          0.17223524621483233,
          -0.15278723412854062,
          -0.1880962689049715,
          -0.17061282864099858,
          -0.18342825561975656,
          -0.2627113808975935,
          -0.21228397099918495,
          -0.08939054360357168,
          -0.29629302761715237,
          -0.07284339901475079,
          -0.14483928946881203,
          0.14492584310675094,
          -0.16760311745317313,
          0.0022700152417993724,
          -0.15223859379486399,
          -0.37943934662763196,
          -0.15520422481971363,
          -0.22498005407811866,
          -0.24909056259368373,
          0.054299806925030225,
          -0.004820225374401854,
          -0.29636600743153063,
          -0.25017665301082964,
          -0.2102200649607704,
          -0.3769640076288177,
          -0.056364739998099656,
          -0.09387681628783345,
          -0.19488694496414427,
          -0.1617484252356316,
          0.10085556668282625,
          -0.1656418545788894,
          -0.3541242985289245,
          -0.18945336351099196,
          0.11837391612190373,
          -0.10456219211613421,
          -0.3192489590483916,
          0.003127365761673828,
          -0.14588743629231737,
          -0.02678350737080415,
          -0.30900281222846193,
          -0.21571138908349086,
          -0.4107188363960953,
          -0.13832435702056484,
          -0.15582980089552656,
          0.02760407829978362,
          -0.3319122990577079,
          -0.23679132340966008,
          -0.15781936251949868,
          -0.21364394469763254,
          -0.2298706990262095,
          -0.20970063466672673,
          -0.22524922146622894,
          -0.1528738942007744,
          -0.09466858543249662,
          -0.31494323597099705,
          -0.1689820767084081,
          -0.06664750035005296,
          -0.24147440534943393,
          -0.08272216583159547,
          -0.16444756935839394,
          0.0031541935280264832,
          -0.18716544320382683,
          -0.2173281520739752,
          -0.10953026018785672,
          -0.18207503708092293,
          -0.1978980267513719,
          -0.21846835740741655,
          -0.053848101310251195,
          0.06815765001658047,
          -0.25822441445847916,
          -0.16905381776598422,
          -0.09922994229704418,
          -0.1638010626804789,
          -0.2843513801248674,
          -0.12106865402940592,
          -0.10424567653912076,
          -0.18299221561414092,
          -0.13676103375786425,
          0.035594705403614424,
          -0.18380233568562587,
          -0.28006752701716164,
          -0.023274101000775538,
          -0.21410661982735796,
          -0.1863812338531015,
          -0.05173971428992086,
          -0.29796898816994916,
          -0.15932874230490301,
          -0.05084295546321027,
          -0.164933558886121,
          -0.0072451858968949345,
          -0.10506274559182976,
          -0.16504545212480176,
          -0.03146005922001083,
          -0.12356539326617505,
          -0.18292019276236754,
          -0.12907488204523804,
          -0.05643736921992826,
          0.22918601551807993,
          0.26438481066222685,
          0.1498767142625449,
          0.27169384866272206,
          0.2434994437985365,
          0.17547112041667312,
          0.38184162931793797,
          0.2522082393548002,
          0.2820118240067718,
          0.25308674029320866,
          0.18328813299449764,
          0.22877353999025452,
          0.1929763055622321,
          0.20121214547739286,
          0.193241012520324,
          0.2924492232236696,
          0.13240222862239936,
          0.25688852525436623,
          0.5453163029971932,
          0.34847579768078996,
          0.2716553104292164,
          0.10437564467509153,
          0.3940359799195736,
          0.1463767090431931,
          0.278404717528998,
          0.4144670953469747,
          0.3137228504272602,
          0.0986495190350617,
          0.2227372400539318,
          0.36976350459114293,
          0.3009436856746007,
          0.44968318673469976,
          0.2573544209688724,
          0.2569674625206362,
          0.3414198691858775,
          0.3532964898642682,
          0.2204554375811163,
          0.39322838091553314,
          0.2166007959134082,
          0.34472056333527656,
          -0.493369194058292,
          0.3210226437495849,
          0.23885716427531112,
          0.3391629498382862,
          0.33702281541203494,
          0.339616456494224,
          0.24769417642417957,
          0.4543212899222786,
          0.2355145243795561,
          0.46442725631730886,
          0.27176128771886143,
          0.2879958894128585,
          0.04752433315283733,
          0.16528160196493957,
          0.1780996758643043,
          0.24373329069614103,
          0.13175147853231883,
          0.2750209148668886,
          -0.01499093253362982,
          0.04960247670080897,
          0.23376900333046113,
          0.2847870011011593,
          -0.07180847751734754,
          0.1495884527015643,
          0.26359978086394054,
          -0.04360794952413771,
          0.23690556062816204,
          0.36039547734612376,
          0.10866728091402189,
          0.20235716555660943,
          0.11961469871032715,
          0.16544557760732603,
          0.09427225692034247,
          0.246650389835949,
          0.18072618984163746,
          0.20393187919844846,
          -0.008163202465650943,
          0.2548436659175237,
          0.10728206540989138,
          0.3377799678078265,
          0.4007589193452825,
          0.22342829618477822,
          0.19932827979996914,
          0.2576234311206115,
          0.3595389859264203,
          0.051340231922088586,
          0.24583800810514433,
          0.1463594594917672,
          0.10800741158077953,
          -0.34851049994056926,
          -0.1898054298089093,
          -0.15421396904003987,
          -0.18750612864737976,
          -0.12352247896922691,
          -0.16622055113999235,
          -0.14600978717845248,
          -0.0374249027569894,
          -0.20255709512775,
          -0.41506565836056175,
          -0.16570403149910506,
          -0.22952268354746136,
          -0.21721321930503534,
          -0.3591897590957631,
          -0.26009688336220177,
          -0.10817666267937898,
          -0.09165308274934669,
          -0.37814282519906584,
          -0.06887163177751021,
          -0.375662905023608,
          -0.033994307606069474,
          -0.21398503565618127,
          -0.20994118318703536,
          -0.18498293712837321,
          -0.12723590193967887,
          -0.18195220974074633,
          0.17161189425754386,
          -0.12282714402640321,
          -0.1495424580353502,
          -0.47542201652131916,
          0.09639128227905414,
          -0.3408459110451778,
          -0.004904899936901463,
          0.12342253489846922,
          -0.12418374164124402,
          -0.14489966158085021,
          -0.18082014451034506,
          -0.3001593955124344,
          -0.13120512585277805,
          -0.053136610165214315,
          -0.24479044738371392,
          -0.15733429995768516,
          -0.2735957212667599,
          -0.06025189281714949,
          -0.35251901732375923,
          -0.33625282385483357,
          -0.3880865849635394,
          -0.3550297318584783,
          -0.003964372871246735,
          -0.12737018689589008,
          -0.0715374734824974,
          -0.2700165182033721,
          0.11265884855473884,
          0.08303225429627759,
          -0.0029099133260281906,
          0.14106311529760573,
          -0.02098608438900007,
          -0.031893552181633256,
          -0.2016020722207723,
          -0.1502085009252177,
          -0.18748363913091926,
          0.18174424317970506,
          0.016222645970856653,
          0.10321061027603917,
          0.04455395889816405,
          0.05992267615448621,
          -0.12987088889843607,
          -0.12274462648977436,
          -0.20468523054588128,
          0.2253056349698025,
          -0.15080475951444766,
          -0.09317877563232968,
          0.19058156248580227,
          -0.00344238333080249,
          0.23782803372043704,
          -0.244638286467125,
          -0.22342849344810123,
          0.05288150149976434,
          0.24565658811966762,
          0.0032592519898302363,
          -0.05010120009142294,
          -0.17820990073569004,
          -0.1056393170884089,
          0.18568186251047214,
          0.01232526127042477,
          0.04873915492691916,
          0.21836084697827796,
          0.042626884472278026,
          -0.2600483248188622,
          0.23312132608773684,
          -0.1327433142178585,
          0.00507839526923326,
          0.1080775229073967,
          0.10666588479968808,
          -0.37779264111677724,
          -0.3142212246974087,
          -0.30339152574827927,
          -0.278710786889232,
          -0.3332201593735828,
          -0.31598755577859494,
          -0.35791248701320294,
          -0.3411161833648918,
          -0.26090778767400385,
          0.1602824492394872,
          -0.13802792706288625,
          -0.124142777175487,
          0.127086856673983,
          0.0771278032040249,
          -0.2363627695850517,
          0.1457494879884429,
          0.17995270557279575,
          -0.2149887115103562,
          -0.2088682480506302,
          -0.27848320100626084,
          0.1522520880531848,
          -0.06691763088484148,
          0.20004885226612146,
          -0.20494576407164783,
          0.09616691010812695,
          -0.23821432901386347,
          0.008086567481287554,
          0.20617416763247642,
          0.18214461352896982,
          0.014534055538845903,
          0.259294170279169,
          -0.13149950236915914,
          0.32203571637948547,
          0.0015934077932411306,
          0.23390558201680967,
          -0.011736609413673271,
          -0.17874237074046428,
          0.004975255513077648,
          0.058580162101681155,
          0.20058132227089576,
          -0.15705697518178813,
          -0.12568040007647863,
          -0.19364238170546494,
          0.055172099518907114,
          -0.1288436541532022,
          -0.20863032864288683,
          -0.1855957569385166,
          -0.1628862004859709,
          -0.3543183526073548,
          -0.25278011203080436,
          -0.12788962810665983,
          0.053535296091434814,
          -0.1506945979564212,
          -0.18168172321818948,
          -0.21071179215262897,
          -0.08746114107818614,
          0.011938962602079384,
          -0.23317104720145088,
          -0.09371124563710392,
          -0.058233674501589006,
          -0.13672758974382454,
          -0.15344134685190497,
          -0.14051660452227976,
          0.11909924900513791,
          -0.2221740535655533,
          -0.23117122516488053,
          -0.42255760402505205,
          0.0007660173828670791,
          -0.14506882844547747,
          -0.3126988876313087,
          -0.08202381063968583,
          0.09457494018557377,
          -0.08001847554822222,
          -0.14944494747745118,
          -0.18198012860863344,
          -0.15943390974954763,
          -0.16708630762963128,
          -0.0782429063240061,
          -0.08244613824792346,
          -0.1551537044536873,
          -0.2539846725139805,
          -0.10443733153384849,
          -0.18201988642846434,
          -0.08666156873271563,
          0.019788696222498348,
          -0.14468116204230336,
          -0.16983617946987556,
          -0.3115034943684874,
          -0.23885006871604592,
          -0.21942879712318153,
          -0.14639877435381649,
          -0.18163634276553708,
          -0.30193891497388764,
          -0.03862919298326384,
          -0.11848447621383135,
          -0.03918341828732286,
          -0.3614161635809281,
          0.01110853331873618,
          -0.10661388748923395,
          -0.2534446780408365,
          -0.22252370818658818,
          -0.16455681550165507,
          -0.2337310140075533,
          -0.2221684443330224,
          0.004750235847906348,
          -0.39114125080058154,
          0.11653154038521818,
          -0.16766422199677555,
          -0.24338911470969254,
          -0.17146966039159367,
          -0.12282714402640321,
          -0.0004744538352600136,
          -0.123437944306448,
          -0.3959389196022956,
          -0.3978436882679063,
          -0.10653850573371004,
          0.02285906655196579,
          0.0001671281135972036,
          0.007607244065958918,
          -0.2530000275841118,
          -0.22422186275595923,
          -0.37357961450576815,
          -0.23465360885176928,
          -0.123437944306448,
          -0.18333536878078233,
          -0.1860753739392499,
          -0.10255615876329999,
          0.07779688852611988,
          -0.14974305768185836,
          -0.1789293836201512,
          -0.16872501290399838,
          -0.4334110321145256,
          -0.1934446293973307,
          -0.199935581158327,
          -0.14017006396242487,
          -0.19141024375436855,
          -0.13736510875046037,
          -0.07311404823989254,
          -0.20148173220606563,
          -0.1672610959782348,
          -0.1794336563244227,
          -0.06826783541701031,
          -0.15694608530123827,
          -0.14239552047961634,
          -0.12737018689589008,
          -0.07620015444746847,
          -0.16449165029340485,
          0.17569824086503183,
          -0.2376229434441986,
          -0.1744831111517734,
          -0.18025407276073357,
          -0.21662129621604637,
          -0.13432726605631368,
          -0.06602951754195452,
          -0.19019136172190132,
          -0.1484609415306446,
          -0.19509245740820658,
          0.1948441458360317,
          -0.18164098040527382,
          -0.4139823984280611,
          -0.08682559677873453,
          -0.0957728303537228,
          -0.3110894956467158,
          0.05689703594458706,
          -0.17990744191894953,
          -0.2947178892380004,
          -0.20225267400805014,
          -0.19056679745602817,
          -0.0899372204123855,
          -0.11300055241850548,
          -0.2766540709171389,
          -0.1626552557968723,
          -0.11112411027047053,
          -0.18715051719365206,
          -0.13391990933989545,
          -0.013465534391143286,
          -0.10413296854176418,
          -0.04887617685127765,
          -0.19881058366503973,
          -0.1609527088745863,
          -0.08949946923717234,
          -0.20897300198958607,
          -0.12965487409438214,
          0.33469989152420876,
          -0.14010253453018756,
          -0.05593274858816821,
          -0.2040143570838011,
          -0.2890107477098101,
          -0.1563748175754356,
          -0.15590937433207624,
          -0.11578665998063492,
          -0.22207452653321974,
          -0.12084665561728875,
          -0.23688330091838083,
          0.09372808416924094,
          0.2065298241161213,
          -0.15483205107395137,
          -0.16067284115163,
          -0.10911146113096726,
          -0.15528019663373055,
          -0.18700425859373737,
          0.018504460296169367,
          -0.17152386059895675,
          0.284183543273843,
          -0.1479056546078778,
          -0.2775032947147341,
          -0.1832197644122926,
          -0.09627867020009173,
          -0.1626552557968723,
          -0.13069356940672983,
          -0.07218916542472198,
          -0.05082994022762677,
          -0.10454652232161238,
          -0.18366236108907963,
          -0.24209810289448536,
          -0.12968757192992109,
          -0.09300969894297606,
          -0.20457432388990354,
          -0.12802524795330528,
          -0.10146532934925206,
          -0.1459927003427512,
          -0.1433473106233779,
          -0.07469618654854443,
          -0.15050748728193714,
          0.1564167791204082,
          -0.13432726605631368,
          -0.07404703602535678,
          -0.09994987640835074,
          -0.1590453924138328,
          -0.15957463272439137,
          -0.06388182937754283,
          0.09427225692034247,
          -0.1137064051811047,
          -0.380538366415218,
          -0.12968757192992109,
          0.2754372985160214,
          -0.10163146658680439,
          -0.1899425655910424,
          -0.11149761818450371,
          -0.14647587496299702,
          -0.05082994022762677,
          -0.12378725676579633,
          -0.1105491075081606,
          -0.08637966932579255,
          0.13870034096372463,
          -0.13432726605631368,
          0.2068747199328106,
          -0.12300029510793814,
          -0.12924721450909327,
          -0.0808561840774858,
          -0.19625373356906423,
          0.06388104146326778,
          -0.11358182928009458,
          -0.2244593046496285,
          -0.13612830823020883,
          -0.19056679745602817,
          -0.12599172372012912,
          -0.12968757192992109,
          -0.10961236939301028,
          0.19762524495748368,
          -0.10075313876928943,
          -0.16597065944087525,
          -0.13612830823020883,
          -0.14232920143559308,
          -0.07239646451045811,
          -0.1351639375558571,
          -0.0943673338792661,
          -0.1228070321859257,
          -0.12887553628310927,
          -0.17342076598711115,
          -0.15363802614043953,
          -0.14843812461265204,
          -0.04501777341824109,
          -0.13199410146510115,
          -0.07404703602535678,
          -0.09088696614983865,
          0.12034553702558126,
          -0.1277699012297518,
          -0.14130208939889505,
          -0.12283130425542138,
          -0.1462688511804054,
          -0.09674726608780027,
          -0.12322009222794472,
          -0.15363472269933076,
          -0.14357674103164053,
          0.2959202501358532,
          -0.19497278261665935,
          -0.08770016744798242,
          0.22131529957869178,
          -0.17866588062382888,
          -0.10082170320396527,
          -0.2982361791929014,
          -0.1722828109757813,
          -0.2683880503255293,
          -0.06770294659692244,
          -0.08098258161715122,
          -0.14935200950551436,
          0.23983655635191914,
          -0.11662552986787511,
          -0.11551963848373803,
          -0.15355878461556144,
          -0.11735493862948537,
          -0.12356539326617505,
          -0.11578665998063492,
          -0.14455017956093213,
          -0.10163146658680439,
          -0.10036677734200145,
          -0.17132972778864386,
          -0.1567473806370812,
          -0.03050707709185274,
          -0.1370193762050786,
          -0.16288750111576633,
          -0.10163146658680439,
          -0.14357674103164053,
          -0.354680484731456,
          -0.1694969011675998,
          -0.16449165029340485,
          0.1275645146297395,
          -0.10163146658680439,
          -0.14232920143559308,
          -0.15363802614043953,
          0.040509210647788896,
          -0.09488349356643738,
          -0.09627867020009173,
          0.208982666278256,
          -0.08631965340378034,
          0.09888908185426792,
          -0.3355603176857538,
          -0.2077210320531802,
          -0.1679214394602978,
          -0.0980203012494047,
          -0.1968038112049887,
          0.0118911119973244,
          -0.2009490608740055,
          0.20148494530046013,
          -0.187799467511712,
          -0.23989170772395801,
          -0.14823065986704653,
          -0.19415176077391227,
          -0.20792641766223047,
          -0.04501777341824109,
          0.2857197683696272,
          -0.18671037493442583,
          -0.0957457777045625,
          0.15283563657060173,
          -0.19823974587392296,
          0.09822845634231703,
          -0.08655396284549344,
          -0.22498334402500164,
          0.21161827494127672,
          -0.11727162765623012,
          0.09534196941436734,
          -0.14715338748309698,
          0.07615704266641998,
          0.367184351606472,
          -0.13018914428494383,
          -0.022699717291720378,
          -0.10033295104356571,
          0.04694159691535127,
          -0.1708308793725013,
          0.2603494772391669,
          -0.1685994892914346,
          -0.1063984125188181,
          -0.11628248119366408,
          -0.10578361562208677,
          -0.1497014015568332,
          0.36976682654063875,
          0.13234908593093808,
          -0.2009490608740055,
          -0.18055595483358244,
          0.12195565651691387,
          0.020673115948751764,
          0.2604237232195047,
          -0.21532184664586795,
          0.03196362845321066,
          0.1132153484190479,
          -0.08394487985019644,
          0.06377450559802866,
          -0.20710008953328868,
          0.2630400343960342,
          -0.17488571330673858,
          -0.12427076548881005,
          0.2293087393583344,
          0.07115747572386077,
          0.20316796285842909,
          -0.15055486781533056,
          0.12743949321791703,
          0.13570906619151402,
          -0.10435653803323142,
          -0.3568854808619652,
          -0.1297754460109944,
          0.10237655467697448,
          0.24244985819236609,
          -0.1720052580722295,
          0.02871014363218405,
          0.2704492386274391,
          0.04672634583650859,
          -0.17979834719393512,
          0.14024741795031193,
          0.18019083862179552,
          0.11071846967292409,
          -0.11411167521800064,
          0.1448083764332011,
          0.00022292404666768295,
          0.13040606452333492,
          0.5901744913435711,
          0.1151384654779446,
          0.0340710009540488,
          0.26941120789279804,
          0.05225392848832355,
          0.22596385959348786,
          -0.006237177720726184,
          0.01991243939831977,
          0.22279497200387566,
          -0.1433264424543379,
          0.1823557061345623,
          -0.11292024597594558,
          0.061053014540024764,
          -0.24841420549564103,
          0.0340710009540488,
          0.19469448077997797,
          0.009698655629296615,
          0.31625771744302356,
          0.23724031349074426,
          0.05258639623899941,
          0.275077430745853,
          -0.1161074994010961,
          0.27582459291869,
          -0.1514931342932075,
          0.1656259938702006,
          0.04053023888038598,
          0.31265521615358416,
          0.1825677790412359,
          0.6182749825674689,
          -0.12608156936055553,
          -0.02353769324328825,
          0.5813033175287929,
          -0.06636995650512012,
          0.25850990194314605,
          0.08927198010668369,
          0.07837714566382925,
          0.016826127860266382,
          0.42261618697465997,
          -0.14279397244956366,
          0.4708583488647773,
          0.02968896128416121,
          0.05140230234479848,
          0.590405114384948,
          0.007800639610926585,
          0.10782760140808234,
          0.47981805577692915,
          -0.005936571716678829,
          -0.030855727580095804,
          0.2523040388183716,
          -0.1800455965325075,
          -0.032646660366388636,
          0.35834335221125724,
          -0.08113080594738492,
          0.02435747606309746,
          0.30048985951956153,
          -0.09636846374738783,
          0.04715726793411912,
          0.29088831824631733,
          0.015348433148054674,
          0.061053014540024764,
          0.37568392866935874,
          -0.017618095588670446,
          0.01599305185144484,
          0.4507660142014487,
          -0.01810209343161029,
          0.06994063368909986,
          -0.023030943640162782,
          -0.1255490993557813,
          0.45662996942728684,
          0.07255030195032375,
          0.04682463510253432,
          0.32758385672324464,
          -0.06305285684478101,
          0.0914005999481744,
          0.3703431683809433,
          0.10474743121500896,
          0.011014865640001537,
          0.3729857273107612,
          0.029853802988350275,
          0.03792057061916221,
          0.37704947468295447,
          -0.05522807290484799,
          0.20360657937135185,
          0.3462178914318651,
          -0.06826797252349015,
          0.061053014540024764,
          0.3941037856708992,
          0.19636063279762106,
          -0.06459041482951111,
          0.5227194573786309,
          0.18242779389763897,
          0.07391584796391959,
          0.3481066323828834,
          -0.03470529724520921,
          0.0340710009540488,
          0.3953807985871213,
          -0.018983641602266288,
          0.08796294036292418,
          0.28773900971337396,
          -0.00830003544328528,
          0.4200065187134361,
          0.5240850033922269,
          -0.006769647725500372,
          -0.018983641602266288,
          0.37568392866935874,
          0.13694456047969417,
          0.1803691570188185,
          0.3035863099660231,
          0.17039508705935913,
          0.4213720647270318,
          -0.05522807290484799,
          0.13557901446609832,
          0.006435093597330854,
          0.3262183107096488,
          0.15176822261768397,
          0.4199344309503594,
          0.04118624869446019,
          0.08659739434932834,
          0.3422426771570455,
          0.06163902217317241,
          0.01374595766719311,
          0.4932534201411374,
          0.15797408574245841,
          0.337313826948493,
          0.028855885275339666,
          0.4037452227987738,
          0.06859153300980103,
          0.43883828579483963,
          0.03729239725006894,
          -0.05730527116129758,
          0.2125662862835037,
          0.004562797980609545,
          0.05968746852642903,
          0.36814541019958236,
          0.0905190517775184,
          0.28586671409665265,
          0.2358593510648167,
          0.2780254848224225,
          0.28862055788402996,
          0.08487644452570586,
          0.21272690714395426,
          0.3153327513341462,
          0.03217298493567877,
          0.3217199014974068,
          0.2845011680830568,
          0.2928491469604124,
          0.17318899178227565,
          0.09135212778634005,
          0.3153327513341462,
          0.09709971346982338,
          0.17715493098974378,
          0.25258819948812183,
          0.06698905752893947,
          0.24286539952981867,
          0.10897179944765278,
          0.3077942328643699,
          0.039546661701266084,
          0.2845011680830568,
          0.10897179944765278,
          0.1040265039048035,
          0.1049244974097564,
          0.2766599388088268,
          0.05518905931418694,
          0.2577889746329406,
          0.08298770357468754,
          0.059154998521654734,
          0.19396514224347716,
          0.2845011680830568,
          0.019491438550270024,
          0.20044082550411146,
          0.33718818233878667,
          0.11886661137709031,
          0.2985318151477643,
          0.1049244974097564,
          0.08595572506914484,
          0.18189532389286478,
          0.2845011680830568,
          0.09188459779111424,
          0.33718818233878667,
          0.31553048370692915,
          0.11812923873258774,
          0.3277444775836952,
          0.15780924403826935,
          0.07219489814029711,
          0.3063565990876973,
          0.26399483775771504,
          0.07974269167742509,
          0.2661533988445931,
          0.18189532389286478,
          0.07677467018296769,
          0.2985318151477643,
          0.09593907009595604,
          0.12271618104220361,
          0.2845011680830568,
          0.1323647884370236,
          0.15536441748123464,
          0.2969128943326058,
          0.2691214203390504,
          0.2985318151477643,
          0.08595572506914484,
          0.2893579305285324,
          0.16914168974437926,
          0.15933963175605426,
          0.2893579305285324,
          0.07677467018296769,
          0.3144512031634902,
          0.31882396776602606,
          0.16777614373078353,
          0.18780775128053717,
          0.29608698859072957,
          0.3153327513341462,
          0.09573416745622765,
          0.32396699568165843,
          0.21128927336728154,
          0.2893579305285324,
          0.22754339901499876,
          0.3088570680735119,
          0.18052977787926894,
          0.14045939251281636,
          0.06995707902339687,
          0.33583908165948795,
          0.2845011680830568,
          0.19017121500714362,
          0.10646205539448661,
          0.09188459779111424,
          0.18780775128053717,
          0.2680092491270174,
          0.3326012400291708,
          0.2125662862835037,
          0.18780775128053717,
          0.13485808715589287,
          0.2879923845149367,
          0.2845011680830568,
          0.2298996924746598,
          0.12649366294424025,
          0.16130046047014934,
          0.12271618104220361,
          0.18727528127576287,
          0.16622214041175642,
          0.12507964476881006,
          0.18774283378440582,
          0.15483194747646034,
          0.16865769190143942,
          0.15880716175128007,
          0.24831954947620027,
          0.18727528127576287,
          0.18207661093135086,
          0.16622214041175642,
          0.1926716839929581,
          0.13641209047491998,
          0.17054643285245774,
          0.3201895137796218,
          0.1273031233518196,
          0.10646205539448661,
          0.15536441748123464,
          0.18727528127576287,
          0.13641209047491998,
          0.2607312757257493,
          0.16130046047014934,
          0.3326012400291708,
          0.13641209047491998,
          0.1573252461953295,
          0.16777614373078353,
          0.1010656526772915
         ],
         "y": [
          0.2961573347192062,
          0.674779826934323,
          0.025643657529030278,
          0.42216742808994673,
          0.28190410968108065,
          0.034972784789667866,
          -0.09582642454684343,
          0.40577579487155874,
          0.16176983952163743,
          -0.09622720797926619,
          0.05011039515193119,
          0.05986231584423177,
          0.02734739586899962,
          0.7873107696506347,
          0.17246965520668606,
          0.9095114768973751,
          0.026419385188322597,
          0.02718595542231253,
          0.02517175328981941,
          0.4102782264847615,
          0.2666911428982436,
          0.0442617702906998,
          0.1671497885901141,
          -0.09527369018789807,
          0.16233312535787042,
          -0.09317927812519385,
          0.16525265740838357,
          -0.09345394145229642,
          0.2820115221990976,
          -0.08989036218315286,
          0.029470141881915546,
          0.3012560218355792,
          -0.08615540671304606,
          0.3034575624920752,
          -0.1076388935025974,
          0.2893462796651227,
          0.9213681539237375,
          0.035672542549402025,
          0.15564253165802577,
          0.031219189024598776,
          -0.08113288435465316,
          -0.07538811784135387,
          0.2644725692290744,
          -0.09455167758879765,
          -0.09137752483394859,
          0.04274820516725386,
          0.1724686033346316,
          0.15431532510749346,
          0.16080276825640866,
          -0.10660093290835133,
          0.03864704401465072,
          -0.08940066101844703,
          0.16704756658951314,
          -0.08429052102039347,
          0.16124081109552058,
          0.16581465458246525,
          -0.10044979170160234,
          -0.09634871150436813,
          -0.0880033772529635,
          -0.07805785970715709,
          0.03943819679190341,
          -0.09250925848705945,
          -0.09253247440062405,
          0.04359405461858237,
          0.03892739809214074,
          0.03246233123379297,
          0.16395285840406748,
          0.046884534865727995,
          -0.08694836059110934,
          0.02229897466510697,
          0.030177373893278958,
          -0.07919608024037489,
          0.02612134403869168,
          0.040922203223348,
          -0.08785114451611642,
          0.03978684099808705,
          0.5383620104505153,
          -0.0912700256387412,
          0.40645946461365706,
          0.6636336810779213,
          0.03864659972972778,
          0.4045311259333915,
          -0.08673050693354886,
          -0.08808699920635506,
          -0.08701252247127086,
          -0.1012497251783931,
          0.7769101274511847,
          -0.07847102103925382,
          -0.09759200450826289,
          0.15822337885718868,
          -0.09556335401257668,
          -0.08289768805469493,
          0.16053042672943957,
          -0.09105524540708745,
          -0.08943042871994653,
          -0.0829816039094338,
          -0.08373174086337282,
          -0.08075723239622166,
          -0.0920459854107954,
          0.28685610827036884,
          -0.08509463090123018,
          -0.07707992426591792,
          -0.09311627637438802,
          -0.0791203157682525,
          -0.08261372067277745,
          -0.09512718839492346,
          -0.11678492365316123,
          -0.08853652565260334,
          -0.07673887618899622,
          -0.1070973894916142,
          -0.09167345661000229,
          -0.09604599019467774,
          -0.10365865129451526,
          -0.10018642595186823,
          -0.09454676045108953,
          -0.07731230642342185,
          -0.09362653502480557,
          -0.09391799892728886,
          -0.08413667356741077,
          -0.08955284604018128,
          -0.07944402523827404,
          -0.09672465529513014,
          -0.08890779516173206,
          -0.08894273119090557,
          -0.09010367863722804,
          -0.09781839295535119,
          -0.08950351491872974,
          -0.08501607040089247,
          -0.08821420985782433,
          -0.0872675758676035,
          -0.0926307337384407,
          -0.09370964959705265,
          -0.10095073955853637,
          -0.09547589346293411,
          -0.10186786826958377,
          -0.088088340490932,
          -0.07950876692948039,
          -0.10420815841076177,
          -0.08983569171641084,
          -0.09039746426791742,
          -0.0882399843968889,
          -0.08855941913587831,
          -0.09341439937162349,
          -0.08795841858781675,
          -0.08979096043575138,
          -0.08813168176743565,
          -0.1030073548962537,
          -0.08935177801341138,
          -0.07664400343543856,
          -0.08156040956133376,
          -0.08343693088438839,
          -0.07812056017252766,
          -0.08251087757620287,
          -0.08751296288199906,
          -0.09174523036034804,
          -0.08291361862156424,
          -0.07937121042745617,
          -0.08704435009859118,
          -0.08976449787476265,
          -0.10658556139626005,
          -0.0917140647103575,
          -0.08672010228092938,
          -0.08427668886381132,
          -0.0789413577207354,
          -0.07971610214631313,
          -0.09060585315417144,
          -0.08023288195723402,
          -0.07820215290692821,
          -0.07366194596456188,
          -0.08879319337597427,
          -0.11056593251254866,
          -0.08749332837917212,
          -0.08038590560651351,
          -0.09208887702566289,
          -0.08359079542517067,
          -0.07783815777797064,
          -0.08763855619115694,
          -0.08107597165792643,
          -0.07465124621142137,
          -0.08078845022632342,
          -0.07445125429643379,
          -0.08274026932677864,
          -0.082332927532805,
          -0.08236781892972261,
          -0.08234546390899794,
          -0.0884539702595196,
          -0.07142134128094853,
          -0.09138597630517538,
          -0.0898668728681807,
          -0.13465493274210696,
          -0.07107929865889552,
          -0.08442455038337013,
          -0.0766733774914767,
          -0.08959863162034211,
          -0.08010908899368979,
          -0.09248259182973692,
          -0.07998219040893179,
          -0.09213362074157766,
          -0.07541470588300608,
          -0.07955033382241841,
          -0.07079086831188881,
          -0.08221489850056499,
          -0.07625134575174564,
          -0.07430241294114501,
          -0.07809813180463862,
          -0.06968913165170743,
          -0.09132081117768179,
          -0.07389115190633652,
          -0.08277753524079554,
          -0.0727365315916271,
          -0.0772596465490607,
          -0.08264867484540653,
          -0.08261108367160684,
          -0.09969180586758511,
          -0.09436371247246195,
          -0.08251325310550406,
          -0.07381994775738757,
          -0.08009185335080386,
          -0.09228716252229727,
          -0.08850633222901066,
          -0.08248096410352163,
          -0.07562787555987838,
          -0.07719737176272455,
          -0.06276964465092054,
          -0.09564328753892778,
          -0.06947603060547111,
          -0.07189922620168604,
          -0.0886111998377242,
          -0.06877339446235735,
          -0.07617852182604662,
          -0.07629237193925922,
          -0.07631081512992621,
          -0.06518114678770318,
          -0.07830878157677812,
          -0.06698141092714596,
          -0.07557368740572383,
          -0.0768291228791665,
          -0.08487254707351352,
          0.2906415350866042,
          -0.08527269085310307,
          -0.09388435069079526,
          0.037730445104162263,
          0.4096428520948931,
          -0.08248728691800988,
          0.03524826522648514,
          -0.08839797903775154,
          0.14861548532159885,
          0.036092361535044165,
          -0.07493670841203295,
          -0.0740960168959377,
          -0.06576025548801269,
          -0.08659111833897609,
          -0.09356211370292752,
          -0.08889068659863575,
          0.42045471726786704,
          -0.08682288302552493,
          -0.09233430872453008,
          0.16682560890804832,
          -0.08027711875696515,
          -0.08427538567418463,
          -0.0904234113770914,
          -0.08753400735186423,
          0.03273434559067001,
          -0.0928803242547826,
          -0.08242853029916486,
          -0.08137671854346737,
          -0.09596475705604054,
          -0.10128364803487418,
          -0.08100862982667198,
          -0.08381394912105139,
          -0.0903224630092127,
          -0.08561188189313965,
          -0.08627039996959672,
          0.03196501463933929,
          -0.09085354538312677,
          -0.09148506913225468,
          -0.0841070027051448,
          0.03511949770119399,
          -0.09525108964959687,
          -0.09422824538601662,
          -0.09354434666261577,
          -0.08216887994190397,
          -0.08031001909706101,
          -0.09711728061958454,
          -0.0841584539000525,
          -0.09693402327044934,
          -0.08735994726257378,
          -0.09842087917277098,
          -0.10108140630733103,
          -0.1048042353134738,
          -0.08973469092827363,
          -0.08921505590440545,
          0.15564384872467957,
          -0.07508559989001838,
          -0.08170496027192065,
          0.03878811479795363,
          -0.09093344351067163,
          -0.0904929695557734,
          -0.08128110028733151,
          -0.0920641913098208,
          -0.08584970299451423,
          -0.07551236886670994,
          0.16003296201884099,
          0.5316304389532442,
          -0.0921679721082383,
          -0.08517337181396276,
          -0.09095966041285002,
          0.5340850608191356,
          -0.08235620240711797,
          -0.0719841266878494,
          0.03442741815321437,
          0.28022809867474596,
          0.16066030740362486,
          0.040266743990556575,
          -0.07794295008802173,
          0.030575550201422053,
          0.04183635651212811,
          -0.09415901401789784,
          -0.0950897102974636,
          -0.09151294367711435,
          -0.07931486883756436,
          -0.09060516197661621,
          0.2855170463707005,
          0.025351325936253777,
          -0.08541789441869416,
          -0.09041795050150403,
          -0.0992150471008936,
          -0.08156881636832906,
          -0.0647743679101914,
          -0.090650211615985,
          -0.0862056693482684,
          -0.0954431831461591,
          -0.08332214127339177,
          -0.09195006380324158,
          -0.07696881938931269,
          0.03882361241807547,
          -0.08991443111556562,
          -0.09807088538444986,
          -0.09101425567508468,
          -0.09163412576023887,
          -0.0772082418810198,
          -0.09041900081863587,
          -0.09154020340663498,
          0.032948608396912216,
          -0.0837508367842894,
          -0.0875627917744764,
          0.02922055364616924,
          -0.09434996900849943,
          -0.08585199845926705,
          -0.1010346268130303,
          -0.0753037450425303,
          -0.08643938032958356,
          -0.09014509157910379,
          -0.08976395968540604,
          0.03967876995333253,
          0.03650845910523631,
          -0.08465553524596575,
          -0.09755559594082419,
          0.03381770732504294,
          0.034670235072200906,
          -0.0804407917057672,
          -0.07677927539454657,
          -0.08738946153936972,
          -0.0810241045070073,
          -0.07999429703799799,
          -0.09104976891582409,
          0.04366012753877288,
          -0.08162630956538551,
          0.03307130627295207,
          -0.08418404149483397,
          -0.08974572026292506,
          -0.0849054799967339,
          0.17436994106560766,
          0.2946422442042061,
          0.41413196771493826,
          0.03934862958813126,
          0.29941710724618353,
          0.04664390802133292,
          0.040824364002918445,
          0.16729714040169286,
          0.1611711792184375,
          0.27960367980432377,
          0.0368006125927014,
          0.03435521047721324,
          0.16735194147267085,
          0.03492474844286028,
          0.03742796399488607,
          0.03412566287206692,
          0.03776624651944149,
          0.04361631553819764,
          0.052600123262217025,
          0.16702583686040723,
          0.03619671697787619,
          0.04981190801771959,
          0.049004926376207986,
          -0.08621979154926794,
          0.06594053594294152,
          -0.09234676131050787,
          -0.10239532795777401,
          -0.08337901014286285,
          -0.10422242388389583,
          -0.09391142502731888,
          0.05175052440793651,
          0.03748904113813478,
          -0.0746256379585176,
          0.06684137778695862,
          -0.0837336690449696,
          0.034804641308931045,
          -0.0817330323025597,
          0.035188424282591474,
          0.16579897762599072,
          0.15655737479297366,
          -0.07669357973691632,
          0.03890422930890089,
          -0.08718803664893882,
          -0.0772079651726887,
          0.036143046365770454,
          -0.07446141786991697,
          0.042070746129878156,
          -0.10232145508023441,
          -0.09404420243716197,
          -0.08723493666171547,
          -0.07360461051192227,
          -0.0826183714289018,
          -0.06924609301004327,
          -0.08065022761351724,
          -0.0706136022241483,
          -0.08319425627827444,
          -0.07802830177313716,
          -0.08181670900419086,
          -0.08499891041814006,
          0.029543280596519977,
          -0.08413398764426115,
          -0.08906118433587,
          -0.08167435382000725,
          -0.08521418482269158,
          -0.07769077544607889,
          -0.08484831034715201,
          -0.08853254913118905,
          -0.08577498495107995,
          -0.07816815843086149,
          -0.08101655431330515,
          -0.08137671854346737,
          0.04742673549738574,
          -0.07817066845636084,
          -0.09248231360966334,
          -0.08272958809688405,
          -0.08506470559971999,
          -0.08242463371799205,
          -0.08704265861428409,
          -0.07985678086904535,
          -0.08547635384447538,
          -0.08722862807493811,
          -0.10310866252534132,
          -0.09001024027008625,
          -0.07817066845636084,
          -0.08160272517438563,
          -0.08824042676000271,
          -0.07928865193538598,
          -0.09008592243548896,
          -0.09076900246557099,
          -0.0728511332791899,
          -0.08675672383572725,
          0.03331316442003068,
          -0.08434750108867678,
          -0.08286676047672548,
          -0.09310646636303123,
          -0.09039224425831394,
          0.03907143402077029,
          0.15805378692228877,
          0.02849898501265885,
          -0.09561747317758335,
          0.03233133682408856,
          -0.08451557611230259,
          -0.08277913694614622,
          -0.08916018358618502,
          -0.09842087917277098,
          0.04228428549727056,
          -0.08415263535500117,
          -0.09028791630774397,
          0.03365162354910947,
          -0.09058181017759545,
          -0.09024790909708588,
          -0.09832559215786085,
          -0.09063791795467907,
          -0.08641466058622589,
          -0.0867890198852479,
          -0.08600494030534725,
          -0.08082571408229375,
          -0.0859169450904532,
          -0.0920183785104071,
          0.03176295602263282,
          -0.09010436240661486,
          -0.08283833858990422,
          -0.09647718325322116,
          -0.08166939748968546,
          -0.08428371986589307,
          -0.09081059268371239,
          -0.09580301024166252,
          -0.0813073171895099,
          -0.08496724853380179,
          -0.08086680309393701,
          -0.08634315430844941,
          -0.08056846549667707,
          0.16348063686269904,
          -0.08749089086062,
          -0.09043232507272239,
          -0.09586232446023943,
          -0.08217946437926683,
          -0.0856708341404115,
          -0.07929087121925571,
          -0.09089207032724342,
          0.03506265288966842,
          0.036951901577080754,
          -0.08579183984433278,
          -0.08716262865449986,
          -0.08592548502984773,
          -0.09192790656450801,
          0.036892941185131894,
          -0.09012918934070577,
          -0.09054540336013017,
          -0.09082143626992775,
          -0.08791021766209137,
          -0.09147391271887695,
          -0.08994845010649141,
          -0.08948456700965646,
          -0.09410360740660993,
          -0.09002574728596013,
          -0.08191843517268238,
          -0.09174228266481389,
          -0.08818628419990707,
          -0.08628765933143517,
          -0.08164065236311821,
          -0.07518490426338834,
          -0.08350869423091231,
          -0.08789953508136827,
          -0.09097133794512251,
          -0.09142261523808895,
          -0.0836381187677323,
          -0.09234950477909225,
          -0.08056846549667707,
          -0.08836980251515572,
          -0.09028322905275048,
          -0.08099625212506181,
          -0.08333572990552068,
          -0.09048436987073405,
          -0.09242352423149128,
          -0.08312672451386643,
          -0.08695405311919127,
          -0.088397728173073,
          -0.08577019190400079,
          -0.08127445334358262,
          -0.08399533394193087,
          -0.07425124899420069,
          -0.08859477257343872,
          -0.08108946894307392,
          -0.0881512050367293,
          -0.09063791795467907,
          -0.08406593087929357,
          -0.08233812188671524,
          -0.08921200431681757,
          -0.09156044549462085,
          -0.0912953991318887,
          -0.07562787555987838,
          0.029693342596165934,
          -0.1012325513512093,
          -0.08312672451386643,
          -0.08568753879604449,
          -0.08489889445015679,
          -0.08276951645015707,
          -0.08120069909085176,
          -0.08888054654981445,
          -0.08099625212506181,
          -0.08535900612008926,
          -0.08970511537564668,
          -0.0841707984880071,
          -0.09060251913388453,
          -0.09063791795467907,
          -0.08994239017293962,
          0.1658077149080922,
          -0.09333700472389538,
          -0.08408275579257454,
          -0.08171930306965336,
          -0.07777519548270341,
          -0.08009579993535318,
          -0.08421836044308471,
          -0.08590007269663372,
          -0.0813073171895099,
          -0.08932556111123299,
          -0.08312672451386643,
          0.034868859535329144,
          -0.09002104087947477,
          -0.08285754792211117,
          -0.08888157825955367,
          -0.08590007269663372,
          -0.08146286811263556,
          -0.08667630933390594,
          -0.08027931825060186,
          0.03971958545946344,
          -0.08137135137169971,
          -0.09243909389649224,
          -0.0838616879194359,
          -0.08877671065084014,
          0.03361291200494393,
          -0.08455906191457752,
          -0.0852520225204979,
          -0.08406593087929357,
          -0.09279901207731905,
          -0.08338830601261014,
          -0.08582061742113421,
          -0.08639924359252135,
          -0.08017445064188833,
          -0.0859779188342045,
          -0.08961052280602375,
          -0.09009403572112644,
          -0.08650411120123488,
          -0.09071656866121422,
          -0.09157880499251965,
          -0.09005890908470564,
          -0.07912221155482752,
          -0.09992313689584473,
          -0.09461447689931528,
          -0.08565380373898716,
          -0.08652667262369809,
          -0.08312583436929163,
          -0.09098225760831621,
          -0.08895456447534653,
          -0.08688430682095663,
          -0.08600413573638288,
          -0.09188143597563625,
          -0.08779718500707438,
          -0.08044354290505303,
          -0.08624905975995029,
          -0.0830218569051529,
          -0.08813168176743565,
          -0.08791021766209137,
          -0.08544355718488217,
          -0.08489889445015679,
          -0.08362231134783797,
          -0.09037950226202053,
          -0.08252534510222166,
          -0.10122605298890472,
          -0.08589926812766936,
          -0.08885536135737529,
          -0.08489889445015679,
          -0.09071656866121422,
          -0.10077607544417436,
          -0.07826298247423057,
          -0.08415263535500117,
          -0.09823922630366903,
          -0.08489889445015679,
          -0.08146286811263556,
          -0.08877671065084014,
          -0.0859251643776508,
          -0.0821008136727317,
          -0.09234950477909225,
          -0.10002800450455826,
          0.03246313578072854,
          -0.0842010167248688,
          0.04181132057667872,
          -0.08942822096636735,
          -0.09014304148837235,
          0.16118112948051794,
          -0.08477660280608668,
          0.03366221041663281,
          -0.08548961635506636,
          -0.08893400359752618,
          -0.07361535440652192,
          -0.08528787021904176,
          -0.0883414169848627,
          -0.0769425993592002,
          -0.08879204915526745,
          -0.08455906191457752,
          -0.0958788844127816,
          -0.09418923448207314,
          -0.0849916370492931,
          -0.09457011387654479,
          -0.09377467605539075,
          0.1578488774277157,
          -0.08737203427024903,
          -0.077204768380984,
          -0.09461831442351812,
          -0.07811823465200407,
          -0.08420706871860857,
          0.04034616273402972,
          -0.09802799838566154,
          0.0396283812681775,
          -0.08214113707759743,
          -0.09395942765861859,
          -0.08250969967022292,
          -0.09286756875914465,
          -0.08612193670124674,
          -0.09680115982116855,
          -0.08309555837833169,
          -0.09342512260038263,
          -0.08342221904651251,
          -0.09281358454043845,
          -0.08819860358605357,
          -0.085196718447784,
          -0.09350796359806143,
          -0.08548961635506636,
          -0.08519404014656792,
          -0.09485993389838579,
          -0.07378671795591224,
          -0.08557246833012885,
          -0.06690540973455769,
          -0.08812194135533385,
          -0.09760413859614683,
          -0.0808806111403163,
          -0.08690528239400523,
          -0.09317774369040767,
          -0.08325636064534614,
          -0.09347918616592857,
          -0.07650437534056667,
          -0.09737406853178243,
          -0.0850440348500044,
          -0.08116064492826126,
          -0.08875049374866176,
          -0.10039325412372367,
          -0.09055838621328781,
          -0.07173424307657945,
          -0.09756359616483835,
          -0.08769450375410212,
          -0.09129340557023874,
          -0.09435614540173431,
          -0.0864893025535184,
          -0.09438101052961644,
          -0.1051032269966638,
          -0.09562973777643621,
          -0.09450759924394915,
          -0.09015867130659772,
          0.042783917294561685,
          -0.08351513889953173,
          0.16431216723056719,
          0.03695804738705044,
          0.290394818223134,
          0.039449818754499405,
          -0.09647296742895176,
          0.16770968597693747,
          0.16637221710128985,
          -0.0900386803896091,
          0.1689250256189717,
          -0.08615212789066598,
          0.16457408332036683,
          0.29127992615535714,
          -0.08990376350380586,
          0.4121974235920189,
          0.04030547741420504,
          0.29201063007566036,
          0.1654518820564621,
          0.41408386598303853,
          0.16637221710128985,
          -0.0883998840052435,
          0.16496012665633292,
          -0.08991868976119348,
          -0.08720359875724096,
          0.16745855952677463,
          -0.09023195074902293,
          0.40940980317191406,
          -0.08851967787134465,
          0.4111621731325798,
          -0.08609457118394206,
          0.1652222956781167,
          -0.08963462511389736,
          0.28811660958920904,
          -0.09797684692751411,
          0.28611352490174485,
          0.29027567205016797,
          -0.09431117483932965,
          0.16175413318880755,
          -0.08554435968849164,
          0.03675025401250673,
          0.1652451775882453,
          0.292456115791564,
          -0.0907576868005714,
          0.28761317364195255,
          -0.09278739649128606,
          0.2897739629847447,
          0.29073135588224297,
          -0.09593543972745855,
          0.28866135234622625,
          0.29066593766338195,
          -0.09270879709560624,
          0.41462560748067273,
          0.28866608048744247,
          -0.08533268262818125,
          0.2879541949914004,
          0.16733409368912694,
          -0.08894959935435433,
          0.2881375116855202,
          0.16670353771742785,
          -0.08830994265391759,
          0.2869592383772633,
          0.2921899604623029,
          -0.08664876174228495,
          0.16383781528450458,
          0.1654518820564621,
          -0.08822726281015664,
          0.28914415732789134,
          0.1669888415813245,
          -0.08947444326189033,
          0.28954487398926093,
          0.16421913047925446,
          0.2883991833244424,
          0.1615292749516784,
          -0.0909882679446399,
          0.16188670498946978,
          0.16725101060310832,
          -0.08790041740325069,
          0.2875208872054856,
          0.16611476773961548,
          -0.0876608858407181,
          0.16303189827142667,
          0.1630560278792626,
          -0.08813522930567386,
          0.28659532663658005,
          0.1675547211679015,
          -0.08734423854998355,
          0.28725399004248553,
          0.16283290500507352,
          -0.08760640757176737,
          0.28545535887870094,
          0.1654518820564621,
          -0.08754173966775206,
          0.1625346644152355,
          0.16525065604430728,
          -0.09417212981688236,
          0.04161682838709249,
          0.1627697292496429,
          -0.0876708310249053,
          0.2874835764208309,
          0.16637221710128985,
          -0.0888991073928809,
          0.2882611330677183,
          0.16322019603874688,
          -0.08429792955160367,
          0.29145394535842484,
          -0.08842526131078669,
          -0.09328910555670927,
          0.2891583332704333,
          0.2882611330677183,
          -0.08822726281015664,
          0.16417709155338361,
          0.1617663111187964,
          -0.08615227820093951,
          0.03847003284862732,
          -0.0875422370506136,
          0.28725399004248553,
          0.1632940672932105,
          0.28777832808605314,
          -0.08878344166342378,
          0.16274186626631382,
          -0.08973661228367416,
          0.2862087859177524,
          0.16233717177857382,
          -0.08615700634215574,
          0.2894525875527939,
          0.16482207639960877,
          -0.0935512745784931,
          0.16253018920600348,
          -0.08730269700697421,
          0.16430668877450522,
          -0.08918441125677751,
          0.16426514723149588,
          -0.0894518058026391,
          0.16533273588349606,
          0.16500216558220382,
          0.16291150440075336,
          0.2887717925516056,
          0.164568857796289,
          -0.08704052798519038,
          0.16483102681807282,
          -0.08330446508605127,
          0.16436040824750342,
          -0.08396660893546569,
          -0.08301418863006105,
          0.290519181439071,
          0.16646324735894275,
          -0.08392532032444053,
          0.2900734427911832,
          -0.08638659272050113,
          -0.08418748934622436,
          -0.08540183422253543,
          0.16518423457861636,
          0.29029830102831233,
          -0.08392532032444053,
          0.16777957940503058,
          0.28737163558576007,
          0.1637898005197102,
          0.1652494083466,
          0.2877579233726036,
          0.1673746319853064,
          -0.08273858549947428,
          0.29206534431438164,
          -0.08418748934622436,
          0.1673746319853064,
          0.16529990030807346,
          0.16751268224203053,
          -0.08484963319563878,
          0.16696570673921168,
          -0.08327635765184488,
          0.29058360489220897,
          0.28915310774635544,
          0.16447557659409895,
          -0.08418748934622436,
          0.29050600026225226,
          0.16425469618334032,
          -0.08467079171075101,
          0.1647937160334182,
          -0.08466606356953478,
          0.16751268224203053,
          0.2904823680372779,
          0.16620107833715891,
          -0.08418748934622436,
          0.16571405107824594,
          -0.08467079171075101,
          -0.08524587464777628,
          0.1661326770576505,
          -0.0843486744450613,
          0.16570882555416816,
          0.29095173891014003,
          -0.08493296073253484,
          -0.08348803471215527,
          0.16612820184841842,
          -0.08356166151574149,
          0.16620107833715891,
          0.1662294387033495,
          -0.08466606356953478,
          0.29014184407069166,
          0.16597622010002977,
          -0.08418748934622436,
          0.28889939176017415,
          0.16486261469578822,
          -0.08461084346684511,
          -0.08366289837067253,
          -0.08466606356953478,
          0.2904823680372779,
          -0.08435314965429334,
          0.1653222848353405,
          0.1634132134661766,
          -0.08435314965429334,
          0.1662294387033495,
          -0.08520906124598315,
          -0.08497400489268261,
          0.16443926057516745,
          0.04050372036571248,
          -0.08551227442791476,
          -0.08392532032444053,
          0.16689655514485752,
          -0.08421982753878542,
          0.16426887212588215,
          -0.08435314965429334,
          0.040462178822703115,
          -0.08370443991368187,
          0.1653180540769858,
          0.28862329124672587,
          0.165148171491669,
          -0.08462477495850962,
          -0.08418748934622436,
          0.16367538248796043,
          0.28978291340320883,
          0.16571405107824594,
          0.04050372036571248,
          -0.08548416699370837,
          -0.0845143347531303,
          0.16291150440075336,
          0.04050372036571248,
          0.1655620693298573,
          -0.08523617391446643,
          -0.08418748934622436,
          0.039067997695781176,
          0.16584737319375392,
          0.16466014098592607,
          0.16597622010002977,
          0.16508797031577888,
          0.04123998840157467,
          0.28914788222227766,
          0.16375821264199492,
          0.2894468646458546,
          0.16572300149671004,
          0.287997463416243,
          0.03975352083818576,
          0.16508797031577888,
          0.16395148300140872,
          0.04123998840157467,
          0.16490390330681332,
          0.28876134150345,
          0.1656585780435721,
          -0.08409098063250953,
          0.1658197631424091,
          0.28978291340320883,
          0.16486261469578822,
          0.16508797031577888,
          0.28876134150345,
          0.03933016671756498,
          0.16466014098592607,
          -0.0845143347531303,
          0.28876134150345,
          0.1661095422155377,
          0.16443926057516745,
          0.28996698041217434
         ],
         "z": [
          0.1571213196802016,
          0.10381946733302838,
          -0.15559077877221594,
          0.09589635867624235,
          -0.0973488518948038,
          -0.03725233804439432,
          -0.09907957152040514,
          -0.037541582554792285,
          -0.0024769204421970503,
          -0.10309559659559059,
          0.16616784945290808,
          0.2790219347764269,
          -0.12079248030297246,
          -0.04896473717373262,
          0.11418271990932305,
          -0.06531567869047117,
          -0.07471640466068691,
          -0.14026631249628746,
          -0.14049383781816527,
          -0.0251536393388605,
          -0.22113585927269108,
          0.06793203090301869,
          0.0681398758212981,
          -0.10944522304892301,
          -0.005189817360006788,
          -0.04993775767112407,
          0.026667500204479277,
          -0.04070024444894349,
          -0.11310204916170641,
          -0.03782419357745753,
          -0.05191472397693092,
          0.17274066242463637,
          -0.007526737336196687,
          0.1842224075291372,
          -0.2556995049999528,
          0.027342847896471567,
          0.0756562150662432,
          -0.02491136921162851,
          -0.15699630268285986,
          -0.08776129758974083,
          0.10178334802138844,
          0.1620009607717886,
          -0.2721422624141358,
          -0.0950617183114934,
          -0.038645121392009874,
          0.052129231197976966,
          0.17619030464686292,
          -0.09721623533329848,
          -0.02068086915660028,
          -0.2627675040809724,
          0.05122276573784068,
          0.0016262430332295574,
          0.023951987588102686,
          0.027272816360773833,
          -0.011150578779192677,
          0.036314433358215714,
          -0.14478446430409697,
          -0.0798444276985838,
          -0.005532375412998336,
          0.1026558980610347,
          0.06299441208507273,
          -0.025565412062698134,
          -0.06757692004660171,
          0.07946146241917118,
          0.006070820014688394,
          -0.07412899306841303,
          0.0024288468531964424,
          0.18123462973656657,
          0.004457157382103616,
          -0.17219668583823367,
          -0.0908481884898465,
          0.08239598751427024,
          -0.1122437331119871,
          0.07688274030923248,
          0.0327099600697115,
          0.04375743304957003,
          0.054981623833901705,
          -0.06042108063404972,
          -0.11545829501898064,
          -0.0012567475488074464,
          0.00335221778875594,
          -0.10924612196522199,
          0.009651962141552839,
          0.039938789966262433,
          -0.0015099395396231952,
          -0.17186920450984722,
          -0.1592086069322251,
          0.1518316414764771,
          -0.1562129905802136,
          -0.07943229274678493,
          -0.1417434799309698,
          0.0928746496845092,
          -0.023534762739019333,
          0.02312214996929962,
          -0.019794063147789753,
          0.06084493928362722,
          0.01247699493190757,
          0.1272953454637462,
          -0.04811237875724339,
          -0.02868915080642087,
          0.03841296127797178,
          0.15512406726763261,
          -0.035786648914978236,
          0.13170538645501717,
          0.06673728132963919,
          -0.09719775137406617,
          -0.34516505438262424,
          0.0018242968076387367,
          0.16006738867327996,
          -0.24224776815033489,
          -0.06566538339280409,
          -0.0954582477021359,
          -0.21925217118879453,
          -0.13518740007047497,
          -0.0740023985401036,
          0.14038553738374449,
          -0.06357878633962494,
          -0.07606433703273757,
          0.06989004588191683,
          -0.03360992000244273,
          0.06422119193512721,
          -0.09613394510235684,
          -0.019979857972520554,
          -0.009131257886354605,
          -0.027592198373104115,
          -0.10908492848736745,
          -0.03108826707948159,
          0.017936766433756746,
          -0.008487495650200683,
          0.011526140117470773,
          -0.09273476393230629,
          -0.06844867351338313,
          -0.15095010762345173,
          -0.10947218765123667,
          -0.14651261709427876,
          -0.006098779269308574,
          0.07876628875314517,
          -0.17493303284785305,
          -0.021955137830625193,
          -0.053157472999953936,
          -0.010005854427056593,
          -0.036243636494952214,
          -0.08962014989656042,
          0.0077486910753487015,
          -0.035029522402791,
          -0.02280371953764293,
          -0.1647650780251943,
          -0.02231021997346483,
          0.11735238269669546,
          -0.02435355546847484,
          -0.019407468145388074,
          0.053531294766616666,
          -0.004651357472669426,
          -0.09828267989518313,
          -0.09222133110457098,
          -0.006765061006355877,
          0.04310349492073573,
          -0.10279561514305569,
          -0.0656583464076762,
          -0.2767110547753983,
          -0.08142927608515932,
          -0.042542437912646947,
          -0.0334095118788868,
          0.057657111773095515,
          0.009883278867853118,
          -0.07208743879547508,
          0.00971212836422286,
          -0.004675228768723949,
          0.10528394687045883,
          -0.08187513585503198,
          -0.3150402159875948,
          -0.04586050508760281,
          0.03746977263576001,
          -0.07737702995045864,
          -0.06279672615179754,
          0.05816975346335573,
          -0.037487594696531124,
          0.03589506691285249,
          0.07714875814993527,
          0.031872433986076865,
          0.03218528823867117,
          0.013671315261533534,
          0.00930052145894067,
          0.002313523207279289,
          -0.03148589399752377,
          -0.05799826394477303,
          0.11574239631788963,
          -0.08183717745537006,
          -0.07802044808793646,
          -0.5521645032112599,
          0.12454645000063902,
          -0.013259890221839599,
          0.07737792279470224,
          -0.06774029973796647,
          -0.011094017495600794,
          -0.12012674674513191,
          -0.01624693090014384,
          -0.11445288184364782,
          0.038565110282686166,
          0.011467024877230725,
          0.12621711276864644,
          0.0061643660292023394,
          0.09246695388247039,
          0.11326225624055752,
          0.046799866636479615,
          0.16802596173440842,
          -0.09401006021353486,
          0.14340886162487865,
          0.03314638777931822,
          0.11946331238384555,
          0.053810060732091713,
          0.046088392186553584,
          0.02283206636004309,
          -0.18693536478035871,
          -0.10863120510221475,
          -0.007305039040333083,
          0.075309646344067,
          0.06280763783698229,
          -0.10033197519318127,
          -0.0761267505554844,
          -0.010359535124554009,
          0.1256312027216061,
          0.06749486399096205,
          0.27793858883405687,
          -0.13168822116855095,
          0.19751376730169112,
          0.1324207508031373,
          -0.07277187478791763,
          0.17215043843816658,
          0.10116987070089034,
          0.07308083768936069,
          0.05597233600400964,
          0.2074104649459001,
          0.0179814483355617,
          0.22233503438131286,
          0.07376797548118696,
          0.0983268163633596,
          0.0285972527285816,
          0.07041464203682757,
          0.02097074167299362,
          -0.09714009210462932,
          0.0014051844155995585,
          -0.06724973644136223,
          0.07505551547130651,
          -0.005648801392542313,
          -0.034364399884648844,
          -0.19509817512938388,
          0.03800163438122084,
          0.1581881538446298,
          0.16874620736153412,
          0.28810511709128084,
          0.06276420895919432,
          -0.06130043263576024,
          -0.04881958356774224,
          0.07402841331014165,
          0.06376316726316544,
          -0.08853410428687747,
          0.09265599156349069,
          0.06863229605510712,
          0.0504442360907027,
          -0.037508560475796926,
          0.0010080081999810364,
          -0.07595224692136476,
          -0.043335119392003574,
          -0.012036973008337393,
          0.07773977368634133,
          -0.1239085343359076,
          -0.08670388023016223,
          0.0394281369449867,
          0.09324629752167624,
          -0.07538083543027779,
          -0.011801380705916964,
          -0.010795231724029741,
          -0.08615979013513225,
          -0.03428055088750087,
          -0.025849181159240064,
          0.02140178376753188,
          -0.07607792652285694,
          -0.08622919190265665,
          -0.08823384223825936,
          -0.06892613009801385,
          0.03484465208498444,
          0.1408956502965324,
          -0.08442892873165225,
          0.09995618627681924,
          -0.061068338626913354,
          -0.00024786234854434763,
          -0.1389476006082323,
          -0.18065420436029977,
          -0.20643462522374073,
          -0.03562564192539952,
          -0.03228168462143144,
          -0.09600547760695377,
          0.15307396682723085,
          0.05703396412308159,
          0.030544646042522827,
          -0.04723870472504699,
          -0.05337478180223937,
          0.08227394814215805,
          -0.08050926056171254,
          0.016913624634615432,
          0.1438233103196389,
          -0.07419415121920991,
          -0.08103853974945951,
          -0.05768166066605551,
          0.022969080085107008,
          -0.046399985783155295,
          -0.08300470969087692,
          0.07086192076184805,
          0.19576171567685774,
          -0.08005688846834996,
          -0.10510380524151697,
          -0.1012110490904472,
          0.05849311263616741,
          0.14613336130216714,
          -0.0896051279140403,
          0.018482074988765862,
          -0.08790257888244846,
          -0.11186920589211669,
          -0.06072630376755872,
          0.11697289843313763,
          -0.06750330927328752,
          -0.03296598530184164,
          -0.20397977726755662,
          -0.0013355471634816096,
          -0.051827679970687324,
          -0.13132535207257667,
          0.05386460472464849,
          0.2897977002947735,
          -0.04699569687491245,
          -0.0011248137997499352,
          -0.12440632516154643,
          0.13589395854794406,
          0.013352915296251044,
          0.20733135633973587,
          0.07205803066894023,
          0.03422916851099289,
          -0.06303854048405844,
          0.01911665072548563,
          0.027664498982877817,
          0.16783663553042805,
          -0.06257137141486979,
          -0.046508718932090354,
          -0.06880082019263145,
          0.02315785763648237,
          -0.037409567888663176,
          -0.07678932761654145,
          -0.11564538382593242,
          -0.06070473977249108,
          -0.16095474823185418,
          0.1699302190311136,
          0.0761948863688936,
          -0.06411690222896799,
          -0.028964761507299874,
          -0.00907512567012958,
          -0.013813530513016148,
          0.0154232450417775,
          -0.12613567121037406,
          -0.052437893412762115,
          -0.06825744872350464,
          0.08682987333150649,
          0.15112118547785836,
          -0.040932454394974616,
          0.09426165585836643,
          0.07066849701141875,
          -0.027235914797457572,
          0.041154874053092594,
          0.05451780729740652,
          -0.06982463140212192,
          0.04977987137355,
          -0.020320458920636386,
          0.000023201964433616773,
          0.14426790539541856,
          0.06960701030721905,
          0.016183812677840637,
          -0.02665048439229767,
          0.13370153690433195,
          0.13425715607063382,
          0.049350016385815154,
          0.05763249912357604,
          0.014492786343165753,
          -0.034531268332239906,
          -0.003829096752305028,
          -0.09016210019243842,
          0.06824868278151852,
          -0.04170527446430877,
          0.01668081276312927,
          -0.05755616132894298,
          -0.04629773524868702,
          0.09441318954426048,
          0.18666338804229454,
          0.015809277873966243,
          -0.015812795537456736,
          0.15252751408809007,
          0.15378092478491245,
          -0.027061363868791877,
          0.38943394525516806,
          -0.05411820909517184,
          -0.12716178855772947,
          0.02723945283250806,
          -0.22387566624622007,
          -0.04313249774135003,
          0.17501810975747678,
          0.00724436119819305,
          0.1704670356642447,
          0.3862768309811757,
          0.05760962507848655,
          -0.021395823560042104,
          0.07142292960791807,
          -0.04014028255601099,
          -0.0004678094863374005,
          -0.08325741849005303,
          0.1630750138788849,
          -0.01605067793383519,
          0.009579912232909882,
          0.1255883883274671,
          -0.0543332320912559,
          0.16992818886389383,
          0.066795906778635,
          -0.14380676515767976,
          -0.01059116119611725,
          0.028295297223367655,
          0.18158788894114808,
          0.07924911018076508,
          0.2695676407528984,
          0.06170702347270407,
          0.2083510793258323,
          0.02664266830901363,
          0.16750023387820556,
          0.0334351223020688,
          0.025531312649277993,
          -0.07133188267417978,
          0.06172040767748865,
          -0.019114360716625534,
          0.09485473227053365,
          0.037960641558096975,
          0.11754955352849339,
          0.08450110083436058,
          -0.07528803161359271,
          0.02225611962884333,
          0.1349253555689578,
          0.07994303973835082,
          0.07773977368634133,
          0.08839264178446937,
          0.11964763220920316,
          -0.004985833803868522,
          0.12514854353128946,
          0.013130555781047715,
          0.012874117564335985,
          -0.03518861978464555,
          0.05658947892642041,
          0.046347830977014004,
          0.025587622037495206,
          -0.1536518110786712,
          -0.009129873402396349,
          0.11964763220920316,
          0.0868750447957799,
          -0.007648776708308991,
          0.11613417949124594,
          -0.06567862324704998,
          -0.05331569889151572,
          0.19760101297508015,
          0.01049068108344453,
          0.01334422091604981,
          0.03814144332061631,
          0.09213556888136754,
          -0.08893442545364544,
          -0.03810633158582022,
          0.004770602575363103,
          -0.06255416953757842,
          -0.1261686663092203,
          -0.1126928028929216,
          -0.07862985540428746,
          0.0035433564470329637,
          0.05664861886293515,
          -0.022009709542241684,
          -0.1389476006082323,
          0.029939919159879702,
          0.030824802465705625,
          -0.06676496612432825,
          -0.015495982485577153,
          -0.0421411185967826,
          -0.03292224562593471,
          -0.06972272728059487,
          -0.05750929360097423,
          -0.019652306057530433,
          0.003524899654688607,
          0.007385272457881786,
          0.10350409342828981,
          -0.008942934506624645,
          -0.05968356711618633,
          -0.007618139935988588,
          -0.05022346895432889,
          0.030038176343769485,
          -0.08011334355695421,
          0.06750794477971789,
          0.035018397175164195,
          -0.006260438578534644,
          -0.0883017035491746,
          0.08311266708404985,
          0.00046956667968822696,
          0.08922934220701617,
          0.040332593518204285,
          0.08721917122473544,
          -0.0171095554997841,
          -0.00853207627315089,
          -0.040316533627001494,
          -0.119870715275263,
          0.05021952376912575,
          0.0016667745096045072,
          0.10123463845591207,
          0.00019667315666049845,
          -0.05102033203640538,
          -0.0052636895092667,
          0.023634868009528964,
          -0.053117002834925375,
          0.00143725938059025,
          -0.0939612819776714,
          -0.0030580057832318985,
          0.007712418019638401,
          -0.05169734391845593,
          -0.05163826100773228,
          -0.02747496677507788,
          -0.03892978304960942,
          -0.04771017560358076,
          -0.0015280412509030006,
          -0.09914817618913879,
          -0.07515215554324534,
          0.07057438469855759,
          -0.06193485172938168,
          -0.023815451826325496,
          0.0060685777078636205,
          0.07261963659348003,
          0.11012169831879426,
          0.04575796946754307,
          -0.04691475924297345,
          -0.06039691853576684,
          -0.029548164924657283,
          0.04335455873448579,
          -0.0782803885260116,
          0.08721917122473544,
          -0.01794441923308354,
          -0.055465031803525966,
          0.05362649235664807,
          0.025149984282556104,
          -0.03465995076389139,
          -0.014537428181544798,
          0.039264084704578206,
          -0.02387764087487787,
          -0.002616463056958729,
          0.016052812889692847,
          0.06204526175055747,
          0.025792488814355474,
          0.15261861007727173,
          -0.02604454814483037,
          0.07957292133426808,
          -0.03613162890126603,
          -0.05750929360097423,
          0.01699633866890049,
          0.04207027137236563,
          -0.032252937361449185,
          -0.06800567103600652,
          -0.06799245176031349,
          0.1256312027216061,
          -0.13481312224735126,
          -0.11883280277774311,
          0.039264084704578206,
          -0.03856032226833278,
          0.012010617299672122,
          0.06979167003394271,
          0.051216986912070106,
          -0.0358211990042418,
          0.05362649235664807,
          0.023180408219666382,
          -0.036050971808600285,
          0.02035121443646737,
          -0.05670033882162784,
          -0.05750929360097423,
          -0.0652325272202185,
          0.017055673663211368,
          -0.08229475397511588,
          0.027478346022434486,
          0.07513579341915522,
          0.14795426545011914,
          0.07425475705537687,
          0.05379114941816365,
          0.004030396690315019,
          0.08311266708404985,
          -0.02314893891535663,
          0.039264084704578206,
          -0.05611124380050486,
          -0.06271637039454336,
          0.035704988351564215,
          -0.020818576914412246,
          0.004030396690315019,
          0.059604176330987135,
          -0.011694524921732286,
          0.08012578964861883,
          -0.003875150391867477,
          0.05734232234019321,
          -0.08065389159139602,
          0.04649740775132749,
          -0.024173452681979013,
          -0.06949524617033004,
          -0.006863037025168439,
          0.025485236910782083,
          0.01699633866890049,
          -0.08025931523567864,
          0.002896262627572588,
          -0.0019176163869766283,
          -0.007563436694494663,
          0.07677091388105206,
          0.0031146972643736337,
          -0.05036779193350849,
          -0.05073996808041975,
          -0.004208560926927785,
          -0.0549931367752991,
          -0.10529158337445804,
          -0.02761330109525073,
          0.08569887462876391,
          -0.19653623372787637,
          -0.09621708343505891,
          -0.007791069241163795,
          0.04620362611144613,
          0.055514892030796625,
          -0.016336803880352857,
          -0.04947020704398952,
          -0.01903568453620541,
          0.0039534162062653255,
          -0.10030955657742763,
          -0.02375330695995026,
          0.06625722477342977,
          0.001656573999152866,
          0.03590920893701133,
          -0.02280371953764293,
          -0.02747496677507788,
          0.013104723901058102,
          0.012010617299672122,
          0.018470161678775243,
          -0.03801482653145821,
          0.06549493160062902,
          -0.15558071466431816,
          0.0005985404386984472,
          -0.021657295856303937,
          0.012010617299672122,
          -0.0549931367752991,
          -0.12789717796886774,
          0.11236129416350149,
          0.030824802465705625,
          -0.1586661414956334,
          0.012010617299672122,
          0.059604176330987135,
          -0.024173452681979013,
          -0.0020277963382835384,
          0.047703366943450676,
          -0.0782803885260116,
          -0.19318135796030955,
          -0.10209545003107462,
          -0.012927519953737643,
          0.0993452756283919,
          -0.007372295530141737,
          -0.03627712139350153,
          -0.050249789426840885,
          0.06641150625233416,
          -0.09878660340364465,
          0.05883390653338816,
          -0.08614784294112848,
          0.1808534579009149,
          0.04731673204823417,
          -0.016093968002509285,
          0.17739589417591528,
          -0.020735996693685643,
          -0.006863037025168439,
          -0.16004561199319173,
          -0.09312771229118577,
          0.023143059497314655,
          -0.16082546361957178,
          -0.0834075535028177,
          -0.11174092158695942,
          -0.021957212180022667,
          0.1857830835948323,
          -0.06295246103549768,
          0.11797019432541977,
          -0.017977395860371947,
          0.016497050842427252,
          -0.17145493622247193,
          0.017085334016545328,
          0.0618644599880378,
          -0.1153098842041611,
          0.045747998329576545,
          -0.12393657013760534,
          0.016479304989213905,
          -0.11797307633403314,
          0.052145992217485504,
          -0.10513792689976642,
          0.0349081798509574,
          -0.07151708036287152,
          -0.01824905841426916,
          0.042182655769316235,
          -0.11385252597245399,
          0.05883390653338816,
          0.018454584847318545,
          -0.17325046268777317,
          0.1506538131088,
          0.018375297582333583,
          0.30836276123768236,
          -0.07287361411437454,
          -0.2007136977410372,
          0.05620782097697774,
          -0.031836259635014796,
          -0.07006836803300914,
          0.05497101355570089,
          -0.0840550720878126,
          0.12931712637660864,
          -0.18634386657805957,
          -0.026885668198702417,
          0.017737258622446905,
          -0.025012171623870705,
          -0.20659786922381168,
          -0.11641954278286909,
          0.19504253955813844,
          -0.06929493896182232,
          -0.021439356483099137,
          -0.09438298525972472,
          -0.0713396504544147,
          0.020398771430709006,
          -0.14292470739134827,
          -0.24150076830055434,
          -0.16128194531069284,
          -0.0985841686988484,
          -0.08292939780759351,
          0.07901186094829815,
          0.057283555999710356,
          0.011072431820300266,
          0.004023377000642592,
          0.027113898788363566,
          0.04151863405808043,
          0.07115951707373547,
          0.03637963874701333,
          0.0034238829143603544,
          -0.02421491270543219,
          0.013718655151007564,
          0.023976902286237056,
          -0.011129135821290048,
          -0.027447740737237214,
          -0.038016457986379204,
          -0.008779067634966276,
          0.02287478114751329,
          0.009101156465808669,
          0.008616866449730254,
          0.010195939669516596,
          0.0034238829143603544,
          -0.007987306296737051,
          0.002496056423172077,
          -0.013233261686050102,
          0.012724799315579904,
          0.008952901221604193,
          -0.023124386163004607,
          -0.02465681818143095,
          0.020150765771158707,
          0.0039702279536615315,
          -0.027902919164174977,
          -0.005891132995744952,
          0.04639002762861111,
          0.019244965704393824,
          0.041130365384093426,
          -0.007022422167067943,
          0.011982741318644075,
          0.09056849642425158,
          0.009702680719310797,
          0.03220627203187332,
          0.016248493857774826,
          -0.012928146695465936,
          0.001667237446462022,
          0.03891108931908893,
          0.0003192599995969214,
          0.0730750524552336,
          0.007905728234084086,
          -0.02711559819469156,
          0.10664130147551598,
          -0.01742325234675357,
          0.0048604013114195155,
          0.049920214414072905,
          -0.01850480995505399,
          -0.010542028153093908,
          0.03101188581873826,
          -0.01740838923780752,
          0.004904404231235615,
          0.05142031111274159,
          -0.016455118838237026,
          0.001554408841627275,
          0.013441014236025173,
          0.01981252363902708,
          -0.04225366620958915,
          0.038437852274317064,
          -0.0069747489929942175,
          0.008616866449730254,
          0.04043662992613961,
          0.0025638657378312946,
          -0.00005541605433734276,
          0.04056593350522908,
          -0.022408516540708523,
          -0.00023078094219186607,
          -0.009036062927836652,
          0.0020759054674952537,
          0.05601558053224909,
          0.004034376101989756,
          -0.008442605473254483,
          0.04550030988242004,
          -0.012975819869539329,
          -0.024742705247726926,
          0.014529510611232976,
          0.006468167818435178,
          -0.01836695831724744,
          0.03991733157260269,
          0.0011421848014881997,
          -0.010156290039926574,
          0.05125761106150217,
          -0.011469854644282074,
          0.03228996082583813,
          0.0596448004804192,
          -0.010216628050614962,
          0.008616866449730254,
          0.029660668080952468,
          -0.0045419992951383215,
          -0.00803878960845028,
          0.05817705823531094,
          0.008567590498274713,
          0.014855357237352207,
          0.06000830932789514,
          0.0030381448011931322,
          0.0034238829143603544,
          0.04422750790695962,
          -0.008257115397531156,
          0.02811704063433862,
          0.03406883555942819,
          -0.02428490115862003,
          0.03464593227490753,
          0.0689980393706735,
          -0.020227463455853245,
          -0.008257115397531156,
          0.04043662992613961,
          0.008901959534880599,
          0.006701331068231897,
          0.051439886494535014,
          0.024335727082595016,
          0.04546691341027009,
          -0.011469854644282074,
          -0.0019190216004819627,
          -0.028244233482116132,
          0.03467932874705748,
          0.0011967685207399104,
          0.04895312292414611,
          0.0033232378863434775,
          0.017296059498976057,
          0.04455866230087513,
          -0.03570359640984494,
          0.0032750039534775732,
          0.07738522878959053,
          0.0023911547338749672,
          0.05793111591374722,
          0.006183074733284721,
          0.045837332802924236,
          -0.0004904301189603277,
          0.06314954335749912,
          -0.006514291019989238,
          -0.006636684053900499,
          0.00913512278467754,
          -0.018046410370997856,
          -0.002204114685632308,
          0.04954392649483019,
          -0.010591304104549448,
          0.044266658670546355,
          0.009855229934451093,
          0.032199361486695,
          0.019917434416250712,
          -0.010114966652238877,
          -0.008917926555205513,
          0.025058488116266764,
          -0.016495425855565404,
          0.030050662855400034,
          0.03344567753518379,
          0.024494170472554422,
          0.012114698781631739,
          -0.008868650603750083,
          0.025058488116266764,
          -0.0025295147881111424,
          0.007645037038725877,
          0.013074879726380328,
          0.009759322827511574,
          -0.008350394268802686,
          -0.0002446020325483911,
          0.034165784684957345,
          -0.0188391789916601,
          0.03344567753518379,
          -0.0002446020325483911,
          0.0025665196217294906,
          -0.001023549562853887,
          0.021378380351332438,
          -0.006832780577289865,
          0.02830462383516774,
          -0.010478475499714812,
          -0.011302442320195505,
          0.01611329610386647,
          0.03344567753518379,
          -0.018936128117189144,
          0.017359612152355264,
          0.02926480477991633,
          0.005422660566182902,
          0.036146028973576105,
          -0.001023549562853887,
          -0.009907247310824041,
          -0.0005307371362884838,
          0.03344567753518379,
          0.00022967703081311353,
          0.02926480477991633,
          0.03941760860085908,
          -0.009040319589116663,
          0.027447260542536878,
          0.009154698166470965,
          -0.012555668913862728,
          0.03765199419883336,
          0.0294990100483028,
          -0.0021071655601033745,
          0.02991444873113236,
          -0.0005307371362884838,
          -0.0026783937489940346,
          0.036146028973576105,
          -0.007985843402737225,
          -0.008157512388103805,
          0.03344567753518379,
          -0.0009753156299879828,
          -0.001874002310306433,
          0.03583444996145391,
          0.03048567692002302,
          0.036146028973576105,
          -0.009907247310824041,
          0.03438041457155039,
          0.011335751251326243,
          0.013212135869237529,
          0.03438041457155039,
          -0.0026783937489940346,
          0.03920988925944424,
          0.015172244017270797,
          0.0005147701159636808,
          -0.0009551447532454294,
          0.025117328496798708,
          0.025058488116266764,
          -0.013350495923473704,
          0.02672024284758512,
          -0.005431717041329498,
          0.03438041457155039,
          -0.0076286496054904784,
          0.02381217206777797,
          -0.011351718271651046,
          0.0005825794306228982,
          0.010330551016402234,
          0.02900515560314787,
          0.03344567753518379,
          0.004824946450320611,
          -0.005960579823943046,
          0.00022967703081311353,
          -0.0009551447532454294,
          0.009155293661419983,
          0.028381997578903473,
          0.00913512278467754,
          -0.0009551447532454294,
          -0.005820669797187428,
          0.023559433436187827,
          0.03344567753518379,
          0.007145909561931507,
          -0.0074304946931520455,
          -0.0007315459325250018,
          -0.008157512388103805,
          -0.010053472387808626,
          -0.00510953158154126,
          -0.0023774211845378757,
          0.004357577932137313,
          -0.01097232994486963,
          -0.013636631027213797,
          0.004113808234674332,
          -0.003630052283255747,
          -0.010053472387808626,
          0.0032670513897097297,
          -0.00510953158154126,
          -0.009014875680734669,
          -0.00019636809968259783,
          -0.013273122179737862,
          0.02599322515263336,
          -0.007274705187090946,
          -0.005960579823943046,
          -0.001874002310306433,
          -0.010053472387808626,
          -0.00019636809968259783,
          -0.0012412798569856331,
          -0.0007315459325250018,
          0.028381997578903473,
          -0.00019636809968259783,
          -0.015817684112069075,
          0.0005147701159636808,
          -0.006999176531017004
         ]
        },
        {
         "colorscale": [
          [
           0,
           "red"
          ],
          [
           1,
           "red"
          ]
         ],
         "name": "User Preferences",
         "showscale": false,
         "sizemode": "absolute",
         "sizeref": 0.2,
         "type": "cone",
         "u": [
          -0.22462363924391815
         ],
         "v": [
          0.09567830801176197
         ],
         "w": [
          -0.21389259230906899
         ],
         "x": [
          0,
          -0.22462363924391815
         ],
         "y": [
          0,
          0.09567830801176197
         ],
         "z": [
          0,
          -0.21389259230906899
         ]
        }
       ],
       "layout": {
        "margin": {
         "b": 0,
         "l": 0,
         "r": 0,
         "t": 40
        },
        "scene": {
         "aspectmode": "cube",
         "xaxis": {
          "title": {
           "text": "PC1 (54.8%)"
          }
         },
         "yaxis": {
          "title": {
           "text": "PC2 (28.5%)"
          }
         },
         "zaxis": {
          "title": {
           "text": "PC3 (9.3%)"
          }
         }
        },
        "template": {
         "data": {
          "bar": [
           {
            "error_x": {
             "color": "#2a3f5f"
            },
            "error_y": {
             "color": "#2a3f5f"
            },
            "marker": {
             "line": {
              "color": "#E5ECF6",
              "width": 0.5
             },
             "pattern": {
              "fillmode": "overlay",
              "size": 10,
              "solidity": 0.2
             }
            },
            "type": "bar"
           }
          ],
          "barpolar": [
           {
            "marker": {
             "line": {
              "color": "#E5ECF6",
              "width": 0.5
             },
             "pattern": {
              "fillmode": "overlay",
              "size": 10,
              "solidity": 0.2
             }
            },
            "type": "barpolar"
           }
          ],
          "carpet": [
           {
            "aaxis": {
             "endlinecolor": "#2a3f5f",
             "gridcolor": "white",
             "linecolor": "white",
             "minorgridcolor": "white",
             "startlinecolor": "#2a3f5f"
            },
            "baxis": {
             "endlinecolor": "#2a3f5f",
             "gridcolor": "white",
             "linecolor": "white",
             "minorgridcolor": "white",
             "startlinecolor": "#2a3f5f"
            },
            "type": "carpet"
           }
          ],
          "choropleth": [
           {
            "colorbar": {
             "outlinewidth": 0,
             "ticks": ""
            },
            "type": "choropleth"
           }
          ],
          "contour": [
           {
            "colorbar": {
             "outlinewidth": 0,
             "ticks": ""
            },
            "colorscale": [
             [
              0,
              "#0d0887"
             ],
             [
              0.1111111111111111,
              "#46039f"
             ],
             [
              0.2222222222222222,
              "#7201a8"
             ],
             [
              0.3333333333333333,
              "#9c179e"
             ],
             [
              0.4444444444444444,
              "#bd3786"
             ],
             [
              0.5555555555555556,
              "#d8576b"
             ],
             [
              0.6666666666666666,
              "#ed7953"
             ],
             [
              0.7777777777777778,
              "#fb9f3a"
             ],
             [
              0.8888888888888888,
              "#fdca26"
             ],
             [
              1,
              "#f0f921"
             ]
            ],
            "type": "contour"
           }
          ],
          "contourcarpet": [
           {
            "colorbar": {
             "outlinewidth": 0,
             "ticks": ""
            },
            "type": "contourcarpet"
           }
          ],
          "heatmap": [
           {
            "colorbar": {
             "outlinewidth": 0,
             "ticks": ""
            },
            "colorscale": [
             [
              0,
              "#0d0887"
             ],
             [
              0.1111111111111111,
              "#46039f"
             ],
             [
              0.2222222222222222,
              "#7201a8"
             ],
             [
              0.3333333333333333,
              "#9c179e"
             ],
             [
              0.4444444444444444,
              "#bd3786"
             ],
             [
              0.5555555555555556,
              "#d8576b"
             ],
             [
              0.6666666666666666,
              "#ed7953"
             ],
             [
              0.7777777777777778,
              "#fb9f3a"
             ],
             [
              0.8888888888888888,
              "#fdca26"
             ],
             [
              1,
              "#f0f921"
             ]
            ],
            "type": "heatmap"
           }
          ],
          "heatmapgl": [
           {
            "colorbar": {
             "outlinewidth": 0,
             "ticks": ""
            },
            "colorscale": [
             [
              0,
              "#0d0887"
             ],
             [
              0.1111111111111111,
              "#46039f"
             ],
             [
              0.2222222222222222,
              "#7201a8"
             ],
             [
              0.3333333333333333,
              "#9c179e"
             ],
             [
              0.4444444444444444,
              "#bd3786"
             ],
             [
              0.5555555555555556,
              "#d8576b"
             ],
             [
              0.6666666666666666,
              "#ed7953"
             ],
             [
              0.7777777777777778,
              "#fb9f3a"
             ],
             [
              0.8888888888888888,
              "#fdca26"
             ],
             [
              1,
              "#f0f921"
             ]
            ],
            "type": "heatmapgl"
           }
          ],
          "histogram": [
           {
            "marker": {
             "pattern": {
              "fillmode": "overlay",
              "size": 10,
              "solidity": 0.2
             }
            },
            "type": "histogram"
           }
          ],
          "histogram2d": [
           {
            "colorbar": {
             "outlinewidth": 0,
             "ticks": ""
            },
            "colorscale": [
             [
              0,
              "#0d0887"
             ],
             [
              0.1111111111111111,
              "#46039f"
             ],
             [
              0.2222222222222222,
              "#7201a8"
             ],
             [
              0.3333333333333333,
              "#9c179e"
             ],
             [
              0.4444444444444444,
              "#bd3786"
             ],
             [
              0.5555555555555556,
              "#d8576b"
             ],
             [
              0.6666666666666666,
              "#ed7953"
             ],
             [
              0.7777777777777778,
              "#fb9f3a"
             ],
             [
              0.8888888888888888,
              "#fdca26"
             ],
             [
              1,
              "#f0f921"
             ]
            ],
            "type": "histogram2d"
           }
          ],
          "histogram2dcontour": [
           {
            "colorbar": {
             "outlinewidth": 0,
             "ticks": ""
            },
            "colorscale": [
             [
              0,
              "#0d0887"
             ],
             [
              0.1111111111111111,
              "#46039f"
             ],
             [
              0.2222222222222222,
              "#7201a8"
             ],
             [
              0.3333333333333333,
              "#9c179e"
             ],
             [
              0.4444444444444444,
              "#bd3786"
             ],
             [
              0.5555555555555556,
              "#d8576b"
             ],
             [
              0.6666666666666666,
              "#ed7953"
             ],
             [
              0.7777777777777778,
              "#fb9f3a"
             ],
             [
              0.8888888888888888,
              "#fdca26"
             ],
             [
              1,
              "#f0f921"
             ]
            ],
            "type": "histogram2dcontour"
           }
          ],
          "mesh3d": [
           {
            "colorbar": {
             "outlinewidth": 0,
             "ticks": ""
            },
            "type": "mesh3d"
           }
          ],
          "parcoords": [
           {
            "line": {
             "colorbar": {
              "outlinewidth": 0,
              "ticks": ""
             }
            },
            "type": "parcoords"
           }
          ],
          "pie": [
           {
            "automargin": true,
            "type": "pie"
           }
          ],
          "scatter": [
           {
            "fillpattern": {
             "fillmode": "overlay",
             "size": 10,
             "solidity": 0.2
            },
            "type": "scatter"
           }
          ],
          "scatter3d": [
           {
            "line": {
             "colorbar": {
              "outlinewidth": 0,
              "ticks": ""
             }
            },
            "marker": {
             "colorbar": {
              "outlinewidth": 0,
              "ticks": ""
             }
            },
            "type": "scatter3d"
           }
          ],
          "scattercarpet": [
           {
            "marker": {
             "colorbar": {
              "outlinewidth": 0,
              "ticks": ""
             }
            },
            "type": "scattercarpet"
           }
          ],
          "scattergeo": [
           {
            "marker": {
             "colorbar": {
              "outlinewidth": 0,
              "ticks": ""
             }
            },
            "type": "scattergeo"
           }
          ],
          "scattergl": [
           {
            "marker": {
             "colorbar": {
              "outlinewidth": 0,
              "ticks": ""
             }
            },
            "type": "scattergl"
           }
          ],
          "scattermapbox": [
           {
            "marker": {
             "colorbar": {
              "outlinewidth": 0,
              "ticks": ""
             }
            },
            "type": "scattermapbox"
           }
          ],
          "scatterpolar": [
           {
            "marker": {
             "colorbar": {
              "outlinewidth": 0,
              "ticks": ""
             }
            },
            "type": "scatterpolar"
           }
          ],
          "scatterpolargl": [
           {
            "marker": {
             "colorbar": {
              "outlinewidth": 0,
              "ticks": ""
             }
            },
            "type": "scatterpolargl"
           }
          ],
          "scatterternary": [
           {
            "marker": {
             "colorbar": {
              "outlinewidth": 0,
              "ticks": ""
             }
            },
            "type": "scatterternary"
           }
          ],
          "surface": [
           {
            "colorbar": {
             "outlinewidth": 0,
             "ticks": ""
            },
            "colorscale": [
             [
              0,
              "#0d0887"
             ],
             [
              0.1111111111111111,
              "#46039f"
             ],
             [
              0.2222222222222222,
              "#7201a8"
             ],
             [
              0.3333333333333333,
              "#9c179e"
             ],
             [
              0.4444444444444444,
              "#bd3786"
             ],
             [
              0.5555555555555556,
              "#d8576b"
             ],
             [
              0.6666666666666666,
              "#ed7953"
             ],
             [
              0.7777777777777778,
              "#fb9f3a"
             ],
             [
              0.8888888888888888,
              "#fdca26"
             ],
             [
              1,
              "#f0f921"
             ]
            ],
            "type": "surface"
           }
          ],
          "table": [
           {
            "cells": {
             "fill": {
              "color": "#EBF0F8"
             },
             "line": {
              "color": "white"
             }
            },
            "header": {
             "fill": {
              "color": "#C8D4E3"
             },
             "line": {
              "color": "white"
             }
            },
            "type": "table"
           }
          ]
         },
         "layout": {
          "annotationdefaults": {
           "arrowcolor": "#2a3f5f",
           "arrowhead": 0,
           "arrowwidth": 1
          },
          "autotypenumbers": "strict",
          "coloraxis": {
           "colorbar": {
            "outlinewidth": 0,
            "ticks": ""
           }
          },
          "colorscale": {
           "diverging": [
            [
             0,
             "#8e0152"
            ],
            [
             0.1,
             "#c51b7d"
            ],
            [
             0.2,
             "#de77ae"
            ],
            [
             0.3,
             "#f1b6da"
            ],
            [
             0.4,
             "#fde0ef"
            ],
            [
             0.5,
             "#f7f7f7"
            ],
            [
             0.6,
             "#e6f5d0"
            ],
            [
             0.7,
             "#b8e186"
            ],
            [
             0.8,
             "#7fbc41"
            ],
            [
             0.9,
             "#4d9221"
            ],
            [
             1,
             "#276419"
            ]
           ],
           "sequential": [
            [
             0,
             "#0d0887"
            ],
            [
             0.1111111111111111,
             "#46039f"
            ],
            [
             0.2222222222222222,
             "#7201a8"
            ],
            [
             0.3333333333333333,
             "#9c179e"
            ],
            [
             0.4444444444444444,
             "#bd3786"
            ],
            [
             0.5555555555555556,
             "#d8576b"
            ],
            [
             0.6666666666666666,
             "#ed7953"
            ],
            [
             0.7777777777777778,
             "#fb9f3a"
            ],
            [
             0.8888888888888888,
             "#fdca26"
            ],
            [
             1,
             "#f0f921"
            ]
           ],
           "sequentialminus": [
            [
             0,
             "#0d0887"
            ],
            [
             0.1111111111111111,
             "#46039f"
            ],
            [
             0.2222222222222222,
             "#7201a8"
            ],
            [
             0.3333333333333333,
             "#9c179e"
            ],
            [
             0.4444444444444444,
             "#bd3786"
            ],
            [
             0.5555555555555556,
             "#d8576b"
            ],
            [
             0.6666666666666666,
             "#ed7953"
            ],
            [
             0.7777777777777778,
             "#fb9f3a"
            ],
            [
             0.8888888888888888,
             "#fdca26"
            ],
            [
             1,
             "#f0f921"
            ]
           ]
          },
          "colorway": [
           "#636efa",
           "#EF553B",
           "#00cc96",
           "#ab63fa",
           "#FFA15A",
           "#19d3f3",
           "#FF6692",
           "#B6E880",
           "#FF97FF",
           "#FECB52"
          ],
          "font": {
           "color": "#2a3f5f"
          },
          "geo": {
           "bgcolor": "white",
           "lakecolor": "white",
           "landcolor": "#E5ECF6",
           "showlakes": true,
           "showland": true,
           "subunitcolor": "white"
          },
          "hoverlabel": {
           "align": "left"
          },
          "hovermode": "closest",
          "mapbox": {
           "style": "light"
          },
          "paper_bgcolor": "white",
          "plot_bgcolor": "#E5ECF6",
          "polar": {
           "angularaxis": {
            "gridcolor": "white",
            "linecolor": "white",
            "ticks": ""
           },
           "bgcolor": "#E5ECF6",
           "radialaxis": {
            "gridcolor": "white",
            "linecolor": "white",
            "ticks": ""
           }
          },
          "scene": {
           "xaxis": {
            "backgroundcolor": "#E5ECF6",
            "gridcolor": "white",
            "gridwidth": 2,
            "linecolor": "white",
            "showbackground": true,
            "ticks": "",
            "zerolinecolor": "white"
           },
           "yaxis": {
            "backgroundcolor": "#E5ECF6",
            "gridcolor": "white",
            "gridwidth": 2,
            "linecolor": "white",
            "showbackground": true,
            "ticks": "",
            "zerolinecolor": "white"
           },
           "zaxis": {
            "backgroundcolor": "#E5ECF6",
            "gridcolor": "white",
            "gridwidth": 2,
            "linecolor": "white",
            "showbackground": true,
            "ticks": "",
            "zerolinecolor": "white"
           }
          },
          "shapedefaults": {
           "line": {
            "color": "#2a3f5f"
           }
          },
          "ternary": {
           "aaxis": {
            "gridcolor": "white",
            "linecolor": "white",
            "ticks": ""
           },
           "baxis": {
            "gridcolor": "white",
            "linecolor": "white",
            "ticks": ""
           },
           "bgcolor": "#E5ECF6",
           "caxis": {
            "gridcolor": "white",
            "linecolor": "white",
            "ticks": ""
           }
          },
          "title": {
           "x": 0.05
          },
          "xaxis": {
           "automargin": true,
           "gridcolor": "white",
           "linecolor": "white",
           "ticks": "",
           "title": {
            "standoff": 15
           },
           "zerolinecolor": "white",
           "zerolinewidth": 2
          },
          "yaxis": {
           "automargin": true,
           "gridcolor": "white",
           "linecolor": "white",
           "ticks": "",
           "title": {
            "standoff": 15
           },
           "zerolinecolor": "white",
           "zerolinewidth": 2
          }
         }
        },
        "title": {
         "text": "3D Food Recommendation Space<br>(User Preferences vs. Food Clusters)"
        }
       }
      }
     },
     "metadata": {},
     "output_type": "display_data"
    }
   ],
   "source": [
    "import plotly.graph_objects as go\n",
    "import numpy as np\n",
    "from sklearn.decomposition import PCA\n",
    "\n",
    "# 1. Prepare Data (assuming df contains your food data)\n",
    "features = ['nutrient_score', 'health_score', 'diversity_score', 'protein_calorie_ratio']\n",
    "X = df[features].values\n",
    "\n",
    "# 2. PCA for 3D visualization\n",
    "pca = PCA(n_components=3)\n",
    "pca_result = pca.fit_transform(X)\n",
    "\n",
    "# 3. Create synthetic user vector (replace with actual user preferences)\n",
    "pref_nutrient = 40  # From your Streamlit app\n",
    "pref_health = 30\n",
    "pref_diversity = 20\n",
    "pref_protein = 10\n",
    "\n",
    "user_vector = np.array([pref_nutrient, pref_health, pref_diversity, pref_protein])\n",
    "user_vector = user_vector / user_vector.sum()  # Normalize\n",
    "\n",
    "# 4. Project user vector to PCA space\n",
    "user_pca = pca.transform(user_vector.reshape(1, -1))[0]\n",
    "\n",
    "# 5. Create interactive plot\n",
    "fig = go.Figure()\n",
    "\n",
    "# Food items\n",
    "fig.add_trace(go.Scatter3d(\n",
    "    x=pca_result[:, 0], y=pca_result[:, 1], z=pca_result[:, 2],\n",
    "    mode='markers',\n",
    "    marker=dict(\n",
    "        size=5,\n",
    "        color=df['cluster'],\n",
    "        colorscale='Viridis',\n",
    "        opacity=0.8,\n",
    "        colorbar=dict(title='Cluster')\n",
    "    ),\n",
    "    text=df['food_name'],\n",
    "    name='Food Items'\n",
    "))\n",
    "\n",
    "# User preference vector\n",
    "fig.add_trace(go.Cone(\n",
    "    x=[0, user_pca[0]],\n",
    "    y=[0, user_pca[1]],\n",
    "    z=[0, user_pca[2]],\n",
    "    u=[user_pca[0]], \n",
    "    v=[user_pca[1]],\n",
    "    w=[user_pca[2]],\n",
    "    sizemode=\"absolute\",\n",
    "    sizeref=0.2,  # Adjust arrow size\n",
    "    showscale=False,\n",
    "    colorscale=['red', 'red'],\n",
    "    name='User Preferences'\n",
    "))\n",
    "\n",
    "# Layout\n",
    "fig.update_layout(\n",
    "    title='3D Food Recommendation Space<br>(User Preferences vs. Food Clusters)',\n",
    "    scene=dict(\n",
    "        xaxis_title=f'PC1 ({pca.explained_variance_ratio_[0]*100:.1f}%)',\n",
    "        yaxis_title=f'PC2 ({pca.explained_variance_ratio_[1]*100:.1f}%)',\n",
    "        zaxis_title=f'PC3 ({pca.explained_variance_ratio_[2]*100:.1f}%)',\n",
    "        aspectmode='cube'\n",
    "    ),\n",
    "    margin=dict(l=0, r=0, b=0, t=40)\n",
    ")\n",
    "\n",
    "fig.show()"
   ]
  },
  {
   "cell_type": "code",
   "execution_count": null,
   "metadata": {},
   "outputs": [],
   "source": []
  }
 ],
 "metadata": {
  "kernelspec": {
   "display_name": "Python 3",
   "language": "python",
   "name": "python3"
  },
  "language_info": {
   "codemirror_mode": {
    "name": "ipython",
    "version": 3
   },
   "file_extension": ".py",
   "mimetype": "text/x-python",
   "name": "python",
   "nbconvert_exporter": "python",
   "pygments_lexer": "ipython3",
   "version": "3.12.0"
  }
 },
 "nbformat": 4,
 "nbformat_minor": 2
}
